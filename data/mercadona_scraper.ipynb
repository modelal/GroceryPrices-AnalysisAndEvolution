{
 "cells": [
  {
   "cell_type": "markdown",
   "metadata": {},
   "source": [
    "# 1. Mercadona Scraper\n",
    "This jupyter notebook is designed to run the functions in the \"scraper.py\" script to scrape product information from the Mercadona supermarket's website.\n",
    "First we import the necesary libraries."
   ]
  },
  {
   "cell_type": "code",
   "execution_count": 1,
   "metadata": {},
   "outputs": [],
   "source": [
    "from scraper import get_categories, get_subcategories, get_product_info, mercadona_full_scraper\n",
    "from dotenv import load_dotenv\n",
    "import os"
   ]
  },
  {
   "cell_type": "markdown",
   "metadata": {},
   "source": [
    "### Load dotenv\n",
    "Now we load the zipcode from our .env file. The functions use this information to scrape the site, it can be stored in a variable and used in the function calls."
   ]
  },
  {
   "cell_type": "code",
   "execution_count": 2,
   "metadata": {},
   "outputs": [
    {
     "data": {
      "text/plain": [
       "True"
      ]
     },
     "execution_count": 2,
     "metadata": {},
     "output_type": "execute_result"
    }
   ],
   "source": [
    "load_dotenv()"
   ]
  },
  {
   "cell_type": "code",
   "execution_count": 3,
   "metadata": {},
   "outputs": [],
   "source": [
    "postal_code = os.getenv(\"cod_postal\")"
   ]
  },
  {
   "cell_type": "markdown",
   "metadata": {},
   "source": [
    "## Scraping\n",
    "The function \"mercadona_full_scraper()\" contains all the functions necesary to do a complete scrape of the website and retreive all the products. After every subcategory has been succesfully scraped, all the information is store in a single .csv file in the \"scraping output\" folder "
   ]
  },
  {
   "cell_type": "code",
   "execution_count": 6,
   "metadata": {},
   "outputs": [
    {
     "name": "stdout",
     "output_type": "stream",
     "text": [
      "Getting products for the \"Aceite, vinagre y sal\" subcategory in the \"Aceite, especias y salsas\" category...                                                \n",
      "Scraping \"39: Sal rosa del Hi...\" product...                                                                              \n",
      "---------------\n",
      "Time:1.28\n",
      "Finished 'Aceite, vinagre y sal' subcateogry succesfully. \n",
      "39 products registered.\n",
      "Waiting 0.18 minutes so that we don't get caught...\n",
      "Current size of data captured: (39, 11)\n",
      "---------------\n",
      "\n",
      "Getting products for the \"Especias\" subcategory in the \"Aceite, especias y salsas\" category...                                                \n",
      "Scraping \"7: Tomillo Hacenda...\" product...                                                                              \n",
      "\n",
      "Time: 1.91\n",
      "!!! An error occurred in subcategory \"Especias\". Retrying in 0.43 minutes...\n",
      "\n"
     ]
    },
    {
     "ename": "KeyboardInterrupt",
     "evalue": "",
     "output_type": "error",
     "traceback": [
      "\u001b[0;31m---------------------------------------------------------------------------\u001b[0m",
      "\u001b[0;31mNoSuchWindowException\u001b[0m                     Traceback (most recent call last)",
      "File \u001b[0;32m~/Documents/Personal/Educación/IronHack/Final Project/final_project/mercadona/scraping/scraper.py:375\u001b[0m, in \u001b[0;36mmercadona_full_scraper\u001b[0;34m(cod_postal, retry, wait_min, wait_max, e_wait_min, e_wait_max, max_error_wait, prod_wait, headless)\u001b[0m\n\u001b[1;32m    372\u001b[0m \u001b[39mtry\u001b[39;00m:\n\u001b[1;32m    373\u001b[0m \n\u001b[1;32m    374\u001b[0m     \u001b[39m# Retrieve product information for current subcategory\u001b[39;00m\n\u001b[0;32m--> 375\u001b[0m     products, product_count \u001b[39m=\u001b[39m  get_product_info(cod_postal, i, x, wait\u001b[39m=\u001b[39;49mprod_wait, headless\u001b[39m=\u001b[39;49mheadless)\n\u001b[1;32m    377\u001b[0m     \u001b[39m# Concatenate product information to previously retrieved information\u001b[39;00m\n",
      "File \u001b[0;32m~/Documents/Personal/Educación/IronHack/Final Project/final_project/mercadona/scraping/scraper.py:198\u001b[0m, in \u001b[0;36mget_product_info\u001b[0;34m(zip, category, subcategory, wait, headless)\u001b[0m\n\u001b[1;32m    196\u001b[0m \u001b[39mfor\u001b[39;00m i \u001b[39min\u001b[39;00m \u001b[39mrange\u001b[39m(\u001b[39mlen\u001b[39m(product_cells)):\n\u001b[1;32m    197\u001b[0m     \u001b[39m# Scroll to the current product cell and wait for the \"product-cell\" element to be clickable\u001b[39;00m\n\u001b[0;32m--> 198\u001b[0m     driver\u001b[39m.\u001b[39;49mexecute_script(\u001b[39m\"\u001b[39;49m\u001b[39marguments[0].scrollIntoView();\u001b[39;49m\u001b[39m\"\u001b[39;49m, product_cells[i])\n\u001b[1;32m    199\u001b[0m     product_cell \u001b[39m=\u001b[39m WebDriverWait(driver, \u001b[39m10\u001b[39m)\u001b[39m.\u001b[39muntil(EC\u001b[39m.\u001b[39melement_to_be_clickable((By\u001b[39m.\u001b[39mCSS_SELECTOR, \u001b[39m\"\u001b[39m\u001b[39mdiv[data-test=\u001b[39m\u001b[39m'\u001b[39m\u001b[39mproduct-cell\u001b[39m\u001b[39m'\u001b[39m\u001b[39m]\u001b[39m\u001b[39m\"\u001b[39m)))\n",
      "File \u001b[0;32m/opt/miniconda3/envs/ironhack/lib/python3.9/site-packages/selenium/webdriver/remote/webdriver.py:500\u001b[0m, in \u001b[0;36mWebDriver.execute_script\u001b[0;34m(self, script, *args)\u001b[0m\n\u001b[1;32m    498\u001b[0m command \u001b[39m=\u001b[39m Command\u001b[39m.\u001b[39mW3C_EXECUTE_SCRIPT\n\u001b[0;32m--> 500\u001b[0m \u001b[39mreturn\u001b[39;00m \u001b[39mself\u001b[39;49m\u001b[39m.\u001b[39;49mexecute(command, {\u001b[39m\"\u001b[39;49m\u001b[39mscript\u001b[39;49m\u001b[39m\"\u001b[39;49m: script, \u001b[39m\"\u001b[39;49m\u001b[39margs\u001b[39;49m\u001b[39m\"\u001b[39;49m: converted_args})[\u001b[39m\"\u001b[39m\u001b[39mvalue\u001b[39m\u001b[39m\"\u001b[39m]\n",
      "File \u001b[0;32m/opt/miniconda3/envs/ironhack/lib/python3.9/site-packages/selenium/webdriver/remote/webdriver.py:440\u001b[0m, in \u001b[0;36mWebDriver.execute\u001b[0;34m(self, driver_command, params)\u001b[0m\n\u001b[1;32m    439\u001b[0m \u001b[39mif\u001b[39;00m response:\n\u001b[0;32m--> 440\u001b[0m     \u001b[39mself\u001b[39;49m\u001b[39m.\u001b[39;49merror_handler\u001b[39m.\u001b[39;49mcheck_response(response)\n\u001b[1;32m    441\u001b[0m     response[\u001b[39m\"\u001b[39m\u001b[39mvalue\u001b[39m\u001b[39m\"\u001b[39m] \u001b[39m=\u001b[39m \u001b[39mself\u001b[39m\u001b[39m.\u001b[39m_unwrap_value(response\u001b[39m.\u001b[39mget(\u001b[39m\"\u001b[39m\u001b[39mvalue\u001b[39m\u001b[39m\"\u001b[39m, \u001b[39mNone\u001b[39;00m))\n",
      "File \u001b[0;32m/opt/miniconda3/envs/ironhack/lib/python3.9/site-packages/selenium/webdriver/remote/errorhandler.py:245\u001b[0m, in \u001b[0;36mErrorHandler.check_response\u001b[0;34m(self, response)\u001b[0m\n\u001b[1;32m    244\u001b[0m     \u001b[39mraise\u001b[39;00m exception_class(message, screen, stacktrace, alert_text)  \u001b[39m# type: ignore[call-arg]  # mypy is not smart enough here\u001b[39;00m\n\u001b[0;32m--> 245\u001b[0m \u001b[39mraise\u001b[39;00m exception_class(message, screen, stacktrace)\n",
      "\u001b[0;31mNoSuchWindowException\u001b[0m: Message: no such window: target window already closed\nfrom unknown error: web view not found\n  (Session info: chrome=111.0.5563.64)\nStacktrace:\n0   chromedriver                        0x000000010fe86bb8 chromedriver + 4873144\n1   chromedriver                        0x000000010fe04cd3 chromedriver + 4340947\n2   chromedriver                        0x000000010fa54c16 chromedriver + 474134\n3   chromedriver                        0x000000010fa2accc chromedriver + 302284\n4   chromedriver                        0x000000010fac378f chromedriver + 927631\n5   chromedriver                        0x000000010fad9156 chromedriver + 1016150\n6   chromedriver                        0x000000010fabe263 chromedriver + 905827\n7   chromedriver                        0x000000010fa8849f chromedriver + 685215\n8   chromedriver                        0x000000010fa899be chromedriver + 690622\n9   chromedriver                        0x000000010fe5418e chromedriver + 4665742\n10  chromedriver                        0x000000010fe59331 chromedriver + 4686641\n11  chromedriver                        0x000000010fe5fcef chromedriver + 4713711\n12  chromedriver                        0x000000010fe5a22a chromedriver + 4690474\n13  chromedriver                        0x000000010fe2c74e chromedriver + 4503374\n14  chromedriver                        0x000000010fe79ef8 chromedriver + 4820728\n15  chromedriver                        0x000000010fe7a077 chromedriver + 4821111\n16  chromedriver                        0x000000010fe8ea4f chromedriver + 4905551\n17  libsystem_pthread.dylib             0x00007ff8126064e1 _pthread_start + 125\n18  libsystem_pthread.dylib             0x00007ff812601f6b thread_start + 15\n",
      "\nDuring handling of the above exception, another exception occurred:\n",
      "\u001b[0;31mKeyboardInterrupt\u001b[0m                         Traceback (most recent call last)",
      "\u001b[1;32m/Users/kike/Documents/Personal/Educación/IronHack/Final Project/final_project/mercadona/scraping/mercadona_scraper.ipynb Cell 7\u001b[0m in \u001b[0;36m<cell line: 1>\u001b[0;34m()\u001b[0m\n\u001b[0;32m----> <a href='vscode-notebook-cell:/Users/kike/Documents/Personal/Educaci%C3%B3n/IronHack/Final%20Project/final_project/mercadona/scraping/mercadona_scraper.ipynb#W2sZmlsZQ%3D%3D?line=0'>1</a>\u001b[0m product_info, mising_subcategories \u001b[39m=\u001b[39m mercadona_full_scraper(postal_code,retry\u001b[39m=\u001b[39;49m\u001b[39m3\u001b[39;49m, wait_min\u001b[39m=\u001b[39;49m\u001b[39m0.1\u001b[39;49m, wait_max\u001b[39m=\u001b[39;49m\u001b[39m0.2\u001b[39;49m, e_wait_min\u001b[39m=\u001b[39;49m\u001b[39m0.2\u001b[39;49m, e_wait_max\u001b[39m=\u001b[39;49m\u001b[39m0.5\u001b[39;49m, max_error_wait \u001b[39m=\u001b[39;49m \u001b[39m5\u001b[39;49m, prod_wait\u001b[39m=\u001b[39;49m\u001b[39m0\u001b[39;49m, headless\u001b[39m=\u001b[39;49m\u001b[39mFalse\u001b[39;49;00m)\n",
      "File \u001b[0;32m~/Documents/Personal/Educación/IronHack/Final Project/final_project/mercadona/scraping/scraper.py:426\u001b[0m, in \u001b[0;36mmercadona_full_scraper\u001b[0;34m(cod_postal, retry, wait_min, wait_max, e_wait_min, e_wait_max, max_error_wait, prod_wait, headless)\u001b[0m\n\u001b[1;32m    424\u001b[0m                 retries \u001b[39m-\u001b[39m\u001b[39m=\u001b[39m\u001b[39m1\u001b[39m\n\u001b[1;32m    425\u001b[0m                 \u001b[39mprint\u001b[39m(\u001b[39mf\u001b[39m\u001b[39m'\u001b[39m\u001b[39m!!! An error occurred in subcategory \u001b[39m\u001b[39m\"\u001b[39m\u001b[39m{\u001b[39;00mx\u001b[39m}\u001b[39;00m\u001b[39m\"\u001b[39m\u001b[39m. Retrying in \u001b[39m\u001b[39m{\u001b[39;00m\u001b[39mround\u001b[39m(random_time\u001b[39m/\u001b[39m\u001b[39m60\u001b[39m,\u001b[39m2\u001b[39m)\u001b[39m}\u001b[39;00m\u001b[39m minutes...\u001b[39m\u001b[39m\\n\u001b[39;00m\u001b[39m'\u001b[39m)\n\u001b[0;32m--> 426\u001b[0m                 time\u001b[39m.\u001b[39;49msleep(random_time)\n\u001b[1;32m    428\u001b[0m \u001b[39m# Convert the list of missing subcategories to a DataFrame\u001b[39;00m\n\u001b[1;32m    429\u001b[0m mising_subcategories \u001b[39m=\u001b[39m pd\u001b[39m.\u001b[39mDataFrame(missing_subcats)\n",
      "\u001b[0;31mKeyboardInterrupt\u001b[0m: "
     ]
    }
   ],
   "source": [
    "product_info, mising_subcategories = mercadona_full_scraper(postal_code,retry=3, wait_min=0.1, wait_max=0.2, e_wait_min=0.2, e_wait_max=0.5, max_error_wait = 5, prod_wait=0, headless=False)"
   ]
  },
  {
   "cell_type": "markdown",
   "metadata": {},
   "source": [
    "# In case of errors\n",
    "Categories that couldnt be scraped will be saved in the 'mising_subcategories' DataFrame. The function \"get_product_info()\" could be called for every category and subcategory in this DataFrame to complete the scraping."
   ]
  }
 ],
 "metadata": {
  "kernelspec": {
   "display_name": "Python 3 (ipykernel)",
   "language": "python",
   "name": "python3"
  },
  "language_info": {
   "codemirror_mode": {
    "name": "ipython",
    "version": 3
   },
   "file_extension": ".py",
   "mimetype": "text/x-python",
   "name": "python",
   "nbconvert_exporter": "python",
   "pygments_lexer": "ipython3",
   "version": "3.11.5"
  }
 },
 "nbformat": 4,
 "nbformat_minor": 2
}
