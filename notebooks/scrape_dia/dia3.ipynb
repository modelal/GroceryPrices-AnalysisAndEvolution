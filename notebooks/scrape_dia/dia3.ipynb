{
 "cells": [
  {
   "cell_type": "code",
   "execution_count": 1,
   "id": "641b882a",
   "metadata": {},
   "outputs": [],
   "source": [
    "import os\n",
    "import time\n",
    "import pandas as pd\n",
    "\n",
    "# pip install selenium\n",
    "from selenium import webdriver\n",
    "from selenium.webdriver.common.keys import Keys\n",
    "from selenium.webdriver.common.by import By\n",
    "from selenium.webdriver.support.ui import WebDriverWait\n",
    "from selenium.webdriver.support import expected_conditions as EC\n",
    "from selenium import webdriver\n",
    "from selenium.webdriver.support.ui import Select\n",
    "from selenium import webdriver\n",
    "\n",
    "from bs4 import BeautifulSoup # pip install beautifulsoup4\n",
    "\n"
   ]
  },
  {
   "cell_type": "markdown",
   "id": "c758ddb9",
   "metadata": {},
   "source": [
    "Accedemos a la pagina web de Mercadona "
   ]
  },
  {
   "cell_type": "code",
   "execution_count": 55,
   "id": "3388516c",
   "metadata": {},
   "outputs": [
    {
     "data": {
      "text/html": [
       "<div>\n",
       "<style scoped>\n",
       "    .dataframe tbody tr th:only-of-type {\n",
       "        vertical-align: middle;\n",
       "    }\n",
       "\n",
       "    .dataframe tbody tr th {\n",
       "        vertical-align: top;\n",
       "    }\n",
       "\n",
       "    .dataframe thead th {\n",
       "        text-align: right;\n",
       "    }\n",
       "</style>\n",
       "<table border=\"1\" class=\"dataframe\">\n",
       "  <thead>\n",
       "    <tr style=\"text-align: right;\">\n",
       "      <th></th>\n",
       "      <th>categoria</th>\n",
       "      <th>subcategoria</th>\n",
       "      <th>descripcion</th>\n",
       "      <th>unidades</th>\n",
       "      <th>precio</th>\n",
       "      <th>especificaciones</th>\n",
       "    </tr>\n",
       "  </thead>\n",
       "  <tbody>\n",
       "  </tbody>\n",
       "</table>\n",
       "</div>"
      ],
      "text/plain": [
       "Empty DataFrame\n",
       "Columns: [categoria, subcategoria, descripcion, unidades, precio, especificaciones]\n",
       "Index: []"
      ]
     },
     "execution_count": 55,
     "metadata": {},
     "output_type": "execute_result"
    }
   ],
   "source": [
    "df = pd.DataFrame(columns=['categoria', 'subcategoria', 'descripcion', \"unidades\", \"precio\", \"especificaciones\"])\n",
    "df"
   ]
  },
  {
   "cell_type": "code",
   "execution_count": 3,
   "id": "de7704b8",
   "metadata": {},
   "outputs": [],
   "source": [
    "supermecados = [\"mercadona\", \"dia\", \"consum\"]\n",
    "\n",
    "#https://tienda.consum.es/es#!Home"
   ]
  },
  {
   "cell_type": "code",
   "execution_count": 4,
   "id": "338f2a77",
   "metadata": {},
   "outputs": [],
   "source": [
    "supermercado = supermecados[1]"
   ]
  },
  {
   "cell_type": "code",
   "execution_count": 5,
   "id": "db839f78",
   "metadata": {},
   "outputs": [],
   "source": [
    "def contract_expand():\n",
    "    try:\n",
    "        #Opens Categories\n",
    "        driver.find_element(By.CSS_SELECTOR, \"button[aria-label='categories list menú button']\").click()\n",
    "        return\n",
    "\n",
    "    except:\n",
    "        #Contracts/closes categories\n",
    "        driver.find_element(By.CSS_SELECTOR, \"span[data-test-id='categories-list-modal-cross']\").click()\n",
    "        return"
   ]
  },
  {
   "cell_type": "code",
   "execution_count": 6,
   "id": "e08e31ac",
   "metadata": {},
   "outputs": [],
   "source": [
    "# generamos una funcion porque la vamos a usar mucho \n",
    "\"\"\"Contra / Expande una categoria. \n",
    "Hay que contraer/expandir una categoria para seleccionar otra\"\"\"\n",
    "\n",
    "def contract_expand_categ(c):\n",
    "    c.find_element(By.CSS_SELECTOR, \"span[data-test-id='category-item-symbol-icon']\").click()\n",
    "    return"
   ]
  },
  {
   "cell_type": "markdown",
   "id": "9db867fb",
   "metadata": {},
   "source": [
    "## ENTRAMOS AL DIA Y CERRAMOS LAS COOKIES;"
   ]
  },
  {
   "cell_type": "code",
   "execution_count": 78,
   "id": "dda33b1f",
   "metadata": {},
   "outputs": [
    {
     "name": "stdout",
     "output_type": "stream",
     "text": [
      "Charcutería y quesos\n",
      "Carnicería\n",
      "Pescados, mariscos y ahumados\n",
      "Verduras\n",
      "Frutas\n",
      "Leche, huevos y mantequilla\n",
      "Yogures y postres\n",
      "Arroz, pastas y legumbres\n",
      "Aceites, salsas y especias\n",
      "Conservas, caldos y cremas\n",
      "Panes, harinas y masas\n",
      "Café, cacao e infusiones\n",
      "Azúcar, chocolates y caramelos\n",
      "Galletas, bollos y cereales\n",
      "Patatas fritas, encurtidos y frutos secos\n",
      "Pizzas y platos preparados\n",
      "Congelados\n",
      "Agua, refrescos y zumos\n",
      "Cervezas, vinos y bebidas con alcohol\n",
      "Limpieza y hogar\n",
      "Perfumería, higiene, salud\n",
      "Bebé\n",
      "Mascotas\n"
     ]
    }
   ],
   "source": [
    "#ENTRAR EN DIA:\n",
    "\n",
    "# Start the driver with the options\n",
    "driver = webdriver.Chrome()\n",
    "\n",
    "\n",
    "\n",
    "#Set a common Waite\n",
    "wait = WebDriverWait(driver, 10)\n",
    "\n",
    "# Navigate to the login page\n",
    "link = f'https://www.{supermercado}.es/'\n",
    "driver.get(link)\n",
    "\n",
    "#Secondary Screeen - NOT WORKING\n",
    "\"Estaria bien tenerlo en dos distintas - por ahora lo dejamos asi \"\n",
    "\n",
    "# Maximizar ventana:\n",
    "driver.maximize_window()\n",
    "\"\"\"\n",
    "esto lo hacemos porque sino no llegamos al menu que queremos que nos permite \n",
    "interactuar con la pagina sin \"refrescar\". Al refrescar una pagina podemos tener errores de tipo ----\n",
    "driver.maximize_window()\n",
    "\"\"\"\n",
    "\n",
    "\n",
    "# Rechazar las cookies. Esperamos 5 segundos. No utilizamos el wait poeque da error\n",
    "time.sleep(5)\n",
    "driver.find_element(By.XPATH, \"//button[contains(text(),'Rechazar todas')]\").click()\n",
    "\n",
    "#Expandimos el boton de las categorias \n",
    "driver.find_element(By.CSS_SELECTOR, \"button[data-test-id='desktop-category-button']\").click()\n",
    "\n",
    "#Aqui ya estamos en la pagina donde tenemos que interactuar\n",
    "\n",
    "\"-----------------------------EMPIEZA LA FIESTA DEL SCRAP------------------------------------------\"\n",
    "\n",
    "menu_status = \"On\" # Cuando despliegas por primera vez, la primera categoria ya esta expandida:\n",
    "\n",
    "#Extraemos todas las categorias: \n",
    "\"\"\"\n",
    "Aqui me da un error, saca la lista category_links vacia. He probado con una de las Expected conditions\n",
    "de selenium pero tampoco funciona. Usaremos un timer clasic\n",
    "#wait.until(EC.presence_of_all_elements_located((By.CSS_SELECTOR, \".category-item-title\")))\n",
    "\"\"\"\n",
    "time.sleep(3)\n",
    "category_links = driver.find_elements(By.CSS_SELECTOR, \"span[data-test-id='category-item-title']\")\n",
    "\n",
    "for c in category_links:\n",
    "    \n",
    "    category = c.text\n",
    "    print(c.text)"
   ]
  },
  {
   "cell_type": "code",
   "execution_count": 65,
   "id": "077350fc",
   "metadata": {},
   "outputs": [
    {
     "data": {
      "text/plain": [
       "[]"
      ]
     },
     "execution_count": 65,
     "metadata": {},
     "output_type": "execute_result"
    }
   ],
   "source": [
    "#Enter a subcategorie:\n",
    "        WebDriverWait(driver, 10).until(EC.element_to_be_clickable((By.XPATH, f\"//button[text()='{subcategory}']\"))).click()\n",
    "        #print(\"subclicada\")"
   ]
  },
  {
   "cell_type": "code",
   "execution_count": null,
   "id": "bdd3fe85",
   "metadata": {},
   "outputs": [],
   "source": [
    "#Sacamos las subcategorias - no hace falta expandir\n",
    "\n",
    "subcategory_links = driver.find_elements(By.CSS_SELECTOR, \"span[data-test-id='sub-category-item-title']\")\n",
    "\n",
    "for s in subcategory_links:\n",
    "    #clico en cada subcategoria\n",
    "    s.click()\n",
    "    print(f\"he clicado en {s.text}\")\n",
    "    \n",
    "    time.sleep(1)\n",
    "    \n",
    "    #Saber cuantos productos hay en total:\n",
    "    productos_totales = driver.find_element(By.CSS_SELECTOR, \"span[class='plp-breadcrumb__total-items']\").text\n",
    "    \n",
    "    #estraemos todos los productos de la subcategoria: \n",
    "    productos = driver.find_elements(By.CSS_SELECTOR, \"li[data-test-id='product-card-list-item']\")\n",
    "    \n",
    "    print(f'{len(productos)} / {productos_totales} elemetos encontrados en {s.text}')\n",
    "    print(\"------------------------------------------\")\n",
    "    \n",
    "    for p in productos:\n",
    "        \n",
    "        \n",
    "        time.sleep(1)\n",
    "        product_info(p)\n",
    "\n",
    "        #row = product_info(p)\n",
    "        #df = pd.concat([df, pd.DataFrame([row])], ignore_index=True)\n",
    "        #print(\"row inserted\")\n",
    "        \n",
    "        \n",
    "    \n",
    "    #OJO solo carga los 20 primeros productos: luego miro como corregirlo\n",
    "    \n",
    "        \n",
    "    \n",
    "    \n",
    "    "
   ]
  },
  {
   "cell_type": "code",
   "execution_count": 57,
   "id": "cf648d9a",
   "metadata": {},
   "outputs": [],
   "source": [
    "def product_info(p):\n",
    "    \n",
    "    \n",
    "    #Descripcion:\n",
    "    des = p.find_element(By.CLASS_NAME, \"search-product-card__product-name\").text\n",
    "\n",
    "    #Especificaciones:\n",
    "    es = p.find_element(By.CLASS_NAME, \"search-product-card__product-info\").text\n",
    "\n",
    "    #Precio:\n",
    "    pre = p.find_element(By.CSS_SELECTOR, \"div[data-test-id='search-product-card-prices']\").text\n",
    "\n",
    "    print(des)\n",
    "    print(es)\n",
    "    print(pre)\n",
    "    print(s.text)"
   ]
  },
  {
   "cell_type": "code",
   "execution_count": 51,
   "id": "a4d24106",
   "metadata": {},
   "outputs": [],
   "source": [
    "def product_info(p):\n",
    "    \n",
    "    row = {\n",
    "        \"categoria\":\"incluir_category\" , \n",
    "        \"subcategoria\": s.text, \n",
    "        \"descripcion\": p.find_element(By.CLASS_NAME, \"search-product-card__product-name\").text, \n",
    "        \"unidades\": \"por_definir\", \n",
    "        \"precio\": p.find_element(By.CSS_SELECTOR, \"div[data-test-id='search-product-card-prices']\").text,\n",
    "        \"especificaciones\": p.find_element(By.CLASS_NAME, \"search-product-card__product-info\").text\n",
    "        }\n",
    "    return row"
   ]
  },
  {
   "cell_type": "code",
   "execution_count": 61,
   "id": "3b4600fb",
   "metadata": {},
   "outputs": [
    {
     "name": "stdout",
     "output_type": "stream",
     "text": [
      "Jamón cocido extra 97% carne Nuestra Alacena sobre 150 g\n",
      "Sin gluten | Sin lactosa\n",
      "1,99 €\n",
      "(13,27 €/KILO)\n",
      "Jamón cocido, lacón, fiambres y mortadela\n"
     ]
    }
   ],
   "source": [
    "p = productos[4]\n",
    "\n",
    "product_info(p)"
   ]
  },
  {
   "cell_type": "code",
   "execution_count": 11,
   "id": "e4ee05fb",
   "metadata": {},
   "outputs": [
    {
     "data": {
      "text/plain": [
       "[]"
      ]
     },
     "execution_count": 11,
     "metadata": {},
     "output_type": "execute_result"
    }
   ],
   "source": [
    "category_links = driver.find_elements(By.CSS_SELECTOR, \"div[data-test-id='category-item']\")"
   ]
  },
  {
   "cell_type": "code",
   "execution_count": null,
   "id": "1257536d",
   "metadata": {},
   "outputs": [],
   "source": [
    "for c in category_links:\n",
    "    contract_expand_categ(c)\n",
    "    time.sleep(1)\n",
    "    \n",
    "    #Sacamos SUBCATEOGRIAS: \n",
    "    subcategory_links = driver.find_elements(By.CSS_SELECTOR, \"div[data-test-id='sub-category-item']\")\n",
    "    \n",
    "    if subcategory_links != [] :\n",
    "        \n",
    "        print(\"entro en subcategorias\")\n",
    "        for s in subcategory_links:\n",
    "            #Entro la subcategoria \n",
    "            print(s.text)\n",
    "            s.find_element(By.CSS_SELECTOR, \"a[data-test-id='sub-category-item-link']\").click()\n",
    "\n",
    "            #Scrapeo todo lo que quiero:\n",
    "            print(\"A COMPRAR AL DIA\")\n",
    "            \n",
    "            \n",
    "    \n",
    "\"\"\"\n",
    "StaleElementReferenceException\n",
    "To allow for those cases, you can try to access the element \n",
    "several times in a loop before finally throwing an exception.\n",
    "\n",
    "\n",
    "\"\"\"   "
   ]
  },
  {
   "cell_type": "code",
   "execution_count": null,
   "id": "91f7ac10",
   "metadata": {},
   "outputs": [],
   "source": [
    "# VOLVEMOS A LA PAGINA PRINCIPAL DEL DIA:\n",
    "            driver.find_element(By.CSS_SELECTOR, \"img[class='header-logo__image']\").click()\n",
    "            \n",
    "            #Abrimos las categorias: \n",
    "            contract_expand()\n",
    "            time.sleep(3)\n",
    "            \n",
    "            print(\"hola1\")\n",
    "            #Puede ver los category_links pero no puede acceder?\n",
    "            #print(category_links)\n",
    "            \n",
    "            time.sleep(2)\n",
    "            \n",
    "            ###EROOOOORRRRR····\n",
    "            #Aqui esta el  fallo - parece que no puede abrir la categoria \n",
    "            c.find_element(By.CSS_SELECTOR, \"span[data-test-id='category-item-symbol-icon']\").click()\n",
    "            print(\"hola2\")\n",
    "            \n",
    "            \n",
    "        "
   ]
  },
  {
   "cell_type": "code",
   "execution_count": 36,
   "id": "79088f52",
   "metadata": {},
   "outputs": [
    {
     "data": {
      "text/plain": [
       "[]"
      ]
     },
     "execution_count": 36,
     "metadata": {},
     "output_type": "execute_result"
    }
   ],
   "source": [
    "print(\"hola merche\")\n",
    "# EXTRAEMOS LAS CATEGORIAS: \n",
    "category_links = driver.find_elements(By.CSS_SELECTOR, \"div[data-test-id='category-item']\")\n",
    "print(\"hola merche\")\n",
    "\n",
    "for c in category_links:\n",
    "    \n",
    "    c.find_element(By.CSS_SELECTOR, \"span[data-test-id='category-item-symbol-icon']\").click()\n",
    "    print(\"hola merche\")"
   ]
  },
  {
   "cell_type": "code",
   "execution_count": 75,
   "id": "0f7c92d3",
   "metadata": {},
   "outputs": [
    {
     "ename": "NoSuchWindowException",
     "evalue": "Message: no such window: target window already closed\nfrom unknown error: web view not found\n  (Session info: chrome=122.0.6261.112)\nStacktrace:\n0   chromedriver                        0x0000000101f4d2a8 chromedriver + 4625064\n1   chromedriver                        0x0000000101f44e53 chromedriver + 4591187\n2   chromedriver                        0x0000000101b43e6a chromedriver + 392810\n3   chromedriver                        0x0000000101b1a93d chromedriver + 223549\n4   chromedriver                        0x0000000101bba66d chromedriver + 878189\n5   chromedriver                        0x0000000101bd0008 chromedriver + 966664\n6   chromedriver                        0x0000000101bb1613 chromedriver + 841235\n7   chromedriver                        0x0000000101b823da chromedriver + 648154\n8   chromedriver                        0x0000000101b82d1e chromedriver + 650526\n9   chromedriver                        0x0000000101f0da70 chromedriver + 4364912\n10  chromedriver                        0x0000000101f12e36 chromedriver + 4386358\n11  chromedriver                        0x0000000101ef26de chromedriver + 4253406\n12  chromedriver                        0x0000000101f13b79 chromedriver + 4389753\n13  chromedriver                        0x0000000101ee4a29 chromedriver + 4196905\n14  chromedriver                        0x0000000101f33b28 chromedriver + 4520744\n15  chromedriver                        0x0000000101f33d07 chromedriver + 4521223\n16  chromedriver                        0x0000000101f44a93 chromedriver + 4590227\n17  libsystem_pthread.dylib             0x00007fff204c98fc _pthread_start + 224\n18  libsystem_pthread.dylib             0x00007fff204c5443 thread_start + 15\n",
     "output_type": "error",
     "traceback": [
      "\u001b[0;31m---------------------------------------------------------------------------\u001b[0m",
      "\u001b[0;31mNoSuchWindowException\u001b[0m                     Traceback (most recent call last)",
      "Cell \u001b[0;32mIn[5], line 4\u001b[0m, in \u001b[0;36mcontract_expand\u001b[0;34m()\u001b[0m\n\u001b[1;32m      2\u001b[0m \u001b[38;5;28;01mtry\u001b[39;00m:\n\u001b[1;32m      3\u001b[0m     \u001b[38;5;66;03m#Opens Categories\u001b[39;00m\n\u001b[0;32m----> 4\u001b[0m     driver\u001b[38;5;241m.\u001b[39mfind_element(By\u001b[38;5;241m.\u001b[39mCSS_SELECTOR, \u001b[38;5;124m\"\u001b[39m\u001b[38;5;124mbutton[aria-label=\u001b[39m\u001b[38;5;124m'\u001b[39m\u001b[38;5;124mcategories list menú button\u001b[39m\u001b[38;5;124m'\u001b[39m\u001b[38;5;124m]\u001b[39m\u001b[38;5;124m\"\u001b[39m)\u001b[38;5;241m.\u001b[39mclick()\n\u001b[1;32m      5\u001b[0m     \u001b[38;5;28;01mreturn\u001b[39;00m\n",
      "File \u001b[0;32m~/miniconda3/envs/ironhack/lib/python3.11/site-packages/selenium/webdriver/remote/webdriver.py:741\u001b[0m, in \u001b[0;36mWebDriver.find_element\u001b[0;34m(self, by, value)\u001b[0m\n\u001b[1;32m    739\u001b[0m     value \u001b[38;5;241m=\u001b[39m \u001b[38;5;124mf\u001b[39m\u001b[38;5;124m'\u001b[39m\u001b[38;5;124m[name=\u001b[39m\u001b[38;5;124m\"\u001b[39m\u001b[38;5;132;01m{\u001b[39;00mvalue\u001b[38;5;132;01m}\u001b[39;00m\u001b[38;5;124m\"\u001b[39m\u001b[38;5;124m]\u001b[39m\u001b[38;5;124m'\u001b[39m\n\u001b[0;32m--> 741\u001b[0m \u001b[38;5;28;01mreturn\u001b[39;00m \u001b[38;5;28mself\u001b[39m\u001b[38;5;241m.\u001b[39mexecute(Command\u001b[38;5;241m.\u001b[39mFIND_ELEMENT, {\u001b[38;5;124m\"\u001b[39m\u001b[38;5;124musing\u001b[39m\u001b[38;5;124m\"\u001b[39m: by, \u001b[38;5;124m\"\u001b[39m\u001b[38;5;124mvalue\u001b[39m\u001b[38;5;124m\"\u001b[39m: value})[\u001b[38;5;124m\"\u001b[39m\u001b[38;5;124mvalue\u001b[39m\u001b[38;5;124m\"\u001b[39m]\n",
      "File \u001b[0;32m~/miniconda3/envs/ironhack/lib/python3.11/site-packages/selenium/webdriver/remote/webdriver.py:347\u001b[0m, in \u001b[0;36mWebDriver.execute\u001b[0;34m(self, driver_command, params)\u001b[0m\n\u001b[1;32m    346\u001b[0m \u001b[38;5;28;01mif\u001b[39;00m response:\n\u001b[0;32m--> 347\u001b[0m     \u001b[38;5;28mself\u001b[39m\u001b[38;5;241m.\u001b[39merror_handler\u001b[38;5;241m.\u001b[39mcheck_response(response)\n\u001b[1;32m    348\u001b[0m     response[\u001b[38;5;124m\"\u001b[39m\u001b[38;5;124mvalue\u001b[39m\u001b[38;5;124m\"\u001b[39m] \u001b[38;5;241m=\u001b[39m \u001b[38;5;28mself\u001b[39m\u001b[38;5;241m.\u001b[39m_unwrap_value(response\u001b[38;5;241m.\u001b[39mget(\u001b[38;5;124m\"\u001b[39m\u001b[38;5;124mvalue\u001b[39m\u001b[38;5;124m\"\u001b[39m, \u001b[38;5;28;01mNone\u001b[39;00m))\n",
      "File \u001b[0;32m~/miniconda3/envs/ironhack/lib/python3.11/site-packages/selenium/webdriver/remote/errorhandler.py:229\u001b[0m, in \u001b[0;36mErrorHandler.check_response\u001b[0;34m(self, response)\u001b[0m\n\u001b[1;32m    228\u001b[0m     \u001b[38;5;28;01mraise\u001b[39;00m exception_class(message, screen, stacktrace, alert_text)  \u001b[38;5;66;03m# type: ignore[call-arg]  # mypy is not smart enough here\u001b[39;00m\n\u001b[0;32m--> 229\u001b[0m \u001b[38;5;28;01mraise\u001b[39;00m exception_class(message, screen, stacktrace)\n",
      "\u001b[0;31mNoSuchWindowException\u001b[0m: Message: no such window: target window already closed\nfrom unknown error: web view not found\n  (Session info: chrome=122.0.6261.112)\nStacktrace:\n0   chromedriver                        0x0000000101f4d2a8 chromedriver + 4625064\n1   chromedriver                        0x0000000101f44e53 chromedriver + 4591187\n2   chromedriver                        0x0000000101b43e6a chromedriver + 392810\n3   chromedriver                        0x0000000101b1a93d chromedriver + 223549\n4   chromedriver                        0x0000000101bba66d chromedriver + 878189\n5   chromedriver                        0x0000000101bd0008 chromedriver + 966664\n6   chromedriver                        0x0000000101bb1613 chromedriver + 841235\n7   chromedriver                        0x0000000101b823da chromedriver + 648154\n8   chromedriver                        0x0000000101b82d1e chromedriver + 650526\n9   chromedriver                        0x0000000101f0da70 chromedriver + 4364912\n10  chromedriver                        0x0000000101f12e36 chromedriver + 4386358\n11  chromedriver                        0x0000000101ef26de chromedriver + 4253406\n12  chromedriver                        0x0000000101f13b79 chromedriver + 4389753\n13  chromedriver                        0x0000000101ee4a29 chromedriver + 4196905\n14  chromedriver                        0x0000000101f33b28 chromedriver + 4520744\n15  chromedriver                        0x0000000101f33d07 chromedriver + 4521223\n16  chromedriver                        0x0000000101f44a93 chromedriver + 4590227\n17  libsystem_pthread.dylib             0x00007fff204c98fc _pthread_start + 224\n18  libsystem_pthread.dylib             0x00007fff204c5443 thread_start + 15\n",
      "\nDuring handling of the above exception, another exception occurred:\n",
      "\u001b[0;31mNoSuchWindowException\u001b[0m                     Traceback (most recent call last)",
      "Cell \u001b[0;32mIn[75], line 2\u001b[0m\n\u001b[1;32m      1\u001b[0m \u001b[38;5;66;03m#Abrimos las categorias: \u001b[39;00m\n\u001b[0;32m----> 2\u001b[0m contract_expand()\n\u001b[1;32m      4\u001b[0m \u001b[38;5;66;03m# EXTRAEMOS LAS CATEGORIAS: \u001b[39;00m\n\u001b[1;32m      5\u001b[0m category_links \u001b[38;5;241m=\u001b[39m driver\u001b[38;5;241m.\u001b[39mfind_elements(By\u001b[38;5;241m.\u001b[39mCSS_SELECTOR, \u001b[38;5;124m\"\u001b[39m\u001b[38;5;124mdiv[data-test-id=\u001b[39m\u001b[38;5;124m'\u001b[39m\u001b[38;5;124mcategory-item\u001b[39m\u001b[38;5;124m'\u001b[39m\u001b[38;5;124m]\u001b[39m\u001b[38;5;124m\"\u001b[39m)\n",
      "Cell \u001b[0;32mIn[5], line 9\u001b[0m, in \u001b[0;36mcontract_expand\u001b[0;34m()\u001b[0m\n\u001b[1;32m      5\u001b[0m     \u001b[38;5;28;01mreturn\u001b[39;00m\n\u001b[1;32m      7\u001b[0m \u001b[38;5;28;01mexcept\u001b[39;00m:\n\u001b[1;32m      8\u001b[0m     \u001b[38;5;66;03m#Contracts/closes categories\u001b[39;00m\n\u001b[0;32m----> 9\u001b[0m     driver\u001b[38;5;241m.\u001b[39mfind_element(By\u001b[38;5;241m.\u001b[39mCSS_SELECTOR, \u001b[38;5;124m\"\u001b[39m\u001b[38;5;124mspan[data-test-id=\u001b[39m\u001b[38;5;124m'\u001b[39m\u001b[38;5;124mcategories-list-modal-cross\u001b[39m\u001b[38;5;124m'\u001b[39m\u001b[38;5;124m]\u001b[39m\u001b[38;5;124m\"\u001b[39m)\u001b[38;5;241m.\u001b[39mclick()\n\u001b[1;32m     10\u001b[0m     \u001b[38;5;28;01mreturn\u001b[39;00m\n",
      "File \u001b[0;32m~/miniconda3/envs/ironhack/lib/python3.11/site-packages/selenium/webdriver/remote/webdriver.py:741\u001b[0m, in \u001b[0;36mWebDriver.find_element\u001b[0;34m(self, by, value)\u001b[0m\n\u001b[1;32m    738\u001b[0m     by \u001b[38;5;241m=\u001b[39m By\u001b[38;5;241m.\u001b[39mCSS_SELECTOR\n\u001b[1;32m    739\u001b[0m     value \u001b[38;5;241m=\u001b[39m \u001b[38;5;124mf\u001b[39m\u001b[38;5;124m'\u001b[39m\u001b[38;5;124m[name=\u001b[39m\u001b[38;5;124m\"\u001b[39m\u001b[38;5;132;01m{\u001b[39;00mvalue\u001b[38;5;132;01m}\u001b[39;00m\u001b[38;5;124m\"\u001b[39m\u001b[38;5;124m]\u001b[39m\u001b[38;5;124m'\u001b[39m\n\u001b[0;32m--> 741\u001b[0m \u001b[38;5;28;01mreturn\u001b[39;00m \u001b[38;5;28mself\u001b[39m\u001b[38;5;241m.\u001b[39mexecute(Command\u001b[38;5;241m.\u001b[39mFIND_ELEMENT, {\u001b[38;5;124m\"\u001b[39m\u001b[38;5;124musing\u001b[39m\u001b[38;5;124m\"\u001b[39m: by, \u001b[38;5;124m\"\u001b[39m\u001b[38;5;124mvalue\u001b[39m\u001b[38;5;124m\"\u001b[39m: value})[\u001b[38;5;124m\"\u001b[39m\u001b[38;5;124mvalue\u001b[39m\u001b[38;5;124m\"\u001b[39m]\n",
      "File \u001b[0;32m~/miniconda3/envs/ironhack/lib/python3.11/site-packages/selenium/webdriver/remote/webdriver.py:347\u001b[0m, in \u001b[0;36mWebDriver.execute\u001b[0;34m(self, driver_command, params)\u001b[0m\n\u001b[1;32m    345\u001b[0m response \u001b[38;5;241m=\u001b[39m \u001b[38;5;28mself\u001b[39m\u001b[38;5;241m.\u001b[39mcommand_executor\u001b[38;5;241m.\u001b[39mexecute(driver_command, params)\n\u001b[1;32m    346\u001b[0m \u001b[38;5;28;01mif\u001b[39;00m response:\n\u001b[0;32m--> 347\u001b[0m     \u001b[38;5;28mself\u001b[39m\u001b[38;5;241m.\u001b[39merror_handler\u001b[38;5;241m.\u001b[39mcheck_response(response)\n\u001b[1;32m    348\u001b[0m     response[\u001b[38;5;124m\"\u001b[39m\u001b[38;5;124mvalue\u001b[39m\u001b[38;5;124m\"\u001b[39m] \u001b[38;5;241m=\u001b[39m \u001b[38;5;28mself\u001b[39m\u001b[38;5;241m.\u001b[39m_unwrap_value(response\u001b[38;5;241m.\u001b[39mget(\u001b[38;5;124m\"\u001b[39m\u001b[38;5;124mvalue\u001b[39m\u001b[38;5;124m\"\u001b[39m, \u001b[38;5;28;01mNone\u001b[39;00m))\n\u001b[1;32m    349\u001b[0m     \u001b[38;5;28;01mreturn\u001b[39;00m response\n",
      "File \u001b[0;32m~/miniconda3/envs/ironhack/lib/python3.11/site-packages/selenium/webdriver/remote/errorhandler.py:229\u001b[0m, in \u001b[0;36mErrorHandler.check_response\u001b[0;34m(self, response)\u001b[0m\n\u001b[1;32m    227\u001b[0m         alert_text \u001b[38;5;241m=\u001b[39m value[\u001b[38;5;124m\"\u001b[39m\u001b[38;5;124malert\u001b[39m\u001b[38;5;124m\"\u001b[39m]\u001b[38;5;241m.\u001b[39mget(\u001b[38;5;124m\"\u001b[39m\u001b[38;5;124mtext\u001b[39m\u001b[38;5;124m\"\u001b[39m)\n\u001b[1;32m    228\u001b[0m     \u001b[38;5;28;01mraise\u001b[39;00m exception_class(message, screen, stacktrace, alert_text)  \u001b[38;5;66;03m# type: ignore[call-arg]  # mypy is not smart enough here\u001b[39;00m\n\u001b[0;32m--> 229\u001b[0m \u001b[38;5;28;01mraise\u001b[39;00m exception_class(message, screen, stacktrace)\n",
      "\u001b[0;31mNoSuchWindowException\u001b[0m: Message: no such window: target window already closed\nfrom unknown error: web view not found\n  (Session info: chrome=122.0.6261.112)\nStacktrace:\n0   chromedriver                        0x0000000101f4d2a8 chromedriver + 4625064\n1   chromedriver                        0x0000000101f44e53 chromedriver + 4591187\n2   chromedriver                        0x0000000101b43e6a chromedriver + 392810\n3   chromedriver                        0x0000000101b1a93d chromedriver + 223549\n4   chromedriver                        0x0000000101bba66d chromedriver + 878189\n5   chromedriver                        0x0000000101bd0008 chromedriver + 966664\n6   chromedriver                        0x0000000101bb1613 chromedriver + 841235\n7   chromedriver                        0x0000000101b823da chromedriver + 648154\n8   chromedriver                        0x0000000101b82d1e chromedriver + 650526\n9   chromedriver                        0x0000000101f0da70 chromedriver + 4364912\n10  chromedriver                        0x0000000101f12e36 chromedriver + 4386358\n11  chromedriver                        0x0000000101ef26de chromedriver + 4253406\n12  chromedriver                        0x0000000101f13b79 chromedriver + 4389753\n13  chromedriver                        0x0000000101ee4a29 chromedriver + 4196905\n14  chromedriver                        0x0000000101f33b28 chromedriver + 4520744\n15  chromedriver                        0x0000000101f33d07 chromedriver + 4521223\n16  chromedriver                        0x0000000101f44a93 chromedriver + 4590227\n17  libsystem_pthread.dylib             0x00007fff204c98fc _pthread_start + 224\n18  libsystem_pthread.dylib             0x00007fff204c5443 thread_start + 15\n"
     ]
    }
   ],
   "source": [
    "#Abrimos las categorias: \n",
    "contract_expand()\n",
    "\n",
    "# EXTRAEMOS LAS CATEGORIAS: \n",
    "category_links = driver.find_elements(By.CSS_SELECTOR, \"div[data-test-id='category-item']\")\n",
    "\n",
    "for c in category_links:\n",
    "    contract_expand_categ(c)\n",
    "    print(c.text)\n",
    "    time.sleep(1)\n",
    "    contract_expand_categ(c)\n",
    "    time.sleep(1)"
   ]
  },
  {
   "cell_type": "code",
   "execution_count": 17,
   "id": "45604b73",
   "metadata": {},
   "outputs": [],
   "source": [
    "c = category_links[2]"
   ]
  },
  {
   "cell_type": "code",
   "execution_count": 20,
   "id": "2477e0df",
   "metadata": {},
   "outputs": [],
   "source": [
    "contract_expand_categ(c)"
   ]
  },
  {
   "cell_type": "code",
   "execution_count": 26,
   "id": "64635d43",
   "metadata": {},
   "outputs": [
    {
     "name": "stdout",
     "output_type": "stream",
     "text": [
      "Charcutería y quesos\n",
      "Carnicería\n",
      "Pescados, mariscos y ahumados\n",
      "Verduras\n",
      "Frutas\n",
      "Leche, huevos y mantequilla\n",
      "Yogures y postres\n",
      "Arroz, pastas y legumbres\n",
      "Aceites, salsas y especias\n",
      "Conservas, caldos y cremas\n",
      "Panes, harinas y masas\n",
      "Café, cacao e infusiones\n"
     ]
    },
    {
     "ename": "KeyboardInterrupt",
     "evalue": "",
     "output_type": "error",
     "traceback": [
      "\u001b[0;31m---------------------------------------------------------------------------\u001b[0m",
      "\u001b[0;31mKeyboardInterrupt\u001b[0m                         Traceback (most recent call last)",
      "Cell \u001b[0;32mIn[26], line 4\u001b[0m\n\u001b[1;32m      2\u001b[0m contract_expand_categ(c)\n\u001b[1;32m      3\u001b[0m \u001b[38;5;28mprint\u001b[39m(c\u001b[38;5;241m.\u001b[39mtext)\n\u001b[0;32m----> 4\u001b[0m time\u001b[38;5;241m.\u001b[39msleep(\u001b[38;5;241m2\u001b[39m)\n\u001b[1;32m      5\u001b[0m contract_expand_categ(c)\n\u001b[1;32m      6\u001b[0m time\u001b[38;5;241m.\u001b[39msleep(\u001b[38;5;241m2\u001b[39m)\n",
      "\u001b[0;31mKeyboardInterrupt\u001b[0m: "
     ]
    }
   ],
   "source": [
    "for c in category_links:\n",
    "    contract_expand_categ(c)\n",
    "    print(c.text)\n",
    "    time.sleep(2)\n",
    "    contract_expand_categ(c)\n",
    "    time.sleep(2)"
   ]
  },
  {
   "cell_type": "code",
   "execution_count": null,
   "id": "33717757",
   "metadata": {},
   "outputs": [],
   "source": [
    "WebDriverWait(driver, 5)\n",
    "    print(\"esperando 5s\")\n",
    "    \n",
    "    #Sacamos SUBCATEOGRIAS: \n",
    "    subcategory_links = driver.find_elements(By.CSS_SELECTOR, \"div[data-test-id='sub-category-item']\")\n",
    "    \n",
    "    WebDriverWait(driver, 5)\n",
    "    print(\"esperando 5s\")\n",
    "    \n",
    "    for s in subcategory_links:\n",
    "        #Entro la subcategoria \n",
    "        s.find_element(By.CSS_SELECTOR, \"a[data-test-id='sub-category-item-link']\").click()\n",
    "\n",
    "        #Scrapeo todo lo que quiero:\n",
    "        print(\"A COMPRAR AL DIA\")\n",
    "        \n",
    "        \"\"\" Aqui viene el lio, teoricamente, si yo ahora saltara a la siguiente \n",
    "        sibcategoria, deberia poder acceder, pero por lo que sea no me deja \n",
    "        \n",
    "        hay que hacer una especie de reseteo\n",
    "        \n",
    "        \"\"\"\n",
    "        \n",
    "        # VOLVEMOS A LA PAGINA PRINCIPAL DEL DIA:\n",
    "        driver.find_element(By.CSS_SELECTOR, \"img[class='header-logo__image']\").click()\n",
    "        \n",
    "        #Abrimos las categorias: \n",
    "        contract_expand()\n",
    "        \n",
    "        # EXTRAEMOS LAS CATEGORIAS: \n",
    "        category_links = driver.find_elements(By.CSS_SELECTOR, \"div[data-test-id='category-item']\")\n",
    "        \n",
    "        #expandimos la categoria que ya tenimamos ES DECIR NO VOLVEMOs a HACER EL FOR\n",
    "        contract_expand_categ(c)\n",
    "        \n",
    "        #Volvemos a extraer las subcategorias, y siguiente elemento\n",
    "        subcategory_links = driver.find_elements(By.CSS_SELECTOR, \"div[data-test-id='sub-category-item']\")"
   ]
  }
 ],
 "metadata": {
  "kernelspec": {
   "display_name": "ironhack",
   "language": "python",
   "name": "ironhack"
  },
  "language_info": {
   "codemirror_mode": {
    "name": "ipython",
    "version": 3
   },
   "file_extension": ".py",
   "mimetype": "text/x-python",
   "name": "python",
   "nbconvert_exporter": "python",
   "pygments_lexer": "ipython3",
   "version": "3.11.5"
  }
 },
 "nbformat": 4,
 "nbformat_minor": 5
}
