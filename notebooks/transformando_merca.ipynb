{
 "cells": [
  {
   "cell_type": "code",
   "execution_count": 389,
   "id": "f9432dc5",
   "metadata": {},
   "outputs": [],
   "source": [
    "import pandas as pd\n",
    "import numpy as np\n",
    "import csv\n",
    "import re\n",
    "\n",
    "from unidecode import unidecode #para los acentos\n",
    "\n",
    "#Deberia revisar lo de Counter que lo uso bastante y no conoxco muy bien la libreria\n",
    "from collections import Counter\n"
   ]
  },
  {
   "cell_type": "code",
   "execution_count": 390,
   "id": "68095b0f",
   "metadata": {},
   "outputs": [],
   "source": [
    "def texto_csv(df, column):\n",
    "    \n",
    "    #name of the document: as column_name_column.csv\n",
    "    path = f'column_{column}.csv'\n",
    "    \n",
    "    \"\"\" Hay que quitar los vacios primero - lo he sacado de la funcion\n",
    "    por no tranformar la tabla aqui \"\"\"\n",
    "   \n",
    "    #2. We write every colum as a new line in the .csv\n",
    "    non_empty_values = [str(i) for i in df[column]]\n",
    "    \n",
    "    with open(path, mode='w', newline='') as file:\n",
    "        writer = csv.writer(file)\n",
    "        writer.writerows([[value] for value in non_empty_values]) \n",
    "        \n",
    "    print(f'Column successfully exported to {path}')"
   ]
  },
  {
   "cell_type": "code",
   "execution_count": 391,
   "id": "a7b66390",
   "metadata": {},
   "outputs": [],
   "source": [
    "df = pd.read_csv(\"../data/srape-mercadona_2024-03-08.csv\")"
   ]
  },
  {
   "cell_type": "markdown",
   "id": "ce0cecfb",
   "metadata": {},
   "source": [
    "# 1. EXPLORE"
   ]
  },
  {
   "cell_type": "code",
   "execution_count": 392,
   "id": "01f92ccb",
   "metadata": {},
   "outputs": [
    {
     "data": {
      "text/html": [
       "<div>\n",
       "<style scoped>\n",
       "    .dataframe tbody tr th:only-of-type {\n",
       "        vertical-align: middle;\n",
       "    }\n",
       "\n",
       "    .dataframe tbody tr th {\n",
       "        vertical-align: top;\n",
       "    }\n",
       "\n",
       "    .dataframe thead th {\n",
       "        text-align: right;\n",
       "    }\n",
       "</style>\n",
       "<table border=\"1\" class=\"dataframe\">\n",
       "  <thead>\n",
       "    <tr style=\"text-align: right;\">\n",
       "      <th></th>\n",
       "      <th>categoria</th>\n",
       "      <th>subcategoria</th>\n",
       "      <th>descripcion</th>\n",
       "      <th>unidades</th>\n",
       "      <th>precio</th>\n",
       "    </tr>\n",
       "  </thead>\n",
       "  <tbody>\n",
       "    <tr>\n",
       "      <th>3419</th>\n",
       "      <td>Huevos, leche y mantequilla</td>\n",
       "      <td>Leche y bebidas vegetales</td>\n",
       "      <td>Bebida láctea Omega 3 Puleva con nueces y lech...</td>\n",
       "      <td>6 bricks x 1 L</td>\n",
       "      <td>11,70 € /pack</td>\n",
       "    </tr>\n",
       "  </tbody>\n",
       "</table>\n",
       "</div>"
      ],
      "text/plain": [
       "                        categoria               subcategoria  \\\n",
       "3419  Huevos, leche y mantequilla  Leche y bebidas vegetales   \n",
       "\n",
       "                                            descripcion        unidades  \\\n",
       "3419  Bebida láctea Omega 3 Puleva con nueces y lech...  6 bricks x 1 L   \n",
       "\n",
       "             precio  \n",
       "3419  11,70 € /pack  "
      ]
     },
     "execution_count": 392,
     "metadata": {},
     "output_type": "execute_result"
    }
   ],
   "source": [
    "df.sample()\n",
    "\n",
    "#categoria, subcategoria y descripcion - las dejamos como están. "
   ]
  },
  {
   "cell_type": "code",
   "execution_count": 393,
   "id": "ffb5b0dc",
   "metadata": {},
   "outputs": [
    {
     "name": "stdout",
     "output_type": "stream",
     "text": [
      "There is 19 duplicate rows\n"
     ]
    }
   ],
   "source": [
    "def dupli_rows(df):\n",
    "    \"How many duplicate rows there is\"\n",
    "    duplicates = df.shape[0] - df.drop_duplicates().shape[0]\n",
    "    print(f'There is {duplicates} duplicate rows')\n",
    "    return \n",
    "\n",
    "dupli_rows(df)"
   ]
  },
  {
   "cell_type": "code",
   "execution_count": 394,
   "id": "b33b8e70",
   "metadata": {},
   "outputs": [],
   "source": [
    "df.drop_duplicates(inplace=True)"
   ]
  },
  {
   "cell_type": "code",
   "execution_count": 395,
   "id": "4a9a4fca",
   "metadata": {},
   "outputs": [
    {
     "name": "stdout",
     "output_type": "stream",
     "text": [
      "<class 'pandas.core.frame.DataFrame'>\n",
      "Index: 5016 entries, 0 to 5034\n",
      "Data columns (total 5 columns):\n",
      " #   Column        Non-Null Count  Dtype \n",
      "---  ------        --------------  ----- \n",
      " 0   categoria     5016 non-null   object\n",
      " 1   subcategoria  5016 non-null   object\n",
      " 2   descripcion   5016 non-null   object\n",
      " 3   unidades      5016 non-null   object\n",
      " 4   precio        5016 non-null   object\n",
      "dtypes: object(5)\n",
      "memory usage: 235.1+ KB\n"
     ]
    }
   ],
   "source": [
    "# All collumns have values. \n",
    "df.info()"
   ]
  },
  {
   "cell_type": "markdown",
   "id": "02536ae6",
   "metadata": {},
   "source": [
    "# 2. TRANFORM"
   ]
  },
  {
   "cell_type": "markdown",
   "id": "98fdf709",
   "metadata": {},
   "source": [
    "##  - PRECIO\n",
    "\n",
    "- No hay valores nulos\n",
    "\n",
    "- El precio puede contener o 2 informaciones o 3:\n",
    "    - El precio y a que hace referencia ese precio (pack)\n",
    "    - El precio, precio si esta descontado y a que hace referencia ese precio(pack)\n",
    "\n",
    "- Creamos una funcion que aplicamos a todos los elementos de la columna precio para formaterla. Aqui extraeremos los tres valores comentados antes. Cuando no haya descuento --> np.nan\n",
    "    - price_info --> string\n",
    "    - price_eu and price_disc_eu --> float\n",
    "    \n",
    "  **Note:** Interesante aqui el tema de apply(function) y luego el lambda. \n",
    "  \n",
    "- Eliminamos la columna original\n",
    "\n",
    "**NOTE:** En price_info, los valores son bastante consistentes siendo la mayoria de valoes (ud/pack). No obstante hay 14 valores que son de tipo ( xxx g) ej 500 g. Veremos a ver que hacemos. si los descartamos o como los tranformamos. No son una parte muy relevante del conjunto de datos ( 14 de 5035) pero tener en cuenta que hay que revisarlo: \n"
   ]
  },
  {
   "cell_type": "markdown",
   "id": "22379d0b",
   "metadata": {},
   "source": [
    "**Tranform Price column**"
   ]
  },
  {
   "cell_type": "code",
   "execution_count": 396,
   "id": "731198df",
   "metadata": {},
   "outputs": [],
   "source": [
    "def format_price(x):\n",
    "    \n",
    "    \"\"\"\n",
    "    Decompose and fromate values for the colum price\n",
    "    \n",
    "    input: string \n",
    "    output: lsit, values of each key already casted:\n",
    "        info: pos[0]: str \n",
    "        valores: pos[1]: float\n",
    "        descuento: pos[2]: float/np.nan(float) (where there is a discount or not)\n",
    "    \n",
    "    \"\"\"\n",
    "    \n",
    "    # 1. Replace the € simbol and splits by the \"/\" ch -- generates a list of 2 elements (nums - text)\n",
    "    x = x.replace(\"€\", \"\").split(\"/\")\n",
    "    \n",
    "    # 2. Split by the \"/\" to extract the info, keep last part(always at the end)\n",
    "    info = x[-1].replace(\".\", \"\") #(str)\n",
    "    \n",
    "    # 3. Splits by the \"/\" to extract the num values:\n",
    "    num_values = x[0:-1][0].replace(\",\" , \".\").strip().split(\" \")\n",
    "    \n",
    "    # 4. Extracts and formats price value:\n",
    "    price = float(num_values[0])\n",
    "    \n",
    "    # 5. Extracts and formats discount_price if not dicount np.nan\n",
    "    discount = [np.nan if len(num_values) == 1 else float(num_values[1])][0]\n",
    "    \n",
    "    return [info, price, discount]"
   ]
  },
  {
   "cell_type": "code",
   "execution_count": 397,
   "id": "fb3892c1",
   "metadata": {},
   "outputs": [
    {
     "data": {
      "text/html": [
       "<div>\n",
       "<style scoped>\n",
       "    .dataframe tbody tr th:only-of-type {\n",
       "        vertical-align: middle;\n",
       "    }\n",
       "\n",
       "    .dataframe tbody tr th {\n",
       "        vertical-align: top;\n",
       "    }\n",
       "\n",
       "    .dataframe thead th {\n",
       "        text-align: right;\n",
       "    }\n",
       "</style>\n",
       "<table border=\"1\" class=\"dataframe\">\n",
       "  <thead>\n",
       "    <tr style=\"text-align: right;\">\n",
       "      <th></th>\n",
       "      <th>categoria</th>\n",
       "      <th>subcategoria</th>\n",
       "      <th>descripcion</th>\n",
       "      <th>unidades</th>\n",
       "      <th>price_eu</th>\n",
       "      <th>price_disc_eu</th>\n",
       "    </tr>\n",
       "  </thead>\n",
       "  <tbody>\n",
       "    <tr>\n",
       "      <th>4428</th>\n",
       "      <td>Panadería y pastelería</td>\n",
       "      <td>Bollería envasada</td>\n",
       "      <td>Bollo con pepitas de chocolate Hacendado Choco...</td>\n",
       "      <td>Paquete 6 ud. (250 g)</td>\n",
       "      <td>1.55</td>\n",
       "      <td>NaN</td>\n",
       "    </tr>\n",
       "  </tbody>\n",
       "</table>\n",
       "</div>"
      ],
      "text/plain": [
       "                   categoria       subcategoria  \\\n",
       "4428  Panadería y pastelería  Bollería envasada   \n",
       "\n",
       "                                            descripcion  \\\n",
       "4428  Bollo con pepitas de chocolate Hacendado Choco...   \n",
       "\n",
       "                   unidades  price_eu  price_disc_eu  \n",
       "4428  Paquete 6 ud. (250 g)      1.55            NaN  "
      ]
     },
     "execution_count": 397,
     "metadata": {},
     "output_type": "execute_result"
    }
   ],
   "source": [
    "# Apply the function and get the element for each colum: \n",
    "\n",
    "\"He decidodo que esto no aporta nada\"\n",
    "#df[\"price_info\"] = df[\"precio\"].apply(format_price).apply(lambda x:x[0])\n",
    "df[\"price_eu\"] = df[\"precio\"].apply(format_price).apply(lambda x:x[1])\n",
    "df[\"price_disc_eu\"] = df[\"precio\"].apply(format_price).apply(lambda x:x[2])\n",
    "\n",
    "#Drop old column:\n",
    "df.drop(\"precio\", axis=1, inplace=True)\n",
    "\n",
    "df.sample()"
   ]
  },
  {
   "cell_type": "markdown",
   "id": "ae6af185",
   "metadata": {},
   "source": [
    "## - MARCA"
   ]
  },
  {
   "cell_type": "markdown",
   "id": "c63f8ab7",
   "metadata": {},
   "source": [
    "Hay tres marcas principales que se van a repetir en casi la mitad de articulos, que son los nombres\n",
    "de las marcas propias de mercadona: \n"
   ]
  },
  {
   "cell_type": "code",
   "execution_count": 398,
   "id": "7070110d",
   "metadata": {},
   "outputs": [],
   "source": [
    "\"\"\"Funcion que te devuelve la marca si el texto la contiene\"\"\"\n",
    "def marca(x):\n",
    "    marcas = [\"Hacendado\", \"Deliplus\", \"Bosque Verde\", \"Coca-Cola\"]\n",
    "    \n",
    "    \"\"\"otras_marcas = [\"Hacendado\", \"Deliplus\", \"Bosque Verde\", \"Coca-Cola\",\"Compy\", \"L'Oréal\", \"Delikuit\", \n",
    "                \"Maybelline\", \"Gillette\", \"Nivea\", \"Puleva\", \"Incarlopsa\", \"Tampax\", \"Gallina Blanca\", \n",
    "                \"El Pozo\", \"Hero baby\", \"Finish\", \"Garnier\", \"Rimmel London\", \"Pantene\", \"Evax\", \n",
    "                \"Dolce Gusto\", \"Entrepinares\", \"Mahou\"] \"\"\"\n",
    "    \n",
    "    \n",
    "    return [i for i in marcas if i in x]"
   ]
  },
  {
   "cell_type": "code",
   "execution_count": 399,
   "id": "0fb7eaf0",
   "metadata": {},
   "outputs": [],
   "source": [
    "#Aplicamos la funcion, como realmente devuelve una lista, si esta vacia (no match) --> np.nan\n",
    "df[\"marca\"] = df[\"descripcion\"].apply(marca).apply(lambda x: x[0] if x != [] else np.nan)"
   ]
  },
  {
   "cell_type": "code",
   "execution_count": 400,
   "id": "30a7d07a",
   "metadata": {},
   "outputs": [
    {
     "data": {
      "text/plain": [
       "1984"
      ]
     },
     "execution_count": 400,
     "metadata": {},
     "output_type": "execute_result"
    }
   ],
   "source": [
    "#Quiero ver cuantas filas no hemos identificado la marca \n",
    "df['marca'].isna().sum()"
   ]
  },
  {
   "cell_type": "markdown",
   "id": "822d5ea5",
   "metadata": {},
   "source": [
    "Ver si queremos sacar el resto de marcas o no. Tener en cuenta que todo lo de la carne y tal creo que no \n",
    "pone que es acendado pero si que lo es, ver como vamos a hacer eso por si queremos comparar marcas blancas solo\n",
    "\n",
    "Para intentar afinar un poco mas y sacar mas marcas, vamos a intentar lo siguiente: \n",
    "\n",
    "Me he dado cuenta de que las marcas estan siempre escritas La primera en  mayuscula.\n",
    "La marca y la primera palabra de la descripcion, que suele hacer referencia al tipo de articulo\n",
    "Nunca ponen la Marca lo primero, por lo que si esta en mayudculas sera o el primer elemento \n",
    "de la descripcion(hace referencia al producto) o la marca. "
   ]
  },
  {
   "cell_type": "code",
   "execution_count": 401,
   "id": "5ab33b5f",
   "metadata": {},
   "outputs": [],
   "source": [
    "#Dividimos las descripciones por palbras\n",
    "lista = df[\"descripcion\"].unique()\n",
    "words_list = [ i.strip().split(\" \") for i in lista]"
   ]
  },
  {
   "cell_type": "code",
   "execution_count": 402,
   "id": "ab538ded",
   "metadata": {},
   "outputs": [],
   "source": [
    "# eliminamos la primera palabra de cada descirpcion( En mayusculas pero no es una marca)\n",
    "palabras = []\n",
    "\n",
    "for i in words_list:\n",
    "    a = i[1:]\n",
    "    for w in a:\n",
    "        palabras.append(w)\n",
    "        \n",
    "#Nos queda una lista de palabras donde la mayoria de palabras estaran en minusculas, \n",
    "#sin embargo sabemos que las marcas tienen la primera letra en mayuscula: "
   ]
  },
  {
   "cell_type": "code",
   "execution_count": 403,
   "id": "242592e0",
   "metadata": {},
   "outputs": [],
   "source": [
    "pattern = r\"(\\b[A-Z][a-zA-Z]*\\b)\" #Primera letra en mayucula\n",
    "#Quitamos TODAS las palabras que no cumplan con el patron\n",
    "clave = [word for word in palabras if re.match(pattern, word)]"
   ]
  },
  {
   "cell_type": "code",
   "execution_count": 404,
   "id": "268d4565",
   "metadata": {},
   "outputs": [
    {
     "data": {
      "text/plain": [
       "'Aqui podemos ver toas las palabras que empiezan por mayusculas y como se repiten, ya veremos\\ncuanto queremo pulir esto'"
      ]
     },
     "execution_count": 404,
     "metadata": {},
     "output_type": "execute_result"
    }
   ],
   "source": [
    "\"\"\"Aqui podemos ver toas las palabras que empiezan por mayusculas y como se repiten, ya veremos\n",
    "cuanto queremo pulir esto\"\"\"\n",
    "\n",
    "#Counter(clave)"
   ]
  },
  {
   "cell_type": "code",
   "execution_count": 405,
   "id": "4e8f0d03",
   "metadata": {},
   "outputs": [],
   "source": [
    "# Esta es la lista de otras marcas que podemos incluir en la funcion: \n",
    "\n",
    "otras_marcas = [\"Hacendado\", \"Deliplus\", \"Bosque Verde\", \"Coca-Cola\",\"Compy\", \"L'Oréal\", \"Delikuit\", \n",
    "                \"Maybelline\", \"Gillette\", \"Nivea\", \"Puleva\", \"Incarlopsa\", \"Tampax\", \"Gallina Blanca\", \n",
    "                \"El Pozo\", \"Hero baby\", \"Finish\", \"Garnier\", \"Rimmel London\", \"Pantene\", \"Evax\", \n",
    "                \"Dolce Gusto\", \"Entrepinares\"]"
   ]
  },
  {
   "cell_type": "markdown",
   "id": "444c933c",
   "metadata": {},
   "source": [
    "### UNIDADES:"
   ]
  },
  {
   "cell_type": "code",
   "execution_count": 406,
   "id": "5e7e4f5c",
   "metadata": {},
   "outputs": [],
   "source": [
    "# sabemos que se repite mucho el \"aprox\" y no nos aporta nada \n",
    "df[\"unidades\"] = df[\"unidades\"].str.replace(\"aprox.\", \"\")\n",
    "\n",
    "# Quitamos los acentos que pueda haber(Botellín no lo pilla el patron de regexx)\n",
    "df[\"unidades\"] = df[\"unidades\"].apply(unidecode)"
   ]
  },
  {
   "cell_type": "code",
   "execution_count": 407,
   "id": "395eb4de",
   "metadata": {},
   "outputs": [],
   "source": [
    "#extraemos las unidades\n",
    "pattern = r'((?:\\d+,)?\\d+\\s*(?:g|[Kk]g|L|ml))'\n",
    "df[\"cantidad\"] =  df[\"unidades\"].str.extract(pattern)"
   ]
  },
  {
   "cell_type": "code",
   "execution_count": 408,
   "id": "a9a7e78d",
   "metadata": {},
   "outputs": [],
   "source": [
    "# Extraemos el fomato\n",
    "pattern = r\"(\\b[A-Z][a-zA-Z]*\\b)\" #Primera letra en mayucula\n",
    "df[\"formato\"] =  df[\"unidades\"].str.extract(pattern)"
   ]
  },
  {
   "cell_type": "code",
   "execution_count": 409,
   "id": "cc071437",
   "metadata": {},
   "outputs": [
    {
     "data": {
      "text/html": [
       "<div>\n",
       "<style scoped>\n",
       "    .dataframe tbody tr th:only-of-type {\n",
       "        vertical-align: middle;\n",
       "    }\n",
       "\n",
       "    .dataframe tbody tr th {\n",
       "        vertical-align: top;\n",
       "    }\n",
       "\n",
       "    .dataframe thead th {\n",
       "        text-align: right;\n",
       "    }\n",
       "</style>\n",
       "<table border=\"1\" class=\"dataframe\">\n",
       "  <thead>\n",
       "    <tr style=\"text-align: right;\">\n",
       "      <th></th>\n",
       "      <th>categoria</th>\n",
       "      <th>subcategoria</th>\n",
       "      <th>descripcion</th>\n",
       "      <th>unidades</th>\n",
       "      <th>price_eu</th>\n",
       "      <th>price_disc_eu</th>\n",
       "      <th>marca</th>\n",
       "      <th>cantidad</th>\n",
       "      <th>formato</th>\n",
       "    </tr>\n",
       "  </thead>\n",
       "  <tbody>\n",
       "    <tr>\n",
       "      <th>4659</th>\n",
       "      <td>Panadería y pastelería</td>\n",
       "      <td>Velas y decoración</td>\n",
       "      <td>Kit decoración Hacendado</td>\n",
       "      <td>1 ud.</td>\n",
       "      <td>1.9</td>\n",
       "      <td>NaN</td>\n",
       "      <td>Hacendado</td>\n",
       "      <td>NaN</td>\n",
       "      <td>NaN</td>\n",
       "    </tr>\n",
       "  </tbody>\n",
       "</table>\n",
       "</div>"
      ],
      "text/plain": [
       "                   categoria        subcategoria               descripcion  \\\n",
       "4659  Panadería y pastelería  Velas y decoración  Kit decoración Hacendado   \n",
       "\n",
       "     unidades  price_eu  price_disc_eu      marca cantidad formato  \n",
       "4659    1 ud.       1.9            NaN  Hacendado      NaN     NaN  "
      ]
     },
     "execution_count": 409,
     "metadata": {},
     "output_type": "execute_result"
    }
   ],
   "source": [
    "df.sample()"
   ]
  },
  {
   "cell_type": "code",
   "execution_count": 410,
   "id": "c8e5cc35",
   "metadata": {},
   "outputs": [],
   "source": [
    "# Analizamos como ha quedado el data frame\n",
    "\n",
    "## OJO LOS QUE CONTIENEN LA PALABRA EXURRIDO HAN SALIDO RAROS \n",
    "#CONSUM SOLO PONE EL ESCURRIDO ASI QUE VAMOS A QUERER SACAR EL ESCURRIDO "
   ]
  },
  {
   "cell_type": "code",
   "execution_count": 411,
   "id": "4433b3bb",
   "metadata": {},
   "outputs": [
    {
     "data": {
      "text/plain": [
       "798"
      ]
     },
     "execution_count": 411,
     "metadata": {},
     "output_type": "execute_result"
    }
   ],
   "source": [
    "df['cantidad'].isna().sum()"
   ]
  },
  {
   "cell_type": "code",
   "execution_count": 412,
   "id": "6f7e11ab",
   "metadata": {},
   "outputs": [
    {
     "data": {
      "text/plain": [
       "905"
      ]
     },
     "execution_count": 412,
     "metadata": {},
     "output_type": "execute_result"
    }
   ],
   "source": [
    "df['formato'].isna().sum()\n",
    "#para ver porque han podido salir vacios"
   ]
  },
  {
   "cell_type": "code",
   "execution_count": 413,
   "id": "8f44be5f",
   "metadata": {},
   "outputs": [
    {
     "data": {
      "text/html": [
       "<div>\n",
       "<style scoped>\n",
       "    .dataframe tbody tr th:only-of-type {\n",
       "        vertical-align: middle;\n",
       "    }\n",
       "\n",
       "    .dataframe tbody tr th {\n",
       "        vertical-align: top;\n",
       "    }\n",
       "\n",
       "    .dataframe thead th {\n",
       "        text-align: right;\n",
       "    }\n",
       "</style>\n",
       "<table border=\"1\" class=\"dataframe\">\n",
       "  <thead>\n",
       "    <tr style=\"text-align: right;\">\n",
       "      <th></th>\n",
       "      <th>categoria</th>\n",
       "      <th>subcategoria</th>\n",
       "      <th>descripcion</th>\n",
       "      <th>unidades</th>\n",
       "      <th>price_eu</th>\n",
       "      <th>price_disc_eu</th>\n",
       "      <th>marca</th>\n",
       "      <th>cantidad</th>\n",
       "      <th>formato</th>\n",
       "    </tr>\n",
       "  </thead>\n",
       "  <tbody>\n",
       "    <tr>\n",
       "      <th>0</th>\n",
       "      <td>Agua y refrescos</td>\n",
       "      <td>Isotónico y energético</td>\n",
       "      <td>Bebida isotónica limón Aquarius</td>\n",
       "      <td>8 latas x 330 ml</td>\n",
       "      <td>6.80</td>\n",
       "      <td>6.24</td>\n",
       "      <td>NaN</td>\n",
       "      <td>330 ml</td>\n",
       "      <td>NaN</td>\n",
       "    </tr>\n",
       "    <tr>\n",
       "      <th>24</th>\n",
       "      <td>Aceite, especias y salsas</td>\n",
       "      <td>Aceite, vinagre y sal</td>\n",
       "      <td>Aceite de oliva, vinagre y sal Merry</td>\n",
       "      <td>15 monodosis x 10 ml</td>\n",
       "      <td>2.20</td>\n",
       "      <td>NaN</td>\n",
       "      <td>NaN</td>\n",
       "      <td>10 ml</td>\n",
       "      <td>NaN</td>\n",
       "    </tr>\n",
       "    <tr>\n",
       "      <th>91</th>\n",
       "      <td>Aceite, especias y salsas</td>\n",
       "      <td>Mayonesa, ketchup y mostaza</td>\n",
       "      <td>Mayonesa en sobres individuales</td>\n",
       "      <td>12 sobres x 20 ml</td>\n",
       "      <td>1.25</td>\n",
       "      <td>NaN</td>\n",
       "      <td>NaN</td>\n",
       "      <td>20 ml</td>\n",
       "      <td>NaN</td>\n",
       "    </tr>\n",
       "    <tr>\n",
       "      <th>111</th>\n",
       "      <td>Aceite, especias y salsas</td>\n",
       "      <td>Otras salsas</td>\n",
       "      <td>Tomate frito Hacendado</td>\n",
       "      <td>3 bricks x 400 g</td>\n",
       "      <td>1.40</td>\n",
       "      <td>NaN</td>\n",
       "      <td>Hacendado</td>\n",
       "      <td>400 g</td>\n",
       "      <td>NaN</td>\n",
       "    </tr>\n",
       "    <tr>\n",
       "      <th>112</th>\n",
       "      <td>Aceite, especias y salsas</td>\n",
       "      <td>Otras salsas</td>\n",
       "      <td>Tomate frito Hacendado</td>\n",
       "      <td>3 mini bricks x 210 g</td>\n",
       "      <td>1.10</td>\n",
       "      <td>1.00</td>\n",
       "      <td>Hacendado</td>\n",
       "      <td>210 g</td>\n",
       "      <td>NaN</td>\n",
       "    </tr>\n",
       "    <tr>\n",
       "      <th>...</th>\n",
       "      <td>...</td>\n",
       "      <td>...</td>\n",
       "      <td>...</td>\n",
       "      <td>...</td>\n",
       "      <td>...</td>\n",
       "      <td>...</td>\n",
       "      <td>...</td>\n",
       "      <td>...</td>\n",
       "      <td>...</td>\n",
       "    </tr>\n",
       "    <tr>\n",
       "      <th>5010</th>\n",
       "      <td>Zumos</td>\n",
       "      <td>Melocotón y piña</td>\n",
       "      <td>Bebida de piña Hacendado sin azúcares añadidos</td>\n",
       "      <td>6 mini bricks x 200 ml</td>\n",
       "      <td>1.35</td>\n",
       "      <td>NaN</td>\n",
       "      <td>Hacendado</td>\n",
       "      <td>200 ml</td>\n",
       "      <td>NaN</td>\n",
       "    </tr>\n",
       "    <tr>\n",
       "      <th>5013</th>\n",
       "      <td>Zumos</td>\n",
       "      <td>Melocotón y piña</td>\n",
       "      <td>Zumo de piña selección Hacendado</td>\n",
       "      <td>3 mini bricks x 330 ml</td>\n",
       "      <td>2.25</td>\n",
       "      <td>NaN</td>\n",
       "      <td>Hacendado</td>\n",
       "      <td>330 ml</td>\n",
       "      <td>NaN</td>\n",
       "    </tr>\n",
       "    <tr>\n",
       "      <th>5019</th>\n",
       "      <td>Zumos</td>\n",
       "      <td>Naranja</td>\n",
       "      <td>Zumo pura naranja Hacendado</td>\n",
       "      <td>6 mini bricks x 200 ml</td>\n",
       "      <td>2.80</td>\n",
       "      <td>NaN</td>\n",
       "      <td>Hacendado</td>\n",
       "      <td>200 ml</td>\n",
       "      <td>NaN</td>\n",
       "    </tr>\n",
       "    <tr>\n",
       "      <th>5025</th>\n",
       "      <td>Zumos</td>\n",
       "      <td>Naranja</td>\n",
       "      <td>Bebida de naranja Hacendado sin azúcares añadidos</td>\n",
       "      <td>6 mini bricks x 200 ml</td>\n",
       "      <td>1.75</td>\n",
       "      <td>NaN</td>\n",
       "      <td>Hacendado</td>\n",
       "      <td>200 ml</td>\n",
       "      <td>NaN</td>\n",
       "    </tr>\n",
       "    <tr>\n",
       "      <th>5029</th>\n",
       "      <td>Zumos</td>\n",
       "      <td>Tomate y otros sabores</td>\n",
       "      <td>Zumo de manzana Hacendado</td>\n",
       "      <td>6 mini bricks x 200 ml</td>\n",
       "      <td>1.12</td>\n",
       "      <td>NaN</td>\n",
       "      <td>Hacendado</td>\n",
       "      <td>200 ml</td>\n",
       "      <td>NaN</td>\n",
       "    </tr>\n",
       "  </tbody>\n",
       "</table>\n",
       "<p>905 rows × 9 columns</p>\n",
       "</div>"
      ],
      "text/plain": [
       "                      categoria                 subcategoria  \\\n",
       "0              Agua y refrescos       Isotónico y energético   \n",
       "24    Aceite, especias y salsas        Aceite, vinagre y sal   \n",
       "91    Aceite, especias y salsas  Mayonesa, ketchup y mostaza   \n",
       "111   Aceite, especias y salsas                 Otras salsas   \n",
       "112   Aceite, especias y salsas                 Otras salsas   \n",
       "...                         ...                          ...   \n",
       "5010                      Zumos             Melocotón y piña   \n",
       "5013                      Zumos             Melocotón y piña   \n",
       "5019                      Zumos                      Naranja   \n",
       "5025                      Zumos                      Naranja   \n",
       "5029                      Zumos       Tomate y otros sabores   \n",
       "\n",
       "                                            descripcion  \\\n",
       "0                       Bebida isotónica limón Aquarius   \n",
       "24                 Aceite de oliva, vinagre y sal Merry   \n",
       "91                      Mayonesa en sobres individuales   \n",
       "111                              Tomate frito Hacendado   \n",
       "112                              Tomate frito Hacendado   \n",
       "...                                                 ...   \n",
       "5010     Bebida de piña Hacendado sin azúcares añadidos   \n",
       "5013                   Zumo de piña selección Hacendado   \n",
       "5019                        Zumo pura naranja Hacendado   \n",
       "5025  Bebida de naranja Hacendado sin azúcares añadidos   \n",
       "5029                          Zumo de manzana Hacendado   \n",
       "\n",
       "                    unidades  price_eu  price_disc_eu      marca cantidad  \\\n",
       "0           8 latas x 330 ml      6.80           6.24        NaN   330 ml   \n",
       "24      15 monodosis x 10 ml      2.20            NaN        NaN    10 ml   \n",
       "91         12 sobres x 20 ml      1.25            NaN        NaN    20 ml   \n",
       "111         3 bricks x 400 g      1.40            NaN  Hacendado    400 g   \n",
       "112    3 mini bricks x 210 g      1.10           1.00  Hacendado    210 g   \n",
       "...                      ...       ...            ...        ...      ...   \n",
       "5010  6 mini bricks x 200 ml      1.35            NaN  Hacendado   200 ml   \n",
       "5013  3 mini bricks x 330 ml      2.25            NaN  Hacendado   330 ml   \n",
       "5019  6 mini bricks x 200 ml      2.80            NaN  Hacendado   200 ml   \n",
       "5025  6 mini bricks x 200 ml      1.75            NaN  Hacendado   200 ml   \n",
       "5029  6 mini bricks x 200 ml      1.12            NaN  Hacendado   200 ml   \n",
       "\n",
       "     formato  \n",
       "0        NaN  \n",
       "24       NaN  \n",
       "91       NaN  \n",
       "111      NaN  \n",
       "112      NaN  \n",
       "...      ...  \n",
       "5010     NaN  \n",
       "5013     NaN  \n",
       "5019     NaN  \n",
       "5025     NaN  \n",
       "5029     NaN  \n",
       "\n",
       "[905 rows x 9 columns]"
      ]
     },
     "execution_count": 413,
     "metadata": {},
     "output_type": "execute_result"
    }
   ],
   "source": [
    "df[df['formato'].isna()]"
   ]
  },
  {
   "cell_type": "code",
   "execution_count": 414,
   "id": "29b0fdc1",
   "metadata": {},
   "outputs": [
    {
     "data": {
      "text/html": [
       "<div>\n",
       "<style scoped>\n",
       "    .dataframe tbody tr th:only-of-type {\n",
       "        vertical-align: middle;\n",
       "    }\n",
       "\n",
       "    .dataframe tbody tr th {\n",
       "        vertical-align: top;\n",
       "    }\n",
       "\n",
       "    .dataframe thead th {\n",
       "        text-align: right;\n",
       "    }\n",
       "</style>\n",
       "<table border=\"1\" class=\"dataframe\">\n",
       "  <thead>\n",
       "    <tr style=\"text-align: right;\">\n",
       "      <th></th>\n",
       "      <th>categoria</th>\n",
       "      <th>subcategoria</th>\n",
       "      <th>descripcion</th>\n",
       "      <th>unidades</th>\n",
       "      <th>price_eu</th>\n",
       "      <th>price_disc_eu</th>\n",
       "      <th>marca</th>\n",
       "      <th>cantidad</th>\n",
       "      <th>formato</th>\n",
       "    </tr>\n",
       "  </thead>\n",
       "  <tbody>\n",
       "    <tr>\n",
       "      <th>5008</th>\n",
       "      <td>Zumos</td>\n",
       "      <td>Melocotón y piña</td>\n",
       "      <td>Zumo de piña y uva Hacendado</td>\n",
       "      <td>6 mini bricks x 200 ml</td>\n",
       "      <td>1.4</td>\n",
       "      <td>NaN</td>\n",
       "      <td>Hacendado</td>\n",
       "      <td>200 ml</td>\n",
       "      <td>NaN</td>\n",
       "    </tr>\n",
       "  </tbody>\n",
       "</table>\n",
       "</div>"
      ],
      "text/plain": [
       "     categoria      subcategoria                   descripcion  \\\n",
       "5008     Zumos  Melocotón y piña  Zumo de piña y uva Hacendado   \n",
       "\n",
       "                    unidades  price_eu  price_disc_eu      marca cantidad  \\\n",
       "5008  6 mini bricks x 200 ml       1.4            NaN  Hacendado   200 ml   \n",
       "\n",
       "     formato  \n",
       "5008     NaN  "
      ]
     },
     "execution_count": 414,
     "metadata": {},
     "output_type": "execute_result"
    }
   ],
   "source": [
    "# Inspeccionamos los que no han salido como queriamos: \n",
    "\n",
    "#Cuantos en la columna formato se han quedado vacios: \n",
    "vacios = df['formato'].isna().sum() # 934\n",
    "\n",
    "#creamos un df con las filas donde formato se ha quedado vacio para inspeccionar mas a fondo\n",
    "f_vacio = df[df['formato'].isna()]\n",
    "\n",
    "f_vacio.sample()"
   ]
  },
  {
   "cell_type": "code",
   "execution_count": 415,
   "id": "08b9f131",
   "metadata": {},
   "outputs": [
    {
     "data": {
      "text/html": [
       "<div>\n",
       "<style scoped>\n",
       "    .dataframe tbody tr th:only-of-type {\n",
       "        vertical-align: middle;\n",
       "    }\n",
       "\n",
       "    .dataframe tbody tr th {\n",
       "        vertical-align: top;\n",
       "    }\n",
       "\n",
       "    .dataframe thead th {\n",
       "        text-align: right;\n",
       "    }\n",
       "</style>\n",
       "<table border=\"1\" class=\"dataframe\">\n",
       "  <thead>\n",
       "    <tr style=\"text-align: right;\">\n",
       "      <th></th>\n",
       "      <th>categoria</th>\n",
       "      <th>subcategoria</th>\n",
       "      <th>descripcion</th>\n",
       "      <th>unidades</th>\n",
       "      <th>price_eu</th>\n",
       "      <th>price_disc_eu</th>\n",
       "      <th>marca</th>\n",
       "      <th>cantidad</th>\n",
       "      <th>formato</th>\n",
       "    </tr>\n",
       "  </thead>\n",
       "  <tbody>\n",
       "    <tr>\n",
       "      <th>4819</th>\n",
       "      <td>Postres y yogures</td>\n",
       "      <td>Bífidus</td>\n",
       "      <td>Bífidus desnatado probiótico con kiwi Hacendad...</td>\n",
       "      <td>4 ud. x 125 g</td>\n",
       "      <td>1.3</td>\n",
       "      <td>NaN</td>\n",
       "      <td>Hacendado</td>\n",
       "      <td>125 g</td>\n",
       "      <td>NaN</td>\n",
       "    </tr>\n",
       "  </tbody>\n",
       "</table>\n",
       "</div>"
      ],
      "text/plain": [
       "              categoria subcategoria  \\\n",
       "4819  Postres y yogures      Bífidus   \n",
       "\n",
       "                                            descripcion       unidades  \\\n",
       "4819  Bífidus desnatado probiótico con kiwi Hacendad...  4 ud. x 125 g   \n",
       "\n",
       "      price_eu  price_disc_eu      marca cantidad formato  \n",
       "4819       1.3            NaN  Hacendado    125 g     NaN  "
      ]
     },
     "execution_count": 415,
     "metadata": {},
     "output_type": "execute_result"
    }
   ],
   "source": [
    "#Vemos dos causas principales - las unidades que son 8 nnnn * no estan en mayuculas: \n",
    "f_vacio[f_vacio['unidades'].str.contains('x')].sample() #443 filas cumplen esta condicion"
   ]
  },
  {
   "cell_type": "code",
   "execution_count": 416,
   "id": "20fcb0ab",
   "metadata": {},
   "outputs": [
    {
     "data": {
      "text/html": [
       "<div>\n",
       "<style scoped>\n",
       "    .dataframe tbody tr th:only-of-type {\n",
       "        vertical-align: middle;\n",
       "    }\n",
       "\n",
       "    .dataframe tbody tr th {\n",
       "        vertical-align: top;\n",
       "    }\n",
       "\n",
       "    .dataframe thead th {\n",
       "        text-align: right;\n",
       "    }\n",
       "</style>\n",
       "<table border=\"1\" class=\"dataframe\">\n",
       "  <thead>\n",
       "    <tr style=\"text-align: right;\">\n",
       "      <th></th>\n",
       "      <th>categoria</th>\n",
       "      <th>subcategoria</th>\n",
       "      <th>descripcion</th>\n",
       "      <th>unidades</th>\n",
       "      <th>price_eu</th>\n",
       "      <th>price_disc_eu</th>\n",
       "      <th>marca</th>\n",
       "      <th>cantidad</th>\n",
       "      <th>formato</th>\n",
       "    </tr>\n",
       "  </thead>\n",
       "  <tbody>\n",
       "    <tr>\n",
       "      <th>4096</th>\n",
       "      <td>Maquillaje</td>\n",
       "      <td>Ojos</td>\n",
       "      <td>Máscara de pestañas Panoramic Deliplus negro</td>\n",
       "      <td>1 ud.</td>\n",
       "      <td>4.0</td>\n",
       "      <td>NaN</td>\n",
       "      <td>Deliplus</td>\n",
       "      <td>NaN</td>\n",
       "      <td>NaN</td>\n",
       "    </tr>\n",
       "  </tbody>\n",
       "</table>\n",
       "</div>"
      ],
      "text/plain": [
       "       categoria subcategoria                                   descripcion  \\\n",
       "4096  Maquillaje         Ojos  Máscara de pestañas Panoramic Deliplus negro   \n",
       "\n",
       "     unidades  price_eu  price_disc_eu     marca cantidad formato  \n",
       "4096    1 ud.       4.0            NaN  Deliplus      NaN     NaN  "
      ]
     },
     "execution_count": 416,
     "metadata": {},
     "output_type": "execute_result"
    }
   ],
   "source": [
    "#vamos a ver a el resto que le pasa: \n",
    "f_vacio[f_vacio['unidades'].str.contains('x') == False].sample() #491 filas cumplen esta condicion\n",
    "\n",
    "# Vemos que en muchas simplemente no se especifica, o pone 1ud que no aporta nada \n",
    "# elemplo --> inidces = 4974 / 714 -- 160 g / 1 ud. (100 g)"
   ]
  },
  {
   "cell_type": "code",
   "execution_count": 417,
   "id": "f6b61f6e",
   "metadata": {},
   "outputs": [],
   "source": [
    "# los que NO tiene el formato de la x\n",
    "sin_x = f_vacio[f_vacio['unidades'].str.contains('x') == False]"
   ]
  },
  {
   "cell_type": "code",
   "execution_count": 418,
   "id": "f1c67725",
   "metadata": {},
   "outputs": [
    {
     "data": {
      "text/html": [
       "<div>\n",
       "<style scoped>\n",
       "    .dataframe tbody tr th:only-of-type {\n",
       "        vertical-align: middle;\n",
       "    }\n",
       "\n",
       "    .dataframe tbody tr th {\n",
       "        vertical-align: top;\n",
       "    }\n",
       "\n",
       "    .dataframe thead th {\n",
       "        text-align: right;\n",
       "    }\n",
       "</style>\n",
       "<table border=\"1\" class=\"dataframe\">\n",
       "  <thead>\n",
       "    <tr style=\"text-align: right;\">\n",
       "      <th></th>\n",
       "      <th>categoria</th>\n",
       "      <th>subcategoria</th>\n",
       "      <th>descripcion</th>\n",
       "      <th>unidades</th>\n",
       "      <th>price_eu</th>\n",
       "      <th>price_disc_eu</th>\n",
       "      <th>marca</th>\n",
       "      <th>cantidad</th>\n",
       "      <th>formato</th>\n",
       "    </tr>\n",
       "  </thead>\n",
       "  <tbody>\n",
       "    <tr>\n",
       "      <th>845</th>\n",
       "      <td>Bebé</td>\n",
       "      <td>Biberón y chupete</td>\n",
       "      <td>Biberón 150 ml tetina silicona flujo lento +0 ...</td>\n",
       "      <td>1 ud.</td>\n",
       "      <td>3.00</td>\n",
       "      <td>NaN</td>\n",
       "      <td>Deliplus</td>\n",
       "      <td>NaN</td>\n",
       "      <td>NaN</td>\n",
       "    </tr>\n",
       "    <tr>\n",
       "      <th>846</th>\n",
       "      <td>Bebé</td>\n",
       "      <td>Biberón y chupete</td>\n",
       "      <td>Biberón 360 ml tetina silicona tres posiciones...</td>\n",
       "      <td>1 ud.</td>\n",
       "      <td>3.50</td>\n",
       "      <td>NaN</td>\n",
       "      <td>Deliplus</td>\n",
       "      <td>NaN</td>\n",
       "      <td>NaN</td>\n",
       "    </tr>\n",
       "    <tr>\n",
       "      <th>1713</th>\n",
       "      <td>Charcutería y quesos</td>\n",
       "      <td>Embutido curado</td>\n",
       "      <td>Fuet espetec extra Hacendado</td>\n",
       "      <td>1 ud.</td>\n",
       "      <td>2.57</td>\n",
       "      <td>NaN</td>\n",
       "      <td>Hacendado</td>\n",
       "      <td>NaN</td>\n",
       "      <td>NaN</td>\n",
       "    </tr>\n",
       "    <tr>\n",
       "      <th>1724</th>\n",
       "      <td>Charcutería y quesos</td>\n",
       "      <td>Embutido curado</td>\n",
       "      <td>Longaniza clásica extra Hacendado</td>\n",
       "      <td>1 ud.</td>\n",
       "      <td>2.80</td>\n",
       "      <td>NaN</td>\n",
       "      <td>Hacendado</td>\n",
       "      <td>NaN</td>\n",
       "      <td>NaN</td>\n",
       "    </tr>\n",
       "    <tr>\n",
       "      <th>1725</th>\n",
       "      <td>Charcutería y quesos</td>\n",
       "      <td>Embutido curado</td>\n",
       "      <td>Longaniza de payés extra Hacendado</td>\n",
       "      <td>1 ud.</td>\n",
       "      <td>4.98</td>\n",
       "      <td>NaN</td>\n",
       "      <td>Hacendado</td>\n",
       "      <td>NaN</td>\n",
       "      <td>NaN</td>\n",
       "    </tr>\n",
       "    <tr>\n",
       "      <th>...</th>\n",
       "      <td>...</td>\n",
       "      <td>...</td>\n",
       "      <td>...</td>\n",
       "      <td>...</td>\n",
       "      <td>...</td>\n",
       "      <td>...</td>\n",
       "      <td>...</td>\n",
       "      <td>...</td>\n",
       "      <td>...</td>\n",
       "    </tr>\n",
       "    <tr>\n",
       "      <th>4106</th>\n",
       "      <td>Maquillaje</td>\n",
       "      <td>Ojos</td>\n",
       "      <td>Sombra de ojos Long Lasting Deliplus 08</td>\n",
       "      <td>1 ud.</td>\n",
       "      <td>4.25</td>\n",
       "      <td>NaN</td>\n",
       "      <td>Deliplus</td>\n",
       "      <td>NaN</td>\n",
       "      <td>NaN</td>\n",
       "    </tr>\n",
       "    <tr>\n",
       "      <th>4107</th>\n",
       "      <td>Maquillaje</td>\n",
       "      <td>Ojos</td>\n",
       "      <td>Sombra de ojos Long Lasting Deliplus 12</td>\n",
       "      <td>1 ud.</td>\n",
       "      <td>3.00</td>\n",
       "      <td>NaN</td>\n",
       "      <td>Deliplus</td>\n",
       "      <td>NaN</td>\n",
       "      <td>NaN</td>\n",
       "    </tr>\n",
       "    <tr>\n",
       "      <th>4109</th>\n",
       "      <td>Maquillaje</td>\n",
       "      <td>Pinceles y brochas</td>\n",
       "      <td>Sacapuntas doble Deliplus lápiz fino y grueso</td>\n",
       "      <td>1 ud.</td>\n",
       "      <td>2.50</td>\n",
       "      <td>NaN</td>\n",
       "      <td>Deliplus</td>\n",
       "      <td>NaN</td>\n",
       "      <td>NaN</td>\n",
       "    </tr>\n",
       "    <tr>\n",
       "      <th>4110</th>\n",
       "      <td>Maquillaje</td>\n",
       "      <td>Pinceles y brochas</td>\n",
       "      <td>Esponja maquillaje Deliplus</td>\n",
       "      <td>1 ud.</td>\n",
       "      <td>3.00</td>\n",
       "      <td>NaN</td>\n",
       "      <td>Deliplus</td>\n",
       "      <td>NaN</td>\n",
       "      <td>NaN</td>\n",
       "    </tr>\n",
       "    <tr>\n",
       "      <th>4659</th>\n",
       "      <td>Panadería y pastelería</td>\n",
       "      <td>Velas y decoración</td>\n",
       "      <td>Kit decoración Hacendado</td>\n",
       "      <td>1 ud.</td>\n",
       "      <td>1.90</td>\n",
       "      <td>NaN</td>\n",
       "      <td>Hacendado</td>\n",
       "      <td>NaN</td>\n",
       "      <td>NaN</td>\n",
       "    </tr>\n",
       "  </tbody>\n",
       "</table>\n",
       "<p>250 rows × 9 columns</p>\n",
       "</div>"
      ],
      "text/plain": [
       "                   categoria        subcategoria  \\\n",
       "845                     Bebé   Biberón y chupete   \n",
       "846                     Bebé   Biberón y chupete   \n",
       "1713    Charcutería y quesos     Embutido curado   \n",
       "1724    Charcutería y quesos     Embutido curado   \n",
       "1725    Charcutería y quesos     Embutido curado   \n",
       "...                      ...                 ...   \n",
       "4106              Maquillaje                Ojos   \n",
       "4107              Maquillaje                Ojos   \n",
       "4109              Maquillaje  Pinceles y brochas   \n",
       "4110              Maquillaje  Pinceles y brochas   \n",
       "4659  Panadería y pastelería  Velas y decoración   \n",
       "\n",
       "                                            descripcion unidades  price_eu  \\\n",
       "845   Biberón 150 ml tetina silicona flujo lento +0 ...    1 ud.      3.00   \n",
       "846   Biberón 360 ml tetina silicona tres posiciones...    1 ud.      3.50   \n",
       "1713                       Fuet espetec extra Hacendado    1 ud.      2.57   \n",
       "1724                  Longaniza clásica extra Hacendado    1 ud.      2.80   \n",
       "1725                 Longaniza de payés extra Hacendado    1 ud.      4.98   \n",
       "...                                                 ...      ...       ...   \n",
       "4106            Sombra de ojos Long Lasting Deliplus 08    1 ud.      4.25   \n",
       "4107            Sombra de ojos Long Lasting Deliplus 12    1 ud.      3.00   \n",
       "4109      Sacapuntas doble Deliplus lápiz fino y grueso    1 ud.      2.50   \n",
       "4110                        Esponja maquillaje Deliplus    1 ud.      3.00   \n",
       "4659                           Kit decoración Hacendado    1 ud.      1.90   \n",
       "\n",
       "      price_disc_eu      marca cantidad formato  \n",
       "845             NaN   Deliplus      NaN     NaN  \n",
       "846             NaN   Deliplus      NaN     NaN  \n",
       "1713            NaN  Hacendado      NaN     NaN  \n",
       "1724            NaN  Hacendado      NaN     NaN  \n",
       "1725            NaN  Hacendado      NaN     NaN  \n",
       "...             ...        ...      ...     ...  \n",
       "4106            NaN   Deliplus      NaN     NaN  \n",
       "4107            NaN   Deliplus      NaN     NaN  \n",
       "4109            NaN   Deliplus      NaN     NaN  \n",
       "4110            NaN   Deliplus      NaN     NaN  \n",
       "4659            NaN  Hacendado      NaN     NaN  \n",
       "\n",
       "[250 rows x 9 columns]"
      ]
     },
     "execution_count": 418,
     "metadata": {},
     "output_type": "execute_result"
    }
   ],
   "source": [
    "sin_x[sin_x[\"unidades\"] == \"1 ud.\"] #250 simplemente pone \"1 ud.\""
   ]
  },
  {
   "cell_type": "code",
   "execution_count": 419,
   "id": "27a588b4",
   "metadata": {},
   "outputs": [
    {
     "data": {
      "text/html": [
       "<div>\n",
       "<style scoped>\n",
       "    .dataframe tbody tr th:only-of-type {\n",
       "        vertical-align: middle;\n",
       "    }\n",
       "\n",
       "    .dataframe tbody tr th {\n",
       "        vertical-align: top;\n",
       "    }\n",
       "\n",
       "    .dataframe thead th {\n",
       "        text-align: right;\n",
       "    }\n",
       "</style>\n",
       "<table border=\"1\" class=\"dataframe\">\n",
       "  <thead>\n",
       "    <tr style=\"text-align: right;\">\n",
       "      <th></th>\n",
       "      <th>categoria</th>\n",
       "      <th>subcategoria</th>\n",
       "      <th>descripcion</th>\n",
       "      <th>unidades</th>\n",
       "      <th>price_eu</th>\n",
       "      <th>price_disc_eu</th>\n",
       "      <th>marca</th>\n",
       "      <th>cantidad</th>\n",
       "      <th>formato</th>\n",
       "    </tr>\n",
       "  </thead>\n",
       "  <tbody>\n",
       "    <tr>\n",
       "      <th>4685</th>\n",
       "      <td>Pizzas y platos preparados</td>\n",
       "      <td>Pizzas</td>\n",
       "      <td>Pizza barbacoa Hacendado</td>\n",
       "      <td>415 g</td>\n",
       "      <td>2.5</td>\n",
       "      <td>NaN</td>\n",
       "      <td>Hacendado</td>\n",
       "      <td>415 g</td>\n",
       "      <td>NaN</td>\n",
       "    </tr>\n",
       "  </tbody>\n",
       "</table>\n",
       "</div>"
      ],
      "text/plain": [
       "                       categoria subcategoria               descripcion  \\\n",
       "4685  Pizzas y platos preparados       Pizzas  Pizza barbacoa Hacendado   \n",
       "\n",
       "     unidades  price_eu  price_disc_eu      marca cantidad formato  \n",
       "4685    415 g       2.5            NaN  Hacendado    415 g     NaN  "
      ]
     },
     "execution_count": 419,
     "metadata": {},
     "output_type": "execute_result"
    }
   ],
   "source": [
    "#quitamos ruido -- lo que quiero es ver si en unidades pone lo mismo que en cantidad. \n",
    "# Quitamos el texto \"1ud.\"\n",
    "sin_x[\"unidades\"].str.replace(\"1 ud.\", \"\")\n",
    "#quitamos los parentesis \n",
    "sin_x[\"unidades\"].str.replace(\"(\", \"\").str.replace(\")\", \"\")\n",
    "\n",
    "# Ahora que lo hemos tranformado, vemos cuantos son iguales \n",
    "sin_x[sin_x['unidades'] == sin_x['cantidad']].sample() # 113 son iguales \n"
   ]
  },
  {
   "cell_type": "code",
   "execution_count": 420,
   "id": "1e805117",
   "metadata": {},
   "outputs": [
    {
     "data": {
      "text/plain": [
       "'Hay 113 que si le quitamos \"()\" y \"1 ud.\", son iguales en unidades \\ny cantidad es decir no pone nada del formato o podemos decir que es 1ud '"
      ]
     },
     "execution_count": 420,
     "metadata": {},
     "output_type": "execute_result"
    }
   ],
   "source": [
    "\"\"\"Hay 113 que si le quitamos \"()\" y \"1 ud.\", son iguales en unidades \n",
    "y cantidad es decir no pone nada del formato o podemos decir que es 1ud \"\"\" \n",
    "\n",
    "# Quiza podemos incluir en el patron reggex que estrae las unidades lo que 1ud. "
   ]
  },
  {
   "cell_type": "code",
   "execution_count": null,
   "id": "4914414a",
   "metadata": {},
   "outputs": [],
   "source": []
  },
  {
   "cell_type": "code",
   "execution_count": null,
   "id": "1774f12e",
   "metadata": {},
   "outputs": [],
   "source": []
  },
  {
   "cell_type": "code",
   "execution_count": null,
   "id": "3da55af1",
   "metadata": {},
   "outputs": [],
   "source": []
  },
  {
   "cell_type": "code",
   "execution_count": null,
   "id": "67f5d522",
   "metadata": {},
   "outputs": [],
   "source": []
  },
  {
   "cell_type": "code",
   "execution_count": null,
   "id": "b2e97837",
   "metadata": {},
   "outputs": [],
   "source": []
  }
 ],
 "metadata": {
  "kernelspec": {
   "display_name": "ironhack",
   "language": "python",
   "name": "ironhack"
  },
  "language_info": {
   "codemirror_mode": {
    "name": "ipython",
    "version": 3
   },
   "file_extension": ".py",
   "mimetype": "text/x-python",
   "name": "python",
   "nbconvert_exporter": "python",
   "pygments_lexer": "ipython3",
   "version": "3.11.5"
  }
 },
 "nbformat": 4,
 "nbformat_minor": 5
}
