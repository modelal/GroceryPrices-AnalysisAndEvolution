{
 "cells": [
  {
   "cell_type": "code",
   "execution_count": 2,
   "id": "f9432dc5",
   "metadata": {},
   "outputs": [],
   "source": [
    "import pandas as pd\n",
    "import numpy as np\n",
    "import csv\n",
    "import re\n",
    "\n",
    "#Deberia revisar lo de Counter que lo uso bastante y no conoxco muy bien la libreria\n",
    "from collections import Counter\n"
   ]
  },
  {
   "cell_type": "code",
   "execution_count": 357,
   "id": "68095b0f",
   "metadata": {},
   "outputs": [],
   "source": [
    "def texto_csv(df, column):\n",
    "    \n",
    "    #name of the document: as column_name_column.csv\n",
    "    path = f'column_{column}.csv'\n",
    "    \n",
    "    \"\"\" Hay que quitar los vacios primero - lo he sacado de la funcion\n",
    "    por no tranformar la tabla aqui \"\"\"\n",
    "   \n",
    "    #2. We write every colum as a new line in the .csv\n",
    "    non_empty_values = [str(i) for i in df[column]]\n",
    "    \n",
    "    with open(path, mode='w', newline='') as file:\n",
    "        writer = csv.writer(file)\n",
    "        writer.writerows([[value] for value in non_empty_values]) \n",
    "        \n",
    "    print(f'Column successfully exported to {path}')"
   ]
  },
  {
   "cell_type": "code",
   "execution_count": 44,
   "id": "a7b66390",
   "metadata": {},
   "outputs": [],
   "source": [
    "df = pd.read_csv(\"../data/srape-mercadona_2024-03-08.csv\")"
   ]
  },
  {
   "cell_type": "markdown",
   "id": "4e984d39",
   "metadata": {},
   "source": [
    "# 1. EXPLORE"
   ]
  },
  {
   "cell_type": "code",
   "execution_count": 81,
   "id": "01f92ccb",
   "metadata": {},
   "outputs": [
    {
     "data": {
      "text/html": [
       "<div>\n",
       "<style scoped>\n",
       "    .dataframe tbody tr th:only-of-type {\n",
       "        vertical-align: middle;\n",
       "    }\n",
       "\n",
       "    .dataframe tbody tr th {\n",
       "        vertical-align: top;\n",
       "    }\n",
       "\n",
       "    .dataframe thead th {\n",
       "        text-align: right;\n",
       "    }\n",
       "</style>\n",
       "<table border=\"1\" class=\"dataframe\">\n",
       "  <thead>\n",
       "    <tr style=\"text-align: right;\">\n",
       "      <th></th>\n",
       "      <th>categoria</th>\n",
       "      <th>subcategoria</th>\n",
       "      <th>descripcion</th>\n",
       "      <th>unidades</th>\n",
       "      <th>precio</th>\n",
       "    </tr>\n",
       "  </thead>\n",
       "  <tbody>\n",
       "    <tr>\n",
       "      <th>1039</th>\n",
       "      <td>Bodega</td>\n",
       "      <td>Licores</td>\n",
       "      <td>Pacharán Oibar</td>\n",
       "      <td>Botella 1 L</td>\n",
       "      <td>6,90 € /ud.</td>\n",
       "    </tr>\n",
       "  </tbody>\n",
       "</table>\n",
       "</div>"
      ],
      "text/plain": [
       "     categoria subcategoria     descripcion     unidades       precio\n",
       "1039    Bodega      Licores  Pacharán Oibar  Botella 1 L  6,90 € /ud."
      ]
     },
     "execution_count": 81,
     "metadata": {},
     "output_type": "execute_result"
    }
   ],
   "source": [
    "df.sample()\n",
    "\n",
    "#categoria, subcategoria y descripcion - las dejamos como están. "
   ]
  },
  {
   "cell_type": "code",
   "execution_count": 46,
   "id": "ffb5b0dc",
   "metadata": {},
   "outputs": [
    {
     "name": "stdout",
     "output_type": "stream",
     "text": [
      "There is 19 duplicate rows\n"
     ]
    }
   ],
   "source": [
    "def dupli_rows(df):\n",
    "    \"How many duplicate rows there is\"\n",
    "    duplicates = df.shape[0] - df.drop_duplicates().shape[0]\n",
    "    print(f'There is {duplicates} duplicate rows')\n",
    "    return \n",
    "\n",
    "dupli_rows(df)"
   ]
  },
  {
   "cell_type": "code",
   "execution_count": 47,
   "id": "e8b72725",
   "metadata": {},
   "outputs": [],
   "source": [
    "df.drop_duplicates(inplace=True)"
   ]
  },
  {
   "cell_type": "code",
   "execution_count": 48,
   "id": "4a9a4fca",
   "metadata": {},
   "outputs": [
    {
     "name": "stdout",
     "output_type": "stream",
     "text": [
      "<class 'pandas.core.frame.DataFrame'>\n",
      "Index: 5016 entries, 0 to 5034\n",
      "Data columns (total 5 columns):\n",
      " #   Column        Non-Null Count  Dtype \n",
      "---  ------        --------------  ----- \n",
      " 0   categoria     5016 non-null   object\n",
      " 1   subcategoria  5016 non-null   object\n",
      " 2   descripcion   5016 non-null   object\n",
      " 3   unidades      5016 non-null   object\n",
      " 4   precio        5016 non-null   object\n",
      "dtypes: object(5)\n",
      "memory usage: 235.1+ KB\n"
     ]
    }
   ],
   "source": [
    "# All collumns have values. \n",
    "df.info()"
   ]
  },
  {
   "cell_type": "markdown",
   "id": "f2bfa909",
   "metadata": {},
   "source": [
    "# 2. TRANFORM"
   ]
  },
  {
   "cell_type": "markdown",
   "id": "98fdf709",
   "metadata": {},
   "source": [
    "##  - PRECIO\n",
    "\n",
    "- No hay valores nulos\n",
    "\n",
    "- El precio puede contener o 2 informaciones o 3:\n",
    "    - El precio y a que hace referencia ese precio (pack)\n",
    "    - El precio, precio si esta descontado y a que hace referencia ese precio(pack)\n",
    "\n",
    "- Creamos una funcion que aplicamos a todos los elementos de la columna precio para formaterla. Aqui extraeremos los tres valores comentados antes. Cuando no haya descuento --> np.nan\n",
    "    - price_info --> string\n",
    "    - price_eu and price_disc_eu --> float\n",
    "    \n",
    "  **Note:** Interesante aqui el tema de apply(function) y luego el lambda. \n",
    "  \n",
    "- Eliminamos la columna original\n",
    "\n",
    "**NOTE:** En price_info, los valores son bastante consistentes siendo la mayoria de valoes (ud/pack). No obstante hay 14 valores que son de tipo ( xxx g) ej 500 g. Veremos a ver que hacemos. si los descartamos o como los tranformamos. No son una parte muy relevante del conjunto de datos ( 14 de 5035) pero tener en cuenta que hay que revisarlo: \n"
   ]
  },
  {
   "cell_type": "markdown",
   "id": "22379d0b",
   "metadata": {},
   "source": [
    "**Tranform Price column**"
   ]
  },
  {
   "cell_type": "code",
   "execution_count": 261,
   "id": "731198df",
   "metadata": {},
   "outputs": [],
   "source": [
    "def format_price(x):\n",
    "    \n",
    "    \"\"\"\n",
    "    Decompose and fromate values for the colum price\n",
    "    \n",
    "    input: string \n",
    "    output: lsit, values of each key already casted:\n",
    "        info: pos[0]: str \n",
    "        valores: pos[1]: float\n",
    "        descuento: pos[2]: float/np.nan(float) (where there is a discount or not)\n",
    "    \n",
    "    \"\"\"\n",
    "    \n",
    "    # 1. Replace the € simbol and splits by the \"/\" ch -- generates a list of 2 elements (nums - text)\n",
    "    x = x.replace(\"€\", \"\").split(\"/\")\n",
    "    \n",
    "    # 2. Split by the \"/\" to extract the info, keep last part(always at the end)\n",
    "    info = x[-1].replace(\".\", \"\") #(str)\n",
    "    \n",
    "    # 3. Splits by the \"/\" to extract the num values:\n",
    "    num_values = x[0:-1][0].replace(\",\" , \".\").strip().split(\" \")\n",
    "    \n",
    "    # 4. Extracts and formats price value:\n",
    "    price = float(num_values[0])\n",
    "    \n",
    "    # 5. Extracts and formats discount_price if not dicount np.nan\n",
    "    discount = [np.nan if len(num_values) == 1 else float(num_values[1])][0]\n",
    "    \n",
    "    return [info, price, discount]"
   ]
  },
  {
   "cell_type": "code",
   "execution_count": 277,
   "id": "fb3892c1",
   "metadata": {},
   "outputs": [],
   "source": [
    "# Apply the function and get the element for each colum: \n",
    "df[\"price_info\"] = df[\"precio\"].apply(format_price).apply(lambda x:x[0])\n",
    "df[\"price_eu\"] = df[\"precio\"].apply(format_price).apply(lambda x:x[1])\n",
    "df[\"price_disc_eu\"] = df[\"precio\"].apply(format_price).apply(lambda x:x[2])\n",
    "\n",
    "#Drop old column:\n",
    "df.drop(\"precio\", axis=1, inplace=True)\n",
    "\n",
    "df.sample()"
   ]
  },
  {
   "cell_type": "markdown",
   "id": "ae6af185",
   "metadata": {},
   "source": [
    "## - MARCA"
   ]
  },
  {
   "cell_type": "markdown",
   "id": "d66b06d3",
   "metadata": {},
   "source": [
    "Hay tres marcas principales que se van a repetir en casi la mitad de articulos, que son los nombres\n",
    "de las marcas propias de mercadona: \n"
   ]
  },
  {
   "cell_type": "code",
   "execution_count": 153,
   "id": "d7e557e9",
   "metadata": {},
   "outputs": [],
   "source": [
    "\"\"\"Funcion que te devuelve la marca si el texto la contiene\"\"\"\n",
    "def marca(x):\n",
    "    marcas = [\"Hacendado\", \"Deliplus\", \"Bosque Verde\", \"Coca-Cola\"]\n",
    "    \n",
    "    \"\"\"otras_marcas = [\"Hacendado\", \"Deliplus\", \"Bosque Verde\", \"Coca-Cola\",\"Compy\", \"L'Oréal\", \"Delikuit\", \n",
    "                \"Maybelline\", \"Gillette\", \"Nivea\", \"Puleva\", \"Incarlopsa\", \"Tampax\", \"Gallina Blanca\", \n",
    "                \"El Pozo\", \"Hero baby\", \"Finish\", \"Garnier\", \"Rimmel London\", \"Pantene\", \"Evax\", \n",
    "                \"Dolce Gusto\", \"Entrepinares\", \"Mahou\"] \"\"\"\n",
    "    \n",
    "    \n",
    "    return [i for i in marcas if i in x]"
   ]
  },
  {
   "cell_type": "code",
   "execution_count": 154,
   "id": "0fb7eaf0",
   "metadata": {},
   "outputs": [],
   "source": [
    "#Aplicamos la funcion, como realmente devuelve una lista, si esta vacia (no match) --> np.nan\n",
    "df[\"marca\"] = df[\"descripcion\"].apply(marca).apply(lambda x: x[0] if x != [] else np.nan)"
   ]
  },
  {
   "cell_type": "code",
   "execution_count": 155,
   "id": "128a52f7",
   "metadata": {},
   "outputs": [
    {
     "data": {
      "text/plain": [
       "1984"
      ]
     },
     "execution_count": 155,
     "metadata": {},
     "output_type": "execute_result"
    }
   ],
   "source": [
    "#Quiero ver cuantas filas no hemos identificado la marca \n",
    "df['marca'].isna().sum()"
   ]
  },
  {
   "cell_type": "markdown",
   "id": "8a51c53e",
   "metadata": {},
   "source": [
    "Ver si queremos sacar el resto de marcas o no. Tener en cuenta que todo lo de la carne y tal creo que no \n",
    "pone que es acendado pero si que lo es, ver como vamos a hacer eso por si queremos comparar marcas blancas solo\n",
    "\n",
    "Para intentar afinar un poco mas y sacar mas marcas, vamos a intentar lo siguiente: \n",
    "\n",
    "Me he dado cuenta de que las marcas estan siempre escritas La primera en  mayuscula.\n",
    "La marca y la primera palabra de la descripcion, que suele hacer referencia al tipo de articulo\n",
    "Nunca ponen la Marca lo primero, por lo que si esta en mayudculas sera o el primer elemento \n",
    "de la descripcion(hace referencia al producto) o la marca. "
   ]
  },
  {
   "cell_type": "code",
   "execution_count": 117,
   "id": "352449dc",
   "metadata": {},
   "outputs": [],
   "source": [
    "#Dividimos las descripciones por palbras\n",
    "lista = df[\"descripcion\"].unique()\n",
    "words_list = [ i.strip().split(\" \") for i in lista]"
   ]
  },
  {
   "cell_type": "code",
   "execution_count": 124,
   "id": "eb469c84",
   "metadata": {},
   "outputs": [],
   "source": [
    "# eliminamos la primera palabra de cada descirpcion( En mayusculas pero no es una marca)\n",
    "palabras = []\n",
    "\n",
    "for i in words_list:\n",
    "    a = i[1:]\n",
    "    for w in a:\n",
    "        palabras.append(w)\n",
    "        \n",
    "#Nos queda una lista de palabras donde la mayoria de palabras estaran en minusculas, \n",
    "#sin embargo sabemos que las marcas tienen la primera letra en mayuscula: "
   ]
  },
  {
   "cell_type": "code",
   "execution_count": 129,
   "id": "983c63e3",
   "metadata": {},
   "outputs": [],
   "source": [
    "pattern = r\"(\\b[A-Z][a-zA-Z]*\\b)\" #Primera letra en mayucula\n",
    "#Quitamos TODAS las palabras que no cumplan con el patron\n",
    "clave = [word for word in palabras if re.match(pattern, word)]"
   ]
  },
  {
   "cell_type": "code",
   "execution_count": 150,
   "id": "fb60ac5b",
   "metadata": {},
   "outputs": [
    {
     "data": {
      "text/plain": [
       "'Aqui podemos ver toas las palabras que empiezan por mayusculas y como se repiten, ya veremos\\ncuanto queremo pulir esto'"
      ]
     },
     "execution_count": 150,
     "metadata": {},
     "output_type": "execute_result"
    }
   ],
   "source": [
    "\"\"\"Aqui podemos ver toas las palabras que empiezan por mayusculas y como se repiten, ya veremos\n",
    "cuanto queremo pulir esto\"\"\"\n",
    "\n",
    "#Counter(clave)"
   ]
  },
  {
   "cell_type": "code",
   "execution_count": 146,
   "id": "2359f43c",
   "metadata": {},
   "outputs": [],
   "source": [
    "# Esta es la lista de otras marcas que podemos incluir en la funcion: \n",
    "\n",
    "otras_marcas = [\"Hacendado\", \"Deliplus\", \"Bosque Verde\", \"Coca-Cola\",\"Compy\", \"L'Oréal\", \"Delikuit\", \n",
    "                \"Maybelline\", \"Gillette\", \"Nivea\", \"Puleva\", \"Incarlopsa\", \"Tampax\", \"Gallina Blanca\", \n",
    "                \"El Pozo\", \"Hero baby\", \"Finish\", \"Garnier\", \"Rimmel London\", \"Pantene\", \"Evax\", \n",
    "                \"Dolce Gusto\", \"Entrepinares\"]"
   ]
  },
  {
   "cell_type": "markdown",
   "id": "444c933c",
   "metadata": {},
   "source": [
    "### UNIDADES:"
   ]
  },
  {
   "cell_type": "code",
   "execution_count": 156,
   "id": "5e7e4f5c",
   "metadata": {},
   "outputs": [],
   "source": [
    "df[\"unidades\"] = df[\"unidades\"].str.replace(\"aprox.\", \"\")"
   ]
  },
  {
   "cell_type": "code",
   "execution_count": 163,
   "id": "bd072f87",
   "metadata": {},
   "outputs": [
    {
     "data": {
      "text/html": [
       "<div>\n",
       "<style scoped>\n",
       "    .dataframe tbody tr th:only-of-type {\n",
       "        vertical-align: middle;\n",
       "    }\n",
       "\n",
       "    .dataframe tbody tr th {\n",
       "        vertical-align: top;\n",
       "    }\n",
       "\n",
       "    .dataframe thead th {\n",
       "        text-align: right;\n",
       "    }\n",
       "</style>\n",
       "<table border=\"1\" class=\"dataframe\">\n",
       "  <thead>\n",
       "    <tr style=\"text-align: right;\">\n",
       "      <th></th>\n",
       "      <th>categoria</th>\n",
       "      <th>subcategoria</th>\n",
       "      <th>descripcion</th>\n",
       "      <th>unidades</th>\n",
       "      <th>precio</th>\n",
       "      <th>marca</th>\n",
       "      <th>cantidad</th>\n",
       "    </tr>\n",
       "  </thead>\n",
       "  <tbody>\n",
       "    <tr>\n",
       "      <th>622</th>\n",
       "      <td>Azúcar, caramelos y chocolate</td>\n",
       "      <td>Azúcar y edulcorante</td>\n",
       "      <td>Edulcorante en sobres sacarina Hacendado</td>\n",
       "      <td>Caja 60 sobres (60 g)</td>\n",
       "      <td>1,15 € /ud.</td>\n",
       "      <td>Hacendado</td>\n",
       "      <td>60 g</td>\n",
       "    </tr>\n",
       "  </tbody>\n",
       "</table>\n",
       "</div>"
      ],
      "text/plain": [
       "                         categoria          subcategoria  \\\n",
       "622  Azúcar, caramelos y chocolate  Azúcar y edulcorante   \n",
       "\n",
       "                                  descripcion               unidades  \\\n",
       "622  Edulcorante en sobres sacarina Hacendado  Caja 60 sobres (60 g)   \n",
       "\n",
       "          precio      marca cantidad  \n",
       "622  1,15 € /ud.  Hacendado     60 g  "
      ]
     },
     "execution_count": 163,
     "metadata": {},
     "output_type": "execute_result"
    }
   ],
   "source": [
    "df.sample()"
   ]
  },
  {
   "cell_type": "code",
   "execution_count": 159,
   "id": "395eb4de",
   "metadata": {},
   "outputs": [],
   "source": [
    "pattern = r'((?:\\d+,)?\\d+\\s*(?:g|[Kk]g|L|ml))'"
   ]
  },
  {
   "cell_type": "code",
   "execution_count": 160,
   "id": "674a6bb1",
   "metadata": {},
   "outputs": [],
   "source": [
    "df[\"cantidad\"] =  df[\"unidades\"].str.extract(pattern)"
   ]
  },
  {
   "cell_type": "code",
   "execution_count": 164,
   "id": "ad4e42f1",
   "metadata": {},
   "outputs": [
    {
     "data": {
      "text/html": [
       "<div>\n",
       "<style scoped>\n",
       "    .dataframe tbody tr th:only-of-type {\n",
       "        vertical-align: middle;\n",
       "    }\n",
       "\n",
       "    .dataframe tbody tr th {\n",
       "        vertical-align: top;\n",
       "    }\n",
       "\n",
       "    .dataframe thead th {\n",
       "        text-align: right;\n",
       "    }\n",
       "</style>\n",
       "<table border=\"1\" class=\"dataframe\">\n",
       "  <thead>\n",
       "    <tr style=\"text-align: right;\">\n",
       "      <th></th>\n",
       "      <th>categoria</th>\n",
       "      <th>subcategoria</th>\n",
       "      <th>descripcion</th>\n",
       "      <th>unidades</th>\n",
       "      <th>precio</th>\n",
       "      <th>marca</th>\n",
       "      <th>cantidad</th>\n",
       "    </tr>\n",
       "  </thead>\n",
       "  <tbody>\n",
       "    <tr>\n",
       "      <th>951</th>\n",
       "      <td>Bodega</td>\n",
       "      <td>Cerveza</td>\n",
       "      <td>Cerveza especial mini Mahou</td>\n",
       "      <td>Botellín 200 ml</td>\n",
       "      <td>0,59 € /ud.</td>\n",
       "      <td>NaN</td>\n",
       "      <td>200 ml</td>\n",
       "    </tr>\n",
       "  </tbody>\n",
       "</table>\n",
       "</div>"
      ],
      "text/plain": [
       "    categoria subcategoria                  descripcion         unidades  \\\n",
       "951    Bodega      Cerveza  Cerveza especial mini Mahou  Botellín 200 ml   \n",
       "\n",
       "          precio marca cantidad  \n",
       "951  0,59 € /ud.   NaN   200 ml  "
      ]
     },
     "execution_count": 164,
     "metadata": {},
     "output_type": "execute_result"
    }
   ],
   "source": [
    "df.sample()"
   ]
  },
  {
   "cell_type": "code",
   "execution_count": 288,
   "id": "a9a7e78d",
   "metadata": {},
   "outputs": [
    {
     "data": {
      "text/plain": [
       "1396"
      ]
     },
     "execution_count": 288,
     "metadata": {},
     "output_type": "execute_result"
    }
   ],
   "source": [
    "pattern = r\"(\\b[A-Z][a-zA-Z]*\\b)\" #Primera letra en mayucula"
   ]
  },
  {
   "cell_type": "code",
   "execution_count": 339,
   "id": "c8e5cc35",
   "metadata": {},
   "outputs": [],
   "source": []
  },
  {
   "cell_type": "code",
   "execution_count": 358,
   "id": "4433b3bb",
   "metadata": {},
   "outputs": [
    {
     "name": "stdout",
     "output_type": "stream",
     "text": [
      "Column successfully exported to column_unidades.csv\n"
     ]
    }
   ],
   "source": [
    "texto_csv(f_df, \"unidades\")"
   ]
  },
  {
   "cell_type": "code",
   "execution_count": null,
   "id": "8f44be5f",
   "metadata": {},
   "outputs": [],
   "source": []
  }
 ],
 "metadata": {
  "kernelspec": {
   "display_name": "ironhack",
   "language": "python",
   "name": "ironhack"
  },
  "language_info": {
   "codemirror_mode": {
    "name": "ipython",
    "version": 3
   },
   "file_extension": ".py",
   "mimetype": "text/x-python",
   "name": "python",
   "nbconvert_exporter": "python",
   "pygments_lexer": "ipython3",
   "version": "3.11.5"
  }
 },
 "nbformat": 4,
 "nbformat_minor": 5
}
