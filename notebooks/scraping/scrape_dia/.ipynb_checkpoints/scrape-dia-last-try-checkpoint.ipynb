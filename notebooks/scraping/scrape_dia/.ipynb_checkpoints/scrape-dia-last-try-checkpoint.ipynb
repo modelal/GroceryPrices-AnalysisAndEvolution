{
 "cells": [
  {
   "cell_type": "code",
   "execution_count": 65,
   "id": "7d30cd0d",
   "metadata": {},
   "outputs": [],
   "source": [
    "import os\n",
    "import time\n",
    "import pandas as pd\n",
    "\n",
    "import math\n",
    "\n",
    "# pip install selenium\n",
    "from selenium import webdriver\n",
    "from selenium.webdriver.common.keys import Keys\n",
    "from selenium.webdriver.common.by import By\n",
    "from selenium.webdriver.support.ui import WebDriverWait\n",
    "from selenium.webdriver.support import expected_conditions as EC\n",
    "from selenium import webdriver\n",
    "from selenium.webdriver.support.ui import Select\n",
    "from selenium import webdriver\n",
    "from selenium.webdriver.common.action_chains import ActionChains\n",
    "from bs4 import BeautifulSoup # pip install beautifulsoup4\n",
    "\n"
   ]
  },
  {
   "cell_type": "code",
   "execution_count": 119,
   "id": "64bd4920",
   "metadata": {},
   "outputs": [],
   "source": [
    "def export_to_csv(data_frame, file_name):\n",
    "    \"\"\"\n",
    "    Export a DataFrame to a CSV file.\n",
    "\n",
    "    Parameters:\n",
    "        - data_frame: pandas DataFrame\n",
    "        - file_name: str, name of the CSV file (without the extension)\n",
    "    \"\"\"\n",
    "    #print date stamp - datetime.datetime.now()\n",
    "    \n",
    "    #t_stamp = str(datetime.datetime.now()).split(\".\")[0].replace(\" \",\"_\")\n",
    "    \n",
    "    file_path = f\"{file_name}.csv\"\n",
    "    \n",
    "    data_frame.to_csv(file_path, index=False)\n",
    "    print(f\"DataFrame successfully exported to {file_path}\")"
   ]
  },
  {
   "cell_type": "markdown",
   "id": "ca8e940f",
   "metadata": {},
   "source": [
    "Accedemos a la pagina web de DIA "
   ]
  },
  {
   "cell_type": "code",
   "execution_count": 118,
   "id": "c6433f4b",
   "metadata": {},
   "outputs": [
    {
     "data": {
      "text/html": [
       "<div>\n",
       "<style scoped>\n",
       "    .dataframe tbody tr th:only-of-type {\n",
       "        vertical-align: middle;\n",
       "    }\n",
       "\n",
       "    .dataframe tbody tr th {\n",
       "        vertical-align: top;\n",
       "    }\n",
       "\n",
       "    .dataframe thead th {\n",
       "        text-align: right;\n",
       "    }\n",
       "</style>\n",
       "<table border=\"1\" class=\"dataframe\">\n",
       "  <thead>\n",
       "    <tr style=\"text-align: right;\">\n",
       "      <th></th>\n",
       "      <th>categoria</th>\n",
       "      <th>subcategoria</th>\n",
       "      <th>descripcion</th>\n",
       "      <th>precio</th>\n",
       "    </tr>\n",
       "  </thead>\n",
       "  <tbody>\n",
       "  </tbody>\n",
       "</table>\n",
       "</div>"
      ],
      "text/plain": [
       "Empty DataFrame\n",
       "Columns: [categoria, subcategoria, descripcion, precio]\n",
       "Index: []"
      ]
     },
     "execution_count": 118,
     "metadata": {},
     "output_type": "execute_result"
    }
   ],
   "source": [
    "df = pd.DataFrame(columns=['categoria', 'subcategoria', 'descripcion', \"precio\"])\n",
    "df"
   ]
  },
  {
   "cell_type": "code",
   "execution_count": 3,
   "id": "9c23f461",
   "metadata": {},
   "outputs": [],
   "source": [
    "supermecados = [\"mercadona\", \"dia\", \"consum\"]\n",
    "\n",
    "#https://tienda.consum.es/es#!Home"
   ]
  },
  {
   "cell_type": "code",
   "execution_count": 4,
   "id": "e1a377fe",
   "metadata": {},
   "outputs": [],
   "source": [
    "supermercado = supermecados[1]"
   ]
  },
  {
   "cell_type": "code",
   "execution_count": 5,
   "id": "daf77a2b",
   "metadata": {},
   "outputs": [],
   "source": [
    "def contract_expand():\n",
    "    try:\n",
    "        #Opens Categories\n",
    "        driver.find_element(By.CSS_SELECTOR, \"button[aria-label='categories list menú button']\").click()\n",
    "\n",
    "    except:\n",
    "        #Contracts/closes categories\n",
    "        driver.find_element(By.CSS_SELECTOR, \"span[data-test-id='categories-list-modal-cross']\").click()"
   ]
  },
  {
   "cell_type": "code",
   "execution_count": 6,
   "id": "c0e19bb6",
   "metadata": {},
   "outputs": [],
   "source": [
    "# generamos una funcion porque la vamos a usar mucho \n",
    "\"\"\"Contra / Expande una categoria. \n",
    "Hay que contraer/expandir una categoria para seleccionar otra\"\"\"\n",
    "\n",
    "def contract_expand_categ(c):\n",
    "    \n",
    "    c.find_element(By.CSS_SELECTOR, \"span[data-test-id='category-item-symbol-icon']\").click()"
   ]
  },
  {
   "cell_type": "code",
   "execution_count": 48,
   "id": "8c362fc9",
   "metadata": {},
   "outputs": [],
   "source": [
    "\"\"\" Esto tampoco lo he usado:\n",
    "def start_driver_dia():\n",
    "\n",
    "    # Start the driver with the options\n",
    "    driver = webdriver.Chrome()\n",
    "\n",
    "    # Navigate to the login page\n",
    "    link = f'https://www.{supermercado}.es/'\n",
    "    driver.get(link)\n",
    "\n",
    "    time.sleep(3)\n",
    "    #Cerramos la Cookies \n",
    "    WebDriverWait(driver, 10).until(EC.element_to_be_clickable((By.XPATH, \"//button[contains(text(),'Rechazar todas')]\"))).click()\n",
    "    \n",
    "    return driver\n",
    "\"\"\""
   ]
  },
  {
   "cell_type": "markdown",
   "id": "8b7a0d54",
   "metadata": {},
   "source": [
    "## ENTRAMOS AL DIA Y CERRAMOS LAS COOKIES;"
   ]
  },
  {
   "cell_type": "code",
   "execution_count": 55,
   "id": "8c33ee0d",
   "metadata": {},
   "outputs": [],
   "source": [
    "\"\"\" Al final esto no lo estoy usando \n",
    "\n",
    "def create_dictionary():\n",
    "\n",
    "    #Abrimos las categorias: \n",
    "    contract_expand()\n",
    "\n",
    "    # EXTRAEMOS LAS CATEGORIAS: \n",
    "    category_links = driver.find_elements(By.CSS_SELECTOR, \"div[data-test-id='category-item']\")\n",
    "\n",
    "    cat_subcat_dict = {}\n",
    "\n",
    "    for c in category_links:\n",
    "\n",
    "        print(c.text)\n",
    "\n",
    "        #EXPANDIMOS CATEGORIA SELECCIONADA:\n",
    "        time.sleep(1)\n",
    "        contract_expand_categ(c)\n",
    "\n",
    "        #WebDriverWait(driver, 10).until(EC.visibility_of_element_located((By.CSS_SELECTOR, \"div[data-test-id='sub-category-item']\")))\n",
    "\n",
    "        time.sleep(2)\n",
    "        #Sacamos SUBCATEOGRIAS: \n",
    "        subcategory_links = driver.find_elements(By.CSS_SELECTOR, \"div[data-test-id='sub-category-item']\")\n",
    "\n",
    "        cat_subcat_dict[c.text] = [i.text for i in subcategory_links]\n",
    "        \n",
    "    return cat_subcat_dict\n",
    "\n",
    "\"\"\""
   ]
  },
  {
   "cell_type": "markdown",
   "id": "0799b736",
   "metadata": {},
   "source": [
    "## WORKFLOW"
   ]
  },
  {
   "cell_type": "markdown",
   "id": "a6d7f9c0",
   "metadata": {},
   "source": [
    "No se muy bien porque, si es por como he considerado als busquedas\n",
    "\n",
    "QUIZA LO PODEMOS HACER CON By ID\n",
    "\n",
    "Pero no me deja iterar como seria de una forma (manual) no se si es que la pagina web cambia \n",
    "pero bueno, me he inventado un WOKarround que creo que puede funcionar. \n",
    "\n",
    "La cosa es que aunque ya ha ectraido por ejemplo, la lista de categorias, si \n",
    "cambias el elemento, de repente ya no te deja seleccionar\n",
    "\n",
    "Ademas una vez has seleccionado uno, Se queda marcado en rojo y parece \n",
    "que lo moismo, ya no puedes cambiar al otro, como haciamos en mercadona. \n",
    "\n",
    "Lo malo es que implica muchos mas clicks. Quiza intentamos mejorarlo en el futuro\n",
    "PEro tenemos que extraer los datos. "
   ]
  },
  {
   "cell_type": "code",
   "execution_count": 123,
   "id": "e3b99bd0",
   "metadata": {},
   "outputs": [
    {
     "ename": "NoSuchWindowException",
     "evalue": "Message: no such window: target window already closed\nfrom unknown error: web view not found\n  (Session info: chrome=122.0.6261.112)\nStacktrace:\n0   chromedriver                        0x000000010a7d62a8 chromedriver + 4625064\n1   chromedriver                        0x000000010a7cde53 chromedriver + 4591187\n2   chromedriver                        0x000000010a3cce6a chromedriver + 392810\n3   chromedriver                        0x000000010a3a393d chromedriver + 223549\n4   chromedriver                        0x000000010a44366d chromedriver + 878189\n5   chromedriver                        0x000000010a459008 chromedriver + 966664\n6   chromedriver                        0x000000010a43a613 chromedriver + 841235\n7   chromedriver                        0x000000010a40b3da chromedriver + 648154\n8   chromedriver                        0x000000010a40bd1e chromedriver + 650526\n9   chromedriver                        0x000000010a796a70 chromedriver + 4364912\n10  chromedriver                        0x000000010a79be36 chromedriver + 4386358\n11  chromedriver                        0x000000010a77b6de chromedriver + 4253406\n12  chromedriver                        0x000000010a79cb79 chromedriver + 4389753\n13  chromedriver                        0x000000010a76da29 chromedriver + 4196905\n14  chromedriver                        0x000000010a7bcb28 chromedriver + 4520744\n15  chromedriver                        0x000000010a7bcd07 chromedriver + 4521223\n16  chromedriver                        0x000000010a7cda93 chromedriver + 4590227\n17  libsystem_pthread.dylib             0x00007fff2040a8fc _pthread_start + 224\n18  libsystem_pthread.dylib             0x00007fff20406443 thread_start + 15\n",
     "output_type": "error",
     "traceback": [
      "\u001b[0;31m---------------------------------------------------------------------------\u001b[0m",
      "\u001b[0;31mNoSuchWindowException\u001b[0m                     Traceback (most recent call last)",
      "Cell \u001b[0;32mIn[123], line 11\u001b[0m\n\u001b[1;32m      9\u001b[0m time\u001b[38;5;241m.\u001b[39msleep(\u001b[38;5;241m5\u001b[39m)\n\u001b[1;32m     10\u001b[0m \u001b[38;5;66;03m#Cerramos la Cookies \u001b[39;00m\n\u001b[0;32m---> 11\u001b[0m WebDriverWait(driver, \u001b[38;5;241m10\u001b[39m)\u001b[38;5;241m.\u001b[39muntil(EC\u001b[38;5;241m.\u001b[39melement_to_be_clickable((By\u001b[38;5;241m.\u001b[39mXPATH, \u001b[38;5;124m\"\u001b[39m\u001b[38;5;124m//button[contains(text(),\u001b[39m\u001b[38;5;124m'\u001b[39m\u001b[38;5;124mRechazar todas\u001b[39m\u001b[38;5;124m'\u001b[39m\u001b[38;5;124m)]\u001b[39m\u001b[38;5;124m\"\u001b[39m)))\u001b[38;5;241m.\u001b[39mclick()\n\u001b[1;32m     13\u001b[0m \u001b[38;5;66;03m#Abrimos las categorias: \u001b[39;00m\n\u001b[1;32m     14\u001b[0m contract_expand()\n",
      "File \u001b[0;32m~/miniconda3/envs/ironhack/lib/python3.11/site-packages/selenium/webdriver/support/wait.py:96\u001b[0m, in \u001b[0;36mWebDriverWait.until\u001b[0;34m(self, method, message)\u001b[0m\n\u001b[1;32m     94\u001b[0m \u001b[38;5;28;01mwhile\u001b[39;00m \u001b[38;5;28;01mTrue\u001b[39;00m:\n\u001b[1;32m     95\u001b[0m     \u001b[38;5;28;01mtry\u001b[39;00m:\n\u001b[0;32m---> 96\u001b[0m         value \u001b[38;5;241m=\u001b[39m method(\u001b[38;5;28mself\u001b[39m\u001b[38;5;241m.\u001b[39m_driver)\n\u001b[1;32m     97\u001b[0m         \u001b[38;5;28;01mif\u001b[39;00m value:\n\u001b[1;32m     98\u001b[0m             \u001b[38;5;28;01mreturn\u001b[39;00m value\n",
      "File \u001b[0;32m~/miniconda3/envs/ironhack/lib/python3.11/site-packages/selenium/webdriver/support/expected_conditions.py:363\u001b[0m, in \u001b[0;36melement_to_be_clickable.<locals>._predicate\u001b[0;34m(driver)\u001b[0m\n\u001b[1;32m    361\u001b[0m target \u001b[38;5;241m=\u001b[39m mark\n\u001b[1;32m    362\u001b[0m \u001b[38;5;28;01mif\u001b[39;00m \u001b[38;5;129;01mnot\u001b[39;00m \u001b[38;5;28misinstance\u001b[39m(target, WebElement):  \u001b[38;5;66;03m# if given locator instead of WebElement\u001b[39;00m\n\u001b[0;32m--> 363\u001b[0m     target \u001b[38;5;241m=\u001b[39m driver\u001b[38;5;241m.\u001b[39mfind_element(\u001b[38;5;241m*\u001b[39mtarget)  \u001b[38;5;66;03m# grab element at locator\u001b[39;00m\n\u001b[1;32m    364\u001b[0m element \u001b[38;5;241m=\u001b[39m visibility_of(target)(driver)\n\u001b[1;32m    365\u001b[0m \u001b[38;5;28;01mif\u001b[39;00m element \u001b[38;5;129;01mand\u001b[39;00m element\u001b[38;5;241m.\u001b[39mis_enabled():\n",
      "File \u001b[0;32m~/miniconda3/envs/ironhack/lib/python3.11/site-packages/selenium/webdriver/remote/webdriver.py:741\u001b[0m, in \u001b[0;36mWebDriver.find_element\u001b[0;34m(self, by, value)\u001b[0m\n\u001b[1;32m    738\u001b[0m     by \u001b[38;5;241m=\u001b[39m By\u001b[38;5;241m.\u001b[39mCSS_SELECTOR\n\u001b[1;32m    739\u001b[0m     value \u001b[38;5;241m=\u001b[39m \u001b[38;5;124mf\u001b[39m\u001b[38;5;124m'\u001b[39m\u001b[38;5;124m[name=\u001b[39m\u001b[38;5;124m\"\u001b[39m\u001b[38;5;132;01m{\u001b[39;00mvalue\u001b[38;5;132;01m}\u001b[39;00m\u001b[38;5;124m\"\u001b[39m\u001b[38;5;124m]\u001b[39m\u001b[38;5;124m'\u001b[39m\n\u001b[0;32m--> 741\u001b[0m \u001b[38;5;28;01mreturn\u001b[39;00m \u001b[38;5;28mself\u001b[39m\u001b[38;5;241m.\u001b[39mexecute(Command\u001b[38;5;241m.\u001b[39mFIND_ELEMENT, {\u001b[38;5;124m\"\u001b[39m\u001b[38;5;124musing\u001b[39m\u001b[38;5;124m\"\u001b[39m: by, \u001b[38;5;124m\"\u001b[39m\u001b[38;5;124mvalue\u001b[39m\u001b[38;5;124m\"\u001b[39m: value})[\u001b[38;5;124m\"\u001b[39m\u001b[38;5;124mvalue\u001b[39m\u001b[38;5;124m\"\u001b[39m]\n",
      "File \u001b[0;32m~/miniconda3/envs/ironhack/lib/python3.11/site-packages/selenium/webdriver/remote/webdriver.py:347\u001b[0m, in \u001b[0;36mWebDriver.execute\u001b[0;34m(self, driver_command, params)\u001b[0m\n\u001b[1;32m    345\u001b[0m response \u001b[38;5;241m=\u001b[39m \u001b[38;5;28mself\u001b[39m\u001b[38;5;241m.\u001b[39mcommand_executor\u001b[38;5;241m.\u001b[39mexecute(driver_command, params)\n\u001b[1;32m    346\u001b[0m \u001b[38;5;28;01mif\u001b[39;00m response:\n\u001b[0;32m--> 347\u001b[0m     \u001b[38;5;28mself\u001b[39m\u001b[38;5;241m.\u001b[39merror_handler\u001b[38;5;241m.\u001b[39mcheck_response(response)\n\u001b[1;32m    348\u001b[0m     response[\u001b[38;5;124m\"\u001b[39m\u001b[38;5;124mvalue\u001b[39m\u001b[38;5;124m\"\u001b[39m] \u001b[38;5;241m=\u001b[39m \u001b[38;5;28mself\u001b[39m\u001b[38;5;241m.\u001b[39m_unwrap_value(response\u001b[38;5;241m.\u001b[39mget(\u001b[38;5;124m\"\u001b[39m\u001b[38;5;124mvalue\u001b[39m\u001b[38;5;124m\"\u001b[39m, \u001b[38;5;28;01mNone\u001b[39;00m))\n\u001b[1;32m    349\u001b[0m     \u001b[38;5;28;01mreturn\u001b[39;00m response\n",
      "File \u001b[0;32m~/miniconda3/envs/ironhack/lib/python3.11/site-packages/selenium/webdriver/remote/errorhandler.py:229\u001b[0m, in \u001b[0;36mErrorHandler.check_response\u001b[0;34m(self, response)\u001b[0m\n\u001b[1;32m    227\u001b[0m         alert_text \u001b[38;5;241m=\u001b[39m value[\u001b[38;5;124m\"\u001b[39m\u001b[38;5;124malert\u001b[39m\u001b[38;5;124m\"\u001b[39m]\u001b[38;5;241m.\u001b[39mget(\u001b[38;5;124m\"\u001b[39m\u001b[38;5;124mtext\u001b[39m\u001b[38;5;124m\"\u001b[39m)\n\u001b[1;32m    228\u001b[0m     \u001b[38;5;28;01mraise\u001b[39;00m exception_class(message, screen, stacktrace, alert_text)  \u001b[38;5;66;03m# type: ignore[call-arg]  # mypy is not smart enough here\u001b[39;00m\n\u001b[0;32m--> 229\u001b[0m \u001b[38;5;28;01mraise\u001b[39;00m exception_class(message, screen, stacktrace)\n",
      "\u001b[0;31mNoSuchWindowException\u001b[0m: Message: no such window: target window already closed\nfrom unknown error: web view not found\n  (Session info: chrome=122.0.6261.112)\nStacktrace:\n0   chromedriver                        0x000000010a7d62a8 chromedriver + 4625064\n1   chromedriver                        0x000000010a7cde53 chromedriver + 4591187\n2   chromedriver                        0x000000010a3cce6a chromedriver + 392810\n3   chromedriver                        0x000000010a3a393d chromedriver + 223549\n4   chromedriver                        0x000000010a44366d chromedriver + 878189\n5   chromedriver                        0x000000010a459008 chromedriver + 966664\n6   chromedriver                        0x000000010a43a613 chromedriver + 841235\n7   chromedriver                        0x000000010a40b3da chromedriver + 648154\n8   chromedriver                        0x000000010a40bd1e chromedriver + 650526\n9   chromedriver                        0x000000010a796a70 chromedriver + 4364912\n10  chromedriver                        0x000000010a79be36 chromedriver + 4386358\n11  chromedriver                        0x000000010a77b6de chromedriver + 4253406\n12  chromedriver                        0x000000010a79cb79 chromedriver + 4389753\n13  chromedriver                        0x000000010a76da29 chromedriver + 4196905\n14  chromedriver                        0x000000010a7bcb28 chromedriver + 4520744\n15  chromedriver                        0x000000010a7bcd07 chromedriver + 4521223\n16  chromedriver                        0x000000010a7cda93 chromedriver + 4590227\n17  libsystem_pthread.dylib             0x00007fff2040a8fc _pthread_start + 224\n18  libsystem_pthread.dylib             0x00007fff20406443 thread_start + 15\n"
     ]
    }
   ],
   "source": [
    "# Start the driver with the options\n",
    "driver = webdriver.Chrome()\n",
    "actions = ActionChains(driver)\n",
    "\n",
    "# Navigate to the login page\n",
    "link = f'https://www.{supermercado}.es/'\n",
    "driver.get(link)\n",
    "\n",
    "time.sleep(5)\n",
    "#Cerramos la Cookies \n",
    "WebDriverWait(driver, 10).until(EC.element_to_be_clickable((By.XPATH, \"//button[contains(text(),'Rechazar todas')]\"))).click()\n",
    "\n",
    "#Abrimos las categorias: \n",
    "contract_expand()\n",
    "\n",
    "time.sleep(2)\n",
    "# EXTRAEMOS LAS CATEGORIAS: \n",
    "category_links = driver.find_elements(By.CSS_SELECTOR, \"div[data-test-id='category-item']\")\n",
    "\n",
    "\n",
    "cat_subcat_dict = {}\n",
    "\n",
    "for c in category_links:\n",
    "\n",
    "    #print(c.text)\n",
    "\n",
    "    #EXPANDIMOS CATEGORIA SELECCIONADA:\n",
    "    time.sleep(1)\n",
    "    contract_expand_categ(c)\n",
    "\n",
    "    #WebDriverWait(driver, 10).until(EC.visibility_of_element_located((By.CSS_SELECTOR, \"div[data-test-id='sub-category-item']\")))\n",
    "\n",
    "    time.sleep(1)\n",
    "    #Sacamos SUBCATEOGRIAS: \n",
    "    subcategory_links = driver.find_elements(By.CSS_SELECTOR, \"div[data-test-id='sub-category-item']\")\n",
    "\n",
    "    cat_subcat_dict[c.text] = [i.text for i in subcategory_links]\n",
    "    \n",
    "    \n",
    "subcategory_links[0].click()\n",
    "\n",
    "#Maximizar ventana:\n",
    "driver.maximize_window()\n",
    "\n",
    "# VOLVEMOS A LA PAGINA PRINCIPAL DEL DIA:\n",
    "driver.find_element(By.CSS_SELECTOR, \"img[class='header-logo__image']\").click()\n",
    "        \n",
    "#Abrimos las categorias: \n",
    "#contract_expand()\n",
    "\n",
    "driver.find_element(By.CSS_SELECTOR, \"button[data-test-id='desktop-category-button']\").click()\n",
    "\n",
    "for keys, values in cat_subcat_dict.items():\n",
    "    for key in keys:\n",
    "        #c = key\n",
    "        #desplegamos la categoria: (clicando)\n",
    "        driver.find_element(By.LINK_TEXT, f\"{c}\").click()\n",
    "        #actions.move_to_element(cat).perform()\n",
    "        #cat.click()\n",
    "        \n",
    "        for val in values:\n",
    "            \n",
    "            driver.find_element(By.LINK_TEXT, f\"{v}\").click()\n",
    "            \n",
    "            #actions.move_to_element(categorie_element).perform()\n",
    "            \n",
    "            #Saber cuantos productos hay en total:\n",
    "            productos_totales = driver.find_element(By.CSS_SELECTOR, \"span[class='plp-breadcrumb__total-items']\").text\n",
    "            \n",
    "            #solo coge 20 productos de primeras \n",
    "            scrols = math.ceil(int(productos_totales)/20)\n",
    "            \n",
    "            #vamos a configurar para que haga scroll al ultimo elemento y vuelva a extraer los productos:\n",
    "            while scrols > 0:\n",
    "    \n",
    "                #estraemos todos los productos de la subcategoria: \n",
    "                productos = driver.find_elements(By.CSS_SELECTOR, \"li[data-test-id='product-card-list-item']\")\n",
    "            \n",
    "                for p in productos:\n",
    "                    row = {\"categoria\": key , \"subcategoria\": val, \n",
    "                           \"descripcion\": p.find_element(By.CLASS_NAME, \"search-product-card__product-name\").text, \n",
    "                           \"precio\": p.find_element(By.CSS_SELECTOR, \"div[data-test-id='search-product-card-prices']\").text\n",
    "                            }\n",
    "                    df = pd.concat([df, pd.DataFrame([row])], ignore_index=True)\n",
    "                    \n",
    "                    \n",
    "                # scroll al ultimo producto de la seleccion:\n",
    "                actions.move_to_element(productos[-1]).perform()\n",
    "        \n",
    "        \n",
    "            \n",
    "export_to_csv(df,\"dia-01\")"
   ]
  },
  {
   "cell_type": "code",
   "execution_count": 128,
   "id": "ef8cae15",
   "metadata": {},
   "outputs": [
    {
     "name": "stdout",
     "output_type": "stream",
     "text": [
      "DataFrame successfully exported to mercadona_2024-03-08_15:13:59.csv\n"
     ]
    }
   ],
   "source": [
    "export_to_csv(df,\"dia-01\")"
   ]
  },
  {
   "cell_type": "code",
   "execution_count": null,
   "id": "02603878",
   "metadata": {},
   "outputs": [],
   "source": []
  }
 ],
 "metadata": {
  "kernelspec": {
   "display_name": "ironhack",
   "language": "python",
   "name": "ironhack"
  },
  "language_info": {
   "codemirror_mode": {
    "name": "ipython",
    "version": 3
   },
   "file_extension": ".py",
   "mimetype": "text/x-python",
   "name": "python",
   "nbconvert_exporter": "python",
   "pygments_lexer": "ipython3",
   "version": "3.11.5"
  }
 },
 "nbformat": 4,
 "nbformat_minor": 5
}
