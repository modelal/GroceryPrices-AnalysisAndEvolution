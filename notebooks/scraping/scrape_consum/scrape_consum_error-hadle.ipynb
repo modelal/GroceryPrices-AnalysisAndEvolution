{
 "cells": [
  {
   "cell_type": "code",
   "execution_count": 2,
   "id": "da225d2c",
   "metadata": {},
   "outputs": [],
   "source": [
    "import os\n",
    "import time\n",
    "import pandas as pd\n",
    "\n",
    "# pip install selenium\n",
    "from selenium import webdriver\n",
    "from selenium.webdriver.common.keys import Keys\n",
    "from selenium.webdriver.common.by import By\n",
    "from selenium.webdriver.support.ui import WebDriverWait\n",
    "from selenium.webdriver.support import expected_conditions as EC\n",
    "from selenium import webdriver\n",
    "from selenium.webdriver.support.ui import Select\n",
    "from selenium import webdriver\n",
    "from selenium.webdriver.common.action_chains import ActionChains\n",
    "\n",
    "from bs4 import BeautifulSoup # pip install beautifulsoup4\n",
    "\n"
   ]
  },
  {
   "cell_type": "markdown",
   "id": "242f3803",
   "metadata": {},
   "source": [
    "## FUNCIONES"
   ]
  },
  {
   "cell_type": "code",
   "execution_count": 3,
   "id": "b4b1beae",
   "metadata": {},
   "outputs": [],
   "source": [
    "\"--------------  ENTRAMOS EN CONSUM ---------------------\"\n",
    "\n",
    "def enter_consum():\n",
    "\n",
    "    # Navigate to the main page\n",
    "    link = f'https://tienda.consum.es/es#!Home'\n",
    "    driver.get(link)\n",
    "\n",
    "    #Reject Cookies :\n",
    "    WebDriverWait(driver, 10).until(EC.element_to_be_clickable((By.XPATH, \"//button[contains(text(),'RECHAZAR TODAS')]\"))).click()\n",
    "    \n"
   ]
  },
  {
   "cell_type": "code",
   "execution_count": 4,
   "id": "0c286a1e",
   "metadata": {},
   "outputs": [],
   "source": [
    "def expand_cat_menu():\n",
    "    driver.find_element(By.CLASS_NAME, \"menu-button\").click()\n",
    "    return"
   ]
  },
  {
   "cell_type": "code",
   "execution_count": 5,
   "id": "dd3f688c",
   "metadata": {},
   "outputs": [],
   "source": [
    "def category_subcategory():\n",
    "   \n",
    "    #Find navigation panel \n",
    "    left_panel = driver.find_element(By.ID, \"panel-component\")\n",
    "\n",
    "    #The main navigation panel (left_panel) have tree sections: \n",
    "    sections = left_panel.find_elements(By.CLASS_NAME, \"element-list\")\n",
    "\n",
    "    #Acces section that contains Categories (last one)\n",
    "    section_categories = sections[-1]\n",
    "    \n",
    "    # Extracts a list with the name of all sections: \n",
    "    category_names = section_categories.text.split(\"\\n\")\n",
    "    category_names.remove(\"Ecológico y saludable\")\n",
    "    \n",
    "    #create an empty dictionary:\n",
    "    \n",
    "    cat_subcat_dict = {}\n",
    "    \n",
    "    for c in category_names[:-1]:\n",
    "        \n",
    "        \"When you place the mouse in a category name, the rigth sub-category panel changes\"\n",
    "\n",
    "        # Targets each category_element()\n",
    "        categorie_element = section_categories.find_element(By.LINK_TEXT, f\"{c}\")\n",
    "        time.sleep(1)\n",
    "        actions.move_to_element(categorie_element).perform() #Sub-category panel changes\n",
    "        \n",
    "        # Targets sub-panel that contain sub cateogies name:\n",
    "        sub_panel  = driver.find_element(By.XPATH, \"//cmp-panel[contains(@class, 'left-panel__subcategories')]\")\n",
    "        \n",
    "        #extract a list with the name of the sub-categories\n",
    "        sub_category_names = sub_panel.text.split(\"\\n\")\n",
    "        \n",
    "        cat_subcat_dict[c] = sub_category_names\n",
    "        \n",
    "    driver.find_element(By.CSS_SELECTOR, \"cmp-icon[name='icon-cancel']\").click()\n",
    "    \n",
    "    return cat_subcat_dict"
   ]
  },
  {
   "cell_type": "code",
   "execution_count": 6,
   "id": "6461b5b9",
   "metadata": {},
   "outputs": [],
   "source": [
    "\n",
    "def navigate(c):\n",
    "\n",
    "    expand_cat_menu()\n",
    "\n",
    "    #Find navigation panel \n",
    "    \n",
    "    left_panel = driver.find_element(By.ID, \"panel-component\")\n",
    "\n",
    "    #The main navigation panel (left_panel) have tree sections: \n",
    "    sections = left_panel.find_elements(By.CLASS_NAME, \"element-list\")\n",
    "\n",
    "    #Acces section that contains Categories (last one)\n",
    "    section_categories = sections[-1]\n",
    "    \n",
    "    wait.until(EC.visibility_of_element_located((By.LINK_TEXT, f\"{c}\")))\n",
    "    \n",
    "    categorie_element = section_categories.find_element(By.LINK_TEXT, f\"{c}\")\n",
    "\n",
    "    time.sleep(1)\n",
    "\n",
    "    actions.move_to_element(categorie_element).perform()\n",
    "    \n",
    "    return\n"
   ]
  },
  {
   "cell_type": "code",
   "execution_count": 7,
   "id": "72d01543",
   "metadata": {},
   "outputs": [],
   "source": [
    "def export_to_csv(data_frame, file_name):\n",
    "    \"\"\"\n",
    "    Export a DataFrame to a CSV file.\n",
    "\n",
    "    Parameters:\n",
    "        - data_frame: pandas DataFrame\n",
    "        - file_name: str, name of the CSV file (without the extension)\n",
    "    \"\"\"\n",
    "    #print date stamp - datetime.datetime.now()\n",
    "    \n",
    "    #t_stamp = str(datetime.datetime.now()).split(\".\")[0].replace(\" \",\"_\")\n",
    "    \n",
    "    file_path = f\"{file_name}_10-03.csv\"\n",
    "    \n",
    "    data_frame.to_csv(file_path, index=False)\n",
    "    print(f\"DataFrame successfully exported to {file_path}\")"
   ]
  },
  {
   "cell_type": "markdown",
   "id": "a8747658",
   "metadata": {},
   "source": [
    "## MAIN"
   ]
  },
  {
   "cell_type": "code",
   "execution_count": 8,
   "id": "aa701b5a",
   "metadata": {},
   "outputs": [
    {
     "data": {
      "text/html": [
       "<div>\n",
       "<style scoped>\n",
       "    .dataframe tbody tr th:only-of-type {\n",
       "        vertical-align: middle;\n",
       "    }\n",
       "\n",
       "    .dataframe tbody tr th {\n",
       "        vertical-align: top;\n",
       "    }\n",
       "\n",
       "    .dataframe thead th {\n",
       "        text-align: right;\n",
       "    }\n",
       "</style>\n",
       "<table border=\"1\" class=\"dataframe\">\n",
       "  <thead>\n",
       "    <tr style=\"text-align: right;\">\n",
       "      <th></th>\n",
       "      <th>categoria</th>\n",
       "      <th>subcategoria</th>\n",
       "      <th>descripcion</th>\n",
       "      <th>unidades</th>\n",
       "      <th>precio</th>\n",
       "      <th>marca</th>\n",
       "    </tr>\n",
       "  </thead>\n",
       "  <tbody>\n",
       "  </tbody>\n",
       "</table>\n",
       "</div>"
      ],
      "text/plain": [
       "Empty DataFrame\n",
       "Columns: [categoria, subcategoria, descripcion, unidades, precio, marca]\n",
       "Index: []"
      ]
     },
     "execution_count": 8,
     "metadata": {},
     "output_type": "execute_result"
    }
   ],
   "source": [
    "df = pd.DataFrame(columns=['categoria', 'subcategoria', 'descripcion', \"unidades\", \"precio\", \"marca\"])\n",
    "df"
   ]
  },
  {
   "cell_type": "code",
   "execution_count": 16,
   "id": "547125f8",
   "metadata": {},
   "outputs": [
    {
     "name": "stderr",
     "output_type": "stream",
     "text": [
      "sh: Diccionario: command not found\n"
     ]
    },
    {
     "name": "stdout",
     "output_type": "stream",
     "text": [
      "producto no añadido\n",
      "producto no añadido\n",
      "producto no añadido\n",
      "producto no añadido\n",
      "producto no añadido\n",
      "producto no añadido\n",
      "producto no añadido\n",
      "producto no añadido\n",
      "producto no añadido\n",
      "producto no añadido\n",
      "producto no añadido\n",
      "producto no añadido\n",
      "producto no añadido\n",
      "producto no añadido\n",
      "producto no añadido\n",
      "producto no añadido\n",
      "producto no añadido\n",
      "producto no añadido\n",
      "producto no añadido\n",
      "producto no añadido\n"
     ]
    },
    {
     "ename": "KeyboardInterrupt",
     "evalue": "",
     "output_type": "error",
     "traceback": [
      "\u001b[0;31m---------------------------------------------------------------------------\u001b[0m",
      "\u001b[0;31mKeyboardInterrupt\u001b[0m                         Traceback (most recent call last)",
      "Cell \u001b[0;32mIn[16], line 51\u001b[0m\n\u001b[1;32m     48\u001b[0m wait\u001b[38;5;241m.\u001b[39muntil(EC\u001b[38;5;241m.\u001b[39mvisibility_of_element_located((By\u001b[38;5;241m.\u001b[39mXPATH, \u001b[38;5;124m\"\u001b[39m\u001b[38;5;124m//cmp-widget-product[contains(@class, \u001b[39m\u001b[38;5;124m'\u001b[39m\u001b[38;5;124mgrid__widget--prod\u001b[39m\u001b[38;5;124m'\u001b[39m\u001b[38;5;124m)]\u001b[39m\u001b[38;5;124m\"\u001b[39m)))\n\u001b[1;32m     49\u001b[0m products \u001b[38;5;241m=\u001b[39m driver\u001b[38;5;241m.\u001b[39mfind_elements(By\u001b[38;5;241m.\u001b[39mXPATH, \u001b[38;5;124m\"\u001b[39m\u001b[38;5;124m//cmp-widget-product[contains(@class, \u001b[39m\u001b[38;5;124m'\u001b[39m\u001b[38;5;124mgrid__widget--prod\u001b[39m\u001b[38;5;124m'\u001b[39m\u001b[38;5;124m)]\u001b[39m\u001b[38;5;124m\"\u001b[39m)\n\u001b[0;32m---> 51\u001b[0m time\u001b[38;5;241m.\u001b[39msleep(\u001b[38;5;241m3\u001b[39m)\n\u001b[1;32m     54\u001b[0m \u001b[38;5;28;01mfor\u001b[39;00m p \u001b[38;5;129;01min\u001b[39;00m products:\n\u001b[1;32m     56\u001b[0m     \u001b[38;5;28;01mtry\u001b[39;00m:\n",
      "\u001b[0;31mKeyboardInterrupt\u001b[0m: "
     ]
    }
   ],
   "source": [
    "driver = webdriver.Chrome()\n",
    "actions = ActionChains(driver)\n",
    "wait = WebDriverWait(driver, 20)\n",
    "\n",
    "driver.maximize_window()\n",
    "\n",
    "#Enter de supermarket shop place:\n",
    "enter_consum()\n",
    "\n",
    "expand_cat_menu() #Expande menu categories\n",
    "\n",
    "#Extract categories y subcategories(dict)\n",
    "os.system(\"say Creando diccionario categorias\")\n",
    "\n",
    "cat_subcat_dict = category_subcategory()\n",
    "#driver.find_element(By.CSS_SELECTOR, \"cmp-icon[name='icon-cancel']\").click()\n",
    "\n",
    "os.system(\"Diccionario Creado\")\n",
    "\n",
    "\n",
    "# Itereate for each category and subcategory and acces the page\n",
    "for keys, values in cat_subcat_dict.items():\n",
    "    os.system(f\"say Entrando en  {keys}\")\n",
    "    for val in values:\n",
    "        os.system(f\"say Entrando en {val}\")\n",
    "        #Function that acces a given category\n",
    "        navigate(keys)\n",
    "        # Locate the selected subcategory inside de category - click - loads page\n",
    "        wait.until(EC.visibility_of_element_located((By.LINK_TEXT, f\"{val}\"))).click()\n",
    "        \n",
    "        time.sleep(5)\n",
    "        \n",
    "        # Nº of products in this subcategory:\n",
    "        total_elements = driver.find_element(By.ID, \"grid-totalproducts\").text.replace(\" productos\", \"\")\n",
    "\n",
    "        if int(total_elements) > 20:\n",
    "            # Nº of pages in witch the products are display: \n",
    "            total_paginas = driver.find_element(By.ID, \"paginator-dropdown\").text.split(\"\\n\")[-1].replace(\"de \", \"\")   \n",
    "        else:\n",
    "            total_paginas = 1\n",
    "            \n",
    "        for i in range(int(total_paginas)):\n",
    "            \n",
    "            os.system(f\"say pagina {i+1} de {total_paginas}\")\n",
    "            \n",
    "            time.sleep(5)\n",
    "            \n",
    "            wait.until(EC.visibility_of_element_located((By.XPATH, \"//cmp-widget-product[contains(@class, 'grid__widget--prod')]\")))\n",
    "            products = driver.find_elements(By.XPATH, \"//cmp-widget-product[contains(@class, 'grid__widget--prod')]\")\n",
    "            \n",
    "            if len(products) == 20\n",
    "\n",
    "            time.sleep(3)\n",
    "\n",
    "            \n",
    "            for p in products:\n",
    "                \n",
    "                row = {\n",
    "                    \"categoria\":keys , \n",
    "                    \"subcategoria\": val, \n",
    "                    \"descripcion\": p.find_element(By.XPATH, \"//h3[contains(@class, 'widget-prod__info-description')]\").text, \n",
    "                    \"unidades\": p.find_element(By.XPATH, \"//div[contains(@class, 'widget-prod__info-unitprice')]\").text, \n",
    "                    \"precio\": p.find_element(By.XPATH, \"//div[contains(@class, 'widget-prod__price')]\").text,\n",
    "                    \"marca\": p.find_element(By.XPATH, \"//div[contains(@class, 'widget-prod__info-brand')]\").text\n",
    "                    }\n",
    "\n",
    "                df = pd.concat([df, pd.DataFrame([row])], ignore_index=True)\n",
    "                    \n",
    "                print(f\"he añadido{descripcion}\")\n",
    "\n",
    "                    #print(f\"exito en {keys} --- {val}\")\n",
    "\n",
    "            if i == range(int(total_paginas))[-1]:\n",
    "                break\n",
    "            else:\n",
    "                next_page = driver.find_element(By.CLASS_NAME, \"next-page\")\n",
    "                actions.move_to_element(next_page).perform()\n",
    "                wait.until(EC.visibility_of_element_located((By.CLASS_NAME, \"next-page\"))).click()\n",
    "                time.sleep(1)\n",
    "                \n",
    "            \n",
    "        #status = f\"{keys} -- {val} -- {total_paginas} pagina/s {total_elements} elementos\"\n",
    "        #print(status)\n",
    "            \n",
    "os.system(\"Consum ha sido hackeada con éxito\")\n",
    "export_to_csv(df,\"consum\")"
   ]
  },
  {
   "cell_type": "code",
   "execution_count": 40,
   "id": "24dfa379",
   "metadata": {},
   "outputs": [],
   "source": [
    "driver = webdriver.Chrome()\n",
    "actions = ActionChains(driver)\n",
    "wait = WebDriverWait(driver, 20)\n",
    "\n",
    "driver.maximize_window()\n",
    "\n",
    "#Enter de supermarket shop place:\n",
    "enter_consum()"
   ]
  },
  {
   "cell_type": "code",
   "execution_count": null,
   "id": "a8a02f91",
   "metadata": {},
   "outputs": [],
   "source": []
  },
  {
   "cell_type": "code",
   "execution_count": 41,
   "id": "075f83d4",
   "metadata": {},
   "outputs": [],
   "source": [
    "products = driver.find_elements(By.XPATH, \"//cmp-widget-product[contains(@class, 'grid__widget--prod')]\")"
   ]
  },
  {
   "cell_type": "code",
   "execution_count": 42,
   "id": "dff2855a",
   "metadata": {},
   "outputs": [
    {
     "data": {
      "text/plain": [
       "'SALADITOS\\nAltramuces Tarro 380 Gr\\n4,08 € / 1 Kg\\n1,69 €\\n1,55 €\\nAñadir'"
      ]
     },
     "execution_count": 42,
     "metadata": {},
     "output_type": "execute_result"
    }
   ],
   "source": [
    "products[5].text"
   ]
  },
  {
   "cell_type": "code",
   "execution_count": 47,
   "id": "d55e5fa4",
   "metadata": {},
   "outputs": [
    {
     "data": {
      "text/plain": [
       "'Altramuces Tarro 380 Gr'"
      ]
     },
     "execution_count": 47,
     "metadata": {},
     "output_type": "execute_result"
    }
   ],
   "source": [
    "p = products[5]\n",
    "\n",
    "p.find_element(By.CSS_SELECTOR, \"[class*= 'widget-prod__info-description']\").text\n",
    "\n",
    "#p.find_element(By.XPATH, \"h3[contains(@class, 'widget-prod__info-description')]\").text, "
   ]
  },
  {
   "cell_type": "code",
   "execution_count": null,
   "id": "d408f194",
   "metadata": {},
   "outputs": [],
   "source": []
  }
 ],
 "metadata": {
  "kernelspec": {
   "display_name": "ironhack",
   "language": "python",
   "name": "ironhack"
  },
  "language_info": {
   "codemirror_mode": {
    "name": "ipython",
    "version": 3
   },
   "file_extension": ".py",
   "mimetype": "text/x-python",
   "name": "python",
   "nbconvert_exporter": "python",
   "pygments_lexer": "ipython3",
   "version": "3.11.5"
  }
 },
 "nbformat": 4,
 "nbformat_minor": 5
}
