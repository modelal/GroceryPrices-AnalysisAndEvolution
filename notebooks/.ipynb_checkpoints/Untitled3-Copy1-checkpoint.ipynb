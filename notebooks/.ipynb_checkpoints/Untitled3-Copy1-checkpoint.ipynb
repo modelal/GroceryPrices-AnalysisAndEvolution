{
 "cells": [
  {
   "cell_type": "code",
   "execution_count": 356,
   "id": "7d95e261",
   "metadata": {},
   "outputs": [],
   "source": [
    "import pandas as pd\n",
    "import numpy as np\n",
    "import csv\n",
    "import re\n",
    "\n",
    "#Deberia revisar lo de Counter que lo uso bastante y no conoxco muy bien la libreria\n",
    "from collections import Counter\n"
   ]
  },
  {
   "cell_type": "code",
   "execution_count": 261,
   "id": "8a8cfb51",
   "metadata": {},
   "outputs": [],
   "source": [
    "def format_price(x):\n",
    "    \n",
    "    \"\"\"\n",
    "    Decompose and fromate values for the colum price\n",
    "    \n",
    "    input: string \n",
    "    output: lsit, values of each key already casted:\n",
    "        info: pos[0]: str \n",
    "        valores: pos[1]: float\n",
    "        descuento: pos[2]: float/np.nan(float) (where there is a discount or not)\n",
    "    \n",
    "    \"\"\"\n",
    "    \n",
    "    # 1. Replace the € simbol and splits by the \"/\" ch -- generates a list of 2 elements (nums - text)\n",
    "    x = x.replace(\"€\", \"\").split(\"/\")\n",
    "    \n",
    "    # 2. Split by the \"/\" to extract the info, keep last part(always at the end)\n",
    "    info = x[-1].replace(\".\", \"\") #(str)\n",
    "    \n",
    "    # 3. Splits by the \"/\" to extract the num values:\n",
    "    num_values = x[0:-1][0].replace(\",\" , \".\").strip().split(\" \")\n",
    "    \n",
    "    # 4. Extracts and formats price value:\n",
    "    price = float(num_values[0])\n",
    "    \n",
    "    # 5. Extracts and formats discount_price if not dicount np.nan\n",
    "    discount = [np.nan if len(num_values) == 1 else float(num_values[1])][0]\n",
    "    \n",
    "    return [info, price, discount]"
   ]
  },
  {
   "cell_type": "code",
   "execution_count": 6,
   "id": "d319969b",
   "metadata": {},
   "outputs": [
    {
     "name": "stdout",
     "output_type": "stream",
     "text": [
      "scrape-consum_2024-03-10.csv    srape-mercadona_2024-03-08.csv\r\n"
     ]
    }
   ],
   "source": [
    "ls"
   ]
  },
  {
   "cell_type": "code",
   "execution_count": 276,
   "id": "e4d6ee1b",
   "metadata": {},
   "outputs": [],
   "source": [
    "merca = pd.read_csv(\"srape-mercadona_2024-03-08.csv\")\n",
    "df = merca"
   ]
  },
  {
   "cell_type": "code",
   "execution_count": 81,
   "id": "07af0e19",
   "metadata": {},
   "outputs": [
    {
     "data": {
      "text/html": [
       "<div>\n",
       "<style scoped>\n",
       "    .dataframe tbody tr th:only-of-type {\n",
       "        vertical-align: middle;\n",
       "    }\n",
       "\n",
       "    .dataframe tbody tr th {\n",
       "        vertical-align: top;\n",
       "    }\n",
       "\n",
       "    .dataframe thead th {\n",
       "        text-align: right;\n",
       "    }\n",
       "</style>\n",
       "<table border=\"1\" class=\"dataframe\">\n",
       "  <thead>\n",
       "    <tr style=\"text-align: right;\">\n",
       "      <th></th>\n",
       "      <th>categoria</th>\n",
       "      <th>subcategoria</th>\n",
       "      <th>descripcion</th>\n",
       "      <th>unidades</th>\n",
       "      <th>precio</th>\n",
       "    </tr>\n",
       "  </thead>\n",
       "  <tbody>\n",
       "    <tr>\n",
       "      <th>1039</th>\n",
       "      <td>Bodega</td>\n",
       "      <td>Licores</td>\n",
       "      <td>Pacharán Oibar</td>\n",
       "      <td>Botella 1 L</td>\n",
       "      <td>6,90 € /ud.</td>\n",
       "    </tr>\n",
       "  </tbody>\n",
       "</table>\n",
       "</div>"
      ],
      "text/plain": [
       "     categoria subcategoria     descripcion     unidades       precio\n",
       "1039    Bodega      Licores  Pacharán Oibar  Botella 1 L  6,90 € /ud."
      ]
     },
     "execution_count": 81,
     "metadata": {},
     "output_type": "execute_result"
    }
   ],
   "source": [
    "df.sample()\n",
    "\n",
    "#categoria, subcategoria y descripcion - las dejamos como están. "
   ]
  },
  {
   "cell_type": "code",
   "execution_count": 82,
   "id": "3a32ad88",
   "metadata": {},
   "outputs": [
    {
     "name": "stdout",
     "output_type": "stream",
     "text": [
      "<class 'pandas.core.frame.DataFrame'>\n",
      "RangeIndex: 5035 entries, 0 to 5034\n",
      "Data columns (total 5 columns):\n",
      " #   Column        Non-Null Count  Dtype \n",
      "---  ------        --------------  ----- \n",
      " 0   categoria     5035 non-null   object\n",
      " 1   subcategoria  5035 non-null   object\n",
      " 2   descripcion   5035 non-null   object\n",
      " 3   unidades      5035 non-null   object\n",
      " 4   precio        5035 non-null   object\n",
      "dtypes: object(5)\n",
      "memory usage: 196.8+ KB\n"
     ]
    }
   ],
   "source": [
    "# All collumns have values. \n",
    "df.info()"
   ]
  },
  {
   "cell_type": "markdown",
   "id": "5454a4f8",
   "metadata": {},
   "source": [
    "### Precio\n",
    "\n",
    "- No hay valores nulos\n",
    "\n",
    "- El precio puede contener o 2 informaciones o 3:\n",
    "    - El precio y a que hace referencia ese precio (pack)\n",
    "    - El precio, precio si esta descontado y a que hace referencia ese precio(pack)\n",
    "\n",
    "- Creamos una funcion que aplicamos a todos los elementos de la columna precio para formaterla. Aqui extraeremos los tres valores comentados antes. Cuando no haya descuento --> np.nan\n",
    "    - price_info --> string\n",
    "    - price_eu and price_disc_eu --> float\n",
    "    \n",
    "  **Note:** Interesante aqui el tema de apply(function) y luego el lambda. \n",
    "  \n",
    "- Eliminamos la columna original\n",
    "\n",
    "**NOTE:** En price_info, los valores son bastante consistentes siendo la mayoria de valoes (ud/pack). No obstante hay 14 valores que son de tipo ( xxx g) ej 500 g. Veremos a ver que hacemos. si los descartamos o como los tranformamos. No son una parte muy relevante del conjunto de datos ( 14 de 5035) pero tener en cuenta que hay que revisarlo: \n"
   ]
  },
  {
   "cell_type": "markdown",
   "id": "e2325cfe",
   "metadata": {},
   "source": [
    "**Tranform Price column**"
   ]
  },
  {
   "cell_type": "code",
   "execution_count": 277,
   "id": "663d5e65",
   "metadata": {},
   "outputs": [],
   "source": [
    "# Apply the function and get the element for each colum: \n",
    "df[\"price_info\"] = df[\"precio\"].apply(format_price).apply(lambda x:x[0])\n",
    "df[\"price_eu\"] = df[\"precio\"].apply(format_price).apply(lambda x:x[1])\n",
    "df[\"price_disc_eu\"] = df[\"precio\"].apply(format_price).apply(lambda x:x[2])\n",
    "\n",
    "#Drop old column:\n",
    "df.drop(\"precio\", axis=1, inplace=True)\n",
    "\n",
    "df.sample()"
   ]
  },
  {
   "cell_type": "markdown",
   "id": "f25756e8",
   "metadata": {},
   "source": [
    "### UNIDADES:"
   ]
  },
  {
   "cell_type": "code",
   "execution_count": 361,
   "id": "5198f700",
   "metadata": {},
   "outputs": [
    {
     "data": {
      "text/html": [
       "<div>\n",
       "<style scoped>\n",
       "    .dataframe tbody tr th:only-of-type {\n",
       "        vertical-align: middle;\n",
       "    }\n",
       "\n",
       "    .dataframe tbody tr th {\n",
       "        vertical-align: top;\n",
       "    }\n",
       "\n",
       "    .dataframe thead th {\n",
       "        text-align: right;\n",
       "    }\n",
       "</style>\n",
       "<table border=\"1\" class=\"dataframe\">\n",
       "  <thead>\n",
       "    <tr style=\"text-align: right;\">\n",
       "      <th></th>\n",
       "      <th>categoria</th>\n",
       "      <th>subcategoria</th>\n",
       "      <th>descripcion</th>\n",
       "      <th>unidades</th>\n",
       "      <th>price_info</th>\n",
       "      <th>price_eu</th>\n",
       "      <th>price_disc_eu</th>\n",
       "    </tr>\n",
       "  </thead>\n",
       "  <tbody>\n",
       "    <tr>\n",
       "      <th>0</th>\n",
       "      <td>Agua y refrescos</td>\n",
       "      <td>Isotónico y energético</td>\n",
       "      <td>Bebida isotónica limón Aquarius</td>\n",
       "      <td>8 latas x 330 ml</td>\n",
       "      <td>pack</td>\n",
       "      <td>6.80</td>\n",
       "      <td>6.24</td>\n",
       "    </tr>\n",
       "    <tr>\n",
       "      <th>1</th>\n",
       "      <td>Agua y refrescos</td>\n",
       "      <td>Isotónico y energético</td>\n",
       "      <td>Bebida isotónica limón Aquarius</td>\n",
       "      <td>8 latas x 330 ml</td>\n",
       "      <td>pack</td>\n",
       "      <td>6.80</td>\n",
       "      <td>6.24</td>\n",
       "    </tr>\n",
       "    <tr>\n",
       "      <th>2</th>\n",
       "      <td>Aceite, especias y salsas</td>\n",
       "      <td>Aceite, vinagre y sal</td>\n",
       "      <td>Aceite de oliva 0,4º Hacendado</td>\n",
       "      <td>Botella 1 L</td>\n",
       "      <td>ud</td>\n",
       "      <td>9.25</td>\n",
       "      <td>NaN</td>\n",
       "    </tr>\n",
       "    <tr>\n",
       "      <th>3</th>\n",
       "      <td>Aceite, especias y salsas</td>\n",
       "      <td>Aceite, vinagre y sal</td>\n",
       "      <td>Aceite de oliva virgen extra Hacendado</td>\n",
       "      <td>Garrafa 3 L</td>\n",
       "      <td>ud</td>\n",
       "      <td>29.55</td>\n",
       "      <td>NaN</td>\n",
       "    </tr>\n",
       "    <tr>\n",
       "      <th>4</th>\n",
       "      <td>Aceite, especias y salsas</td>\n",
       "      <td>Aceite, vinagre y sal</td>\n",
       "      <td>Aceite de oliva virgen extra Hacendado</td>\n",
       "      <td>Botella 1 L</td>\n",
       "      <td>ud</td>\n",
       "      <td>9.90</td>\n",
       "      <td>NaN</td>\n",
       "    </tr>\n",
       "    <tr>\n",
       "      <th>...</th>\n",
       "      <td>...</td>\n",
       "      <td>...</td>\n",
       "      <td>...</td>\n",
       "      <td>...</td>\n",
       "      <td>...</td>\n",
       "      <td>...</td>\n",
       "      <td>...</td>\n",
       "    </tr>\n",
       "    <tr>\n",
       "      <th>5030</th>\n",
       "      <td>Zumos</td>\n",
       "      <td>Tomate y otros sabores</td>\n",
       "      <td>Néctar de maracuyá Hacendado fruta de la pasió...</td>\n",
       "      <td>Brick 1 L</td>\n",
       "      <td>ud</td>\n",
       "      <td>0.81</td>\n",
       "      <td>NaN</td>\n",
       "    </tr>\n",
       "    <tr>\n",
       "      <th>5031</th>\n",
       "      <td>Zumos</td>\n",
       "      <td>Tomate y otros sabores</td>\n",
       "      <td>Bebida de mango Hacendado sin azúcares añadidos</td>\n",
       "      <td>Brick 1 L</td>\n",
       "      <td>ud</td>\n",
       "      <td>1.25</td>\n",
       "      <td>NaN</td>\n",
       "    </tr>\n",
       "    <tr>\n",
       "      <th>5032</th>\n",
       "      <td>Zumos</td>\n",
       "      <td>Tomate y otros sabores</td>\n",
       "      <td>Bebida de pomelo Hacendado sin azúcares añadidos</td>\n",
       "      <td>Brick 1 L</td>\n",
       "      <td>ud</td>\n",
       "      <td>1.25</td>\n",
       "      <td>NaN</td>\n",
       "    </tr>\n",
       "    <tr>\n",
       "      <th>5033</th>\n",
       "      <td>Zumos</td>\n",
       "      <td>Tomate y otros sabores</td>\n",
       "      <td>Zumo de manzana selección Hacendado</td>\n",
       "      <td>Brick 1 L</td>\n",
       "      <td>ud</td>\n",
       "      <td>1.50</td>\n",
       "      <td>NaN</td>\n",
       "    </tr>\n",
       "    <tr>\n",
       "      <th>5034</th>\n",
       "      <td>Zumos</td>\n",
       "      <td>Tomate y otros sabores</td>\n",
       "      <td>Néctar de guayaba Hacendado</td>\n",
       "      <td>Brick 1 L</td>\n",
       "      <td>ud</td>\n",
       "      <td>1.30</td>\n",
       "      <td>NaN</td>\n",
       "    </tr>\n",
       "  </tbody>\n",
       "</table>\n",
       "<p>5035 rows × 7 columns</p>\n",
       "</div>"
      ],
      "text/plain": [
       "                      categoria            subcategoria  \\\n",
       "0              Agua y refrescos  Isotónico y energético   \n",
       "1              Agua y refrescos  Isotónico y energético   \n",
       "2     Aceite, especias y salsas   Aceite, vinagre y sal   \n",
       "3     Aceite, especias y salsas   Aceite, vinagre y sal   \n",
       "4     Aceite, especias y salsas   Aceite, vinagre y sal   \n",
       "...                         ...                     ...   \n",
       "5030                      Zumos  Tomate y otros sabores   \n",
       "5031                      Zumos  Tomate y otros sabores   \n",
       "5032                      Zumos  Tomate y otros sabores   \n",
       "5033                      Zumos  Tomate y otros sabores   \n",
       "5034                      Zumos  Tomate y otros sabores   \n",
       "\n",
       "                                            descripcion          unidades  \\\n",
       "0                       Bebida isotónica limón Aquarius  8 latas x 330 ml   \n",
       "1                       Bebida isotónica limón Aquarius  8 latas x 330 ml   \n",
       "2                        Aceite de oliva 0,4º Hacendado       Botella 1 L   \n",
       "3                Aceite de oliva virgen extra Hacendado       Garrafa 3 L   \n",
       "4                Aceite de oliva virgen extra Hacendado       Botella 1 L   \n",
       "...                                                 ...               ...   \n",
       "5030  Néctar de maracuyá Hacendado fruta de la pasió...         Brick 1 L   \n",
       "5031    Bebida de mango Hacendado sin azúcares añadidos         Brick 1 L   \n",
       "5032   Bebida de pomelo Hacendado sin azúcares añadidos         Brick 1 L   \n",
       "5033                Zumo de manzana selección Hacendado         Brick 1 L   \n",
       "5034                        Néctar de guayaba Hacendado         Brick 1 L   \n",
       "\n",
       "     price_info  price_eu  price_disc_eu  \n",
       "0          pack      6.80           6.24  \n",
       "1          pack      6.80           6.24  \n",
       "2            ud      9.25            NaN  \n",
       "3            ud     29.55            NaN  \n",
       "4            ud      9.90            NaN  \n",
       "...         ...       ...            ...  \n",
       "5030         ud      0.81            NaN  \n",
       "5031         ud      1.25            NaN  \n",
       "5032         ud      1.25            NaN  \n",
       "5033         ud      1.50            NaN  \n",
       "5034         ud      1.30            NaN  \n",
       "\n",
       "[5035 rows x 7 columns]"
      ]
     },
     "execution_count": 361,
     "metadata": {},
     "output_type": "execute_result"
    }
   ],
   "source": [
    "df"
   ]
  },
  {
   "cell_type": "code",
   "execution_count": 360,
   "id": "5d864c54",
   "metadata": {},
   "outputs": [],
   "source": [
    "df[\"unidades\"] = df[\"unidades\"].str.replace(\"aprox.\", \"\")"
   ]
  },
  {
   "cell_type": "code",
   "execution_count": 288,
   "id": "f043f0db",
   "metadata": {},
   "outputs": [
    {
     "data": {
      "text/plain": [
       "1396"
      ]
     },
     "execution_count": 288,
     "metadata": {},
     "output_type": "execute_result"
    }
   ],
   "source": [
    "lista = df[\"unidades\"].unique()\n",
    "len(lista)"
   ]
  },
  {
   "cell_type": "code",
   "execution_count": 339,
   "id": "ada6ab73",
   "metadata": {},
   "outputs": [],
   "source": [
    "lista\n",
    "re_words = [\"x\", \"aprox.\" \"(g\", \"g)\", \"g\", \"ud.\", \"ml\", \"kg\", \"ml\", \"L\", \"ml)\", \"(250\"]\n",
    "numb = 30\n",
    "words = []\n",
    "\n",
    "words_list = [ i.strip().split(\" \") for i in lista]\n",
    "\n",
    "for i in words_list:\n",
    "    for e in i:\n",
    "        if e.isdigit() == False and e not in re_words:\n",
    "            words.append(e)\n",
    "            \n",
    "word_counts = Counter(words)\n",
    "    \n",
    "most_common_words = word_counts.most_common(numb)\n",
    "\n",
    "palabras = [i[0] for i in most_common_words]"
   ]
  },
  {
   "cell_type": "code",
   "execution_count": 341,
   "id": "3d3fd73c",
   "metadata": {},
   "outputs": [
    {
     "name": "stdout",
     "output_type": "stream",
     "text": [
      "['Paquete', 'Caja', 'aprox.', 'Pieza', 'Bote', 'Bandeja', 'Tarro', 'escurrido)', 'paquetes', 'Botella', 'Tarrina', 'cápsulas', 'latas', 'escurrido', 'sobres', 'Lata', 'lavados', 'botellas', 'raciones', 'Spray', 'bolsitas', 'Tubo', 'Bol', 'rebanadas', '(240', 'mini', '(200', 'barritas', 'Sobre', '1,5']\n"
     ]
    }
   ],
   "source": [
    "print(palabras)"
   ]
  },
  {
   "cell_type": "code",
   "execution_count": 351,
   "id": "8b099daf",
   "metadata": {},
   "outputs": [],
   "source": [
    "f_df = df[df['unidades'].str.contains('Paquete')]"
   ]
  },
  {
   "cell_type": "code",
   "execution_count": 349,
   "id": "5cc7215f",
   "metadata": {},
   "outputs": [],
   "source": [
    "Paquete = i_df[\"unidades\"].tolist()"
   ]
  },
  {
   "cell_type": "code",
   "execution_count": 357,
   "id": "f66c21db",
   "metadata": {},
   "outputs": [],
   "source": [
    "def texto_csv(df, column):\n",
    "    \n",
    "    #name of the document: as column_name_column.csv\n",
    "    path = f'column_{column}.csv'\n",
    "    \n",
    "    \"\"\" Hay que quitar los vacios primero - lo he sacado de la funcion\n",
    "    por no tranformar la tabla aqui \"\"\"\n",
    "   \n",
    "    #2. We write every colum as a new line in the .csv\n",
    "    non_empty_values = [str(i) for i in df[column]]\n",
    "    \n",
    "    with open(path, mode='w', newline='') as file:\n",
    "        writer = csv.writer(file)\n",
    "        writer.writerows([[value] for value in non_empty_values]) \n",
    "        \n",
    "    print(f'Column successfully exported to {path}')"
   ]
  },
  {
   "cell_type": "code",
   "execution_count": 358,
   "id": "c37e0184",
   "metadata": {},
   "outputs": [
    {
     "name": "stdout",
     "output_type": "stream",
     "text": [
      "Column successfully exported to column_unidades.csv\n"
     ]
    }
   ],
   "source": [
    "texto_csv(f_df, \"unidades\")"
   ]
  },
  {
   "cell_type": "code",
   "execution_count": null,
   "id": "14ae2655",
   "metadata": {},
   "outputs": [],
   "source": []
  }
 ],
 "metadata": {
  "kernelspec": {
   "display_name": "ironhack",
   "language": "python",
   "name": "ironhack"
  },
  "language_info": {
   "codemirror_mode": {
    "name": "ipython",
    "version": 3
   },
   "file_extension": ".py",
   "mimetype": "text/x-python",
   "name": "python",
   "nbconvert_exporter": "python",
   "pygments_lexer": "ipython3",
   "version": "3.11.5"
  }
 },
 "nbformat": 4,
 "nbformat_minor": 5
}
