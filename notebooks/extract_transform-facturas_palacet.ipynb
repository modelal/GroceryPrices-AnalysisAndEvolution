{
 "cells": [
  {
   "cell_type": "code",
   "execution_count": 501,
   "id": "c15f38cd",
   "metadata": {},
   "outputs": [],
   "source": [
    "import tabula #Extracting tables from pdf\n",
    "#from pdfminer.high_level import extract_pages, ectract_text\n",
    "import os\n",
    "import re\n",
    "from tika import parser # pip install tika\n",
    "\n",
    "import pandas as pd\n",
    "import numpy as np"
   ]
  },
  {
   "cell_type": "code",
   "execution_count": 502,
   "id": "1bca1f9a",
   "metadata": {},
   "outputs": [],
   "source": [
    "def export_to_csv(data_frame, file_name):\n",
    "    \"\"\"\n",
    "    Export a DataFrame to a CSV file.\n",
    "\n",
    "    Parameters:\n",
    "        - data_frame: pandas DataFrame\n",
    "        - file_name: str, name of the CSV file (without the extension)\n",
    "    \"\"\"\n",
    "    #print date stamp - datetime.datetime.now()\n",
    "    \n",
    "    #t_stamp = str(datetime.datetime.now()).split(\".\")[0].replace(\" \",\"_\")\n",
    "    \n",
    "    file_path = f\"{file_name}.csv\"\n",
    "    \n",
    "    data_frame.to_csv(file_path, index=False)\n",
    "    print(f\"DataFrame successfully exported to {file_path}\")"
   ]
  },
  {
   "cell_type": "code",
   "execution_count": 507,
   "id": "0964a4fe",
   "metadata": {},
   "outputs": [
    {
     "name": "stdout",
     "output_type": "stream",
     "text": [
      "/Users/Moni/Ironhack/my_ironhack/projects/final-project/data/historico-facturas-pdf/palacet\n"
     ]
    }
   ],
   "source": [
    "cd Ironhack/my_ironhack/projects/final-project/data/historico-facturas-pdf/palacet/"
   ]
  },
  {
   "cell_type": "code",
   "execution_count": 508,
   "id": "42a9fa24",
   "metadata": {},
   "outputs": [],
   "source": [
    "path = os.listdir(\"/Users/Moni/Ironhack/my_ironhack/projects/final-project/data/historico-facturas-pdf/palacet\")\n",
    "\n",
    "# Extract name of documents\n",
    "files = [i for i in path if \".DS\" not in i]\n",
    "\n",
    "#for testing\n",
    "#files = files[3:5]"
   ]
  },
  {
   "cell_type": "code",
   "execution_count": 509,
   "id": "f46660d1",
   "metadata": {},
   "outputs": [
    {
     "data": {
      "text/plain": [
       "['6598904.pdf',\n",
       " '8994847.pdf',\n",
       " '12549682.pdf',\n",
       " '10076002.pdf',\n",
       " '11572189.pdf',\n",
       " '8135057.pdf',\n",
       " '16395407.pdf',\n",
       " '7394922.pdf',\n",
       " '6947878.pdf']"
      ]
     },
     "execution_count": 509,
     "metadata": {},
     "output_type": "execute_result"
    }
   ],
   "source": [
    "files"
   ]
  },
  {
   "cell_type": "code",
   "execution_count": 510,
   "id": "be91584f",
   "metadata": {},
   "outputs": [
    {
     "name": "stdout",
     "output_type": "stream",
     "text": [
      "pdf tables extrated\n"
     ]
    }
   ],
   "source": [
    "df = pd.DataFrame(columns=['description', 'units', 'pvp', \"date\", \"order_num\"])\n",
    "\n",
    "for pdf in files:\n",
    "    \n",
    "    order_num = pdf.replace(\".pdf\", \"\")\n",
    "    \n",
    "    #parser the text in the pdf (returns a dict)\n",
    "    raw = parser.from_file(pdf)\n",
    "    \n",
    "    # Extract the content (returns a str)\n",
    "    content = raw['content']\n",
    "    \n",
    "    # He know there is only one date in the document (and the format)\n",
    "    pattern = r'\\b\\d{2}/\\d{2}/\\d{2}\\b'  #meets the date format\n",
    "    \n",
    "    # Extract the date - returns a list of one elemnt\n",
    "    date = re.findall(pattern, content)[0]\n",
    "    \n",
    "    #Extract tables from the pdf:\n",
    "    tables = tabula.read_pdf(pdf, pages=\"all\", pandas_options={'header': None})\n",
    "    \n",
    "    #We know last table is always resume of ticket.exclude:\n",
    "    #tables = tables[:-1]\n",
    "    \n",
    "    #Information about products(main table) in different pages, are extracted as different tables:\n",
    "    for table in tables:\n",
    "        \n",
    "        if table[0][0] == \"IVA\":\n",
    "            continue\n",
    "        \n",
    "        table.rename(columns={0: \"description\", 1:\"units\", 2:\"pvp\"}, inplace=True)\n",
    "        table[\"date\"] = date\n",
    "        table[\"order_num\"] = order_num\n",
    "\n",
    "        result = pd.concat([df, table])\n",
    "\n",
    "        df = result\n",
    "print(\"pdf tables extrated\")"
   ]
  },
  {
   "cell_type": "code",
   "execution_count": 511,
   "id": "5944fef4",
   "metadata": {},
   "outputs": [
    {
     "data": {
      "text/html": [
       "<div>\n",
       "<style scoped>\n",
       "    .dataframe tbody tr th:only-of-type {\n",
       "        vertical-align: middle;\n",
       "    }\n",
       "\n",
       "    .dataframe tbody tr th {\n",
       "        vertical-align: top;\n",
       "    }\n",
       "\n",
       "    .dataframe thead th {\n",
       "        text-align: right;\n",
       "    }\n",
       "</style>\n",
       "<table border=\"1\" class=\"dataframe\">\n",
       "  <thead>\n",
       "    <tr style=\"text-align: right;\">\n",
       "      <th></th>\n",
       "      <th>description</th>\n",
       "      <th>units</th>\n",
       "      <th>pvp</th>\n",
       "      <th>date</th>\n",
       "      <th>order_num</th>\n",
       "    </tr>\n",
       "  </thead>\n",
       "  <tbody>\n",
       "    <tr>\n",
       "      <th>0</th>\n",
       "      <td>Friegasuelos pino Bosque Verde líquido</td>\n",
       "      <td>4</td>\n",
       "      <td>2,72 €</td>\n",
       "      <td>16/09/20</td>\n",
       "      <td>6598904</td>\n",
       "    </tr>\n",
       "    <tr>\n",
       "      <th>1</th>\n",
       "      <td>Papel multiusos resistente Bosque Verde</td>\n",
       "      <td>1</td>\n",
       "      <td>2,89 €</td>\n",
       "      <td>16/09/20</td>\n",
       "      <td>6598904</td>\n",
       "    </tr>\n",
       "    <tr>\n",
       "      <th>2</th>\n",
       "      <td>Papel higiénico doble rollo Bosque Verde</td>\n",
       "      <td>3</td>\n",
       "      <td>11,46 €</td>\n",
       "      <td>16/09/20</td>\n",
       "      <td>6598904</td>\n",
       "    </tr>\n",
       "    <tr>\n",
       "      <th>3</th>\n",
       "      <td>Lavavajillas aloe Bosque Verde concentrado</td>\n",
       "      <td>4</td>\n",
       "      <td>6,20 €</td>\n",
       "      <td>16/09/20</td>\n",
       "      <td>6598904</td>\n",
       "    </tr>\n",
       "    <tr>\n",
       "      <th>4</th>\n",
       "      <td>Suavizante ropa talco Bosque Verde concentrado</td>\n",
       "      <td>2</td>\n",
       "      <td>3,58 €</td>\n",
       "      <td>16/09/20</td>\n",
       "      <td>6598904</td>\n",
       "    </tr>\n",
       "    <tr>\n",
       "      <th>...</th>\n",
       "      <td>...</td>\n",
       "      <td>...</td>\n",
       "      <td>...</td>\n",
       "      <td>...</td>\n",
       "      <td>...</td>\n",
       "    </tr>\n",
       "    <tr>\n",
       "      <th>13</th>\n",
       "      <td>Activador del lavado ropa blanca Bosque Verde ...</td>\n",
       "      <td>1</td>\n",
       "      <td>1,60 €</td>\n",
       "      <td>07/11/20</td>\n",
       "      <td>6947878</td>\n",
       "    </tr>\n",
       "    <tr>\n",
       "      <th>14</th>\n",
       "      <td>Suavizante ropa talco Bosque Verde concentrado</td>\n",
       "      <td>2</td>\n",
       "      <td>3,58 €</td>\n",
       "      <td>07/11/20</td>\n",
       "      <td>6947878</td>\n",
       "    </tr>\n",
       "    <tr>\n",
       "      <th>15</th>\n",
       "      <td>Lavavajillas aloe Bosque Verde concentrado</td>\n",
       "      <td>1</td>\n",
       "      <td>1,55 €</td>\n",
       "      <td>07/11/20</td>\n",
       "      <td>6947878</td>\n",
       "    </tr>\n",
       "    <tr>\n",
       "      <th>16</th>\n",
       "      <td>Lejía con detergente Bosque Verde</td>\n",
       "      <td>1</td>\n",
       "      <td>0,71 €</td>\n",
       "      <td>07/11/20</td>\n",
       "      <td>6947878</td>\n",
       "    </tr>\n",
       "    <tr>\n",
       "      <th>17</th>\n",
       "      <td>Friegasuelos pino Bosque Verde líquido</td>\n",
       "      <td>1</td>\n",
       "      <td>0,65 €</td>\n",
       "      <td>07/11/20</td>\n",
       "      <td>6947878</td>\n",
       "    </tr>\n",
       "  </tbody>\n",
       "</table>\n",
       "<p>134 rows × 5 columns</p>\n",
       "</div>"
      ],
      "text/plain": [
       "                                          description units      pvp  \\\n",
       "0              Friegasuelos pino Bosque Verde líquido     4   2,72 €   \n",
       "1             Papel multiusos resistente Bosque Verde     1   2,89 €   \n",
       "2            Papel higiénico doble rollo Bosque Verde     3  11,46 €   \n",
       "3          Lavavajillas aloe Bosque Verde concentrado     4   6,20 €   \n",
       "4      Suavizante ropa talco Bosque Verde concentrado     2   3,58 €   \n",
       "..                                                ...   ...      ...   \n",
       "13  Activador del lavado ropa blanca Bosque Verde ...     1   1,60 €   \n",
       "14     Suavizante ropa talco Bosque Verde concentrado     2   3,58 €   \n",
       "15         Lavavajillas aloe Bosque Verde concentrado     1   1,55 €   \n",
       "16                  Lejía con detergente Bosque Verde     1   0,71 €   \n",
       "17             Friegasuelos pino Bosque Verde líquido     1   0,65 €   \n",
       "\n",
       "        date order_num  \n",
       "0   16/09/20   6598904  \n",
       "1   16/09/20   6598904  \n",
       "2   16/09/20   6598904  \n",
       "3   16/09/20   6598904  \n",
       "4   16/09/20   6598904  \n",
       "..       ...       ...  \n",
       "13  07/11/20   6947878  \n",
       "14  07/11/20   6947878  \n",
       "15  07/11/20   6947878  \n",
       "16  07/11/20   6947878  \n",
       "17  07/11/20   6947878  \n",
       "\n",
       "[134 rows x 5 columns]"
      ]
     },
     "execution_count": 511,
     "metadata": {},
     "output_type": "execute_result"
    }
   ],
   "source": [
    "df"
   ]
  },
  {
   "cell_type": "code",
   "execution_count": 512,
   "id": "cea41175",
   "metadata": {},
   "outputs": [
    {
     "name": "stdout",
     "output_type": "stream",
     "text": [
      "<class 'pandas.core.frame.DataFrame'>\n",
      "Index: 134 entries, 0 to 17\n",
      "Data columns (total 5 columns):\n",
      " #   Column       Non-Null Count  Dtype \n",
      "---  ------       --------------  ----- \n",
      " 0   description  134 non-null    object\n",
      " 1   units        129 non-null    object\n",
      " 2   pvp          129 non-null    object\n",
      " 3   date         134 non-null    object\n",
      " 4   order_num    134 non-null    object\n",
      "dtypes: object(5)\n",
      "memory usage: 6.3+ KB\n"
     ]
    }
   ],
   "source": [
    "df.info()"
   ]
  },
  {
   "cell_type": "code",
   "execution_count": 485,
   "id": "878b3e0e",
   "metadata": {},
   "outputs": [],
   "source": [
    "def drop_na(df, column):\n",
    "    nans = df[df[column].isna()].shape[0]\n",
    "    df.dropna(subset=['description'], inplace = True)\n",
    "    \n",
    "    print(f\"{nans} rows droped in colum {column}\")\n",
    "    \n",
    "    return"
   ]
  },
  {
   "cell_type": "code",
   "execution_count": 486,
   "id": "b783e8a4",
   "metadata": {},
   "outputs": [
    {
     "name": "stdout",
     "output_type": "stream",
     "text": [
      "13 rows droped in colum description\n"
     ]
    }
   ],
   "source": [
    "drop_na(df, \"description\")"
   ]
  },
  {
   "cell_type": "code",
   "execution_count": null,
   "id": "14e81b3a",
   "metadata": {},
   "outputs": [],
   "source": []
  },
  {
   "cell_type": "code",
   "execution_count": 487,
   "id": "3c656f98",
   "metadata": {},
   "outputs": [
    {
     "data": {
      "text/html": [
       "<div>\n",
       "<style scoped>\n",
       "    .dataframe tbody tr th:only-of-type {\n",
       "        vertical-align: middle;\n",
       "    }\n",
       "\n",
       "    .dataframe tbody tr th {\n",
       "        vertical-align: top;\n",
       "    }\n",
       "\n",
       "    .dataframe thead th {\n",
       "        text-align: right;\n",
       "    }\n",
       "</style>\n",
       "<table border=\"1\" class=\"dataframe\">\n",
       "  <thead>\n",
       "    <tr style=\"text-align: right;\">\n",
       "      <th></th>\n",
       "      <th>description</th>\n",
       "      <th>units</th>\n",
       "      <th>pvp</th>\n",
       "      <th>date</th>\n",
       "      <th>order_num</th>\n",
       "      <th>3</th>\n",
       "    </tr>\n",
       "  </thead>\n",
       "  <tbody>\n",
       "    <tr>\n",
       "      <th>28</th>\n",
       "      <td>Papel Multiusos Resistente Bosque Verde</td>\n",
       "      <td>NaN</td>\n",
       "      <td>1.0</td>\n",
       "      <td>13/07/22</td>\n",
       "      <td>996926</td>\n",
       "      <td>3,45 €</td>\n",
       "    </tr>\n",
       "  </tbody>\n",
       "</table>\n",
       "</div>"
      ],
      "text/plain": [
       "                                description units  pvp      date order_num  \\\n",
       "28  Papel Multiusos Resistente Bosque Verde   NaN  1.0  13/07/22    996926   \n",
       "\n",
       "         3  \n",
       "28  3,45 €  "
      ]
     },
     "execution_count": 487,
     "metadata": {},
     "output_type": "execute_result"
    }
   ],
   "source": [
    "# Vamos a ver que datos podemos encontrar en la columna 3:\n",
    "not_nan_3 = df[df[3].isna() == False]\n",
    "\n",
    "not_nan_3.sample()"
   ]
  },
  {
   "cell_type": "code",
   "execution_count": 488,
   "id": "58df522c",
   "metadata": {},
   "outputs": [
    {
     "data": {
      "text/plain": [
       "(779, 6)"
      ]
     },
     "execution_count": 488,
     "metadata": {},
     "output_type": "execute_result"
    }
   ],
   "source": [
    "#Eliminamos estas filas (luego las vamos a volver a incluir)\n",
    "df = df[df[3].isna() == True]\n",
    "df.shape"
   ]
  },
  {
   "cell_type": "code",
   "execution_count": 489,
   "id": "b7305f52",
   "metadata": {},
   "outputs": [
    {
     "name": "stderr",
     "output_type": "stream",
     "text": [
      "/var/folders/k4/q8g97p495cx7f63kbs0wzyc00000gn/T/ipykernel_9684/2995014200.py:3: SettingWithCopyWarning: \n",
      "A value is trying to be set on a copy of a slice from a DataFrame.\n",
      "Try using .loc[row_indexer,col_indexer] = value instead\n",
      "\n",
      "See the caveats in the documentation: https://pandas.pydata.org/pandas-docs/stable/user_guide/indexing.html#returning-a-view-versus-a-copy\n",
      "  not_nan_correct[\"units\"] = not_nan_3[\"pvp\"]\n",
      "/var/folders/k4/q8g97p495cx7f63kbs0wzyc00000gn/T/ipykernel_9684/2995014200.py:4: SettingWithCopyWarning: \n",
      "A value is trying to be set on a copy of a slice from a DataFrame.\n",
      "Try using .loc[row_indexer,col_indexer] = value instead\n",
      "\n",
      "See the caveats in the documentation: https://pandas.pydata.org/pandas-docs/stable/user_guide/indexing.html#returning-a-view-versus-a-copy\n",
      "  not_nan_correct[\"pvp\"] = not_nan_3[3]\n",
      "/var/folders/k4/q8g97p495cx7f63kbs0wzyc00000gn/T/ipykernel_9684/2995014200.py:5: SettingWithCopyWarning: \n",
      "A value is trying to be set on a copy of a slice from a DataFrame.\n",
      "Try using .loc[row_indexer,col_indexer] = value instead\n",
      "\n",
      "See the caveats in the documentation: https://pandas.pydata.org/pandas-docs/stable/user_guide/indexing.html#returning-a-view-versus-a-copy\n",
      "  not_nan_correct[3] = np.nan\n"
     ]
    }
   ],
   "source": [
    "# Vemos que es como si se hubieram desplazado, lo reognanizamos: \n",
    "not_nan_correct = not_nan_3\n",
    "not_nan_correct[\"units\"] = not_nan_3[\"pvp\"]\n",
    "not_nan_correct[\"pvp\"] = not_nan_3[3]\n",
    "not_nan_correct[3] = np.nan"
   ]
  },
  {
   "cell_type": "code",
   "execution_count": 490,
   "id": "ee8cb7cc",
   "metadata": {},
   "outputs": [],
   "source": [
    "not_nan_correct.sample()\n",
    "df = pd.concat([df, not_nan_correct])"
   ]
  },
  {
   "cell_type": "code",
   "execution_count": 491,
   "id": "de384b11",
   "metadata": {},
   "outputs": [
    {
     "data": {
      "text/plain": [
       "(827, 6)"
      ]
     },
     "execution_count": 491,
     "metadata": {},
     "output_type": "execute_result"
    }
   ],
   "source": [
    "df.shape # Se mantien el numpero de columnas por lo que lo hemos hecho bien"
   ]
  },
  {
   "cell_type": "code",
   "execution_count": 493,
   "id": "f3080a5e",
   "metadata": {},
   "outputs": [],
   "source": [
    "df = df.drop(3, axis=1)"
   ]
  },
  {
   "cell_type": "code",
   "execution_count": 494,
   "id": "60eb8256",
   "metadata": {},
   "outputs": [
    {
     "name": "stdout",
     "output_type": "stream",
     "text": [
      "<class 'pandas.core.frame.DataFrame'>\n",
      "Index: 827 entries, 0 to 18\n",
      "Data columns (total 5 columns):\n",
      " #   Column       Non-Null Count  Dtype \n",
      "---  ------       --------------  ----- \n",
      " 0   description  827 non-null    object\n",
      " 1   units        803 non-null    object\n",
      " 2   pvp          803 non-null    object\n",
      " 3   date         827 non-null    object\n",
      " 4   order_num    827 non-null    object\n",
      "dtypes: object(5)\n",
      "memory usage: 38.8+ KB\n"
     ]
    }
   ],
   "source": [
    "df.info()"
   ]
  },
  {
   "cell_type": "code",
   "execution_count": 496,
   "id": "6f396aea",
   "metadata": {},
   "outputs": [],
   "source": [
    "df.dropna(subset=['units'], inplace=True)"
   ]
  },
  {
   "cell_type": "code",
   "execution_count": 497,
   "id": "dd17cd7d",
   "metadata": {},
   "outputs": [
    {
     "data": {
      "text/html": [
       "<div>\n",
       "<style scoped>\n",
       "    .dataframe tbody tr th:only-of-type {\n",
       "        vertical-align: middle;\n",
       "    }\n",
       "\n",
       "    .dataframe tbody tr th {\n",
       "        vertical-align: top;\n",
       "    }\n",
       "\n",
       "    .dataframe thead th {\n",
       "        text-align: right;\n",
       "    }\n",
       "</style>\n",
       "<table border=\"1\" class=\"dataframe\">\n",
       "  <thead>\n",
       "    <tr style=\"text-align: right;\">\n",
       "      <th></th>\n",
       "      <th>description</th>\n",
       "      <th>units</th>\n",
       "      <th>pvp</th>\n",
       "      <th>date</th>\n",
       "      <th>order_num</th>\n",
       "    </tr>\n",
       "  </thead>\n",
       "  <tbody>\n",
       "    <tr>\n",
       "      <th>0</th>\n",
       "      <td>Jamón serrano Incarlopsa lonchas</td>\n",
       "      <td>1</td>\n",
       "      <td>3,49 €</td>\n",
       "      <td>01/10/20</td>\n",
       "      <td>302316</td>\n",
       "    </tr>\n",
       "    <tr>\n",
       "      <th>1</th>\n",
       "      <td>Queso fresco de cabra Hacendado</td>\n",
       "      <td>1</td>\n",
       "      <td>2,20 €</td>\n",
       "      <td>01/10/20</td>\n",
       "      <td>302316</td>\n",
       "    </tr>\n",
       "    <tr>\n",
       "      <th>2</th>\n",
       "      <td>Queso rallado 4 quesos Hacendado</td>\n",
       "      <td>1</td>\n",
       "      <td>1,59 €</td>\n",
       "      <td>01/10/20</td>\n",
       "      <td>302316</td>\n",
       "    </tr>\n",
       "    <tr>\n",
       "      <th>3</th>\n",
       "      <td>Perlas de mozzarella fresca Hacendado</td>\n",
       "      <td>1</td>\n",
       "      <td>1,70 €</td>\n",
       "      <td>01/10/20</td>\n",
       "      <td>302316</td>\n",
       "    </tr>\n",
       "    <tr>\n",
       "      <th>4</th>\n",
       "      <td>Mozzarella di bufala campana Hacendado</td>\n",
       "      <td>1</td>\n",
       "      <td>1,70 €</td>\n",
       "      <td>01/10/20</td>\n",
       "      <td>302316</td>\n",
       "    </tr>\n",
       "    <tr>\n",
       "      <th>...</th>\n",
       "      <td>...</td>\n",
       "      <td>...</td>\n",
       "      <td>...</td>\n",
       "      <td>...</td>\n",
       "      <td>...</td>\n",
       "    </tr>\n",
       "    <tr>\n",
       "      <th>14</th>\n",
       "      <td>Contramuslos de pollo deshuesados y sin piel</td>\n",
       "      <td>1.0</td>\n",
       "      <td>4,28 €</td>\n",
       "      <td>19/10/21</td>\n",
       "      <td>337881</td>\n",
       "    </tr>\n",
       "    <tr>\n",
       "      <th>15</th>\n",
       "      <td>Solomillos de pollo</td>\n",
       "      <td>1.0</td>\n",
       "      <td>5,19 €</td>\n",
       "      <td>19/10/21</td>\n",
       "      <td>337881</td>\n",
       "    </tr>\n",
       "    <tr>\n",
       "      <th>16</th>\n",
       "      <td>Filetes de dorada</td>\n",
       "      <td>1.0</td>\n",
       "      <td>6,77 €</td>\n",
       "      <td>19/10/21</td>\n",
       "      <td>337881</td>\n",
       "    </tr>\n",
       "    <tr>\n",
       "      <th>17</th>\n",
       "      <td>Aguacates</td>\n",
       "      <td>1.0</td>\n",
       "      <td>2,13 €</td>\n",
       "      <td>19/10/21</td>\n",
       "      <td>337881</td>\n",
       "    </tr>\n",
       "    <tr>\n",
       "      <th>18</th>\n",
       "      <td>Salmón ahumado Hacendado</td>\n",
       "      <td>1.0</td>\n",
       "      <td>2,71 €</td>\n",
       "      <td>19/10/21</td>\n",
       "      <td>337881</td>\n",
       "    </tr>\n",
       "  </tbody>\n",
       "</table>\n",
       "<p>803 rows × 5 columns</p>\n",
       "</div>"
      ],
      "text/plain": [
       "                                     description units     pvp      date  \\\n",
       "0               Jamón serrano Incarlopsa lonchas     1  3,49 €  01/10/20   \n",
       "1                Queso fresco de cabra Hacendado     1  2,20 €  01/10/20   \n",
       "2               Queso rallado 4 quesos Hacendado     1  1,59 €  01/10/20   \n",
       "3          Perlas de mozzarella fresca Hacendado     1  1,70 €  01/10/20   \n",
       "4         Mozzarella di bufala campana Hacendado     1  1,70 €  01/10/20   \n",
       "..                                           ...   ...     ...       ...   \n",
       "14  Contramuslos de pollo deshuesados y sin piel   1.0  4,28 €  19/10/21   \n",
       "15                           Solomillos de pollo   1.0  5,19 €  19/10/21   \n",
       "16                             Filetes de dorada   1.0  6,77 €  19/10/21   \n",
       "17                                     Aguacates   1.0  2,13 €  19/10/21   \n",
       "18                      Salmón ahumado Hacendado   1.0  2,71 €  19/10/21   \n",
       "\n",
       "   order_num  \n",
       "0     302316  \n",
       "1     302316  \n",
       "2     302316  \n",
       "3     302316  \n",
       "4     302316  \n",
       "..       ...  \n",
       "14    337881  \n",
       "15    337881  \n",
       "16    337881  \n",
       "17    337881  \n",
       "18    337881  \n",
       "\n",
       "[803 rows x 5 columns]"
      ]
     },
     "execution_count": 497,
     "metadata": {},
     "output_type": "execute_result"
    }
   ],
   "source": [
    "df"
   ]
  },
  {
   "cell_type": "code",
   "execution_count": 498,
   "id": "7b57c105",
   "metadata": {},
   "outputs": [
    {
     "name": "stdout",
     "output_type": "stream",
     "text": [
      "<class 'pandas.core.frame.DataFrame'>\n",
      "Index: 803 entries, 0 to 18\n",
      "Data columns (total 5 columns):\n",
      " #   Column       Non-Null Count  Dtype \n",
      "---  ------       --------------  ----- \n",
      " 0   description  803 non-null    object\n",
      " 1   units        803 non-null    object\n",
      " 2   pvp          803 non-null    object\n",
      " 3   date         803 non-null    object\n",
      " 4   order_num    803 non-null    object\n",
      "dtypes: object(5)\n",
      "memory usage: 37.6+ KB\n"
     ]
    }
   ],
   "source": [
    "df.info()"
   ]
  },
  {
   "cell_type": "code",
   "execution_count": 499,
   "id": "f4acb2c8",
   "metadata": {},
   "outputs": [
    {
     "name": "stdout",
     "output_type": "stream",
     "text": [
      "DataFrame successfully exported to facturas_family.csv\n"
     ]
    }
   ],
   "source": [
    "export_to_csv(df,\"facturas_family\")"
   ]
  },
  {
   "cell_type": "code",
   "execution_count": null,
   "id": "66cabb79",
   "metadata": {},
   "outputs": [],
   "source": []
  }
 ],
 "metadata": {
  "kernelspec": {
   "display_name": "ironhack",
   "language": "python",
   "name": "ironhack"
  },
  "language_info": {
   "codemirror_mode": {
    "name": "ipython",
    "version": 3
   },
   "file_extension": ".py",
   "mimetype": "text/x-python",
   "name": "python",
   "nbconvert_exporter": "python",
   "pygments_lexer": "ipython3",
   "version": "3.11.5"
  }
 },
 "nbformat": 4,
 "nbformat_minor": 5
}
