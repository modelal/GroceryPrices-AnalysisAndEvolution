{
 "cells": [
  {
   "cell_type": "code",
   "execution_count": 537,
   "id": "c15f38cd",
   "metadata": {},
   "outputs": [],
   "source": [
    "import tabula #Extracting tables from pdf\n",
    "#from pdfminer.high_level import extract_pages, ectract_text\n",
    "import os\n",
    "import re\n",
    "from tika import parser # pip install tika\n",
    "\n",
    "import pandas as pd\n",
    "import numpy as np"
   ]
  },
  {
   "cell_type": "code",
   "execution_count": 538,
   "id": "0865a009",
   "metadata": {},
   "outputs": [],
   "source": [
    "def export_to_csv(data_frame, file_name):\n",
    "    \"\"\"\n",
    "    Export a DataFrame to a CSV file.\n",
    "\n",
    "    Parameters:\n",
    "        - data_frame: pandas DataFrame\n",
    "        - file_name: str, name of the CSV file (without the extension)\n",
    "    \"\"\"\n",
    "    #print date stamp - datetime.datetime.now()\n",
    "    \n",
    "    #t_stamp = str(datetime.datetime.now()).split(\".\")[0].replace(\" \",\"_\")\n",
    "    \n",
    "    file_path = f\"{file_name}.csv\"\n",
    "    \n",
    "    data_frame.to_csv(file_path, index=False)\n",
    "    print(f\"DataFrame successfully exported to {file_path}\")"
   ]
  },
  {
   "cell_type": "code",
   "execution_count": 540,
   "id": "39a0f390",
   "metadata": {},
   "outputs": [
    {
     "data": {
      "text/plain": [
       "'/Users/Moni/Ironhack/my_ironhack/projects/final-project/data/historico-facturas-pdf/palacet'"
      ]
     },
     "execution_count": 540,
     "metadata": {},
     "output_type": "execute_result"
    }
   ],
   "source": [
    "pwd"
   ]
  },
  {
   "cell_type": "code",
   "execution_count": 541,
   "id": "42a9fa24",
   "metadata": {},
   "outputs": [],
   "source": [
    "path = os.listdir(\"/Users/Moni/Ironhack/my_ironhack/projects/final-project/data/historico-facturas-pdf/palacet\")\n",
    "\n",
    "# Extract name of documents\n",
    "files = [i for i in path if \".DS\" not in i]\n",
    "\n",
    "#for testing\n",
    "#files = files[3:5]"
   ]
  },
  {
   "cell_type": "code",
   "execution_count": 543,
   "id": "be91584f",
   "metadata": {},
   "outputs": [
    {
     "name": "stderr",
     "output_type": "stream",
     "text": [
      "Error from tabula-java:\n",
      "Error: Error: End-of-File, expected line\n",
      "\n",
      "\n"
     ]
    },
    {
     "ename": "CalledProcessError",
     "evalue": "Command '['java', '-Djava.awt.headless=true', '-Dfile.encoding=UTF8', '-jar', '/Users/Moni/miniconda3/envs/ironhack/lib/python3.11/site-packages/tabula/tabula-1.0.5-jar-with-dependencies.jar', '--pages', 'all', '--guess', '--format', 'JSON', 'facturas_palacet.csv']' returned non-zero exit status 1.",
     "output_type": "error",
     "traceback": [
      "\u001b[0;31m---------------------------------------------------------------------------\u001b[0m",
      "\u001b[0;31mCalledProcessError\u001b[0m                        Traceback (most recent call last)",
      "Cell \u001b[0;32mIn[543], line 20\u001b[0m\n\u001b[1;32m     17\u001b[0m date \u001b[38;5;241m=\u001b[39m re\u001b[38;5;241m.\u001b[39mfindall(pattern, content)[\u001b[38;5;241m0\u001b[39m]\n\u001b[1;32m     19\u001b[0m \u001b[38;5;66;03m#Extract tables from the pdf:\u001b[39;00m\n\u001b[0;32m---> 20\u001b[0m tables \u001b[38;5;241m=\u001b[39m tabula\u001b[38;5;241m.\u001b[39mread_pdf(pdf, pages\u001b[38;5;241m=\u001b[39m\u001b[38;5;124m\"\u001b[39m\u001b[38;5;124mall\u001b[39m\u001b[38;5;124m\"\u001b[39m, pandas_options\u001b[38;5;241m=\u001b[39m{\u001b[38;5;124m'\u001b[39m\u001b[38;5;124mheader\u001b[39m\u001b[38;5;124m'\u001b[39m: \u001b[38;5;28;01mNone\u001b[39;00m})\n\u001b[1;32m     22\u001b[0m \u001b[38;5;66;03m#We know last table is always resume of ticket.exclude:\u001b[39;00m\n\u001b[1;32m     23\u001b[0m \u001b[38;5;66;03m#tables = tables[:-1]\u001b[39;00m\n\u001b[1;32m     24\u001b[0m \n\u001b[1;32m     25\u001b[0m \u001b[38;5;66;03m#Information about products(main table) in different pages, are extracted as different tables:\u001b[39;00m\n\u001b[1;32m     26\u001b[0m \u001b[38;5;28;01mfor\u001b[39;00m table \u001b[38;5;129;01min\u001b[39;00m tables:\n",
      "File \u001b[0;32m~/miniconda3/envs/ironhack/lib/python3.11/site-packages/tabula/io.py:395\u001b[0m, in \u001b[0;36mread_pdf\u001b[0;34m(input_path, output_format, encoding, java_options, pandas_options, multiple_tables, user_agent, use_raw_url, pages, guess, area, relative_area, lattice, stream, password, silent, columns, relative_columns, format, batch, output_path, force_subprocess, options)\u001b[0m\n\u001b[1;32m    392\u001b[0m     \u001b[38;5;28;01mraise\u001b[39;00m \u001b[38;5;167;01mValueError\u001b[39;00m(\u001b[38;5;124mf\u001b[39m\u001b[38;5;124m\"\u001b[39m\u001b[38;5;132;01m{\u001b[39;00mpath\u001b[38;5;132;01m}\u001b[39;00m\u001b[38;5;124m is empty. Check the file, or download it manually.\u001b[39m\u001b[38;5;124m\"\u001b[39m)\n\u001b[1;32m    394\u001b[0m \u001b[38;5;28;01mtry\u001b[39;00m:\n\u001b[0;32m--> 395\u001b[0m     output \u001b[38;5;241m=\u001b[39m _run(\n\u001b[1;32m    396\u001b[0m         tabula_options,\n\u001b[1;32m    397\u001b[0m         java_options,\n\u001b[1;32m    398\u001b[0m         path,\n\u001b[1;32m    399\u001b[0m         encoding\u001b[38;5;241m=\u001b[39mencoding,\n\u001b[1;32m    400\u001b[0m         force_subprocess\u001b[38;5;241m=\u001b[39mforce_subprocess,\n\u001b[1;32m    401\u001b[0m     )\n\u001b[1;32m    402\u001b[0m \u001b[38;5;28;01mfinally\u001b[39;00m:\n\u001b[1;32m    403\u001b[0m     \u001b[38;5;28;01mif\u001b[39;00m temporary:\n",
      "File \u001b[0;32m~/miniconda3/envs/ironhack/lib/python3.11/site-packages/tabula/io.py:82\u001b[0m, in \u001b[0;36m_run\u001b[0;34m(options, java_options, path, encoding, force_subprocess)\u001b[0m\n\u001b[1;32m     79\u001b[0m \u001b[38;5;28;01melif\u001b[39;00m \u001b[38;5;28mset\u001b[39m(java_options) \u001b[38;5;241m-\u001b[39m IGNORED_JAVA_OPTIONS:\n\u001b[1;32m     80\u001b[0m     logger\u001b[38;5;241m.\u001b[39mwarning(\u001b[38;5;124m\"\u001b[39m\u001b[38;5;124mjava_options is ignored until rebooting the Python process.\u001b[39m\u001b[38;5;124m\"\u001b[39m)\n\u001b[0;32m---> 82\u001b[0m \u001b[38;5;28;01mreturn\u001b[39;00m _tabula_vm\u001b[38;5;241m.\u001b[39mcall_tabula_java(options, path)\n",
      "File \u001b[0;32m~/miniconda3/envs/ironhack/lib/python3.11/site-packages/tabula/backend.py:108\u001b[0m, in \u001b[0;36mSubprocessTabula.call_tabula_java\u001b[0;34m(self, options, path)\u001b[0m\n\u001b[1;32m    105\u001b[0m     args\u001b[38;5;241m.\u001b[39mappend(path)\n\u001b[1;32m    107\u001b[0m \u001b[38;5;28;01mtry\u001b[39;00m:\n\u001b[0;32m--> 108\u001b[0m     result \u001b[38;5;241m=\u001b[39m subprocess\u001b[38;5;241m.\u001b[39mrun(\n\u001b[1;32m    109\u001b[0m         args,\n\u001b[1;32m    110\u001b[0m         stdout\u001b[38;5;241m=\u001b[39msubprocess\u001b[38;5;241m.\u001b[39mPIPE,\n\u001b[1;32m    111\u001b[0m         stderr\u001b[38;5;241m=\u001b[39msubprocess\u001b[38;5;241m.\u001b[39mPIPE,\n\u001b[1;32m    112\u001b[0m         stdin\u001b[38;5;241m=\u001b[39msubprocess\u001b[38;5;241m.\u001b[39mDEVNULL,\n\u001b[1;32m    113\u001b[0m         check\u001b[38;5;241m=\u001b[39m\u001b[38;5;28;01mTrue\u001b[39;00m,\n\u001b[1;32m    114\u001b[0m     )\n\u001b[1;32m    115\u001b[0m     \u001b[38;5;28;01mif\u001b[39;00m result\u001b[38;5;241m.\u001b[39mstderr:\n\u001b[1;32m    116\u001b[0m         logger\u001b[38;5;241m.\u001b[39mwarning(\u001b[38;5;124mf\u001b[39m\u001b[38;5;124m\"\u001b[39m\u001b[38;5;124mGot stderr: \u001b[39m\u001b[38;5;132;01m{\u001b[39;00mresult\u001b[38;5;241m.\u001b[39mstderr\u001b[38;5;241m.\u001b[39mdecode(\u001b[38;5;28mself\u001b[39m\u001b[38;5;241m.\u001b[39mencoding)\u001b[38;5;132;01m}\u001b[39;00m\u001b[38;5;124m\"\u001b[39m)\n",
      "File \u001b[0;32m~/miniconda3/envs/ironhack/lib/python3.11/subprocess.py:571\u001b[0m, in \u001b[0;36mrun\u001b[0;34m(input, capture_output, timeout, check, *popenargs, **kwargs)\u001b[0m\n\u001b[1;32m    569\u001b[0m     retcode \u001b[38;5;241m=\u001b[39m process\u001b[38;5;241m.\u001b[39mpoll()\n\u001b[1;32m    570\u001b[0m     \u001b[38;5;28;01mif\u001b[39;00m check \u001b[38;5;129;01mand\u001b[39;00m retcode:\n\u001b[0;32m--> 571\u001b[0m         \u001b[38;5;28;01mraise\u001b[39;00m CalledProcessError(retcode, process\u001b[38;5;241m.\u001b[39margs,\n\u001b[1;32m    572\u001b[0m                                  output\u001b[38;5;241m=\u001b[39mstdout, stderr\u001b[38;5;241m=\u001b[39mstderr)\n\u001b[1;32m    573\u001b[0m \u001b[38;5;28;01mreturn\u001b[39;00m CompletedProcess(process\u001b[38;5;241m.\u001b[39margs, retcode, stdout, stderr)\n",
      "\u001b[0;31mCalledProcessError\u001b[0m: Command '['java', '-Djava.awt.headless=true', '-Dfile.encoding=UTF8', '-jar', '/Users/Moni/miniconda3/envs/ironhack/lib/python3.11/site-packages/tabula/tabula-1.0.5-jar-with-dependencies.jar', '--pages', 'all', '--guess', '--format', 'JSON', 'facturas_palacet.csv']' returned non-zero exit status 1."
     ]
    }
   ],
   "source": [
    "df = pd.DataFrame(columns=['description', 'units', 'price', \"date\", \"order_num\"])\n",
    "\n",
    "for pdf in files:\n",
    "    \n",
    "    order_num = pdf.replace(\".pdf\", \"\")\n",
    "    \n",
    "    #parser the text in the pdf (returns a dict)\n",
    "    raw = parser.from_file(pdf)\n",
    "    \n",
    "    # Extract the content (returns a str)\n",
    "    content = raw['content']\n",
    "    \n",
    "    # He know there is only one date in the document (and the format)\n",
    "    pattern = r'\\b\\d{2}/\\d{2}/\\d{2}\\b'  #meets the date format\n",
    "    \n",
    "    # Extract the date - returns a list of one elemnt\n",
    "    date = re.findall(pattern, content)[0]\n",
    "    \n",
    "    #Extract tables from the pdf:\n",
    "    tables = tabula.read_pdf(pdf, pages=\"all\", pandas_options={'header': None})\n",
    "    \n",
    "    #We know last table is always resume of ticket.exclude:\n",
    "    #tables = tables[:-1]\n",
    "    \n",
    "    #Information about products(main table) in different pages, are extracted as different tables:\n",
    "    for table in tables:\n",
    "        \n",
    "        if table[0][0] == \"IVA\":\n",
    "            continue\n",
    "        \n",
    "        table.rename(columns={0: \"description\", 1:\"units\", 2:\"price\"}, inplace=True)\n",
    "        table[\"date\"] = date\n",
    "        table[\"order_num\"] = order_num\n",
    "\n",
    "        result = pd.concat([df, table])\n",
    "\n",
    "        df = result\n",
    "print(\"pdf tables extrated\")"
   ]
  },
  {
   "cell_type": "code",
   "execution_count": 515,
   "id": "bfa422dd",
   "metadata": {},
   "outputs": [
    {
     "data": {
      "text/html": [
       "<div>\n",
       "<style scoped>\n",
       "    .dataframe tbody tr th:only-of-type {\n",
       "        vertical-align: middle;\n",
       "    }\n",
       "\n",
       "    .dataframe tbody tr th {\n",
       "        vertical-align: top;\n",
       "    }\n",
       "\n",
       "    .dataframe thead th {\n",
       "        text-align: right;\n",
       "    }\n",
       "</style>\n",
       "<table border=\"1\" class=\"dataframe\">\n",
       "  <thead>\n",
       "    <tr style=\"text-align: right;\">\n",
       "      <th></th>\n",
       "      <th>description</th>\n",
       "      <th>units</th>\n",
       "      <th>pvp</th>\n",
       "      <th>date</th>\n",
       "      <th>order_num</th>\n",
       "    </tr>\n",
       "  </thead>\n",
       "  <tbody>\n",
       "    <tr>\n",
       "      <th>14</th>\n",
       "      <td>Lavavajillas aloe Bosque Verde concentrado</td>\n",
       "      <td>2</td>\n",
       "      <td>3,10 €</td>\n",
       "      <td>30/06/21</td>\n",
       "      <td>8994847</td>\n",
       "    </tr>\n",
       "  </tbody>\n",
       "</table>\n",
       "</div>"
      ],
      "text/plain": [
       "                                   description units     pvp      date  \\\n",
       "14  Lavavajillas aloe Bosque Verde concentrado     2  3,10 €  30/06/21   \n",
       "\n",
       "   order_num  \n",
       "14   8994847  "
      ]
     },
     "execution_count": 515,
     "metadata": {},
     "output_type": "execute_result"
    }
   ],
   "source": [
    "df.sample()"
   ]
  },
  {
   "cell_type": "code",
   "execution_count": 512,
   "id": "a247eff1",
   "metadata": {},
   "outputs": [
    {
     "name": "stdout",
     "output_type": "stream",
     "text": [
      "<class 'pandas.core.frame.DataFrame'>\n",
      "Index: 134 entries, 0 to 17\n",
      "Data columns (total 5 columns):\n",
      " #   Column       Non-Null Count  Dtype \n",
      "---  ------       --------------  ----- \n",
      " 0   description  134 non-null    object\n",
      " 1   units        129 non-null    object\n",
      " 2   pvp          129 non-null    object\n",
      " 3   date         134 non-null    object\n",
      " 4   order_num    134 non-null    object\n",
      "dtypes: object(5)\n",
      "memory usage: 6.3+ KB\n"
     ]
    }
   ],
   "source": [
    "df.info()"
   ]
  },
  {
   "cell_type": "code",
   "execution_count": 513,
   "id": "4bca1bd9",
   "metadata": {},
   "outputs": [
    {
     "data": {
      "text/html": [
       "<div>\n",
       "<style scoped>\n",
       "    .dataframe tbody tr th:only-of-type {\n",
       "        vertical-align: middle;\n",
       "    }\n",
       "\n",
       "    .dataframe tbody tr th {\n",
       "        vertical-align: top;\n",
       "    }\n",
       "\n",
       "    .dataframe thead th {\n",
       "        text-align: right;\n",
       "    }\n",
       "</style>\n",
       "<table border=\"1\" class=\"dataframe\">\n",
       "  <thead>\n",
       "    <tr style=\"text-align: right;\">\n",
       "      <th></th>\n",
       "      <th>description</th>\n",
       "      <th>units</th>\n",
       "      <th>pvp</th>\n",
       "      <th>date</th>\n",
       "      <th>order_num</th>\n",
       "    </tr>\n",
       "  </thead>\n",
       "  <tbody>\n",
       "    <tr>\n",
       "      <th>0</th>\n",
       "      <td>Suavizante ropa Floral Bosque Verde concentrad...</td>\n",
       "      <td>NaN</td>\n",
       "      <td>NaN</td>\n",
       "      <td>12/12/23</td>\n",
       "      <td>16395407</td>\n",
       "    </tr>\n",
       "    <tr>\n",
       "      <th>0</th>\n",
       "      <td>Toallitas limpiadoras de suelo Bosque Verde23,...</td>\n",
       "      <td>NaN</td>\n",
       "      <td>NaN</td>\n",
       "      <td>12/12/23</td>\n",
       "      <td>16395407</td>\n",
       "    </tr>\n",
       "    <tr>\n",
       "      <th>0</th>\n",
       "      <td>Lejía con detergente Bosque Verde22,30 €</td>\n",
       "      <td>NaN</td>\n",
       "      <td>NaN</td>\n",
       "      <td>12/12/23</td>\n",
       "      <td>16395407</td>\n",
       "    </tr>\n",
       "    <tr>\n",
       "      <th>0</th>\n",
       "      <td>Bolsa de basura Bosque Verde 30L cubo mediano2...</td>\n",
       "      <td>NaN</td>\n",
       "      <td>NaN</td>\n",
       "      <td>12/12/23</td>\n",
       "      <td>16395407</td>\n",
       "    </tr>\n",
       "    <tr>\n",
       "      <th>0</th>\n",
       "      <td>Friegasuelos Pino Bosque Verde líquido32,85 €</td>\n",
       "      <td>NaN</td>\n",
       "      <td>NaN</td>\n",
       "      <td>12/12/23</td>\n",
       "      <td>16395407</td>\n",
       "    </tr>\n",
       "  </tbody>\n",
       "</table>\n",
       "</div>"
      ],
      "text/plain": [
       "                                         description units  pvp      date  \\\n",
       "0  Suavizante ropa Floral Bosque Verde concentrad...   NaN  NaN  12/12/23   \n",
       "0  Toallitas limpiadoras de suelo Bosque Verde23,...   NaN  NaN  12/12/23   \n",
       "0           Lejía con detergente Bosque Verde22,30 €   NaN  NaN  12/12/23   \n",
       "0  Bolsa de basura Bosque Verde 30L cubo mediano2...   NaN  NaN  12/12/23   \n",
       "0      Friegasuelos Pino Bosque Verde líquido32,85 €   NaN  NaN  12/12/23   \n",
       "\n",
       "  order_num  \n",
       "0  16395407  \n",
       "0  16395407  \n",
       "0  16395407  \n",
       "0  16395407  \n",
       "0  16395407  "
      ]
     },
     "execution_count": 513,
     "metadata": {},
     "output_type": "execute_result"
    }
   ],
   "source": [
    "df[df[\"units\"].isna()]"
   ]
  },
  {
   "cell_type": "code",
   "execution_count": 516,
   "id": "82dfbbad",
   "metadata": {},
   "outputs": [],
   "source": [
    "df.dropna(subset=['units'], inplace=True)"
   ]
  },
  {
   "cell_type": "code",
   "execution_count": 519,
   "id": "ebab08e9",
   "metadata": {},
   "outputs": [
    {
     "data": {
      "text/html": [
       "<div>\n",
       "<style scoped>\n",
       "    .dataframe tbody tr th:only-of-type {\n",
       "        vertical-align: middle;\n",
       "    }\n",
       "\n",
       "    .dataframe tbody tr th {\n",
       "        vertical-align: top;\n",
       "    }\n",
       "\n",
       "    .dataframe thead th {\n",
       "        text-align: right;\n",
       "    }\n",
       "</style>\n",
       "<table border=\"1\" class=\"dataframe\">\n",
       "  <thead>\n",
       "    <tr style=\"text-align: right;\">\n",
       "      <th></th>\n",
       "      <th>description</th>\n",
       "      <th>units</th>\n",
       "      <th>pvp</th>\n",
       "      <th>date</th>\n",
       "      <th>order_num</th>\n",
       "    </tr>\n",
       "  </thead>\n",
       "  <tbody>\n",
       "    <tr>\n",
       "      <th>15</th>\n",
       "      <td>Lavavajillas aloe Bosque Verde concentrado</td>\n",
       "      <td>1</td>\n",
       "      <td>1,55 €</td>\n",
       "      <td>07/11/20</td>\n",
       "      <td>6947878</td>\n",
       "    </tr>\n",
       "  </tbody>\n",
       "</table>\n",
       "</div>"
      ],
      "text/plain": [
       "                                   description units     pvp      date  \\\n",
       "15  Lavavajillas aloe Bosque Verde concentrado     1  1,55 €  07/11/20   \n",
       "\n",
       "   order_num  \n",
       "15   6947878  "
      ]
     },
     "execution_count": 519,
     "metadata": {},
     "output_type": "execute_result"
    }
   ],
   "source": [
    "df.sample()"
   ]
  },
  {
   "cell_type": "code",
   "execution_count": 518,
   "id": "8e1b3738",
   "metadata": {},
   "outputs": [
    {
     "name": "stdout",
     "output_type": "stream",
     "text": [
      "<class 'pandas.core.frame.DataFrame'>\n",
      "Index: 129 entries, 0 to 17\n",
      "Data columns (total 5 columns):\n",
      " #   Column       Non-Null Count  Dtype \n",
      "---  ------       --------------  ----- \n",
      " 0   description  129 non-null    object\n",
      " 1   units        129 non-null    object\n",
      " 2   pvp          129 non-null    object\n",
      " 3   date         129 non-null    object\n",
      " 4   order_num    129 non-null    object\n",
      "dtypes: object(5)\n",
      "memory usage: 6.0+ KB\n"
     ]
    }
   ],
   "source": [
    "df.info()"
   ]
  },
  {
   "cell_type": "code",
   "execution_count": 532,
   "id": "112d425d",
   "metadata": {},
   "outputs": [
    {
     "data": {
      "text/html": [
       "<div>\n",
       "<style scoped>\n",
       "    .dataframe tbody tr th:only-of-type {\n",
       "        vertical-align: middle;\n",
       "    }\n",
       "\n",
       "    .dataframe tbody tr th {\n",
       "        vertical-align: top;\n",
       "    }\n",
       "\n",
       "    .dataframe thead th {\n",
       "        text-align: right;\n",
       "    }\n",
       "</style>\n",
       "<table border=\"1\" class=\"dataframe\">\n",
       "  <thead>\n",
       "    <tr style=\"text-align: right;\">\n",
       "      <th></th>\n",
       "      <th>description</th>\n",
       "      <th>units</th>\n",
       "      <th>pvp</th>\n",
       "      <th>date</th>\n",
       "      <th>order_num</th>\n",
       "      <th>pvp_€</th>\n",
       "      <th>pvp/ud</th>\n",
       "    </tr>\n",
       "  </thead>\n",
       "  <tbody>\n",
       "    <tr>\n",
       "      <th>13</th>\n",
       "      <td>Papel Multiusos Resistente Bosque Verde</td>\n",
       "      <td>2</td>\n",
       "      <td>5,40 €</td>\n",
       "      <td>30/06/21</td>\n",
       "      <td>8994847</td>\n",
       "      <td>5.4</td>\n",
       "      <td>2.7</td>\n",
       "    </tr>\n",
       "  </tbody>\n",
       "</table>\n",
       "</div>"
      ],
      "text/plain": [
       "                                description units     pvp      date order_num  \\\n",
       "13  Papel Multiusos Resistente Bosque Verde     2  5,40 €  30/06/21   8994847   \n",
       "\n",
       "    pvp_€ pvp/ud  \n",
       "13    5.4    2.7  "
      ]
     },
     "execution_count": 532,
     "metadata": {},
     "output_type": "execute_result"
    }
   ],
   "source": [
    "df.sample()"
   ]
  },
  {
   "cell_type": "code",
   "execution_count": 527,
   "id": "6d7ff289",
   "metadata": {},
   "outputs": [],
   "source": [
    "df[\"price_eu\"] = df[\"price\"].str.replace(\"€\",\"\").str.replace(\",\",\".\").str.strip().astype(float)\n",
    "df[\"unit_price\"] = df[\"price_eu\"]/df[\"units\"]"
   ]
  },
  {
   "cell_type": "code",
   "execution_count": 534,
   "id": "e73ec4f7",
   "metadata": {},
   "outputs": [],
   "source": [
    "df[\"unit_price\"] = df[\"price_eu\"]/df[\"units\"]"
   ]
  },
  {
   "cell_type": "code",
   "execution_count": 536,
   "id": "e8811dd7",
   "metadata": {},
   "outputs": [
    {
     "data": {
      "text/html": [
       "<div>\n",
       "<style scoped>\n",
       "    .dataframe tbody tr th:only-of-type {\n",
       "        vertical-align: middle;\n",
       "    }\n",
       "\n",
       "    .dataframe tbody tr th {\n",
       "        vertical-align: top;\n",
       "    }\n",
       "\n",
       "    .dataframe thead th {\n",
       "        text-align: right;\n",
       "    }\n",
       "</style>\n",
       "<table border=\"1\" class=\"dataframe\">\n",
       "  <thead>\n",
       "    <tr style=\"text-align: right;\">\n",
       "      <th></th>\n",
       "      <th>description</th>\n",
       "      <th>units</th>\n",
       "      <th>pvp</th>\n",
       "      <th>date</th>\n",
       "      <th>order_num</th>\n",
       "      <th>pvp_€</th>\n",
       "      <th>pvp/ud</th>\n",
       "      <th>pvp/u</th>\n",
       "    </tr>\n",
       "  </thead>\n",
       "  <tbody>\n",
       "    <tr>\n",
       "      <th>0</th>\n",
       "      <td>Friegasuelos pino Bosque Verde líquido</td>\n",
       "      <td>4</td>\n",
       "      <td>2,72 €</td>\n",
       "      <td>16/09/20</td>\n",
       "      <td>6598904</td>\n",
       "      <td>2.72</td>\n",
       "      <td>0.68</td>\n",
       "      <td>0.68</td>\n",
       "    </tr>\n",
       "    <tr>\n",
       "      <th>1</th>\n",
       "      <td>Papel multiusos resistente Bosque Verde</td>\n",
       "      <td>1</td>\n",
       "      <td>2,89 €</td>\n",
       "      <td>16/09/20</td>\n",
       "      <td>6598904</td>\n",
       "      <td>2.89</td>\n",
       "      <td>2.89</td>\n",
       "      <td>2.89</td>\n",
       "    </tr>\n",
       "    <tr>\n",
       "      <th>2</th>\n",
       "      <td>Papel higiénico doble rollo Bosque Verde</td>\n",
       "      <td>3</td>\n",
       "      <td>11,46 €</td>\n",
       "      <td>16/09/20</td>\n",
       "      <td>6598904</td>\n",
       "      <td>11.46</td>\n",
       "      <td>3.82</td>\n",
       "      <td>3.82</td>\n",
       "    </tr>\n",
       "    <tr>\n",
       "      <th>3</th>\n",
       "      <td>Lavavajillas aloe Bosque Verde concentrado</td>\n",
       "      <td>4</td>\n",
       "      <td>6,20 €</td>\n",
       "      <td>16/09/20</td>\n",
       "      <td>6598904</td>\n",
       "      <td>6.20</td>\n",
       "      <td>1.55</td>\n",
       "      <td>1.55</td>\n",
       "    </tr>\n",
       "    <tr>\n",
       "      <th>4</th>\n",
       "      <td>Suavizante ropa talco Bosque Verde concentrado</td>\n",
       "      <td>2</td>\n",
       "      <td>3,58 €</td>\n",
       "      <td>16/09/20</td>\n",
       "      <td>6598904</td>\n",
       "      <td>3.58</td>\n",
       "      <td>1.79</td>\n",
       "      <td>1.79</td>\n",
       "    </tr>\n",
       "    <tr>\n",
       "      <th>...</th>\n",
       "      <td>...</td>\n",
       "      <td>...</td>\n",
       "      <td>...</td>\n",
       "      <td>...</td>\n",
       "      <td>...</td>\n",
       "      <td>...</td>\n",
       "      <td>...</td>\n",
       "      <td>...</td>\n",
       "    </tr>\n",
       "    <tr>\n",
       "      <th>13</th>\n",
       "      <td>Activador del lavado ropa blanca Bosque Verde ...</td>\n",
       "      <td>1</td>\n",
       "      <td>1,60 €</td>\n",
       "      <td>07/11/20</td>\n",
       "      <td>6947878</td>\n",
       "      <td>1.60</td>\n",
       "      <td>1.6</td>\n",
       "      <td>1.6</td>\n",
       "    </tr>\n",
       "    <tr>\n",
       "      <th>14</th>\n",
       "      <td>Suavizante ropa talco Bosque Verde concentrado</td>\n",
       "      <td>2</td>\n",
       "      <td>3,58 €</td>\n",
       "      <td>07/11/20</td>\n",
       "      <td>6947878</td>\n",
       "      <td>3.58</td>\n",
       "      <td>1.79</td>\n",
       "      <td>1.79</td>\n",
       "    </tr>\n",
       "    <tr>\n",
       "      <th>15</th>\n",
       "      <td>Lavavajillas aloe Bosque Verde concentrado</td>\n",
       "      <td>1</td>\n",
       "      <td>1,55 €</td>\n",
       "      <td>07/11/20</td>\n",
       "      <td>6947878</td>\n",
       "      <td>1.55</td>\n",
       "      <td>1.55</td>\n",
       "      <td>1.55</td>\n",
       "    </tr>\n",
       "    <tr>\n",
       "      <th>16</th>\n",
       "      <td>Lejía con detergente Bosque Verde</td>\n",
       "      <td>1</td>\n",
       "      <td>0,71 €</td>\n",
       "      <td>07/11/20</td>\n",
       "      <td>6947878</td>\n",
       "      <td>0.71</td>\n",
       "      <td>0.71</td>\n",
       "      <td>0.71</td>\n",
       "    </tr>\n",
       "    <tr>\n",
       "      <th>17</th>\n",
       "      <td>Friegasuelos pino Bosque Verde líquido</td>\n",
       "      <td>1</td>\n",
       "      <td>0,65 €</td>\n",
       "      <td>07/11/20</td>\n",
       "      <td>6947878</td>\n",
       "      <td>0.65</td>\n",
       "      <td>0.65</td>\n",
       "      <td>0.65</td>\n",
       "    </tr>\n",
       "  </tbody>\n",
       "</table>\n",
       "<p>129 rows × 8 columns</p>\n",
       "</div>"
      ],
      "text/plain": [
       "                                          description units      pvp  \\\n",
       "0              Friegasuelos pino Bosque Verde líquido     4   2,72 €   \n",
       "1             Papel multiusos resistente Bosque Verde     1   2,89 €   \n",
       "2            Papel higiénico doble rollo Bosque Verde     3  11,46 €   \n",
       "3          Lavavajillas aloe Bosque Verde concentrado     4   6,20 €   \n",
       "4      Suavizante ropa talco Bosque Verde concentrado     2   3,58 €   \n",
       "..                                                ...   ...      ...   \n",
       "13  Activador del lavado ropa blanca Bosque Verde ...     1   1,60 €   \n",
       "14     Suavizante ropa talco Bosque Verde concentrado     2   3,58 €   \n",
       "15         Lavavajillas aloe Bosque Verde concentrado     1   1,55 €   \n",
       "16                  Lejía con detergente Bosque Verde     1   0,71 €   \n",
       "17             Friegasuelos pino Bosque Verde líquido     1   0,65 €   \n",
       "\n",
       "        date order_num  pvp_€ pvp/ud pvp/u  \n",
       "0   16/09/20   6598904   2.72   0.68  0.68  \n",
       "1   16/09/20   6598904   2.89   2.89  2.89  \n",
       "2   16/09/20   6598904  11.46   3.82  3.82  \n",
       "3   16/09/20   6598904   6.20   1.55  1.55  \n",
       "4   16/09/20   6598904   3.58   1.79  1.79  \n",
       "..       ...       ...    ...    ...   ...  \n",
       "13  07/11/20   6947878   1.60    1.6   1.6  \n",
       "14  07/11/20   6947878   3.58   1.79  1.79  \n",
       "15  07/11/20   6947878   1.55   1.55  1.55  \n",
       "16  07/11/20   6947878   0.71   0.71  0.71  \n",
       "17  07/11/20   6947878   0.65   0.65  0.65  \n",
       "\n",
       "[129 rows x 8 columns]"
      ]
     },
     "execution_count": 536,
     "metadata": {},
     "output_type": "execute_result"
    }
   ],
   "source": [
    "df = [[\"description\", \"units\", \"price_eu\", \"unit_price\", \"date\", \"order_num\"]]"
   ]
  },
  {
   "cell_type": "code",
   "execution_count": 520,
   "id": "2efde52a",
   "metadata": {},
   "outputs": [
    {
     "name": "stdout",
     "output_type": "stream",
     "text": [
      "DataFrame successfully exported to facturas_palacet.csv\n"
     ]
    }
   ],
   "source": [
    "export_to_csv(df,\"facturas_palacet\")"
   ]
  },
  {
   "cell_type": "code",
   "execution_count": null,
   "id": "19b1fe2d",
   "metadata": {},
   "outputs": [],
   "source": []
  }
 ],
 "metadata": {
  "kernelspec": {
   "display_name": "ironhack",
   "language": "python",
   "name": "ironhack"
  },
  "language_info": {
   "codemirror_mode": {
    "name": "ipython",
    "version": 3
   },
   "file_extension": ".py",
   "mimetype": "text/x-python",
   "name": "python",
   "nbconvert_exporter": "python",
   "pygments_lexer": "ipython3",
   "version": "3.11.5"
  }
 },
 "nbformat": 4,
 "nbformat_minor": 5
}
