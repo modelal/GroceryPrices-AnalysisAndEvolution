{
 "cells": [
  {
   "cell_type": "code",
   "execution_count": 39,
   "id": "14884ede",
   "metadata": {},
   "outputs": [],
   "source": [
    "import tabula\n",
    "import os\n",
    "\n",
    "import pandas as pd"
   ]
  },
  {
   "cell_type": "code",
   "execution_count": 22,
   "id": "6f506422",
   "metadata": {},
   "outputs": [],
   "source": [
    "files = os.listdir(../data/historico-facturas-pdf)"
   ]
  },
  {
   "cell_type": "code",
   "execution_count": 23,
   "id": "bab9d8e2",
   "metadata": {},
   "outputs": [],
   "source": [
    "files = [i for i in files if \".DS\" not in i]"
   ]
  },
  {
   "cell_type": "code",
   "execution_count": 24,
   "id": "0e75a3de",
   "metadata": {},
   "outputs": [
    {
     "data": {
      "text/plain": [
       "['ticket-302316.pdf',\n",
       " 'ticket-125935.pdf',\n",
       " 'ticket-404271.pdf',\n",
       " 'ticket-466635.pdf',\n",
       " 'ticket-73955.pdf',\n",
       " 'ticket-185199.pdf',\n",
       " 'ticket-278125.pdf',\n",
       " 'ticket-935378.pdf',\n",
       " 'ticket-208575.pdf',\n",
       " 'ticket-996926.pdf',\n",
       " 'ticket-546427.pdf',\n",
       " 'ticket-616519.pdf',\n",
       " 'ticket-803441.pdf',\n",
       " 'ticket-577760.pdf',\n",
       " 'ticket-107492.pdf',\n",
       " 'ticket-470822.pdf',\n",
       " 'ticket-95302.pdf',\n",
       " 'ticket-209834.pdf',\n",
       " 'ticket-986079.pdf',\n",
       " 'ticket-156155.pdf',\n",
       " 'ticket-61858.pdf',\n",
       " 'ticket-337881.pdf',\n",
       " 'ticket-686714.pdf',\n",
       " 'ticket-101295.pdf',\n",
       " 'ticket-786946.pdf',\n",
       " 'ticket-134160.pdf',\n",
       " 'ticket-207666.pdf']"
      ]
     },
     "execution_count": 24,
     "metadata": {},
     "output_type": "execute_result"
    }
   ],
   "source": [
    "files"
   ]
  },
  {
   "cell_type": "code",
   "execution_count": 26,
   "id": "42e24b9d",
   "metadata": {},
   "outputs": [
    {
     "data": {
      "text/plain": [
       "'ticket-302316.pdf'"
      ]
     },
     "execution_count": 26,
     "metadata": {},
     "output_type": "execute_result"
    }
   ],
   "source": [
    "uno = files[0]\n",
    "uno"
   ]
  },
  {
   "cell_type": "code",
   "execution_count": 48,
   "id": "25448b35",
   "metadata": {},
   "outputs": [
    {
     "data": {
      "text/html": [
       "<div>\n",
       "<style scoped>\n",
       "    .dataframe tbody tr th:only-of-type {\n",
       "        vertical-align: middle;\n",
       "    }\n",
       "\n",
       "    .dataframe tbody tr th {\n",
       "        vertical-align: top;\n",
       "    }\n",
       "\n",
       "    .dataframe thead th {\n",
       "        text-align: right;\n",
       "    }\n",
       "</style>\n",
       "<table border=\"1\" class=\"dataframe\">\n",
       "  <thead>\n",
       "    <tr style=\"text-align: right;\">\n",
       "      <th></th>\n",
       "      <th>0</th>\n",
       "      <th>1</th>\n",
       "      <th>2</th>\n",
       "    </tr>\n",
       "  </thead>\n",
       "  <tbody>\n",
       "    <tr>\n",
       "      <th>0</th>\n",
       "      <td>Jamón serrano Incarlopsa lonchas</td>\n",
       "      <td>1</td>\n",
       "      <td>3,49 €</td>\n",
       "    </tr>\n",
       "    <tr>\n",
       "      <th>1</th>\n",
       "      <td>Queso fresco de cabra Hacendado</td>\n",
       "      <td>1</td>\n",
       "      <td>2,20 €</td>\n",
       "    </tr>\n",
       "    <tr>\n",
       "      <th>2</th>\n",
       "      <td>Queso rallado 4 quesos Hacendado</td>\n",
       "      <td>1</td>\n",
       "      <td>1,59 €</td>\n",
       "    </tr>\n",
       "    <tr>\n",
       "      <th>3</th>\n",
       "      <td>Perlas de mozzarella fresca Hacendado</td>\n",
       "      <td>1</td>\n",
       "      <td>1,70 €</td>\n",
       "    </tr>\n",
       "    <tr>\n",
       "      <th>4</th>\n",
       "      <td>Mozzarella di bufala campana Hacendado</td>\n",
       "      <td>1</td>\n",
       "      <td>1,70 €</td>\n",
       "    </tr>\n",
       "    <tr>\n",
       "      <th>5</th>\n",
       "      <td>Refresco Coca-Cola Zero azúcar</td>\n",
       "      <td>1</td>\n",
       "      <td>7,56 €</td>\n",
       "    </tr>\n",
       "    <tr>\n",
       "      <th>6</th>\n",
       "      <td>Salchichón extra pimienta Hacendado finas lonchas</td>\n",
       "      <td>1</td>\n",
       "      <td>1,38 €</td>\n",
       "    </tr>\n",
       "    <tr>\n",
       "      <th>7</th>\n",
       "      <td>Mortadela italiana Hacendado finas lonchas</td>\n",
       "      <td>1</td>\n",
       "      <td>1,69 €</td>\n",
       "    </tr>\n",
       "    <tr>\n",
       "      <th>8</th>\n",
       "      <td>Salfumant Bosque Verde</td>\n",
       "      <td>1</td>\n",
       "      <td>0,75 €</td>\n",
       "    </tr>\n",
       "    <tr>\n",
       "      <th>9</th>\n",
       "      <td>Dentífrico triple acción Colgate con flúor</td>\n",
       "      <td>2</td>\n",
       "      <td>3,50 €</td>\n",
       "    </tr>\n",
       "    <tr>\n",
       "      <th>10</th>\n",
       "      <td>Aceite de oliva virgen extra Hacendado</td>\n",
       "      <td>1</td>\n",
       "      <td>9,50 €</td>\n",
       "    </tr>\n",
       "    <tr>\n",
       "      <th>11</th>\n",
       "      <td>Lenteja cocida pardina Hacendado</td>\n",
       "      <td>2</td>\n",
       "      <td>0,98 €</td>\n",
       "    </tr>\n",
       "    <tr>\n",
       "      <th>12</th>\n",
       "      <td>Papel multiusos resistente Bosque Verde</td>\n",
       "      <td>1</td>\n",
       "      <td>2,89 €</td>\n",
       "    </tr>\n",
       "    <tr>\n",
       "      <th>13</th>\n",
       "      <td>Piadinas pan estilo italiano Hacendado</td>\n",
       "      <td>1</td>\n",
       "      <td>1,95 €</td>\n",
       "    </tr>\n",
       "    <tr>\n",
       "      <th>14</th>\n",
       "      <td>Pan de molde espelta 100% integral Hacendado</td>\n",
       "      <td>1</td>\n",
       "      <td>1,10 €</td>\n",
       "    </tr>\n",
       "    <tr>\n",
       "      <th>15</th>\n",
       "      <td>Gel de baño oliva Deliplus piel seca</td>\n",
       "      <td>2</td>\n",
       "      <td>2,70 €</td>\n",
       "    </tr>\n",
       "    <tr>\n",
       "      <th>16</th>\n",
       "      <td>Gelatina 0% azúcar sabor fresa Hacendado</td>\n",
       "      <td>1</td>\n",
       "      <td>0,98 €</td>\n",
       "    </tr>\n",
       "    <tr>\n",
       "      <th>17</th>\n",
       "      <td>Tomates cherry</td>\n",
       "      <td>1</td>\n",
       "      <td>1,49 €</td>\n",
       "    </tr>\n",
       "  </tbody>\n",
       "</table>\n",
       "</div>"
      ],
      "text/plain": [
       "                                                    0  1       2\n",
       "0                    Jamón serrano Incarlopsa lonchas  1  3,49 €\n",
       "1                     Queso fresco de cabra Hacendado  1  2,20 €\n",
       "2                    Queso rallado 4 quesos Hacendado  1  1,59 €\n",
       "3               Perlas de mozzarella fresca Hacendado  1  1,70 €\n",
       "4              Mozzarella di bufala campana Hacendado  1  1,70 €\n",
       "5                      Refresco Coca-Cola Zero azúcar  1  7,56 €\n",
       "6   Salchichón extra pimienta Hacendado finas lonchas  1  1,38 €\n",
       "7          Mortadela italiana Hacendado finas lonchas  1  1,69 €\n",
       "8                              Salfumant Bosque Verde  1  0,75 €\n",
       "9          Dentífrico triple acción Colgate con flúor  2  3,50 €\n",
       "10             Aceite de oliva virgen extra Hacendado  1  9,50 €\n",
       "11                   Lenteja cocida pardina Hacendado  2  0,98 €\n",
       "12            Papel multiusos resistente Bosque Verde  1  2,89 €\n",
       "13             Piadinas pan estilo italiano Hacendado  1  1,95 €\n",
       "14       Pan de molde espelta 100% integral Hacendado  1  1,10 €\n",
       "15               Gel de baño oliva Deliplus piel seca  2  2,70 €\n",
       "16           Gelatina 0% azúcar sabor fresa Hacendado  1  0,98 €\n",
       "17                                     Tomates cherry  1  1,49 €"
      ]
     },
     "execution_count": 48,
     "metadata": {},
     "output_type": "execute_result"
    }
   ],
   "source": [
    "tabula.read_pdf(\"ticket-302316.pdf\", pages=\"all\", pandas_options={'header': None})[0]"
   ]
  },
  {
   "cell_type": "code",
   "execution_count": null,
   "id": "80fef345",
   "metadata": {},
   "outputs": [],
   "source": [
    "df"
   ]
  },
  {
   "cell_type": "code",
   "execution_count": 34,
   "id": "61e5c900",
   "metadata": {},
   "outputs": [
    {
     "ename": "NameError",
     "evalue": "name 'tables' is not defined",
     "output_type": "error",
     "traceback": [
      "\u001b[0;31m---------------------------------------------------------------------------\u001b[0m",
      "\u001b[0;31mNameError\u001b[0m                                 Traceback (most recent call last)",
      "Cell \u001b[0;32mIn[34], line 1\u001b[0m\n\u001b[0;32m----> 1\u001b[0m tables\n",
      "\u001b[0;31mNameError\u001b[0m: name 'tables' is not defined"
     ]
    }
   ],
   "source": [
    "tables"
   ]
  },
  {
   "cell_type": "code",
   "execution_count": null,
   "id": "4bd8d522",
   "metadata": {},
   "outputs": [],
   "source": []
  }
 ],
 "metadata": {
  "kernelspec": {
   "display_name": "ironhack",
   "language": "python",
   "name": "ironhack"
  },
  "language_info": {
   "codemirror_mode": {
    "name": "ipython",
    "version": 3
   },
   "file_extension": ".py",
   "mimetype": "text/x-python",
   "name": "python",
   "nbconvert_exporter": "python",
   "pygments_lexer": "ipython3",
   "version": "3.11.5"
  }
 },
 "nbformat": 4,
 "nbformat_minor": 5
}
