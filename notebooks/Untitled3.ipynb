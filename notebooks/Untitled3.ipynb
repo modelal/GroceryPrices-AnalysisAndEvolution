{
 "cells": [
  {
   "cell_type": "code",
   "execution_count": 356,
   "id": "ef1586a6",
   "metadata": {},
   "outputs": [],
   "source": [
    "import pandas as pd\n",
    "import numpy as np\n",
    "import csv\n",
    "import re\n",
    "\n",
    "#Deberia revisar lo de Counter que lo uso bastante y no conoxco muy bien la libreria\n",
    "from collections import Counter\n"
   ]
  },
  {
   "cell_type": "code",
   "execution_count": 261,
   "id": "e7968849",
   "metadata": {},
   "outputs": [],
   "source": [
    "def format_price(x):\n",
    "    \n",
    "    \"\"\"\n",
    "    Decompose and fromate values for the colum price\n",
    "    \n",
    "    input: string \n",
    "    output: lsit, values of each key already casted:\n",
    "        info: pos[0]: str \n",
    "        valores: pos[1]: float\n",
    "        descuento: pos[2]: float/np.nan(float) (where there is a discount or not)\n",
    "    \n",
    "    \"\"\"\n",
    "    \n",
    "    # 1. Replace the € simbol and splits by the \"/\" ch -- generates a list of 2 elements (nums - text)\n",
    "    x = x.replace(\"€\", \"\").split(\"/\")\n",
    "    \n",
    "    # 2. Split by the \"/\" to extract the info, keep last part(always at the end)\n",
    "    info = x[-1].replace(\".\", \"\") #(str)\n",
    "    \n",
    "    # 3. Splits by the \"/\" to extract the num values:\n",
    "    num_values = x[0:-1][0].replace(\",\" , \".\").strip().split(\" \")\n",
    "    \n",
    "    # 4. Extracts and formats price value:\n",
    "    price = float(num_values[0])\n",
    "    \n",
    "    # 5. Extracts and formats discount_price if not dicount np.nan\n",
    "    discount = [np.nan if len(num_values) == 1 else float(num_values[1])][0]\n",
    "    \n",
    "    return [info, price, discount]"
   ]
  },
  {
   "cell_type": "code",
   "execution_count": 6,
   "id": "2b2ab1f3",
   "metadata": {},
   "outputs": [
    {
     "name": "stdout",
     "output_type": "stream",
     "text": [
      "scrape-consum_2024-03-10.csv    srape-mercadona_2024-03-08.csv\r\n"
     ]
    }
   ],
   "source": [
    "ls"
   ]
  },
  {
   "cell_type": "code",
   "execution_count": 276,
   "id": "ee9a80d9",
   "metadata": {},
   "outputs": [],
   "source": [
    "merca = pd.read_csv(\"srape-mercadona_2024-03-08.csv\")\n",
    "df = merca"
   ]
  },
  {
   "cell_type": "code",
   "execution_count": 81,
   "id": "118c8549",
   "metadata": {},
   "outputs": [
    {
     "data": {
      "text/html": [
       "<div>\n",
       "<style scoped>\n",
       "    .dataframe tbody tr th:only-of-type {\n",
       "        vertical-align: middle;\n",
       "    }\n",
       "\n",
       "    .dataframe tbody tr th {\n",
       "        vertical-align: top;\n",
       "    }\n",
       "\n",
       "    .dataframe thead th {\n",
       "        text-align: right;\n",
       "    }\n",
       "</style>\n",
       "<table border=\"1\" class=\"dataframe\">\n",
       "  <thead>\n",
       "    <tr style=\"text-align: right;\">\n",
       "      <th></th>\n",
       "      <th>categoria</th>\n",
       "      <th>subcategoria</th>\n",
       "      <th>descripcion</th>\n",
       "      <th>unidades</th>\n",
       "      <th>precio</th>\n",
       "    </tr>\n",
       "  </thead>\n",
       "  <tbody>\n",
       "    <tr>\n",
       "      <th>1039</th>\n",
       "      <td>Bodega</td>\n",
       "      <td>Licores</td>\n",
       "      <td>Pacharán Oibar</td>\n",
       "      <td>Botella 1 L</td>\n",
       "      <td>6,90 € /ud.</td>\n",
       "    </tr>\n",
       "  </tbody>\n",
       "</table>\n",
       "</div>"
      ],
      "text/plain": [
       "     categoria subcategoria     descripcion     unidades       precio\n",
       "1039    Bodega      Licores  Pacharán Oibar  Botella 1 L  6,90 € /ud."
      ]
     },
     "execution_count": 81,
     "metadata": {},
     "output_type": "execute_result"
    }
   ],
   "source": [
    "df.sample()\n",
    "\n",
    "#categoria, subcategoria y descripcion - las dejamos como están. "
   ]
  },
  {
   "cell_type": "code",
   "execution_count": 82,
   "id": "75a83123",
   "metadata": {},
   "outputs": [
    {
     "name": "stdout",
     "output_type": "stream",
     "text": [
      "<class 'pandas.core.frame.DataFrame'>\n",
      "RangeIndex: 5035 entries, 0 to 5034\n",
      "Data columns (total 5 columns):\n",
      " #   Column        Non-Null Count  Dtype \n",
      "---  ------        --------------  ----- \n",
      " 0   categoria     5035 non-null   object\n",
      " 1   subcategoria  5035 non-null   object\n",
      " 2   descripcion   5035 non-null   object\n",
      " 3   unidades      5035 non-null   object\n",
      " 4   precio        5035 non-null   object\n",
      "dtypes: object(5)\n",
      "memory usage: 196.8+ KB\n"
     ]
    }
   ],
   "source": [
    "# All collumns have values. \n",
    "df.info()"
   ]
  },
  {
   "cell_type": "markdown",
   "id": "226d1026",
   "metadata": {},
   "source": [
    "### Precio\n",
    "\n",
    "- No hay valores nulos\n",
    "\n",
    "- El precio puede contener o 2 informaciones o 3:\n",
    "    - El precio y a que hace referencia ese precio (pack)\n",
    "    - El precio, precio si esta descontado y a que hace referencia ese precio(pack)\n",
    "\n",
    "- Creamos una funcion que aplicamos a todos los elementos de la columna precio para formaterla. Aqui extraeremos los tres valores comentados antes. Cuando no haya descuento --> np.nan\n",
    "    - price_info --> string\n",
    "    - price_eu and price_disc_eu --> float\n",
    "    \n",
    "  **Note:** Interesante aqui el tema de apply(function) y luego el lambda. \n",
    "  \n",
    "- Eliminamos la columna original\n",
    "\n",
    "**NOTE:** En price_info, los valores son bastante consistentes siendo la mayoria de valoes (ud/pack). No obstante hay 14 valores que son de tipo ( xxx g) ej 500 g. Veremos a ver que hacemos. si los descartamos o como los tranformamos. No son una parte muy relevante del conjunto de datos ( 14 de 5035) pero tener en cuenta que hay que revisarlo: \n"
   ]
  },
  {
   "cell_type": "markdown",
   "id": "17c85365",
   "metadata": {},
   "source": [
    "**Tranform Price column**"
   ]
  },
  {
   "cell_type": "code",
   "execution_count": 277,
   "id": "38cb0467",
   "metadata": {},
   "outputs": [],
   "source": [
    "# Apply the function and get the element for each colum: \n",
    "df[\"price_info\"] = df[\"precio\"].apply(format_price).apply(lambda x:x[0])\n",
    "df[\"price_eu\"] = df[\"precio\"].apply(format_price).apply(lambda x:x[1])\n",
    "df[\"price_disc_eu\"] = df[\"precio\"].apply(format_price).apply(lambda x:x[2])\n",
    "\n",
    "#Drop old column:\n",
    "df.drop(\"precio\", axis=1, inplace=True)\n",
    "\n",
    "df.sample()"
   ]
  },
  {
   "cell_type": "markdown",
   "id": "9d3eb43d",
   "metadata": {},
   "source": [
    "### UNIDADES:"
   ]
  },
  {
   "cell_type": "code",
   "execution_count": 289,
   "id": "6b13ad70",
   "metadata": {},
   "outputs": [
    {
     "data": {
      "text/plain": [
       "unidades\n",
       "1 ud.                252\n",
       "Caja 1 ud.           153\n",
       "Botella 750 ml       121\n",
       "Brick 1 L             89\n",
       "Paquete 500 g         85\n",
       "                    ... \n",
       "Paquete 16 bandas      1\n",
       "Caja 320 g             1\n",
       "Caja 200 ml            1\n",
       "Caja 150 ml            1\n",
       "Bandeja 450 g          1\n",
       "Name: count, Length: 1396, dtype: int64"
      ]
     },
     "execution_count": 289,
     "metadata": {},
     "output_type": "execute_result"
    }
   ],
   "source": [
    "df[\"unidades\"].value_counts()"
   ]
  },
  {
   "cell_type": "code",
   "execution_count": 288,
   "id": "d2a1fe2b",
   "metadata": {},
   "outputs": [
    {
     "data": {
      "text/plain": [
       "1396"
      ]
     },
     "execution_count": 288,
     "metadata": {},
     "output_type": "execute_result"
    }
   ],
   "source": [
    "lista = df[\"unidades\"].unique()\n",
    "len(lista)"
   ]
  },
  {
   "cell_type": "code",
   "execution_count": 339,
   "id": "2fdf38f1",
   "metadata": {},
   "outputs": [],
   "source": [
    "lista\n",
    "re_words = [\"x\", \"aprox.\" \"(g\", \"g)\", \"g\", \"ud.\", \"ml\", \"kg\", \"ml\", \"L\", \"ml)\", \"(250\"]\n",
    "numb = 30\n",
    "words = []\n",
    "\n",
    "words_list = [ i.strip().split(\" \") for i in lista]\n",
    "\n",
    "for i in words_list:\n",
    "    for e in i:\n",
    "        if e.isdigit() == False and e not in re_words:\n",
    "            words.append(e)\n",
    "            \n",
    "word_counts = Counter(words)\n",
    "    \n",
    "most_common_words = word_counts.most_common(numb)\n",
    "\n",
    "palabras = [i[0] for i in most_common_words]"
   ]
  },
  {
   "cell_type": "code",
   "execution_count": 341,
   "id": "c43ee819",
   "metadata": {},
   "outputs": [
    {
     "name": "stdout",
     "output_type": "stream",
     "text": [
      "['Paquete', 'Caja', 'aprox.', 'Pieza', 'Bote', 'Bandeja', 'Tarro', 'escurrido)', 'paquetes', 'Botella', 'Tarrina', 'cápsulas', 'latas', 'escurrido', 'sobres', 'Lata', 'lavados', 'botellas', 'raciones', 'Spray', 'bolsitas', 'Tubo', 'Bol', 'rebanadas', '(240', 'mini', '(200', 'barritas', 'Sobre', '1,5']\n"
     ]
    }
   ],
   "source": [
    "print(palabras)"
   ]
  },
  {
   "cell_type": "code",
   "execution_count": 351,
   "id": "ff0ee048",
   "metadata": {},
   "outputs": [],
   "source": [
    "f_df = df[df['unidades'].str.contains('Paquete')]"
   ]
  },
  {
   "cell_type": "code",
   "execution_count": 349,
   "id": "0a1c5465",
   "metadata": {},
   "outputs": [],
   "source": [
    "Paquete = i_df[\"unidades\"].tolist()"
   ]
  },
  {
   "cell_type": "code",
   "execution_count": 357,
   "id": "1680c6ba",
   "metadata": {},
   "outputs": [],
   "source": [
    "def texto_csv(df, column):\n",
    "    \n",
    "    #name of the document: as column_name_column.csv\n",
    "    path = f'column_{column}.csv'\n",
    "    \n",
    "    \"\"\" Hay que quitar los vacios primero - lo he sacado de la funcion\n",
    "    por no tranformar la tabla aqui \"\"\"\n",
    "   \n",
    "    #2. We write every colum as a new line in the .csv\n",
    "    non_empty_values = [str(i) for i in df[column]]\n",
    "    \n",
    "    with open(path, mode='w', newline='') as file:\n",
    "        writer = csv.writer(file)\n",
    "        writer.writerows([[value] for value in non_empty_values]) \n",
    "        \n",
    "    print(f'Column successfully exported to {path}')"
   ]
  },
  {
   "cell_type": "code",
   "execution_count": 358,
   "id": "be9f402d",
   "metadata": {},
   "outputs": [
    {
     "name": "stdout",
     "output_type": "stream",
     "text": [
      "Column successfully exported to column_unidades.csv\n"
     ]
    }
   ],
   "source": [
    "texto_csv(f_df, \"unidades\")"
   ]
  },
  {
   "cell_type": "code",
   "execution_count": null,
   "id": "1b582fc0",
   "metadata": {},
   "outputs": [],
   "source": []
  }
 ],
 "metadata": {
  "kernelspec": {
   "display_name": "ironhack",
   "language": "python",
   "name": "ironhack"
  },
  "language_info": {
   "codemirror_mode": {
    "name": "ipython",
    "version": 3
   },
   "file_extension": ".py",
   "mimetype": "text/x-python",
   "name": "python",
   "nbconvert_exporter": "python",
   "pygments_lexer": "ipython3",
   "version": "3.11.5"
  }
 },
 "nbformat": 4,
 "nbformat_minor": 5
}
