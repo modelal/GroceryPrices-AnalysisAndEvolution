{
 "cells": [
  {
   "cell_type": "code",
   "execution_count": 240,
   "id": "a8757dc8",
   "metadata": {},
   "outputs": [],
   "source": [
    "import os\n",
    "\n",
    "import pandas as pd\n",
    "import numpy as np\n",
    "import re\n",
    "\n",
    "\n",
    "from unidecode import unidecode #para los acentos"
   ]
  },
  {
   "cell_type": "code",
   "execution_count": 241,
   "id": "38918ce2",
   "metadata": {},
   "outputs": [],
   "source": [
    "def export_to_csv(data_frame, file_name):\n",
    "    \"\"\"\n",
    "    Export a DataFrame to a CSV file.\n",
    "\n",
    "    Parameters:\n",
    "        - data_frame: pandas DataFrame\n",
    "        - file_name: str, name of the CSV file (without the extension)\n",
    "    \"\"\"\n",
    "    #print date stamp - datetime.datetime.now()\n",
    "    \n",
    "    #t_stamp = str(datetime.datetime.now()).split(\".\")[0].replace(\" \",\"_\")\n",
    "    \n",
    "    file_path = f\"{file_name}.csv\"\n",
    "    \n",
    "    data_frame.to_csv(file_path, index=False)\n",
    "    print(f\"DataFrame successfully exported to {file_path}\")"
   ]
  },
  {
   "cell_type": "markdown",
   "id": "fadd1d78",
   "metadata": {},
   "source": [
    "## Empieza aqui:"
   ]
  },
  {
   "cell_type": "code",
   "execution_count": 216,
   "id": "26bec312",
   "metadata": {},
   "outputs": [],
   "source": [
    "df = pd.read_csv(\"../../data/mercadona-scrape-2023/Mercadona Scraping 2023-03-11_21-39-33.csv\", delimiter = \"~\")"
   ]
  },
  {
   "cell_type": "code",
   "execution_count": 217,
   "id": "36b0696e",
   "metadata": {},
   "outputs": [],
   "source": [
    "# Seleccionamos las columnas que nos interesan: \n",
    "df = df[[\"product\", \"product_type\",\"product_volume\", \"product_code\", \"product_price\",\"collected_timestamp\"]]"
   ]
  },
  {
   "cell_type": "code",
   "execution_count": 218,
   "id": "cba5caa1",
   "metadata": {},
   "outputs": [
    {
     "data": {
      "text/html": [
       "<div>\n",
       "<style scoped>\n",
       "    .dataframe tbody tr th:only-of-type {\n",
       "        vertical-align: middle;\n",
       "    }\n",
       "\n",
       "    .dataframe tbody tr th {\n",
       "        vertical-align: top;\n",
       "    }\n",
       "\n",
       "    .dataframe thead th {\n",
       "        text-align: right;\n",
       "    }\n",
       "</style>\n",
       "<table border=\"1\" class=\"dataframe\">\n",
       "  <thead>\n",
       "    <tr style=\"text-align: right;\">\n",
       "      <th></th>\n",
       "      <th>product</th>\n",
       "      <th>product_type</th>\n",
       "      <th>product_volume</th>\n",
       "      <th>product_code</th>\n",
       "      <th>product_price</th>\n",
       "      <th>collected_timestamp</th>\n",
       "    </tr>\n",
       "  </thead>\n",
       "  <tbody>\n",
       "    <tr>\n",
       "      <th>5091</th>\n",
       "      <td>Yogur griego natural Hacendado</td>\n",
       "      <td>Not available</td>\n",
       "      <td>Not available</td>\n",
       "      <td>20559.0</td>\n",
       "      <td>1.45</td>\n",
       "      <td>2023-03-12 09:43:14.456699</td>\n",
       "    </tr>\n",
       "  </tbody>\n",
       "</table>\n",
       "</div>"
      ],
      "text/plain": [
       "                             product   product_type product_volume  \\\n",
       "5091  Yogur griego natural Hacendado  Not available  Not available   \n",
       "\n",
       "      product_code  product_price         collected_timestamp  \n",
       "5091       20559.0           1.45  2023-03-12 09:43:14.456699  "
      ]
     },
     "execution_count": 218,
     "metadata": {},
     "output_type": "execute_result"
    }
   ],
   "source": [
    "df.sample()"
   ]
  },
  {
   "cell_type": "code",
   "execution_count": 219,
   "id": "5e8651ed",
   "metadata": {},
   "outputs": [],
   "source": [
    "## Aplicamos las tranformaciones pertinentes para ajustar este formato al nuestro (Srape-2024)"
   ]
  },
  {
   "cell_type": "code",
   "execution_count": 220,
   "id": "1052e110",
   "metadata": {},
   "outputs": [],
   "source": [
    "# Si contiene este caracter \"|\" --> lo vamos a dejar como np.nan\n",
    "\n",
    "def uniform(x):\n",
    "    \n",
    "    if \"|\" in x:\n",
    "        return np.nan\n",
    "    else:\n",
    "        return x"
   ]
  },
  {
   "cell_type": "code",
   "execution_count": 221,
   "id": "2bfc2c65",
   "metadata": {},
   "outputs": [],
   "source": [
    "df[\"collected_timestamp\"] = df[\"collected_timestamp\"].str[0:11]\n",
    "\n",
    "# eliminamos todas las celdas donde esta descuadrado el precio por unidad -- yo no lo saque\n",
    "df[\"product_volume\"] = df[\"product_volume\"].apply(uniform)\n",
    "# Sustituimos los np.nan/not available por cadena vacia -- sino luego al concatenar nos da errores\n",
    "df['product_volume'].fillna('', inplace=True)\n",
    "df['product_volume'] = df['product_volume'].str.replace(\"Not available\", \"\")\n",
    "df['product_type'] = df['product_type'].str.replace(\"Not available\", \"\")\n",
    "df['unidades'] = df['product_type'].str.cat(df['product_volume'], sep=' ')"
   ]
  },
  {
   "cell_type": "code",
   "execution_count": 228,
   "id": "71c0fc2e",
   "metadata": {},
   "outputs": [],
   "source": [
    "df = df[[\"product\", \"unidades\", \"product_code\", \"product_price\", \"collected_timestamp\"]]\n",
    "\n",
    "df.rename(columns={ \"product\": \"descripcion\", \"product_price\" : \"price_eu\"}, inplace = True)"
   ]
  },
  {
   "cell_type": "markdown",
   "id": "301950a2",
   "metadata": {},
   "source": [
    "## DUPLICADOS"
   ]
  },
  {
   "cell_type": "code",
   "execution_count": 229,
   "id": "3ab813cf",
   "metadata": {},
   "outputs": [
    {
     "name": "stdout",
     "output_type": "stream",
     "text": [
      "There is 0 duplicate rows\n"
     ]
    }
   ],
   "source": [
    "def dupli_rows(df):\n",
    "    \"How many duplicate rows there is\"\n",
    "    duplicates = df.shape[0] - df.drop_duplicates().shape[0]\n",
    "    print(f'There is {duplicates} duplicate rows')\n",
    "    return \n",
    "\n",
    "dupli_rows(df)"
   ]
  },
  {
   "cell_type": "code",
   "execution_count": 230,
   "id": "28d2d186",
   "metadata": {},
   "outputs": [],
   "source": [
    "df.drop_duplicates(inplace=True)"
   ]
  },
  {
   "cell_type": "code",
   "execution_count": 231,
   "id": "70a5ec47",
   "metadata": {},
   "outputs": [
    {
     "data": {
      "text/plain": [
       "(4973, 5)"
      ]
     },
     "execution_count": 231,
     "metadata": {},
     "output_type": "execute_result"
    }
   ],
   "source": [
    "df.shape"
   ]
  },
  {
   "cell_type": "markdown",
   "id": "53bcf052",
   "metadata": {},
   "source": [
    "## MARCA"
   ]
  },
  {
   "cell_type": "code",
   "execution_count": 232,
   "id": "742c7ae2",
   "metadata": {},
   "outputs": [],
   "source": [
    "\"\"\"Funcion que te devuelve la marca si el texto la contiene\"\"\"\n",
    "def marca(x):\n",
    "    #marcas = [\"Hacendado\", \"Deliplus\", \"Bosque Verde\", \"Coca-Cola\"]\n",
    "    \n",
    "    marcas = [\"Hacendado\", \"Deliplus\", \"Bosque Verde\", \"Coca-Cola\", \"Aquarius\", \"Compy\", \"L'Oréal\", \"Delikuit\", \n",
    "                \"Maybelline\", \"Gillette\", \"Nivea\", \"Puleva\", \"Incarlopsa\", \"Tampax\", \"Gallina Blanca\", \n",
    "                \"El Pozo\", \"Hero baby\", \"Finish\", \"Garnier\", \"Rimmel London\", \"Pantene\", \"Evax\", \n",
    "                \"Dolce Gusto\", \"Entrepinares\", \"Mahou\"]\n",
    "    \n",
    "    \n",
    "    return [i for i in marcas if i in x]"
   ]
  },
  {
   "cell_type": "code",
   "execution_count": 233,
   "id": "28c01b70",
   "metadata": {},
   "outputs": [],
   "source": [
    "#Aplicamos la funcion, como realmente devuelve una lista, si esta vacia (no match) --> np.nan\n",
    "df[\"marca\"] = df[\"descripcion\"].apply(marca).apply(lambda x: x[0] if x != [] else np.nan)"
   ]
  },
  {
   "cell_type": "code",
   "execution_count": 234,
   "id": "353a9bad",
   "metadata": {},
   "outputs": [
    {
     "data": {
      "text/html": [
       "<div>\n",
       "<style scoped>\n",
       "    .dataframe tbody tr th:only-of-type {\n",
       "        vertical-align: middle;\n",
       "    }\n",
       "\n",
       "    .dataframe tbody tr th {\n",
       "        vertical-align: top;\n",
       "    }\n",
       "\n",
       "    .dataframe thead th {\n",
       "        text-align: right;\n",
       "    }\n",
       "</style>\n",
       "<table border=\"1\" class=\"dataframe\">\n",
       "  <thead>\n",
       "    <tr style=\"text-align: right;\">\n",
       "      <th></th>\n",
       "      <th>descripcion</th>\n",
       "      <th>unidades</th>\n",
       "      <th>product_code</th>\n",
       "      <th>price_eu</th>\n",
       "      <th>collected_timestamp</th>\n",
       "      <th>marca</th>\n",
       "    </tr>\n",
       "  </thead>\n",
       "  <tbody>\n",
       "    <tr>\n",
       "      <th>0</th>\n",
       "      <td>Aceite de oliva 0,4º Hacendado</td>\n",
       "      <td>Garrafa 5 L</td>\n",
       "      <td>4241.0</td>\n",
       "      <td>23.63</td>\n",
       "      <td>2023-03-11</td>\n",
       "      <td>Hacendado</td>\n",
       "    </tr>\n",
       "    <tr>\n",
       "      <th>1</th>\n",
       "      <td>Aceite de oliva 0,4º Hacendado</td>\n",
       "      <td>Botella 1 L</td>\n",
       "      <td>4240.0</td>\n",
       "      <td>4.77</td>\n",
       "      <td>2023-03-11</td>\n",
       "      <td>Hacendado</td>\n",
       "    </tr>\n",
       "    <tr>\n",
       "      <th>2</th>\n",
       "      <td>Aceite de oliva virgen extra Hacendado</td>\n",
       "      <td>Garrafa 3 L</td>\n",
       "      <td>4717.0</td>\n",
       "      <td>16.75</td>\n",
       "      <td>2023-03-11</td>\n",
       "      <td>Hacendado</td>\n",
       "    </tr>\n",
       "    <tr>\n",
       "      <th>3</th>\n",
       "      <td>Aceite de oliva virgen extra Hacendado</td>\n",
       "      <td>Botella 1 L</td>\n",
       "      <td>4740.0</td>\n",
       "      <td>5.63</td>\n",
       "      <td>2023-03-11</td>\n",
       "      <td>Hacendado</td>\n",
       "    </tr>\n",
       "    <tr>\n",
       "      <th>4</th>\n",
       "      <td>Aceite de oliva virgen extra Hacendado Gran Se...</td>\n",
       "      <td>Botella 750 ml</td>\n",
       "      <td>4706.0</td>\n",
       "      <td>5.11</td>\n",
       "      <td>2023-03-11</td>\n",
       "      <td>Hacendado</td>\n",
       "    </tr>\n",
       "    <tr>\n",
       "      <th>...</th>\n",
       "      <td>...</td>\n",
       "      <td>...</td>\n",
       "      <td>...</td>\n",
       "      <td>...</td>\n",
       "      <td>...</td>\n",
       "      <td>...</td>\n",
       "    </tr>\n",
       "    <tr>\n",
       "      <th>5224</th>\n",
       "      <td>Bebida de pomelo Hacendado sin azúcares añadidos</td>\n",
       "      <td></td>\n",
       "      <td>39604.0</td>\n",
       "      <td>1.25</td>\n",
       "      <td>2023-03-12</td>\n",
       "      <td>Hacendado</td>\n",
       "    </tr>\n",
       "    <tr>\n",
       "      <th>5225</th>\n",
       "      <td>Bebida guayaba Hacendado sin azúcares añadidos</td>\n",
       "      <td></td>\n",
       "      <td>39659.0</td>\n",
       "      <td>1.30</td>\n",
       "      <td>2023-03-12</td>\n",
       "      <td>Hacendado</td>\n",
       "    </tr>\n",
       "    <tr>\n",
       "      <th>5226</th>\n",
       "      <td>Bebida de pera Hacendado sin azúcares añadidos</td>\n",
       "      <td></td>\n",
       "      <td>39628.0</td>\n",
       "      <td>1.10</td>\n",
       "      <td>2023-03-12</td>\n",
       "      <td>Hacendado</td>\n",
       "    </tr>\n",
       "    <tr>\n",
       "      <th>5227</th>\n",
       "      <td>Zumo de pomelo Hacendado</td>\n",
       "      <td></td>\n",
       "      <td>39696.0</td>\n",
       "      <td>1.45</td>\n",
       "      <td>2023-03-12</td>\n",
       "      <td>Hacendado</td>\n",
       "    </tr>\n",
       "    <tr>\n",
       "      <th>5228</th>\n",
       "      <td>Zumo de manzana selección Hacendado</td>\n",
       "      <td></td>\n",
       "      <td>39922.0</td>\n",
       "      <td>1.50</td>\n",
       "      <td>2023-03-12</td>\n",
       "      <td>Hacendado</td>\n",
       "    </tr>\n",
       "  </tbody>\n",
       "</table>\n",
       "<p>4973 rows × 6 columns</p>\n",
       "</div>"
      ],
      "text/plain": [
       "                                            descripcion        unidades  \\\n",
       "0                        Aceite de oliva 0,4º Hacendado     Garrafa 5 L   \n",
       "1                        Aceite de oliva 0,4º Hacendado     Botella 1 L   \n",
       "2                Aceite de oliva virgen extra Hacendado     Garrafa 3 L   \n",
       "3                Aceite de oliva virgen extra Hacendado     Botella 1 L   \n",
       "4     Aceite de oliva virgen extra Hacendado Gran Se...  Botella 750 ml   \n",
       "...                                                 ...             ...   \n",
       "5224   Bebida de pomelo Hacendado sin azúcares añadidos                   \n",
       "5225     Bebida guayaba Hacendado sin azúcares añadidos                   \n",
       "5226     Bebida de pera Hacendado sin azúcares añadidos                   \n",
       "5227                           Zumo de pomelo Hacendado                   \n",
       "5228                Zumo de manzana selección Hacendado                   \n",
       "\n",
       "      product_code  price_eu collected_timestamp      marca  \n",
       "0           4241.0     23.63         2023-03-11   Hacendado  \n",
       "1           4240.0      4.77         2023-03-11   Hacendado  \n",
       "2           4717.0     16.75         2023-03-11   Hacendado  \n",
       "3           4740.0      5.63         2023-03-11   Hacendado  \n",
       "4           4706.0      5.11         2023-03-11   Hacendado  \n",
       "...            ...       ...                 ...        ...  \n",
       "5224       39604.0      1.25         2023-03-12   Hacendado  \n",
       "5225       39659.0      1.30         2023-03-12   Hacendado  \n",
       "5226       39628.0      1.10         2023-03-12   Hacendado  \n",
       "5227       39696.0      1.45         2023-03-12   Hacendado  \n",
       "5228       39922.0      1.50         2023-03-12   Hacendado  \n",
       "\n",
       "[4973 rows x 6 columns]"
      ]
     },
     "execution_count": 234,
     "metadata": {},
     "output_type": "execute_result"
    }
   ],
   "source": [
    "df"
   ]
  },
  {
   "cell_type": "code",
   "execution_count": 242,
   "id": "5168f8ad",
   "metadata": {},
   "outputs": [],
   "source": [
    "def format_units(i):\n",
    "    \n",
    "    # Format Ex:         (contains \"escurrido\")\n",
    "    pattern_1 = r'^(\\S+)\\s+(\\d+(?:,\\d+)?\\s*[kKgGmlML]+)\\s+(\\d+\\s*[kKgGmlML]+)\\s*escurrido$'\n",
    "\n",
    "    # Fromat Ex:\n",
    "    pattern_2 = r'^([A-Z][a-zA-Z]+)\\s((?:\\d+,)?\\d+\\s(?:[Kk]g|g|L|ml))'\n",
    "\n",
    "    #Formaat Ex: '8 latas x 330 ml\n",
    "    pattern_3 = r'(\\d+)\\s([a-zA-Z\\s]+)\\sx\\s((?:\\d+,)?\\d+\\s(?:kg|ml|g|L))'\n",
    "    \n",
    "    #Format Ex:\n",
    "    pattern_4 = r'(?:\\d+,)?\\d+\\s+(?:kg|g|ml|L)'\n",
    "    \n",
    "    \n",
    "    if re.match(pattern_1, i):\n",
    "\n",
    "        matches = re.findall(pattern_1, i)\n",
    "\n",
    "        formato = matches[0][0]  #.capitalize() ya veremos \n",
    "\n",
    "        cantidad = f'1 x {matches[0][2]}'\n",
    "\n",
    "        #Funciona bien -- para comprobar:\n",
    "        #print(f'{i} ---- {formato} / {cantidad}')\n",
    "\n",
    "        return [formato, cantidad]\n",
    "\n",
    "\n",
    "    # Formato 1: Paquete 500 g / Tarro 570 g (400 g escurrido)\n",
    "    if re.match(pattern_2, i):\n",
    "\n",
    "        matches = re.findall(pattern_2, i)\n",
    "\n",
    "        formato = matches[0][0]  #.capitalize() ya veremos \n",
    "\n",
    "        cantidad = f'1 x {matches[0][1]}'\n",
    "\n",
    "        #Funciona bien -- para comprobar:\n",
    "        #print(f'{i} ---- {formato} / {cantidad}')\n",
    "\n",
    "        return [formato, cantidad]\n",
    "\n",
    "\n",
    "    #Formato 2: '8 latas x 330 ml\n",
    "    if re.match(pattern_3, i):\n",
    "\n",
    "        matches = re.findall(pattern_3, i)\n",
    "\n",
    "        cantidad = f'{matches[0][0]} x {matches[0][2]}'\n",
    "        formato = matches[0][1]  #.capitalize() ya veremos \n",
    "\n",
    "        #Funciona bien -- para comprobar:\n",
    "        #print(f'{i} ---- {formato} / {cantidad}')\n",
    "\n",
    "        return [formato, cantidad]\n",
    "\n",
    "    if re.search(pattern_4, i):\n",
    "\n",
    "        matches = re.findall(pattern_4, i)\n",
    "\n",
    "        cantidad = f'1 x {matches[0]}'\n",
    "\n",
    "        formato = i.replace(matches[0], \"\")\n",
    "\n",
    "        #print(f'{i} ---- {formato} / {cantidad}')\n",
    "\n",
    "        return [formato, cantidad]\n",
    "\n",
    "    else:\n",
    "        formato = i\n",
    "        cantidad = np.nan\n",
    "        #print(f'{i} ---- {formato} / {cantidad}')\n",
    "\n",
    "        return [formato, cantidad]\n",
    "\n",
    "\n"
   ]
  },
  {
   "cell_type": "code",
   "execution_count": 243,
   "id": "f8d44fd1",
   "metadata": {},
   "outputs": [],
   "source": [
    "# Por el tema de acentos\n",
    "df[\"unidades\"] = df[\"unidades\"].apply(unidecode)\n",
    "\n",
    "#con esto eliminos los puntos de ud. y de aprox.\n",
    "df[\"unidades\"] = df[\"unidades\"].str.replace(\".\", \"\")\n",
    "\n",
    "# me quito todods los aprox\n",
    "df[\"unidades\"] = df[\"unidades\"].str.replace(\"aprox\", \"\")\n",
    "\n",
    "df[\"unidades\"] = df[\"unidades\"].str.replace(\"(\", \"\")\n",
    "\n",
    "df[\"unidades\"] = df[\"unidades\"].str.replace(\")\", \"\")\n",
    "\n",
    "df[\"format\"] = df[\"unidades\"].apply(format_units).apply(lambda x:x[0])\n",
    "df[\"quantity\"] = df[\"unidades\"].apply(format_units).apply(lambda x:x[1])\n",
    "\n",
    "\n",
    "df.drop(\"unidades\", axis=1, inplace=True)"
   ]
  },
  {
   "cell_type": "code",
   "execution_count": 244,
   "id": "09e333c4",
   "metadata": {},
   "outputs": [
    {
     "data": {
      "text/html": [
       "<div>\n",
       "<style scoped>\n",
       "    .dataframe tbody tr th:only-of-type {\n",
       "        vertical-align: middle;\n",
       "    }\n",
       "\n",
       "    .dataframe tbody tr th {\n",
       "        vertical-align: top;\n",
       "    }\n",
       "\n",
       "    .dataframe thead th {\n",
       "        text-align: right;\n",
       "    }\n",
       "</style>\n",
       "<table border=\"1\" class=\"dataframe\">\n",
       "  <thead>\n",
       "    <tr style=\"text-align: right;\">\n",
       "      <th></th>\n",
       "      <th>descripcion</th>\n",
       "      <th>product_code</th>\n",
       "      <th>price_eu</th>\n",
       "      <th>collected_timestamp</th>\n",
       "      <th>marca</th>\n",
       "      <th>format</th>\n",
       "      <th>quantity</th>\n",
       "    </tr>\n",
       "  </thead>\n",
       "  <tbody>\n",
       "    <tr>\n",
       "      <th>0</th>\n",
       "      <td>Aceite de oliva 0,4º Hacendado</td>\n",
       "      <td>4241.0</td>\n",
       "      <td>23.63</td>\n",
       "      <td>2023-03-11</td>\n",
       "      <td>Hacendado</td>\n",
       "      <td>Garrafa</td>\n",
       "      <td>1 x 5 L</td>\n",
       "    </tr>\n",
       "    <tr>\n",
       "      <th>1</th>\n",
       "      <td>Aceite de oliva 0,4º Hacendado</td>\n",
       "      <td>4240.0</td>\n",
       "      <td>4.77</td>\n",
       "      <td>2023-03-11</td>\n",
       "      <td>Hacendado</td>\n",
       "      <td>Botella</td>\n",
       "      <td>1 x 1 L</td>\n",
       "    </tr>\n",
       "    <tr>\n",
       "      <th>2</th>\n",
       "      <td>Aceite de oliva virgen extra Hacendado</td>\n",
       "      <td>4717.0</td>\n",
       "      <td>16.75</td>\n",
       "      <td>2023-03-11</td>\n",
       "      <td>Hacendado</td>\n",
       "      <td>Garrafa</td>\n",
       "      <td>1 x 3 L</td>\n",
       "    </tr>\n",
       "    <tr>\n",
       "      <th>3</th>\n",
       "      <td>Aceite de oliva virgen extra Hacendado</td>\n",
       "      <td>4740.0</td>\n",
       "      <td>5.63</td>\n",
       "      <td>2023-03-11</td>\n",
       "      <td>Hacendado</td>\n",
       "      <td>Botella</td>\n",
       "      <td>1 x 1 L</td>\n",
       "    </tr>\n",
       "    <tr>\n",
       "      <th>4</th>\n",
       "      <td>Aceite de oliva virgen extra Hacendado Gran Se...</td>\n",
       "      <td>4706.0</td>\n",
       "      <td>5.11</td>\n",
       "      <td>2023-03-11</td>\n",
       "      <td>Hacendado</td>\n",
       "      <td>Botella</td>\n",
       "      <td>1 x 750 ml</td>\n",
       "    </tr>\n",
       "    <tr>\n",
       "      <th>...</th>\n",
       "      <td>...</td>\n",
       "      <td>...</td>\n",
       "      <td>...</td>\n",
       "      <td>...</td>\n",
       "      <td>...</td>\n",
       "      <td>...</td>\n",
       "      <td>...</td>\n",
       "    </tr>\n",
       "    <tr>\n",
       "      <th>5224</th>\n",
       "      <td>Bebida de pomelo Hacendado sin azúcares añadidos</td>\n",
       "      <td>39604.0</td>\n",
       "      <td>1.25</td>\n",
       "      <td>2023-03-12</td>\n",
       "      <td>Hacendado</td>\n",
       "      <td></td>\n",
       "      <td>NaN</td>\n",
       "    </tr>\n",
       "    <tr>\n",
       "      <th>5225</th>\n",
       "      <td>Bebida guayaba Hacendado sin azúcares añadidos</td>\n",
       "      <td>39659.0</td>\n",
       "      <td>1.30</td>\n",
       "      <td>2023-03-12</td>\n",
       "      <td>Hacendado</td>\n",
       "      <td></td>\n",
       "      <td>NaN</td>\n",
       "    </tr>\n",
       "    <tr>\n",
       "      <th>5226</th>\n",
       "      <td>Bebida de pera Hacendado sin azúcares añadidos</td>\n",
       "      <td>39628.0</td>\n",
       "      <td>1.10</td>\n",
       "      <td>2023-03-12</td>\n",
       "      <td>Hacendado</td>\n",
       "      <td></td>\n",
       "      <td>NaN</td>\n",
       "    </tr>\n",
       "    <tr>\n",
       "      <th>5227</th>\n",
       "      <td>Zumo de pomelo Hacendado</td>\n",
       "      <td>39696.0</td>\n",
       "      <td>1.45</td>\n",
       "      <td>2023-03-12</td>\n",
       "      <td>Hacendado</td>\n",
       "      <td></td>\n",
       "      <td>NaN</td>\n",
       "    </tr>\n",
       "    <tr>\n",
       "      <th>5228</th>\n",
       "      <td>Zumo de manzana selección Hacendado</td>\n",
       "      <td>39922.0</td>\n",
       "      <td>1.50</td>\n",
       "      <td>2023-03-12</td>\n",
       "      <td>Hacendado</td>\n",
       "      <td></td>\n",
       "      <td>NaN</td>\n",
       "    </tr>\n",
       "  </tbody>\n",
       "</table>\n",
       "<p>4973 rows × 7 columns</p>\n",
       "</div>"
      ],
      "text/plain": [
       "                                            descripcion  product_code  \\\n",
       "0                        Aceite de oliva 0,4º Hacendado        4241.0   \n",
       "1                        Aceite de oliva 0,4º Hacendado        4240.0   \n",
       "2                Aceite de oliva virgen extra Hacendado        4717.0   \n",
       "3                Aceite de oliva virgen extra Hacendado        4740.0   \n",
       "4     Aceite de oliva virgen extra Hacendado Gran Se...        4706.0   \n",
       "...                                                 ...           ...   \n",
       "5224   Bebida de pomelo Hacendado sin azúcares añadidos       39604.0   \n",
       "5225     Bebida guayaba Hacendado sin azúcares añadidos       39659.0   \n",
       "5226     Bebida de pera Hacendado sin azúcares añadidos       39628.0   \n",
       "5227                           Zumo de pomelo Hacendado       39696.0   \n",
       "5228                Zumo de manzana selección Hacendado       39922.0   \n",
       "\n",
       "      price_eu collected_timestamp      marca   format    quantity  \n",
       "0        23.63         2023-03-11   Hacendado  Garrafa     1 x 5 L  \n",
       "1         4.77         2023-03-11   Hacendado  Botella     1 x 1 L  \n",
       "2        16.75         2023-03-11   Hacendado  Garrafa     1 x 3 L  \n",
       "3         5.63         2023-03-11   Hacendado  Botella     1 x 1 L  \n",
       "4         5.11         2023-03-11   Hacendado  Botella  1 x 750 ml  \n",
       "...        ...                 ...        ...      ...         ...  \n",
       "5224      1.25         2023-03-12   Hacendado                  NaN  \n",
       "5225      1.30         2023-03-12   Hacendado                  NaN  \n",
       "5226      1.10         2023-03-12   Hacendado                  NaN  \n",
       "5227      1.45         2023-03-12   Hacendado                  NaN  \n",
       "5228      1.50         2023-03-12   Hacendado                  NaN  \n",
       "\n",
       "[4973 rows x 7 columns]"
      ]
     },
     "execution_count": 244,
     "metadata": {},
     "output_type": "execute_result"
    }
   ],
   "source": [
    "df"
   ]
  },
  {
   "cell_type": "code",
   "execution_count": null,
   "id": "74af0959",
   "metadata": {},
   "outputs": [],
   "source": []
  },
  {
   "cell_type": "code",
   "execution_count": null,
   "id": "da008bd3",
   "metadata": {},
   "outputs": [],
   "source": []
  },
  {
   "cell_type": "code",
   "execution_count": null,
   "id": "e233f437",
   "metadata": {},
   "outputs": [],
   "source": []
  },
  {
   "cell_type": "code",
   "execution_count": null,
   "id": "0d59ca2b",
   "metadata": {},
   "outputs": [],
   "source": []
  },
  {
   "cell_type": "code",
   "execution_count": null,
   "id": "485586ea",
   "metadata": {},
   "outputs": [],
   "source": []
  },
  {
   "cell_type": "code",
   "execution_count": null,
   "id": "262fad29",
   "metadata": {},
   "outputs": [],
   "source": []
  },
  {
   "cell_type": "code",
   "execution_count": null,
   "id": "42aa706d",
   "metadata": {},
   "outputs": [],
   "source": []
  },
  {
   "cell_type": "code",
   "execution_count": null,
   "id": "edef0936",
   "metadata": {},
   "outputs": [],
   "source": []
  },
  {
   "cell_type": "code",
   "execution_count": null,
   "id": "8b79067e",
   "metadata": {},
   "outputs": [],
   "source": []
  },
  {
   "cell_type": "code",
   "execution_count": null,
   "id": "e96b983b",
   "metadata": {},
   "outputs": [],
   "source": []
  },
  {
   "cell_type": "code",
   "execution_count": null,
   "id": "0f9333ce",
   "metadata": {},
   "outputs": [],
   "source": []
  },
  {
   "cell_type": "code",
   "execution_count": null,
   "id": "50a05ec7",
   "metadata": {},
   "outputs": [],
   "source": []
  },
  {
   "cell_type": "code",
   "execution_count": null,
   "id": "59fe48ed",
   "metadata": {},
   "outputs": [],
   "source": []
  },
  {
   "cell_type": "code",
   "execution_count": null,
   "id": "cee1a225",
   "metadata": {},
   "outputs": [],
   "source": []
  },
  {
   "cell_type": "code",
   "execution_count": null,
   "id": "8100772a",
   "metadata": {},
   "outputs": [],
   "source": []
  },
  {
   "cell_type": "code",
   "execution_count": null,
   "id": "6692d629",
   "metadata": {},
   "outputs": [],
   "source": []
  },
  {
   "cell_type": "code",
   "execution_count": null,
   "id": "2d136afa",
   "metadata": {},
   "outputs": [],
   "source": []
  },
  {
   "cell_type": "code",
   "execution_count": 184,
   "id": "1fbc88f6",
   "metadata": {},
   "outputs": [
    {
     "data": {
      "text/plain": [
       "array(['Garrafa 5 L', 'Botella 1 L', 'Garrafa 3 L', ..., 'Brick 2 L',\n",
       "       'Botella 60 ml', '4 botellas x 200 ml '], dtype=object)"
      ]
     },
     "execution_count": 184,
     "metadata": {},
     "output_type": "execute_result"
    }
   ],
   "source": [
    "df[\"unidades\"].value_counts"
   ]
  },
  {
   "cell_type": "markdown",
   "id": "e254234d",
   "metadata": {},
   "source": [
    "# Extaremos los precios de 2023:"
   ]
  },
  {
   "cell_type": "code",
   "execution_count": 106,
   "id": "127623ef",
   "metadata": {},
   "outputs": [
    {
     "name": "stderr",
     "output_type": "stream",
     "text": [
      "/var/folders/k4/q8g97p495cx7f63kbs0wzyc00000gn/T/ipykernel_15003/2871466337.py:1: SettingWithCopyWarning: \n",
      "A value is trying to be set on a copy of a slice from a DataFrame.\n",
      "Try using .loc[row_indexer,col_indexer] = value instead\n",
      "\n",
      "See the caveats in the documentation: https://pandas.pydata.org/pandas-docs/stable/user_guide/indexing.html#returning-a-view-versus-a-copy\n",
      "  df[\"collected_timestamp\"] = df[\"collected_timestamp\"].str[0:11]\n"
     ]
    }
   ],
   "source": [
    "df[\"collected_timestamp\"] = df[\"collected_timestamp\"].str[0:11]"
   ]
  },
  {
   "cell_type": "code",
   "execution_count": 107,
   "id": "736b20de",
   "metadata": {},
   "outputs": [
    {
     "name": "stdout",
     "output_type": "stream",
     "text": [
      "DataFrame successfully exported to codigos-precios-2023.csv\n"
     ]
    }
   ],
   "source": [
    "export_to_csv(df, \"codigos-precios-2023\")"
   ]
  },
  {
   "cell_type": "code",
   "execution_count": 108,
   "id": "b2e0a8ef",
   "metadata": {},
   "outputs": [
    {
     "data": {
      "text/html": [
       "<div>\n",
       "<style scoped>\n",
       "    .dataframe tbody tr th:only-of-type {\n",
       "        vertical-align: middle;\n",
       "    }\n",
       "\n",
       "    .dataframe tbody tr th {\n",
       "        vertical-align: top;\n",
       "    }\n",
       "\n",
       "    .dataframe thead th {\n",
       "        text-align: right;\n",
       "    }\n",
       "</style>\n",
       "<table border=\"1\" class=\"dataframe\">\n",
       "  <thead>\n",
       "    <tr style=\"text-align: right;\">\n",
       "      <th></th>\n",
       "      <th>product_code</th>\n",
       "      <th>product_price</th>\n",
       "      <th>collected_timestamp</th>\n",
       "    </tr>\n",
       "  </thead>\n",
       "  <tbody>\n",
       "    <tr>\n",
       "      <th>0</th>\n",
       "      <td>4241.0</td>\n",
       "      <td>23.63</td>\n",
       "      <td>2023-03-11</td>\n",
       "    </tr>\n",
       "    <tr>\n",
       "      <th>1</th>\n",
       "      <td>4240.0</td>\n",
       "      <td>4.77</td>\n",
       "      <td>2023-03-11</td>\n",
       "    </tr>\n",
       "    <tr>\n",
       "      <th>2</th>\n",
       "      <td>4717.0</td>\n",
       "      <td>16.75</td>\n",
       "      <td>2023-03-11</td>\n",
       "    </tr>\n",
       "    <tr>\n",
       "      <th>3</th>\n",
       "      <td>4740.0</td>\n",
       "      <td>5.63</td>\n",
       "      <td>2023-03-11</td>\n",
       "    </tr>\n",
       "    <tr>\n",
       "      <th>4</th>\n",
       "      <td>4706.0</td>\n",
       "      <td>5.11</td>\n",
       "      <td>2023-03-11</td>\n",
       "    </tr>\n",
       "    <tr>\n",
       "      <th>...</th>\n",
       "      <td>...</td>\n",
       "      <td>...</td>\n",
       "      <td>...</td>\n",
       "    </tr>\n",
       "    <tr>\n",
       "      <th>5224</th>\n",
       "      <td>39604.0</td>\n",
       "      <td>1.25</td>\n",
       "      <td>2023-03-12</td>\n",
       "    </tr>\n",
       "    <tr>\n",
       "      <th>5225</th>\n",
       "      <td>39659.0</td>\n",
       "      <td>1.30</td>\n",
       "      <td>2023-03-12</td>\n",
       "    </tr>\n",
       "    <tr>\n",
       "      <th>5226</th>\n",
       "      <td>39628.0</td>\n",
       "      <td>1.10</td>\n",
       "      <td>2023-03-12</td>\n",
       "    </tr>\n",
       "    <tr>\n",
       "      <th>5227</th>\n",
       "      <td>39696.0</td>\n",
       "      <td>1.45</td>\n",
       "      <td>2023-03-12</td>\n",
       "    </tr>\n",
       "    <tr>\n",
       "      <th>5228</th>\n",
       "      <td>39922.0</td>\n",
       "      <td>1.50</td>\n",
       "      <td>2023-03-12</td>\n",
       "    </tr>\n",
       "  </tbody>\n",
       "</table>\n",
       "<p>5229 rows × 3 columns</p>\n",
       "</div>"
      ],
      "text/plain": [
       "      product_code  product_price collected_timestamp\n",
       "0           4241.0          23.63         2023-03-11 \n",
       "1           4240.0           4.77         2023-03-11 \n",
       "2           4717.0          16.75         2023-03-11 \n",
       "3           4740.0           5.63         2023-03-11 \n",
       "4           4706.0           5.11         2023-03-11 \n",
       "...            ...            ...                 ...\n",
       "5224       39604.0           1.25         2023-03-12 \n",
       "5225       39659.0           1.30         2023-03-12 \n",
       "5226       39628.0           1.10         2023-03-12 \n",
       "5227       39696.0           1.45         2023-03-12 \n",
       "5228       39922.0           1.50         2023-03-12 \n",
       "\n",
       "[5229 rows x 3 columns]"
      ]
     },
     "execution_count": 108,
     "metadata": {},
     "output_type": "execute_result"
    }
   ],
   "source": [
    "df"
   ]
  },
  {
   "cell_type": "markdown",
   "id": "54946418",
   "metadata": {},
   "source": [
    "# Extraemos descripcion - codigo y unidades (para aquellos casos en los que se repite la descipcion)"
   ]
  },
  {
   "cell_type": "code",
   "execution_count": 109,
   "id": "850ead88",
   "metadata": {},
   "outputs": [],
   "source": [
    "df = pd.read_csv(\"../../data/mercadona-scrape-2023/Mercadona Scraping 2023-03-11_21-39-33.csv\", delimiter = \"~\")"
   ]
  },
  {
   "cell_type": "code",
   "execution_count": 110,
   "id": "514d6b01",
   "metadata": {},
   "outputs": [],
   "source": [
    "df = df[[\"product\", \"product_type\", \"product_volume\", \"product_code\" ]]"
   ]
  },
  {
   "cell_type": "code",
   "execution_count": 111,
   "id": "72202db9",
   "metadata": {},
   "outputs": [
    {
     "data": {
      "text/html": [
       "<div>\n",
       "<style scoped>\n",
       "    .dataframe tbody tr th:only-of-type {\n",
       "        vertical-align: middle;\n",
       "    }\n",
       "\n",
       "    .dataframe tbody tr th {\n",
       "        vertical-align: top;\n",
       "    }\n",
       "\n",
       "    .dataframe thead th {\n",
       "        text-align: right;\n",
       "    }\n",
       "</style>\n",
       "<table border=\"1\" class=\"dataframe\">\n",
       "  <thead>\n",
       "    <tr style=\"text-align: right;\">\n",
       "      <th></th>\n",
       "      <th>product</th>\n",
       "      <th>product_type</th>\n",
       "      <th>product_volume</th>\n",
       "      <th>product_code</th>\n",
       "    </tr>\n",
       "  </thead>\n",
       "  <tbody>\n",
       "    <tr>\n",
       "      <th>0</th>\n",
       "      <td>Aceite de oliva 0,4º Hacendado</td>\n",
       "      <td>Garrafa</td>\n",
       "      <td>5 L</td>\n",
       "      <td>4241.0</td>\n",
       "    </tr>\n",
       "    <tr>\n",
       "      <th>1</th>\n",
       "      <td>Aceite de oliva 0,4º Hacendado</td>\n",
       "      <td>Botella</td>\n",
       "      <td>1 L</td>\n",
       "      <td>4240.0</td>\n",
       "    </tr>\n",
       "    <tr>\n",
       "      <th>2</th>\n",
       "      <td>Aceite de oliva virgen extra Hacendado</td>\n",
       "      <td>Garrafa</td>\n",
       "      <td>3 L</td>\n",
       "      <td>4717.0</td>\n",
       "    </tr>\n",
       "    <tr>\n",
       "      <th>3</th>\n",
       "      <td>Aceite de oliva virgen extra Hacendado</td>\n",
       "      <td>Botella</td>\n",
       "      <td>1 L</td>\n",
       "      <td>4740.0</td>\n",
       "    </tr>\n",
       "    <tr>\n",
       "      <th>4</th>\n",
       "      <td>Aceite de oliva virgen extra Hacendado Gran Se...</td>\n",
       "      <td>Botella</td>\n",
       "      <td>750 ml</td>\n",
       "      <td>4706.0</td>\n",
       "    </tr>\n",
       "    <tr>\n",
       "      <th>...</th>\n",
       "      <td>...</td>\n",
       "      <td>...</td>\n",
       "      <td>...</td>\n",
       "      <td>...</td>\n",
       "    </tr>\n",
       "    <tr>\n",
       "      <th>5224</th>\n",
       "      <td>Bebida de pomelo Hacendado sin azúcares añadidos</td>\n",
       "      <td>Not available</td>\n",
       "      <td>Not available</td>\n",
       "      <td>39604.0</td>\n",
       "    </tr>\n",
       "    <tr>\n",
       "      <th>5225</th>\n",
       "      <td>Bebida guayaba Hacendado sin azúcares añadidos</td>\n",
       "      <td>Not available</td>\n",
       "      <td>Not available</td>\n",
       "      <td>39659.0</td>\n",
       "    </tr>\n",
       "    <tr>\n",
       "      <th>5226</th>\n",
       "      <td>Bebida de pera Hacendado sin azúcares añadidos</td>\n",
       "      <td>Not available</td>\n",
       "      <td>Not available</td>\n",
       "      <td>39628.0</td>\n",
       "    </tr>\n",
       "    <tr>\n",
       "      <th>5227</th>\n",
       "      <td>Zumo de pomelo Hacendado</td>\n",
       "      <td>Not available</td>\n",
       "      <td>Not available</td>\n",
       "      <td>39696.0</td>\n",
       "    </tr>\n",
       "    <tr>\n",
       "      <th>5228</th>\n",
       "      <td>Zumo de manzana selección Hacendado</td>\n",
       "      <td>Not available</td>\n",
       "      <td>Not available</td>\n",
       "      <td>39922.0</td>\n",
       "    </tr>\n",
       "  </tbody>\n",
       "</table>\n",
       "<p>5229 rows × 4 columns</p>\n",
       "</div>"
      ],
      "text/plain": [
       "                                                product   product_type  \\\n",
       "0                        Aceite de oliva 0,4º Hacendado        Garrafa   \n",
       "1                        Aceite de oliva 0,4º Hacendado        Botella   \n",
       "2                Aceite de oliva virgen extra Hacendado        Garrafa   \n",
       "3                Aceite de oliva virgen extra Hacendado        Botella   \n",
       "4     Aceite de oliva virgen extra Hacendado Gran Se...        Botella   \n",
       "...                                                 ...            ...   \n",
       "5224   Bebida de pomelo Hacendado sin azúcares añadidos  Not available   \n",
       "5225     Bebida guayaba Hacendado sin azúcares añadidos  Not available   \n",
       "5226     Bebida de pera Hacendado sin azúcares añadidos  Not available   \n",
       "5227                           Zumo de pomelo Hacendado  Not available   \n",
       "5228                Zumo de manzana selección Hacendado  Not available   \n",
       "\n",
       "     product_volume  product_code  \n",
       "0               5 L        4241.0  \n",
       "1               1 L        4240.0  \n",
       "2               3 L        4717.0  \n",
       "3               1 L        4740.0  \n",
       "4            750 ml        4706.0  \n",
       "...             ...           ...  \n",
       "5224  Not available       39604.0  \n",
       "5225  Not available       39659.0  \n",
       "5226  Not available       39628.0  \n",
       "5227  Not available       39696.0  \n",
       "5228  Not available       39922.0  \n",
       "\n",
       "[5229 rows x 4 columns]"
      ]
     },
     "execution_count": 111,
     "metadata": {},
     "output_type": "execute_result"
    }
   ],
   "source": [
    "df"
   ]
  },
  {
   "cell_type": "markdown",
   "id": "4dcab379",
   "metadata": {},
   "source": [
    "### Duplicados en la descripcion: (solo a modo de comprobar y explorar) "
   ]
  },
  {
   "cell_type": "code",
   "execution_count": 112,
   "id": "a0c79676",
   "metadata": {},
   "outputs": [],
   "source": [
    "duplicates = df[df.duplicated(subset='product')]"
   ]
  },
  {
   "cell_type": "markdown",
   "id": "3b379825",
   "metadata": {},
   "source": [
    "mi dato unidades esta formado por sus columnas product_type y product_volume, que no tengo muy claro como las \n",
    "ha separado. Voy a intentar rejuntarlas para que cumplan mi formato para poder extraer los codigos "
   ]
  },
  {
   "cell_type": "code",
   "execution_count": 114,
   "id": "a32fee6b",
   "metadata": {},
   "outputs": [
    {
     "name": "stderr",
     "output_type": "stream",
     "text": [
      "/var/folders/k4/q8g97p495cx7f63kbs0wzyc00000gn/T/ipykernel_15003/2917403440.py:2: SettingWithCopyWarning: \n",
      "A value is trying to be set on a copy of a slice from a DataFrame.\n",
      "Try using .loc[row_indexer,col_indexer] = value instead\n",
      "\n",
      "See the caveats in the documentation: https://pandas.pydata.org/pandas-docs/stable/user_guide/indexing.html#returning-a-view-versus-a-copy\n",
      "  duplicates[\"product_volume\"] = duplicates[\"product_volume\"].apply(uniform)\n"
     ]
    }
   ],
   "source": [
    "# Esto deja en np.nan los que contien valor de precio en volumen (porque hay un descuadre de columnas)\n",
    "duplicates[\"product_volume\"] = duplicates[\"product_volume\"].apply(uniform)"
   ]
  },
  {
   "cell_type": "code",
   "execution_count": 115,
   "id": "668f7461",
   "metadata": {},
   "outputs": [
    {
     "name": "stderr",
     "output_type": "stream",
     "text": [
      "/var/folders/k4/q8g97p495cx7f63kbs0wzyc00000gn/T/ipykernel_15003/302287067.py:1: SettingWithCopyWarning: \n",
      "A value is trying to be set on a copy of a slice from a DataFrame\n",
      "\n",
      "See the caveats in the documentation: https://pandas.pydata.org/pandas-docs/stable/user_guide/indexing.html#returning-a-view-versus-a-copy\n",
      "  duplicates['product_volume'].fillna('', inplace=True)\n"
     ]
    }
   ],
   "source": [
    "duplicates['product_volume'].fillna('', inplace=True)"
   ]
  },
  {
   "cell_type": "code",
   "execution_count": 116,
   "id": "fb7d8388",
   "metadata": {},
   "outputs": [
    {
     "name": "stderr",
     "output_type": "stream",
     "text": [
      "/var/folders/k4/q8g97p495cx7f63kbs0wzyc00000gn/T/ipykernel_15003/3836105742.py:1: SettingWithCopyWarning: \n",
      "A value is trying to be set on a copy of a slice from a DataFrame.\n",
      "Try using .loc[row_indexer,col_indexer] = value instead\n",
      "\n",
      "See the caveats in the documentation: https://pandas.pydata.org/pandas-docs/stable/user_guide/indexing.html#returning-a-view-versus-a-copy\n",
      "  duplicates['unidades'] = duplicates['product_type'].str.cat(duplicates['product_volume'], sep=' ')\n"
     ]
    }
   ],
   "source": [
    "duplicates['unidades'] = duplicates['product_type'].str.cat(duplicates['product_volume'], sep=' ')"
   ]
  },
  {
   "cell_type": "code",
   "execution_count": 117,
   "id": "968703c6",
   "metadata": {},
   "outputs": [],
   "source": [
    "duplicates = duplicates[[\"product\", \"unidades\", \"product_code\"]]"
   ]
  },
  {
   "cell_type": "code",
   "execution_count": 118,
   "id": "5bf9320d",
   "metadata": {},
   "outputs": [
    {
     "name": "stdout",
     "output_type": "stream",
     "text": [
      "<class 'pandas.core.frame.DataFrame'>\n",
      "Index: 717 entries, 1 to 5221\n",
      "Data columns (total 3 columns):\n",
      " #   Column        Non-Null Count  Dtype  \n",
      "---  ------        --------------  -----  \n",
      " 0   product       717 non-null    object \n",
      " 1   unidades      717 non-null    object \n",
      " 2   product_code  717 non-null    float64\n",
      "dtypes: float64(1), object(2)\n",
      "memory usage: 22.4+ KB\n"
     ]
    }
   ],
   "source": [
    "duplicates.info()"
   ]
  },
  {
   "cell_type": "markdown",
   "id": "9fc8ff43",
   "metadata": {},
   "source": [
    "# Extrayendo el DF TOTAL con descripcion, codigo y unidades"
   ]
  },
  {
   "cell_type": "markdown",
   "id": "9a7227d8",
   "metadata": {},
   "source": [
    "### Resumen: "
   ]
  },
  {
   "cell_type": "markdown",
   "id": "6ef4a3c8",
   "metadata": {},
   "source": [
    "Hay productos que por la descripcion no puede saber que codigo tienen, porque hay dos descripciones iguales\n",
    "- ejemplo:\n",
    "    - Aceite de oliva | Garrafa 3L\n",
    "    - Aceite de olvia | Botella 1L\n",
    "    \n",
    "La descripcion es la misma pero se especifica en unidades la diferencia. Para poder cruzar los codigos, tendremos que tener esto en cuenta. "
   ]
  },
  {
   "cell_type": "code",
   "execution_count": 119,
   "id": "6b5cc84d",
   "metadata": {},
   "outputs": [],
   "source": [
    "# Vamos a hacer lo mismo que en duplicados pero en el original- "
   ]
  },
  {
   "cell_type": "code",
   "execution_count": 120,
   "id": "77b4c435",
   "metadata": {},
   "outputs": [
    {
     "name": "stdout",
     "output_type": "stream",
     "text": [
      "<class 'pandas.core.frame.DataFrame'>\n",
      "RangeIndex: 5229 entries, 0 to 5228\n",
      "Data columns (total 4 columns):\n",
      " #   Column          Non-Null Count  Dtype  \n",
      "---  ------          --------------  -----  \n",
      " 0   product         5229 non-null   object \n",
      " 1   product_type    5229 non-null   object \n",
      " 2   product_volume  5229 non-null   object \n",
      " 3   product_code    5229 non-null   float64\n",
      "dtypes: float64(1), object(3)\n",
      "memory usage: 163.5+ KB\n"
     ]
    }
   ],
   "source": [
    "df.info()"
   ]
  },
  {
   "cell_type": "code",
   "execution_count": 121,
   "id": "868b1d0a",
   "metadata": {},
   "outputs": [],
   "source": [
    "df[\"product_volume\"] = df[\"product_volume\"].apply(uniform)"
   ]
  },
  {
   "cell_type": "code",
   "execution_count": 122,
   "id": "7491888a",
   "metadata": {},
   "outputs": [],
   "source": [
    "df['product_volume'].fillna('', inplace=True)"
   ]
  },
  {
   "cell_type": "code",
   "execution_count": 123,
   "id": "48a89cc5",
   "metadata": {},
   "outputs": [],
   "source": [
    "df['product_volume'] = df['product_volume'].str.replace(\"Not available\", \"\")"
   ]
  },
  {
   "cell_type": "code",
   "execution_count": 124,
   "id": "9eff0069",
   "metadata": {},
   "outputs": [],
   "source": [
    "df['product_type'] = df['product_type'].str.replace(\"Not available\", \"\")"
   ]
  },
  {
   "cell_type": "code",
   "execution_count": 125,
   "id": "054d9bb0",
   "metadata": {},
   "outputs": [],
   "source": [
    "df['unidades'] = df['product_type'].str.cat(df['product_volume'], sep=' ')"
   ]
  },
  {
   "cell_type": "code",
   "execution_count": 127,
   "id": "36053a0e",
   "metadata": {},
   "outputs": [
    {
     "data": {
      "text/html": [
       "<div>\n",
       "<style scoped>\n",
       "    .dataframe tbody tr th:only-of-type {\n",
       "        vertical-align: middle;\n",
       "    }\n",
       "\n",
       "    .dataframe tbody tr th {\n",
       "        vertical-align: top;\n",
       "    }\n",
       "\n",
       "    .dataframe thead th {\n",
       "        text-align: right;\n",
       "    }\n",
       "</style>\n",
       "<table border=\"1\" class=\"dataframe\">\n",
       "  <thead>\n",
       "    <tr style=\"text-align: right;\">\n",
       "      <th></th>\n",
       "      <th>product</th>\n",
       "      <th>product_type</th>\n",
       "      <th>product_volume</th>\n",
       "      <th>product_code</th>\n",
       "      <th>unidades</th>\n",
       "    </tr>\n",
       "  </thead>\n",
       "  <tbody>\n",
       "    <tr>\n",
       "      <th>0</th>\n",
       "      <td>Aceite de oliva 0,4º Hacendado</td>\n",
       "      <td>Garrafa</td>\n",
       "      <td>5 L</td>\n",
       "      <td>4241.0</td>\n",
       "      <td>Garrafa 5 L</td>\n",
       "    </tr>\n",
       "    <tr>\n",
       "      <th>1</th>\n",
       "      <td>Aceite de oliva 0,4º Hacendado</td>\n",
       "      <td>Botella</td>\n",
       "      <td>1 L</td>\n",
       "      <td>4240.0</td>\n",
       "      <td>Botella 1 L</td>\n",
       "    </tr>\n",
       "    <tr>\n",
       "      <th>2</th>\n",
       "      <td>Aceite de oliva virgen extra Hacendado</td>\n",
       "      <td>Garrafa</td>\n",
       "      <td>3 L</td>\n",
       "      <td>4717.0</td>\n",
       "      <td>Garrafa 3 L</td>\n",
       "    </tr>\n",
       "    <tr>\n",
       "      <th>3</th>\n",
       "      <td>Aceite de oliva virgen extra Hacendado</td>\n",
       "      <td>Botella</td>\n",
       "      <td>1 L</td>\n",
       "      <td>4740.0</td>\n",
       "      <td>Botella 1 L</td>\n",
       "    </tr>\n",
       "    <tr>\n",
       "      <th>4</th>\n",
       "      <td>Aceite de oliva virgen extra Hacendado Gran Se...</td>\n",
       "      <td>Botella</td>\n",
       "      <td>750 ml</td>\n",
       "      <td>4706.0</td>\n",
       "      <td>Botella 750 ml</td>\n",
       "    </tr>\n",
       "    <tr>\n",
       "      <th>...</th>\n",
       "      <td>...</td>\n",
       "      <td>...</td>\n",
       "      <td>...</td>\n",
       "      <td>...</td>\n",
       "      <td>...</td>\n",
       "    </tr>\n",
       "    <tr>\n",
       "      <th>5224</th>\n",
       "      <td>Bebida de pomelo Hacendado sin azúcares añadidos</td>\n",
       "      <td></td>\n",
       "      <td></td>\n",
       "      <td>39604.0</td>\n",
       "      <td></td>\n",
       "    </tr>\n",
       "    <tr>\n",
       "      <th>5225</th>\n",
       "      <td>Bebida guayaba Hacendado sin azúcares añadidos</td>\n",
       "      <td></td>\n",
       "      <td></td>\n",
       "      <td>39659.0</td>\n",
       "      <td></td>\n",
       "    </tr>\n",
       "    <tr>\n",
       "      <th>5226</th>\n",
       "      <td>Bebida de pera Hacendado sin azúcares añadidos</td>\n",
       "      <td></td>\n",
       "      <td></td>\n",
       "      <td>39628.0</td>\n",
       "      <td></td>\n",
       "    </tr>\n",
       "    <tr>\n",
       "      <th>5227</th>\n",
       "      <td>Zumo de pomelo Hacendado</td>\n",
       "      <td></td>\n",
       "      <td></td>\n",
       "      <td>39696.0</td>\n",
       "      <td></td>\n",
       "    </tr>\n",
       "    <tr>\n",
       "      <th>5228</th>\n",
       "      <td>Zumo de manzana selección Hacendado</td>\n",
       "      <td></td>\n",
       "      <td></td>\n",
       "      <td>39922.0</td>\n",
       "      <td></td>\n",
       "    </tr>\n",
       "  </tbody>\n",
       "</table>\n",
       "<p>5229 rows × 5 columns</p>\n",
       "</div>"
      ],
      "text/plain": [
       "                                                product product_type  \\\n",
       "0                        Aceite de oliva 0,4º Hacendado      Garrafa   \n",
       "1                        Aceite de oliva 0,4º Hacendado      Botella   \n",
       "2                Aceite de oliva virgen extra Hacendado      Garrafa   \n",
       "3                Aceite de oliva virgen extra Hacendado      Botella   \n",
       "4     Aceite de oliva virgen extra Hacendado Gran Se...      Botella   \n",
       "...                                                 ...          ...   \n",
       "5224   Bebida de pomelo Hacendado sin azúcares añadidos                \n",
       "5225     Bebida guayaba Hacendado sin azúcares añadidos                \n",
       "5226     Bebida de pera Hacendado sin azúcares añadidos                \n",
       "5227                           Zumo de pomelo Hacendado                \n",
       "5228                Zumo de manzana selección Hacendado                \n",
       "\n",
       "     product_volume  product_code        unidades  \n",
       "0               5 L        4241.0     Garrafa 5 L  \n",
       "1               1 L        4240.0     Botella 1 L  \n",
       "2               3 L        4717.0     Garrafa 3 L  \n",
       "3               1 L        4740.0     Botella 1 L  \n",
       "4            750 ml        4706.0  Botella 750 ml  \n",
       "...             ...           ...             ...  \n",
       "5224                      39604.0                  \n",
       "5225                      39659.0                  \n",
       "5226                      39628.0                  \n",
       "5227                      39696.0                  \n",
       "5228                      39922.0                  \n",
       "\n",
       "[5229 rows x 5 columns]"
      ]
     },
     "execution_count": 127,
     "metadata": {},
     "output_type": "execute_result"
    }
   ],
   "source": [
    "df"
   ]
  },
  {
   "cell_type": "code",
   "execution_count": 74,
   "id": "8e08c03e",
   "metadata": {},
   "outputs": [],
   "source": [
    "df = df[[\"product\", \"unidades\", \"product_code\"]]"
   ]
  },
  {
   "cell_type": "code",
   "execution_count": 75,
   "id": "b0eca09d",
   "metadata": {},
   "outputs": [
    {
     "data": {
      "text/html": [
       "<div>\n",
       "<style scoped>\n",
       "    .dataframe tbody tr th:only-of-type {\n",
       "        vertical-align: middle;\n",
       "    }\n",
       "\n",
       "    .dataframe tbody tr th {\n",
       "        vertical-align: top;\n",
       "    }\n",
       "\n",
       "    .dataframe thead th {\n",
       "        text-align: right;\n",
       "    }\n",
       "</style>\n",
       "<table border=\"1\" class=\"dataframe\">\n",
       "  <thead>\n",
       "    <tr style=\"text-align: right;\">\n",
       "      <th></th>\n",
       "      <th>product</th>\n",
       "      <th>unidades</th>\n",
       "      <th>product_code</th>\n",
       "    </tr>\n",
       "  </thead>\n",
       "  <tbody>\n",
       "    <tr>\n",
       "      <th>0</th>\n",
       "      <td>Aceite de oliva 0,4º Hacendado</td>\n",
       "      <td>Garrafa 5 L</td>\n",
       "      <td>4241.0</td>\n",
       "    </tr>\n",
       "    <tr>\n",
       "      <th>1</th>\n",
       "      <td>Aceite de oliva 0,4º Hacendado</td>\n",
       "      <td>Botella 1 L</td>\n",
       "      <td>4240.0</td>\n",
       "    </tr>\n",
       "    <tr>\n",
       "      <th>2</th>\n",
       "      <td>Aceite de oliva virgen extra Hacendado</td>\n",
       "      <td>Garrafa 3 L</td>\n",
       "      <td>4717.0</td>\n",
       "    </tr>\n",
       "    <tr>\n",
       "      <th>3</th>\n",
       "      <td>Aceite de oliva virgen extra Hacendado</td>\n",
       "      <td>Botella 1 L</td>\n",
       "      <td>4740.0</td>\n",
       "    </tr>\n",
       "    <tr>\n",
       "      <th>4</th>\n",
       "      <td>Aceite de oliva virgen extra Hacendado Gran Se...</td>\n",
       "      <td>Botella 750 ml</td>\n",
       "      <td>4706.0</td>\n",
       "    </tr>\n",
       "    <tr>\n",
       "      <th>...</th>\n",
       "      <td>...</td>\n",
       "      <td>...</td>\n",
       "      <td>...</td>\n",
       "    </tr>\n",
       "    <tr>\n",
       "      <th>5224</th>\n",
       "      <td>Bebida de pomelo Hacendado sin azúcares añadidos</td>\n",
       "      <td></td>\n",
       "      <td>39604.0</td>\n",
       "    </tr>\n",
       "    <tr>\n",
       "      <th>5225</th>\n",
       "      <td>Bebida guayaba Hacendado sin azúcares añadidos</td>\n",
       "      <td></td>\n",
       "      <td>39659.0</td>\n",
       "    </tr>\n",
       "    <tr>\n",
       "      <th>5226</th>\n",
       "      <td>Bebida de pera Hacendado sin azúcares añadidos</td>\n",
       "      <td></td>\n",
       "      <td>39628.0</td>\n",
       "    </tr>\n",
       "    <tr>\n",
       "      <th>5227</th>\n",
       "      <td>Zumo de pomelo Hacendado</td>\n",
       "      <td></td>\n",
       "      <td>39696.0</td>\n",
       "    </tr>\n",
       "    <tr>\n",
       "      <th>5228</th>\n",
       "      <td>Zumo de manzana selección Hacendado</td>\n",
       "      <td></td>\n",
       "      <td>39922.0</td>\n",
       "    </tr>\n",
       "  </tbody>\n",
       "</table>\n",
       "<p>5229 rows × 3 columns</p>\n",
       "</div>"
      ],
      "text/plain": [
       "                                                product        unidades  \\\n",
       "0                        Aceite de oliva 0,4º Hacendado     Garrafa 5 L   \n",
       "1                        Aceite de oliva 0,4º Hacendado     Botella 1 L   \n",
       "2                Aceite de oliva virgen extra Hacendado     Garrafa 3 L   \n",
       "3                Aceite de oliva virgen extra Hacendado     Botella 1 L   \n",
       "4     Aceite de oliva virgen extra Hacendado Gran Se...  Botella 750 ml   \n",
       "...                                                 ...             ...   \n",
       "5224   Bebida de pomelo Hacendado sin azúcares añadidos                   \n",
       "5225     Bebida guayaba Hacendado sin azúcares añadidos                   \n",
       "5226     Bebida de pera Hacendado sin azúcares añadidos                   \n",
       "5227                           Zumo de pomelo Hacendado                   \n",
       "5228                Zumo de manzana selección Hacendado                   \n",
       "\n",
       "      product_code  \n",
       "0           4241.0  \n",
       "1           4240.0  \n",
       "2           4717.0  \n",
       "3           4740.0  \n",
       "4           4706.0  \n",
       "...            ...  \n",
       "5224       39604.0  \n",
       "5225       39659.0  \n",
       "5226       39628.0  \n",
       "5227       39696.0  \n",
       "5228       39922.0  \n",
       "\n",
       "[5229 rows x 3 columns]"
      ]
     },
     "execution_count": 75,
     "metadata": {},
     "output_type": "execute_result"
    }
   ],
   "source": [
    "df"
   ]
  },
  {
   "cell_type": "code",
   "execution_count": 78,
   "id": "44a2a79b",
   "metadata": {},
   "outputs": [
    {
     "data": {
      "text/plain": [
       "' \\nPARA HACER LA COMPROBACION \\n\\nlista = df[\"unidades\"].unique()\\n\\nfor i in lista:\\n    print(i)\\n'"
      ]
     },
     "execution_count": 78,
     "metadata": {},
     "output_type": "execute_result"
    }
   ],
   "source": [
    "\"\"\" \n",
    "PARA HACER LA COMPROBACION \n",
    "\n",
    "lista = df[\"unidades\"].unique()\n",
    "\n",
    "for i in lista:\n",
    "    print(i)\n",
    "\"\"\""
   ]
  },
  {
   "cell_type": "code",
   "execution_count": 79,
   "id": "369e26e5",
   "metadata": {},
   "outputs": [
    {
     "data": {
      "text/html": [
       "<div>\n",
       "<style scoped>\n",
       "    .dataframe tbody tr th:only-of-type {\n",
       "        vertical-align: middle;\n",
       "    }\n",
       "\n",
       "    .dataframe tbody tr th {\n",
       "        vertical-align: top;\n",
       "    }\n",
       "\n",
       "    .dataframe thead th {\n",
       "        text-align: right;\n",
       "    }\n",
       "</style>\n",
       "<table border=\"1\" class=\"dataframe\">\n",
       "  <thead>\n",
       "    <tr style=\"text-align: right;\">\n",
       "      <th></th>\n",
       "      <th>product</th>\n",
       "      <th>unidades</th>\n",
       "      <th>product_code</th>\n",
       "    </tr>\n",
       "  </thead>\n",
       "  <tbody>\n",
       "    <tr>\n",
       "      <th>0</th>\n",
       "      <td>Aceite de oliva 0,4º Hacendado</td>\n",
       "      <td>Garrafa 5 L</td>\n",
       "      <td>4241.0</td>\n",
       "    </tr>\n",
       "    <tr>\n",
       "      <th>1</th>\n",
       "      <td>Aceite de oliva 0,4º Hacendado</td>\n",
       "      <td>Botella 1 L</td>\n",
       "      <td>4240.0</td>\n",
       "    </tr>\n",
       "    <tr>\n",
       "      <th>2</th>\n",
       "      <td>Aceite de oliva virgen extra Hacendado</td>\n",
       "      <td>Garrafa 3 L</td>\n",
       "      <td>4717.0</td>\n",
       "    </tr>\n",
       "    <tr>\n",
       "      <th>3</th>\n",
       "      <td>Aceite de oliva virgen extra Hacendado</td>\n",
       "      <td>Botella 1 L</td>\n",
       "      <td>4740.0</td>\n",
       "    </tr>\n",
       "    <tr>\n",
       "      <th>4</th>\n",
       "      <td>Aceite de oliva virgen extra Hacendado Gran Se...</td>\n",
       "      <td>Botella 750 ml</td>\n",
       "      <td>4706.0</td>\n",
       "    </tr>\n",
       "    <tr>\n",
       "      <th>...</th>\n",
       "      <td>...</td>\n",
       "      <td>...</td>\n",
       "      <td>...</td>\n",
       "    </tr>\n",
       "    <tr>\n",
       "      <th>5224</th>\n",
       "      <td>Bebida de pomelo Hacendado sin azúcares añadidos</td>\n",
       "      <td></td>\n",
       "      <td>39604.0</td>\n",
       "    </tr>\n",
       "    <tr>\n",
       "      <th>5225</th>\n",
       "      <td>Bebida guayaba Hacendado sin azúcares añadidos</td>\n",
       "      <td></td>\n",
       "      <td>39659.0</td>\n",
       "    </tr>\n",
       "    <tr>\n",
       "      <th>5226</th>\n",
       "      <td>Bebida de pera Hacendado sin azúcares añadidos</td>\n",
       "      <td></td>\n",
       "      <td>39628.0</td>\n",
       "    </tr>\n",
       "    <tr>\n",
       "      <th>5227</th>\n",
       "      <td>Zumo de pomelo Hacendado</td>\n",
       "      <td></td>\n",
       "      <td>39696.0</td>\n",
       "    </tr>\n",
       "    <tr>\n",
       "      <th>5228</th>\n",
       "      <td>Zumo de manzana selección Hacendado</td>\n",
       "      <td></td>\n",
       "      <td>39922.0</td>\n",
       "    </tr>\n",
       "  </tbody>\n",
       "</table>\n",
       "<p>5229 rows × 3 columns</p>\n",
       "</div>"
      ],
      "text/plain": [
       "                                                product        unidades  \\\n",
       "0                        Aceite de oliva 0,4º Hacendado     Garrafa 5 L   \n",
       "1                        Aceite de oliva 0,4º Hacendado     Botella 1 L   \n",
       "2                Aceite de oliva virgen extra Hacendado     Garrafa 3 L   \n",
       "3                Aceite de oliva virgen extra Hacendado     Botella 1 L   \n",
       "4     Aceite de oliva virgen extra Hacendado Gran Se...  Botella 750 ml   \n",
       "...                                                 ...             ...   \n",
       "5224   Bebida de pomelo Hacendado sin azúcares añadidos                   \n",
       "5225     Bebida guayaba Hacendado sin azúcares añadidos                   \n",
       "5226     Bebida de pera Hacendado sin azúcares añadidos                   \n",
       "5227                           Zumo de pomelo Hacendado                   \n",
       "5228                Zumo de manzana selección Hacendado                   \n",
       "\n",
       "      product_code  \n",
       "0           4241.0  \n",
       "1           4240.0  \n",
       "2           4717.0  \n",
       "3           4740.0  \n",
       "4           4706.0  \n",
       "...            ...  \n",
       "5224       39604.0  \n",
       "5225       39659.0  \n",
       "5226       39628.0  \n",
       "5227       39696.0  \n",
       "5228       39922.0  \n",
       "\n",
       "[5229 rows x 3 columns]"
      ]
     },
     "execution_count": 79,
     "metadata": {},
     "output_type": "execute_result"
    }
   ],
   "source": []
  },
  {
   "cell_type": "code",
   "execution_count": 80,
   "id": "6a4ae3aa",
   "metadata": {},
   "outputs": [
    {
     "name": "stdout",
     "output_type": "stream",
     "text": [
      "DataFrame successfully exported to productos-codigos.csv\n"
     ]
    }
   ],
   "source": [
    "export_to_csv(df, \"productos-codigos\")"
   ]
  },
  {
   "cell_type": "code",
   "execution_count": null,
   "id": "a789a342",
   "metadata": {},
   "outputs": [],
   "source": []
  }
 ],
 "metadata": {
  "kernelspec": {
   "display_name": "ironhack",
   "language": "python",
   "name": "ironhack"
  },
  "language_info": {
   "codemirror_mode": {
    "name": "ipython",
    "version": 3
   },
   "file_extension": ".py",
   "mimetype": "text/x-python",
   "name": "python",
   "nbconvert_exporter": "python",
   "pygments_lexer": "ipython3",
   "version": "3.11.5"
  }
 },
 "nbformat": 4,
 "nbformat_minor": 5
}
