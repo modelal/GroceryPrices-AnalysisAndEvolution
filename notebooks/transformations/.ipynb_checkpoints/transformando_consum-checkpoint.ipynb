{
 "cells": [
  {
   "cell_type": "code",
   "execution_count": 1,
   "id": "7d95e261",
   "metadata": {},
   "outputs": [],
   "source": [
    "import pandas as pd\n",
    "import numpy as np\n",
    "import csv\n",
    "import re\n",
    "\n",
    "#Deberia revisar lo de Counter que lo uso bastante y no conoxco muy bien la libreria\n",
    "from collections import Counter\n"
   ]
  },
  {
   "cell_type": "code",
   "execution_count": 2,
   "id": "2bd0eaab",
   "metadata": {},
   "outputs": [],
   "source": [
    "def texto_csv(df, column):\n",
    "    \n",
    "    #name of the document: as column_name_column.csv\n",
    "    path = f'column_{column}.csv'\n",
    "    \n",
    "    \"\"\" Hay que quitar los vacios primero - lo he sacado de la funcion\n",
    "    por no tranformar la tabla aqui \"\"\"\n",
    "   \n",
    "    #2. We write every colum as a new line in the .csv\n",
    "    non_empty_values = [str(i) for i in df[column]]\n",
    "    \n",
    "    with open(path, mode='w', newline='') as file:\n",
    "        writer = csv.writer(file)\n",
    "        writer.writerows([[value] for value in non_empty_values]) \n",
    "        \n",
    "    print(f'Column successfully exported to {path}')"
   ]
  },
  {
   "cell_type": "code",
   "execution_count": 3,
   "id": "8a8cfb51",
   "metadata": {},
   "outputs": [],
   "source": [
    "def format_price(x):\n",
    "    \n",
    "    \"\"\"\n",
    "    Decompose and fromate values for the colum price\n",
    "    \n",
    "    input: string \n",
    "    output: lsit, values of each key already casted:\n",
    "        price: pos[0]: float\n",
    "        descuento: pos[1]: float/np.nan(float) (where there is a discount or not)\n",
    "    \n",
    "    \"\"\"\n",
    "    \n",
    "    # 1. Replace the € simbol and splits by the \"/\" ch -- generates a list of 2 elements (nums - text)\n",
    "    x = x.replace(\"€\", \"\").replace(\",\", \".\").split(\"\\n\")\n",
    "    \n",
    "    # 4. Extracts and formats price value:\n",
    "    price = float(x[0])\n",
    "    \n",
    "    # 5. Extracts and formats discount_price if not dicount np.nan\n",
    "    discount = [np.nan if len(x) == 1 else float(x[1])][0]\n",
    "    \n",
    "    return [price, discount]"
   ]
  },
  {
   "cell_type": "code",
   "execution_count": 7,
   "id": "d319969b",
   "metadata": {},
   "outputs": [
    {
     "data": {
      "text/plain": [
       "'/Users/Moni/Ironhack/my_ironhack/projects/final-project/notebooks/transformations'"
      ]
     },
     "execution_count": 7,
     "metadata": {},
     "output_type": "execute_result"
    }
   ],
   "source": [
    "pwd"
   ]
  },
  {
   "cell_type": "code",
   "execution_count": 9,
   "id": "e4d6ee1b",
   "metadata": {},
   "outputs": [
    {
     "data": {
      "text/html": [
       "<div>\n",
       "<style scoped>\n",
       "    .dataframe tbody tr th:only-of-type {\n",
       "        vertical-align: middle;\n",
       "    }\n",
       "\n",
       "    .dataframe tbody tr th {\n",
       "        vertical-align: top;\n",
       "    }\n",
       "\n",
       "    .dataframe thead th {\n",
       "        text-align: right;\n",
       "    }\n",
       "</style>\n",
       "<table border=\"1\" class=\"dataframe\">\n",
       "  <thead>\n",
       "    <tr style=\"text-align: right;\">\n",
       "      <th></th>\n",
       "      <th>categoria</th>\n",
       "      <th>subcategoria</th>\n",
       "      <th>descripcion</th>\n",
       "      <th>unidades</th>\n",
       "      <th>precio</th>\n",
       "      <th>marca</th>\n",
       "    </tr>\n",
       "  </thead>\n",
       "  <tbody>\n",
       "    <tr>\n",
       "      <th>0</th>\n",
       "      <td>Despensa</td>\n",
       "      <td>Aperitivos y frutos secos</td>\n",
       "      <td>Aceitunas Negras sin Hueso Lata 150 Gr</td>\n",
       "      <td>7,93 € / 1 Kg</td>\n",
       "      <td>1,29 €\\n1,19 €</td>\n",
       "      <td>CONSUM</td>\n",
       "    </tr>\n",
       "    <tr>\n",
       "      <th>1</th>\n",
       "      <td>Despensa</td>\n",
       "      <td>Aperitivos y frutos secos</td>\n",
       "      <td>Aceitunas Negras sin Hueso Lata 150 Gr</td>\n",
       "      <td>7,93 € / 1 Kg</td>\n",
       "      <td>1,29 €\\n1,19 €</td>\n",
       "      <td>CONSUM</td>\n",
       "    </tr>\n",
       "    <tr>\n",
       "      <th>2</th>\n",
       "      <td>Despensa</td>\n",
       "      <td>Aperitivos y frutos secos</td>\n",
       "      <td>Aceitunas Negras sin Hueso Lata 150 Gr</td>\n",
       "      <td>7,93 € / 1 Kg</td>\n",
       "      <td>1,29 €\\n1,19 €</td>\n",
       "      <td>CONSUM</td>\n",
       "    </tr>\n",
       "    <tr>\n",
       "      <th>3</th>\n",
       "      <td>Despensa</td>\n",
       "      <td>Aperitivos y frutos secos</td>\n",
       "      <td>Aceitunas Negras sin Hueso Lata 150 Gr</td>\n",
       "      <td>7,93 € / 1 Kg</td>\n",
       "      <td>1,29 €\\n1,19 €</td>\n",
       "      <td>CONSUM</td>\n",
       "    </tr>\n",
       "    <tr>\n",
       "      <th>4</th>\n",
       "      <td>Despensa</td>\n",
       "      <td>Aperitivos y frutos secos</td>\n",
       "      <td>Aceitunas Negras sin Hueso Lata 150 Gr</td>\n",
       "      <td>7,93 € / 1 Kg</td>\n",
       "      <td>1,29 €\\n1,19 €</td>\n",
       "      <td>CONSUM</td>\n",
       "    </tr>\n",
       "    <tr>\n",
       "      <th>...</th>\n",
       "      <td>...</td>\n",
       "      <td>...</td>\n",
       "      <td>...</td>\n",
       "      <td>...</td>\n",
       "      <td>...</td>\n",
       "      <td>...</td>\n",
       "    </tr>\n",
       "    <tr>\n",
       "      <th>9449</th>\n",
       "      <td>Bazar</td>\n",
       "      <td>Velas</td>\n",
       "      <td>Vaso Satinado Perfumado Pink Flower 1 U</td>\n",
       "      <td>1,95 € / 1 U</td>\n",
       "      <td>1,95 €</td>\n",
       "      <td>ROURA</td>\n",
       "    </tr>\n",
       "    <tr>\n",
       "      <th>9450</th>\n",
       "      <td>Bazar</td>\n",
       "      <td>Velas</td>\n",
       "      <td>Vaso Satinado Perfumado Pink Flower 1 U</td>\n",
       "      <td>1,95 € / 1 U</td>\n",
       "      <td>1,95 €</td>\n",
       "      <td>ROURA</td>\n",
       "    </tr>\n",
       "    <tr>\n",
       "      <th>9451</th>\n",
       "      <td>Bazar</td>\n",
       "      <td>Velas</td>\n",
       "      <td>Vaso Satinado Perfumado Pink Flower 1 U</td>\n",
       "      <td>1,95 € / 1 U</td>\n",
       "      <td>1,95 €</td>\n",
       "      <td>ROURA</td>\n",
       "    </tr>\n",
       "    <tr>\n",
       "      <th>9452</th>\n",
       "      <td>Bazar</td>\n",
       "      <td>Velas</td>\n",
       "      <td>Vaso Satinado Perfumado Pink Flower 1 U</td>\n",
       "      <td>1,95 € / 1 U</td>\n",
       "      <td>1,95 €</td>\n",
       "      <td>ROURA</td>\n",
       "    </tr>\n",
       "    <tr>\n",
       "      <th>9453</th>\n",
       "      <td>Bazar</td>\n",
       "      <td>Velas</td>\n",
       "      <td>Vaso Satinado Perfumado Pink Flower 1 U</td>\n",
       "      <td>1,95 € / 1 U</td>\n",
       "      <td>1,95 €</td>\n",
       "      <td>ROURA</td>\n",
       "    </tr>\n",
       "  </tbody>\n",
       "</table>\n",
       "<p>9454 rows × 6 columns</p>\n",
       "</div>"
      ],
      "text/plain": [
       "     categoria               subcategoria  \\\n",
       "0     Despensa  Aperitivos y frutos secos   \n",
       "1     Despensa  Aperitivos y frutos secos   \n",
       "2     Despensa  Aperitivos y frutos secos   \n",
       "3     Despensa  Aperitivos y frutos secos   \n",
       "4     Despensa  Aperitivos y frutos secos   \n",
       "...        ...                        ...   \n",
       "9449     Bazar                      Velas   \n",
       "9450     Bazar                      Velas   \n",
       "9451     Bazar                      Velas   \n",
       "9452     Bazar                      Velas   \n",
       "9453     Bazar                      Velas   \n",
       "\n",
       "                                  descripcion       unidades          precio  \\\n",
       "0      Aceitunas Negras sin Hueso Lata 150 Gr  7,93 € / 1 Kg  1,29 €\\n1,19 €   \n",
       "1      Aceitunas Negras sin Hueso Lata 150 Gr  7,93 € / 1 Kg  1,29 €\\n1,19 €   \n",
       "2      Aceitunas Negras sin Hueso Lata 150 Gr  7,93 € / 1 Kg  1,29 €\\n1,19 €   \n",
       "3      Aceitunas Negras sin Hueso Lata 150 Gr  7,93 € / 1 Kg  1,29 €\\n1,19 €   \n",
       "4      Aceitunas Negras sin Hueso Lata 150 Gr  7,93 € / 1 Kg  1,29 €\\n1,19 €   \n",
       "...                                       ...            ...             ...   \n",
       "9449  Vaso Satinado Perfumado Pink Flower 1 U   1,95 € / 1 U          1,95 €   \n",
       "9450  Vaso Satinado Perfumado Pink Flower 1 U   1,95 € / 1 U          1,95 €   \n",
       "9451  Vaso Satinado Perfumado Pink Flower 1 U   1,95 € / 1 U          1,95 €   \n",
       "9452  Vaso Satinado Perfumado Pink Flower 1 U   1,95 € / 1 U          1,95 €   \n",
       "9453  Vaso Satinado Perfumado Pink Flower 1 U   1,95 € / 1 U          1,95 €   \n",
       "\n",
       "       marca  \n",
       "0     CONSUM  \n",
       "1     CONSUM  \n",
       "2     CONSUM  \n",
       "3     CONSUM  \n",
       "4     CONSUM  \n",
       "...      ...  \n",
       "9449   ROURA  \n",
       "9450   ROURA  \n",
       "9451   ROURA  \n",
       "9452   ROURA  \n",
       "9453   ROURA  \n",
       "\n",
       "[9454 rows x 6 columns]"
      ]
     },
     "execution_count": 9,
     "metadata": {},
     "output_type": "execute_result"
    }
   ],
   "source": [
    "df = pd.read_csv(\"../../data/scrape-consum_2024-03-10.csv\")\n",
    "df"
   ]
  },
  {
   "cell_type": "code",
   "execution_count": 10,
   "id": "3a32ad88",
   "metadata": {},
   "outputs": [
    {
     "name": "stdout",
     "output_type": "stream",
     "text": [
      "<class 'pandas.core.frame.DataFrame'>\n",
      "RangeIndex: 9454 entries, 0 to 9453\n",
      "Data columns (total 6 columns):\n",
      " #   Column        Non-Null Count  Dtype \n",
      "---  ------        --------------  ----- \n",
      " 0   categoria     9454 non-null   object\n",
      " 1   subcategoria  9454 non-null   object\n",
      " 2   descripcion   9454 non-null   object\n",
      " 3   unidades      9454 non-null   object\n",
      " 4   precio        9454 non-null   object\n",
      " 5   marca         8952 non-null   object\n",
      "dtypes: object(6)\n",
      "memory usage: 443.3+ KB\n"
     ]
    }
   ],
   "source": [
    "# All collumns have values. \n",
    "df.info()"
   ]
  },
  {
   "cell_type": "markdown",
   "id": "2ce7f517",
   "metadata": {},
   "source": [
    "## PRECIO"
   ]
  },
  {
   "cell_type": "markdown",
   "id": "5454a4f8",
   "metadata": {},
   "source": [
    "### Precio\n",
    "\n",
    "- No hay valores nulos\n",
    "\n",
    "- El precio puede contener o 2 informaciones o 3:\n",
    "    - El precio y a que hace referencia ese precio (pack)\n",
    "    - El precio, precio si esta descontado y a que hace referencia ese precio(pack)\n",
    "\n",
    "- Creamos una funcion que aplicamos a todos los elementos de la columna precio para formaterla. Aqui extraeremos los tres valores comentados antes. Cuando no haya descuento --> np.nan\n",
    "    - price_info --> string\n",
    "    - price_eu and price_disc_eu --> float\n",
    "    \n",
    "  **Note:** Interesante aqui el tema de apply(function) y luego el lambda. \n",
    "  \n",
    "- Eliminamos la columna original\n",
    "\n",
    "**NOTE:** En price_info, los valores son bastante consistentes siendo la mayoria de valoes (ud/pack). No obstante hay 14 valores que son de tipo ( xxx g) ej 500 g. Veremos a ver que hacemos. si los descartamos o como los tranformamos. No son una parte muy relevante del conjunto de datos ( 14 de 5035) pero tener en cuenta que hay que revisarlo: \n"
   ]
  },
  {
   "cell_type": "markdown",
   "id": "e2325cfe",
   "metadata": {},
   "source": [
    "**Tranform Price column**"
   ]
  },
  {
   "cell_type": "code",
   "execution_count": 11,
   "id": "663d5e65",
   "metadata": {},
   "outputs": [
    {
     "data": {
      "text/html": [
       "<div>\n",
       "<style scoped>\n",
       "    .dataframe tbody tr th:only-of-type {\n",
       "        vertical-align: middle;\n",
       "    }\n",
       "\n",
       "    .dataframe tbody tr th {\n",
       "        vertical-align: top;\n",
       "    }\n",
       "\n",
       "    .dataframe thead th {\n",
       "        text-align: right;\n",
       "    }\n",
       "</style>\n",
       "<table border=\"1\" class=\"dataframe\">\n",
       "  <thead>\n",
       "    <tr style=\"text-align: right;\">\n",
       "      <th></th>\n",
       "      <th>categoria</th>\n",
       "      <th>subcategoria</th>\n",
       "      <th>descripcion</th>\n",
       "      <th>unidades</th>\n",
       "      <th>marca</th>\n",
       "      <th>price_eu</th>\n",
       "      <th>price_disc_eu</th>\n",
       "    </tr>\n",
       "  </thead>\n",
       "  <tbody>\n",
       "    <tr>\n",
       "      <th>6730</th>\n",
       "      <td>Droguería y limpieza</td>\n",
       "      <td>Limpieza hogar</td>\n",
       "      <td>Lejía Lavadora Densa 2 L</td>\n",
       "      <td>0,63 € / 1 L</td>\n",
       "      <td>CONSUM</td>\n",
       "      <td>1.25</td>\n",
       "      <td>NaN</td>\n",
       "    </tr>\n",
       "  </tbody>\n",
       "</table>\n",
       "</div>"
      ],
      "text/plain": [
       "                 categoria    subcategoria               descripcion  \\\n",
       "6730  Droguería y limpieza  Limpieza hogar  Lejía Lavadora Densa 2 L   \n",
       "\n",
       "          unidades   marca  price_eu  price_disc_eu  \n",
       "6730  0,63 € / 1 L  CONSUM      1.25            NaN  "
      ]
     },
     "execution_count": 11,
     "metadata": {},
     "output_type": "execute_result"
    }
   ],
   "source": [
    "# Apply the function and get the element for each colum: \n",
    "df[\"price_eu\"] = df[\"precio\"].apply(format_price).apply(lambda x:x[0])\n",
    "df[\"price_disc_eu\"] = df[\"precio\"].apply(format_price).apply(lambda x:x[1])\n",
    "\n",
    "#Drop old column:\n",
    "df.drop(\"precio\", axis=1, inplace=True)\n",
    "\n",
    "df.sample()"
   ]
  },
  {
   "cell_type": "markdown",
   "id": "f25756e8",
   "metadata": {},
   "source": [
    "### UNIDADES:"
   ]
  },
  {
   "cell_type": "code",
   "execution_count": 14,
   "id": "105c61da",
   "metadata": {},
   "outputs": [],
   "source": [
    "#extraer unidades consum\n",
    "\n",
    "patern = r\"((\\d+([,.]?\\d*)?)\\s*(?i)(kg|gr|u|l|ml))$ -- quedarse con el grupo 1\n",
    "\n",
    "patern con x\n",
    "\n",
    "pattern_2 = r'(\\d+\\s*x\\s*\\d+\\s*Gr|Kg|U|Ml|L)$'\n",
    "\n",
    "el digito delante de la X (si lo hay - filtrar antes):\n",
    "    \n",
    "    if \" x \" in i:\n",
    "\n",
    "patern2 = r'(\\d+)\\s*x"
   ]
  },
  {
   "cell_type": "code",
   "execution_count": 78,
   "id": "5d864c54",
   "metadata": {},
   "outputs": [],
   "source": [
    "df[\"descripcion\"] = df[\"descripcion\"].str.replace(\"aprox.\", \"\")\n",
    "lista = df[\"descripcion\"].unique()"
   ]
  },
  {
   "cell_type": "code",
   "execution_count": 96,
   "id": "4cd9e535",
   "metadata": {},
   "outputs": [
    {
     "data": {
      "text/plain": [
       "array(['Aceitunas Negras sin Hueso Lata 150 Gr',\n",
       "       'Cacahuetes con Cáscara Natural Tostado Bolsa 250 Gr',\n",
       "       'Cacahuetes con Cáscara Tostados con Sal Bolsa 250 Gr', ...,\n",
       "       'Snacks para Gatos Felix Party Mix Original 60 Gr',\n",
       "       'Comida Seca Gatos Esterilizados Buey 800 Gr',\n",
       "       'Comida Seca Gatos One Junior Bifensis 450 Gr'], dtype=object)"
      ]
     },
     "execution_count": 96,
     "metadata": {},
     "output_type": "execute_result"
    }
   ],
   "source": [
    "lista"
   ]
  },
  {
   "cell_type": "code",
   "execution_count": 98,
   "id": "37fec3ff",
   "metadata": {},
   "outputs": [
    {
     "ename": "error",
     "evalue": "global flags not at the start of the expression at position 20",
     "output_type": "error",
     "traceback": [
      "\u001b[0;31m---------------------------------------------------------------------------\u001b[0m",
      "\u001b[0;31merror\u001b[0m                                     Traceback (most recent call last)",
      "Cell \u001b[0;32mIn[98], line 16\u001b[0m\n\u001b[1;32m     12\u001b[0m     match \u001b[38;5;241m=\u001b[39m re\u001b[38;5;241m.\u001b[39mfindall(pattern_2, i)\n\u001b[1;32m     13\u001b[0m     \u001b[38;5;66;03m#print(match)\u001b[39;00m\n\u001b[1;32m     14\u001b[0m     \u001b[38;5;66;03m#print(f'{i}-----{match}')\u001b[39;00m\n\u001b[1;32m     15\u001b[0m \u001b[38;5;28;01melse\u001b[39;00m:\n\u001b[0;32m---> 16\u001b[0m     match \u001b[38;5;241m=\u001b[39m re\u001b[38;5;241m.\u001b[39mfindall(patern, i)\n\u001b[1;32m     17\u001b[0m     \u001b[38;5;28mprint\u001b[39m(match)\n",
      "File \u001b[0;32m~/miniconda3/envs/ironhack/lib/python3.11/re/__init__.py:216\u001b[0m, in \u001b[0;36mfindall\u001b[0;34m(pattern, string, flags)\u001b[0m\n\u001b[1;32m    208\u001b[0m \u001b[38;5;28;01mdef\u001b[39;00m \u001b[38;5;21mfindall\u001b[39m(pattern, string, flags\u001b[38;5;241m=\u001b[39m\u001b[38;5;241m0\u001b[39m):\n\u001b[1;32m    209\u001b[0m \u001b[38;5;250m    \u001b[39m\u001b[38;5;124;03m\"\"\"Return a list of all non-overlapping matches in the string.\u001b[39;00m\n\u001b[1;32m    210\u001b[0m \n\u001b[1;32m    211\u001b[0m \u001b[38;5;124;03m    If one or more capturing groups are present in the pattern, return\u001b[39;00m\n\u001b[0;32m   (...)\u001b[0m\n\u001b[1;32m    214\u001b[0m \n\u001b[1;32m    215\u001b[0m \u001b[38;5;124;03m    Empty matches are included in the result.\"\"\"\u001b[39;00m\n\u001b[0;32m--> 216\u001b[0m     \u001b[38;5;28;01mreturn\u001b[39;00m _compile(pattern, flags)\u001b[38;5;241m.\u001b[39mfindall(string)\n",
      "File \u001b[0;32m~/miniconda3/envs/ironhack/lib/python3.11/re/__init__.py:294\u001b[0m, in \u001b[0;36m_compile\u001b[0;34m(pattern, flags)\u001b[0m\n\u001b[1;32m    288\u001b[0m     \u001b[38;5;28;01mimport\u001b[39;00m \u001b[38;5;21;01mwarnings\u001b[39;00m\n\u001b[1;32m    289\u001b[0m     warnings\u001b[38;5;241m.\u001b[39mwarn(\u001b[38;5;124m\"\u001b[39m\u001b[38;5;124mThe re.TEMPLATE/re.T flag is deprecated \u001b[39m\u001b[38;5;124m\"\u001b[39m\n\u001b[1;32m    290\u001b[0m               \u001b[38;5;124m\"\u001b[39m\u001b[38;5;124mas it is an undocumented flag \u001b[39m\u001b[38;5;124m\"\u001b[39m\n\u001b[1;32m    291\u001b[0m               \u001b[38;5;124m\"\u001b[39m\u001b[38;5;124mwithout an obvious purpose. \u001b[39m\u001b[38;5;124m\"\u001b[39m\n\u001b[1;32m    292\u001b[0m               \u001b[38;5;124m\"\u001b[39m\u001b[38;5;124mDon\u001b[39m\u001b[38;5;124m'\u001b[39m\u001b[38;5;124mt use it.\u001b[39m\u001b[38;5;124m\"\u001b[39m,\n\u001b[1;32m    293\u001b[0m               \u001b[38;5;167;01mDeprecationWarning\u001b[39;00m)\n\u001b[0;32m--> 294\u001b[0m p \u001b[38;5;241m=\u001b[39m _compiler\u001b[38;5;241m.\u001b[39mcompile(pattern, flags)\n\u001b[1;32m    295\u001b[0m \u001b[38;5;28;01mif\u001b[39;00m \u001b[38;5;129;01mnot\u001b[39;00m (flags \u001b[38;5;241m&\u001b[39m DEBUG):\n\u001b[1;32m    296\u001b[0m     \u001b[38;5;28;01mif\u001b[39;00m \u001b[38;5;28mlen\u001b[39m(_cache) \u001b[38;5;241m>\u001b[39m\u001b[38;5;241m=\u001b[39m _MAXCACHE:\n\u001b[1;32m    297\u001b[0m         \u001b[38;5;66;03m# Drop the oldest item\u001b[39;00m\n",
      "File \u001b[0;32m~/miniconda3/envs/ironhack/lib/python3.11/re/_compiler.py:743\u001b[0m, in \u001b[0;36mcompile\u001b[0;34m(p, flags)\u001b[0m\n\u001b[1;32m    741\u001b[0m \u001b[38;5;28;01mif\u001b[39;00m isstring(p):\n\u001b[1;32m    742\u001b[0m     pattern \u001b[38;5;241m=\u001b[39m p\n\u001b[0;32m--> 743\u001b[0m     p \u001b[38;5;241m=\u001b[39m _parser\u001b[38;5;241m.\u001b[39mparse(p, flags)\n\u001b[1;32m    744\u001b[0m \u001b[38;5;28;01melse\u001b[39;00m:\n\u001b[1;32m    745\u001b[0m     pattern \u001b[38;5;241m=\u001b[39m \u001b[38;5;28;01mNone\u001b[39;00m\n",
      "File \u001b[0;32m~/miniconda3/envs/ironhack/lib/python3.11/re/_parser.py:982\u001b[0m, in \u001b[0;36mparse\u001b[0;34m(str, flags, state)\u001b[0m\n\u001b[1;32m    979\u001b[0m state\u001b[38;5;241m.\u001b[39mflags \u001b[38;5;241m=\u001b[39m flags\n\u001b[1;32m    980\u001b[0m state\u001b[38;5;241m.\u001b[39mstr \u001b[38;5;241m=\u001b[39m \u001b[38;5;28mstr\u001b[39m\n\u001b[0;32m--> 982\u001b[0m p \u001b[38;5;241m=\u001b[39m _parse_sub(source, state, flags \u001b[38;5;241m&\u001b[39m SRE_FLAG_VERBOSE, \u001b[38;5;241m0\u001b[39m)\n\u001b[1;32m    983\u001b[0m p\u001b[38;5;241m.\u001b[39mstate\u001b[38;5;241m.\u001b[39mflags \u001b[38;5;241m=\u001b[39m fix_flags(\u001b[38;5;28mstr\u001b[39m, p\u001b[38;5;241m.\u001b[39mstate\u001b[38;5;241m.\u001b[39mflags)\n\u001b[1;32m    985\u001b[0m \u001b[38;5;28;01mif\u001b[39;00m source\u001b[38;5;241m.\u001b[39mnext \u001b[38;5;129;01mis\u001b[39;00m \u001b[38;5;129;01mnot\u001b[39;00m \u001b[38;5;28;01mNone\u001b[39;00m:\n",
      "File \u001b[0;32m~/miniconda3/envs/ironhack/lib/python3.11/re/_parser.py:457\u001b[0m, in \u001b[0;36m_parse_sub\u001b[0;34m(source, state, verbose, nested)\u001b[0m\n\u001b[1;32m    455\u001b[0m start \u001b[38;5;241m=\u001b[39m source\u001b[38;5;241m.\u001b[39mtell()\n\u001b[1;32m    456\u001b[0m \u001b[38;5;28;01mwhile\u001b[39;00m \u001b[38;5;28;01mTrue\u001b[39;00m:\n\u001b[0;32m--> 457\u001b[0m     itemsappend(_parse(source, state, verbose, nested \u001b[38;5;241m+\u001b[39m \u001b[38;5;241m1\u001b[39m,\n\u001b[1;32m    458\u001b[0m                        \u001b[38;5;129;01mnot\u001b[39;00m nested \u001b[38;5;129;01mand\u001b[39;00m \u001b[38;5;129;01mnot\u001b[39;00m items))\n\u001b[1;32m    459\u001b[0m     \u001b[38;5;28;01mif\u001b[39;00m \u001b[38;5;129;01mnot\u001b[39;00m sourcematch(\u001b[38;5;124m\"\u001b[39m\u001b[38;5;124m|\u001b[39m\u001b[38;5;124m\"\u001b[39m):\n\u001b[1;32m    460\u001b[0m         \u001b[38;5;28;01mbreak\u001b[39;00m\n",
      "File \u001b[0;32m~/miniconda3/envs/ironhack/lib/python3.11/re/_parser.py:865\u001b[0m, in \u001b[0;36m_parse\u001b[0;34m(source, state, verbose, nested, first)\u001b[0m\n\u001b[1;32m    862\u001b[0m     group \u001b[38;5;241m=\u001b[39m \u001b[38;5;28;01mNone\u001b[39;00m\n\u001b[1;32m    863\u001b[0m sub_verbose \u001b[38;5;241m=\u001b[39m ((verbose \u001b[38;5;129;01mor\u001b[39;00m (add_flags \u001b[38;5;241m&\u001b[39m SRE_FLAG_VERBOSE)) \u001b[38;5;129;01mand\u001b[39;00m\n\u001b[1;32m    864\u001b[0m                \u001b[38;5;129;01mnot\u001b[39;00m (del_flags \u001b[38;5;241m&\u001b[39m SRE_FLAG_VERBOSE))\n\u001b[0;32m--> 865\u001b[0m p \u001b[38;5;241m=\u001b[39m _parse_sub(source, state, sub_verbose, nested \u001b[38;5;241m+\u001b[39m \u001b[38;5;241m1\u001b[39m)\n\u001b[1;32m    866\u001b[0m \u001b[38;5;28;01mif\u001b[39;00m \u001b[38;5;129;01mnot\u001b[39;00m source\u001b[38;5;241m.\u001b[39mmatch(\u001b[38;5;124m\"\u001b[39m\u001b[38;5;124m)\u001b[39m\u001b[38;5;124m\"\u001b[39m):\n\u001b[1;32m    867\u001b[0m     \u001b[38;5;28;01mraise\u001b[39;00m source\u001b[38;5;241m.\u001b[39merror(\u001b[38;5;124m\"\u001b[39m\u001b[38;5;124mmissing ), unterminated subpattern\u001b[39m\u001b[38;5;124m\"\u001b[39m,\n\u001b[1;32m    868\u001b[0m                        source\u001b[38;5;241m.\u001b[39mtell() \u001b[38;5;241m-\u001b[39m start)\n",
      "File \u001b[0;32m~/miniconda3/envs/ironhack/lib/python3.11/re/_parser.py:457\u001b[0m, in \u001b[0;36m_parse_sub\u001b[0;34m(source, state, verbose, nested)\u001b[0m\n\u001b[1;32m    455\u001b[0m start \u001b[38;5;241m=\u001b[39m source\u001b[38;5;241m.\u001b[39mtell()\n\u001b[1;32m    456\u001b[0m \u001b[38;5;28;01mwhile\u001b[39;00m \u001b[38;5;28;01mTrue\u001b[39;00m:\n\u001b[0;32m--> 457\u001b[0m     itemsappend(_parse(source, state, verbose, nested \u001b[38;5;241m+\u001b[39m \u001b[38;5;241m1\u001b[39m,\n\u001b[1;32m    458\u001b[0m                        \u001b[38;5;129;01mnot\u001b[39;00m nested \u001b[38;5;129;01mand\u001b[39;00m \u001b[38;5;129;01mnot\u001b[39;00m items))\n\u001b[1;32m    459\u001b[0m     \u001b[38;5;28;01mif\u001b[39;00m \u001b[38;5;129;01mnot\u001b[39;00m sourcematch(\u001b[38;5;124m\"\u001b[39m\u001b[38;5;124m|\u001b[39m\u001b[38;5;124m\"\u001b[39m):\n\u001b[1;32m    460\u001b[0m         \u001b[38;5;28;01mbreak\u001b[39;00m\n",
      "File \u001b[0;32m~/miniconda3/envs/ironhack/lib/python3.11/re/_parser.py:843\u001b[0m, in \u001b[0;36m_parse\u001b[0;34m(source, state, verbose, nested, first)\u001b[0m\n\u001b[1;32m    841\u001b[0m \u001b[38;5;28;01mif\u001b[39;00m flags \u001b[38;5;129;01mis\u001b[39;00m \u001b[38;5;28;01mNone\u001b[39;00m:  \u001b[38;5;66;03m# global flags\u001b[39;00m\n\u001b[1;32m    842\u001b[0m     \u001b[38;5;28;01mif\u001b[39;00m \u001b[38;5;129;01mnot\u001b[39;00m first \u001b[38;5;129;01mor\u001b[39;00m subpattern:\n\u001b[0;32m--> 843\u001b[0m         \u001b[38;5;28;01mraise\u001b[39;00m source\u001b[38;5;241m.\u001b[39merror(\u001b[38;5;124m'\u001b[39m\u001b[38;5;124mglobal flags not at the start \u001b[39m\u001b[38;5;124m'\u001b[39m\n\u001b[1;32m    844\u001b[0m                            \u001b[38;5;124m'\u001b[39m\u001b[38;5;124mof the expression\u001b[39m\u001b[38;5;124m'\u001b[39m,\n\u001b[1;32m    845\u001b[0m                            source\u001b[38;5;241m.\u001b[39mtell() \u001b[38;5;241m-\u001b[39m start)\n\u001b[1;32m    846\u001b[0m     verbose \u001b[38;5;241m=\u001b[39m state\u001b[38;5;241m.\u001b[39mflags \u001b[38;5;241m&\u001b[39m SRE_FLAG_VERBOSE\n\u001b[1;32m    847\u001b[0m     \u001b[38;5;28;01mcontinue\u001b[39;00m\n",
      "\u001b[0;31merror\u001b[0m: global flags not at the start of the expression at position 20"
     ]
    }
   ],
   "source": [
    "#extraer unidades consum\n",
    "\n",
    "pat = r'((\\d+([,.]?\\d*)?)\\s*(?i)(kg|gr|u|l|ml))$'\n",
    "\n",
    "patern = r'((\\d+([,.]?\\d*)?)\\s*(?i)(kg|gr|u|l|ml))$'\n",
    "\n",
    "pattern_2 = r'(\\d+\\s*x\\s*\\d+\\s*Gr|Kg|U|Ml|L)$'\n",
    "\n",
    "for i in lista:\n",
    "    \n",
    "    if \" x \" in i:\n",
    "        match = re.findall(pattern_2, i)\n",
    "        #print(match)\n",
    "        #print(f'{i}-----{match}')\n",
    "    else:\n",
    "        match = re.findall(patern, i)\n",
    "        print(match)\n",
    "        \n",
    "        "
   ]
  },
  {
   "cell_type": "code",
   "execution_count": 90,
   "id": "5198f700",
   "metadata": {},
   "outputs": [
    {
     "data": {
      "text/html": [
       "<div>\n",
       "<style scoped>\n",
       "    .dataframe tbody tr th:only-of-type {\n",
       "        vertical-align: middle;\n",
       "    }\n",
       "\n",
       "    .dataframe tbody tr th {\n",
       "        vertical-align: top;\n",
       "    }\n",
       "\n",
       "    .dataframe thead th {\n",
       "        text-align: right;\n",
       "    }\n",
       "</style>\n",
       "<table border=\"1\" class=\"dataframe\">\n",
       "  <thead>\n",
       "    <tr style=\"text-align: right;\">\n",
       "      <th></th>\n",
       "      <th>categoria</th>\n",
       "      <th>subcategoria</th>\n",
       "      <th>descripcion</th>\n",
       "      <th>unidades</th>\n",
       "      <th>precio</th>\n",
       "      <th>marca</th>\n",
       "    </tr>\n",
       "  </thead>\n",
       "  <tbody>\n",
       "    <tr>\n",
       "      <th>0</th>\n",
       "      <td>Despensa</td>\n",
       "      <td>Aperitivos y frutos secos</td>\n",
       "      <td>Aceitunas Negras sin Hueso Lata 150 Gr</td>\n",
       "      <td>7,93 € / 1 Kg</td>\n",
       "      <td>1,29 €\\n1,19 €</td>\n",
       "      <td>CONSUM</td>\n",
       "    </tr>\n",
       "    <tr>\n",
       "      <th>1</th>\n",
       "      <td>Despensa</td>\n",
       "      <td>Aperitivos y frutos secos</td>\n",
       "      <td>Cacahuetes con Cáscara Natural Tostado Bolsa 2...</td>\n",
       "      <td>4,00 € / 1 Kg</td>\n",
       "      <td>1,05 €\\n1,00 €</td>\n",
       "      <td>CONSUM</td>\n",
       "    </tr>\n",
       "    <tr>\n",
       "      <th>2</th>\n",
       "      <td>Despensa</td>\n",
       "      <td>Aperitivos y frutos secos</td>\n",
       "      <td>Cacahuetes con Cáscara Tostados con Sal Bolsa ...</td>\n",
       "      <td>4,00 € / 1 Kg</td>\n",
       "      <td>1,05 €\\n1,00 €</td>\n",
       "      <td>CONSUM</td>\n",
       "    </tr>\n",
       "    <tr>\n",
       "      <th>3</th>\n",
       "      <td>Despensa</td>\n",
       "      <td>Aperitivos y frutos secos</td>\n",
       "      <td>Ganchito Maíz Sabor Queso Bolsa 80 Gr</td>\n",
       "      <td>8,75 € / 1 Kg</td>\n",
       "      <td>0,75 €\\n0,70 €</td>\n",
       "      <td>CONSUM</td>\n",
       "    </tr>\n",
       "    <tr>\n",
       "      <th>4</th>\n",
       "      <td>Despensa</td>\n",
       "      <td>Aperitivos y frutos secos</td>\n",
       "      <td>Aceitunas Rellenas Anchoa Suave Pack 3 3 x 50 Gr</td>\n",
       "      <td>17,66 € / 1 Kg</td>\n",
       "      <td>2,99 €\\n2,65 €</td>\n",
       "      <td>JOLCA</td>\n",
       "    </tr>\n",
       "    <tr>\n",
       "      <th>...</th>\n",
       "      <td>...</td>\n",
       "      <td>...</td>\n",
       "      <td>...</td>\n",
       "      <td>...</td>\n",
       "      <td>...</td>\n",
       "      <td>...</td>\n",
       "    </tr>\n",
       "    <tr>\n",
       "      <th>11294</th>\n",
       "      <td>Mascotas</td>\n",
       "      <td>Comida para gatos</td>\n",
       "      <td>Comida Húmeda Gatos Gourmet Perle Buey Sobr 4 ...</td>\n",
       "      <td>9,82 € / 1 Kg</td>\n",
       "      <td>3,34 €</td>\n",
       "      <td>GOURMET</td>\n",
       "    </tr>\n",
       "    <tr>\n",
       "      <th>11295</th>\n",
       "      <td>Mascotas</td>\n",
       "      <td>Comida para gatos</td>\n",
       "      <td>Comida Seca Gatos Ultima de Pollo 1,5 Kg</td>\n",
       "      <td>6,63 € / 1 Kg</td>\n",
       "      <td>9,95 €</td>\n",
       "      <td>ULTIMA</td>\n",
       "    </tr>\n",
       "    <tr>\n",
       "      <th>11296</th>\n",
       "      <td>Mascotas</td>\n",
       "      <td>Comida para gatos</td>\n",
       "      <td>Snacks para Gatos Felix Party Mix Original 60 Gr</td>\n",
       "      <td>30,83 € / 1 Kg</td>\n",
       "      <td>1,85 €</td>\n",
       "      <td>FELIX</td>\n",
       "    </tr>\n",
       "    <tr>\n",
       "      <th>11297</th>\n",
       "      <td>Mascotas</td>\n",
       "      <td>Comida para gatos</td>\n",
       "      <td>Comida Seca Gatos Esterilizados Buey 800 Gr</td>\n",
       "      <td>7,44 € / 1 Kg</td>\n",
       "      <td>5,95 €</td>\n",
       "      <td>ULTIMA</td>\n",
       "    </tr>\n",
       "    <tr>\n",
       "      <th>11298</th>\n",
       "      <td>Mascotas</td>\n",
       "      <td>Comida para gatos</td>\n",
       "      <td>Comida Seca Gatos One Junior Bifensis 450 Gr</td>\n",
       "      <td>6,78 € / 1 Kg</td>\n",
       "      <td>3,05 €</td>\n",
       "      <td>ONE</td>\n",
       "    </tr>\n",
       "  </tbody>\n",
       "</table>\n",
       "<p>11299 rows × 6 columns</p>\n",
       "</div>"
      ],
      "text/plain": [
       "      categoria               subcategoria  \\\n",
       "0      Despensa  Aperitivos y frutos secos   \n",
       "1      Despensa  Aperitivos y frutos secos   \n",
       "2      Despensa  Aperitivos y frutos secos   \n",
       "3      Despensa  Aperitivos y frutos secos   \n",
       "4      Despensa  Aperitivos y frutos secos   \n",
       "...         ...                        ...   \n",
       "11294  Mascotas          Comida para gatos   \n",
       "11295  Mascotas          Comida para gatos   \n",
       "11296  Mascotas          Comida para gatos   \n",
       "11297  Mascotas          Comida para gatos   \n",
       "11298  Mascotas          Comida para gatos   \n",
       "\n",
       "                                             descripcion        unidades  \\\n",
       "0                 Aceitunas Negras sin Hueso Lata 150 Gr   7,93 € / 1 Kg   \n",
       "1      Cacahuetes con Cáscara Natural Tostado Bolsa 2...   4,00 € / 1 Kg   \n",
       "2      Cacahuetes con Cáscara Tostados con Sal Bolsa ...   4,00 € / 1 Kg   \n",
       "3                  Ganchito Maíz Sabor Queso Bolsa 80 Gr   8,75 € / 1 Kg   \n",
       "4       Aceitunas Rellenas Anchoa Suave Pack 3 3 x 50 Gr  17,66 € / 1 Kg   \n",
       "...                                                  ...             ...   \n",
       "11294  Comida Húmeda Gatos Gourmet Perle Buey Sobr 4 ...   9,82 € / 1 Kg   \n",
       "11295           Comida Seca Gatos Ultima de Pollo 1,5 Kg   6,63 € / 1 Kg   \n",
       "11296   Snacks para Gatos Felix Party Mix Original 60 Gr  30,83 € / 1 Kg   \n",
       "11297        Comida Seca Gatos Esterilizados Buey 800 Gr   7,44 € / 1 Kg   \n",
       "11298       Comida Seca Gatos One Junior Bifensis 450 Gr   6,78 € / 1 Kg   \n",
       "\n",
       "               precio    marca  \n",
       "0      1,29 €\\n1,19 €   CONSUM  \n",
       "1      1,05 €\\n1,00 €   CONSUM  \n",
       "2      1,05 €\\n1,00 €   CONSUM  \n",
       "3      0,75 €\\n0,70 €   CONSUM  \n",
       "4      2,99 €\\n2,65 €    JOLCA  \n",
       "...               ...      ...  \n",
       "11294          3,34 €  GOURMET  \n",
       "11295          9,95 €   ULTIMA  \n",
       "11296          1,85 €    FELIX  \n",
       "11297          5,95 €   ULTIMA  \n",
       "11298          3,05 €      ONE  \n",
       "\n",
       "[11299 rows x 6 columns]"
      ]
     },
     "execution_count": 90,
     "metadata": {},
     "output_type": "execute_result"
    }
   ],
   "source": [
    "df"
   ]
  },
  {
   "cell_type": "code",
   "execution_count": 55,
   "id": "62663609",
   "metadata": {},
   "outputs": [],
   "source": [
    "unidades_extraer = ['Pack', 'Unidades', 'Lata', 'Botella', 'Bolsa', \n",
    "                    'Frasco', 'Paquete', 'Brik', 'Tarro', 'Cápsulas', \n",
    "                    'Bote', 'Tarrina', 'Caja', 'Bandeja', 'Barra', 'Bolsitas', \n",
    "                    'Tarrito']"
   ]
  },
  {
   "cell_type": "code",
   "execution_count": 29,
   "id": "f043f0db",
   "metadata": {},
   "outputs": [
    {
     "data": {
      "text/plain": [
       "7990"
      ]
     },
     "execution_count": 29,
     "metadata": {},
     "output_type": "execute_result"
    }
   ],
   "source": [
    "lista = df[\"descripcion\"].unique()\n",
    "len(lista)"
   ]
  },
  {
   "cell_type": "code",
   "execution_count": 53,
   "id": "ada6ab73",
   "metadata": {},
   "outputs": [],
   "source": [
    "lista\n",
    "re_words = [\"Consum\", 'Gr', 'de', 'U', 'ml', 'L', 'x', 'con', 'y', 'Queso', \n",
    "            'Chocolate', 'en', 'Crema', 'sin', 'Leche', 'Vino', 'Natural', \n",
    "            'Gel', 'Colonia', 'Aceite', 'Kg', 'Pollo', 'Extra', 'Tinte', \n",
    "            'Sabor', 'Mini', 'Café', 'Tinto', 'Blanco', 'Azúcar', 'Galleta', \n",
    "            'Refresco', 'Jamón', 'Salsa',  'Lv', 'Sin', 'Oliva', 'Champú', \n",
    "            'Bebida', 'Cerveza', 'Pan', 'Líquido', 'Fresa', 'Cacao', \n",
    "            'Lonchas', 'Desodorante', 'Limón', 'Yogur', 'Tomate', \n",
    "            'Negro', 'Sal', 'Cereales', 'al', 'Pizza', 'a', 'Detergente', \n",
    "            'Arroz', 'Naranja', 'Ambientador', '0%', 'Manzana', 'Agua', \n",
    "            '-', 'Zero', 'Atún', 'para', 'Zumo', 'Piel', 'Laca', 'Patatas',\n",
    "            'Pavo', 'Labios', 'Uñas', 'Rubio', 'Caramelo', 'Recambio', 'Limpiador', \n",
    "           'congelada', 'Gluten', 'Talla', 'Original', 'del', 'Cola', 'Galletas', \n",
    "            'Cocido', 'D.O.']\n",
    "numb = 100\n",
    "words = []\n",
    "\n",
    "words_list = [ i.strip().split(\" \") for i in lista]\n",
    "\n",
    "for i in words_list:\n",
    "    for e in i:\n",
    "        if e.replace(\",\", \"\").replace(\".\", \"\").isdigit() == False and e not in re_words:\n",
    "            words.append(e)\n",
    "            \n",
    "word_counts = Counter(words)\n",
    "    \n",
    "most_common_words = word_counts.most_common(numb)\n",
    "\n",
    "palabras = [i[0] for i in most_common_words]"
   ]
  },
  {
   "cell_type": "code",
   "execution_count": 99,
   "id": "4b83cb89",
   "metadata": {},
   "outputs": [],
   "source": [
    "#words_list"
   ]
  },
  {
   "cell_type": "code",
   "execution_count": null,
   "id": "8ec8215a",
   "metadata": {},
   "outputs": [],
   "source": [
    "'Leche', 'Vino', 'Natural', 'Gel', 'Colonia', 'Aceite', 'Kg', 'Pollo', 'Extra', 'Tinte', 'Sabor', 'Mini', 'Café', 'Tinto', 'Blanco', 'Azúcar', 'Galleta', 'Refresco', 'Jamón', 'Salsa',"
   ]
  },
  {
   "cell_type": "code",
   "execution_count": 28,
   "id": "8b099daf",
   "metadata": {},
   "outputs": [],
   "source": [
    "f_df = df[df['unidades'].str.contains('Paquete')]"
   ]
  },
  {
   "cell_type": "code",
   "execution_count": 349,
   "id": "5cc7215f",
   "metadata": {},
   "outputs": [],
   "source": [
    "Paquete = i_df[\"unidades\"].tolist()"
   ]
  },
  {
   "cell_type": "code",
   "execution_count": 24,
   "id": "f66c21db",
   "metadata": {},
   "outputs": [],
   "source": [
    "def texto_csv(df, column):\n",
    "    \n",
    "    #name of the document: as column_name_column.csv\n",
    "    path = f'column_{column}.csv'\n",
    "    \n",
    "    \"\"\" Hay que quitar los vacios primero - lo he sacado de la funcion\n",
    "    por no tranformar la tabla aqui \"\"\"\n",
    "   \n",
    "    #2. We write every colum as a new line in the .csv\n",
    "    non_empty_values = [str(i) for i in df[column]]\n",
    "    \n",
    "    with open(path, mode='w', newline='') as file:\n",
    "        writer = csv.writer(file)\n",
    "        writer.writerows([[value] for value in non_empty_values]) \n",
    "        \n",
    "    print(f'Column successfully exported to {path}')"
   ]
  },
  {
   "cell_type": "code",
   "execution_count": 25,
   "id": "c37e0184",
   "metadata": {},
   "outputs": [
    {
     "name": "stdout",
     "output_type": "stream",
     "text": [
      "Column successfully exported to column_descripcion.csv\n"
     ]
    }
   ],
   "source": [
    "texto_csv(df, \"descripcion\")"
   ]
  },
  {
   "cell_type": "code",
   "execution_count": null,
   "id": "14ae2655",
   "metadata": {},
   "outputs": [],
   "source": []
  }
 ],
 "metadata": {
  "kernelspec": {
   "display_name": "ironhack",
   "language": "python",
   "name": "ironhack"
  },
  "language_info": {
   "codemirror_mode": {
    "name": "ipython",
    "version": 3
   },
   "file_extension": ".py",
   "mimetype": "text/x-python",
   "name": "python",
   "nbconvert_exporter": "python",
   "pygments_lexer": "ipython3",
   "version": "3.11.5"
  }
 },
 "nbformat": 4,
 "nbformat_minor": 5
}
