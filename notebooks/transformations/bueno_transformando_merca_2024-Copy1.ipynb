{
 "cells": [
  {
   "cell_type": "code",
   "execution_count": 134,
   "id": "f9432dc5",
   "metadata": {},
   "outputs": [],
   "source": [
    "import pandas as pd\n",
    "import numpy as np\n",
    "import csv\n",
    "import re\n",
    "\n",
    "from unidecode import unidecode #para los acentos\n",
    "\n",
    "#Deberia revisar lo de Counter que lo uso bastante y no conoxco muy bien la libreria\n",
    "from collections import Counter\n"
   ]
  },
  {
   "cell_type": "code",
   "execution_count": 146,
   "id": "8a686923",
   "metadata": {},
   "outputs": [],
   "source": [
    "def export_to_csv(data_frame, file_name):\n",
    "    \"\"\"\n",
    "    Export a DataFrame to a CSV file.\n",
    "\n",
    "    Parameters:\n",
    "        - data_frame: pandas DataFrame\n",
    "        - file_name: str, name of the CSV file (without the extension)\n",
    "    \"\"\"\n",
    "    #print date stamp - datetime.datetime.now()\n",
    "    \n",
    "    #t_stamp = str(datetime.datetime.now()).split(\".\")[0].replace(\" \",\"_\")\n",
    "    \n",
    "    file_path = f\"{file_name}.csv\"\n",
    "    \n",
    "    data_frame.to_csv(file_path, index=False)\n",
    "    print(f\"DataFrame successfully exported to {file_path}\")"
   ]
  },
  {
   "cell_type": "code",
   "execution_count": 147,
   "id": "a7b66390",
   "metadata": {},
   "outputs": [],
   "source": [
    "df1 = pd.read_csv(\"../scraping/scrape_mercadona/mercadona-01.csv\")\n",
    "df2 = pd.read_csv(\"../scraping/scrape_mercadona/mercadona-02.csv\")\n",
    "df3 = pd.read_csv(\"../scraping/scrape_mercadona/mercadona-03.csv\")\n",
    "df4 = pd.read_csv(\"../scraping/scrape_mercadona/mercadona-04.csv\")\n",
    "df5 = pd.read_csv(\"../scraping/scrape_mercadona/mercadona-05.csv\")\n",
    "df6 = pd.read_csv(\"../scraping/scrape_mercadona/mercadona-06.csv\")\n",
    "df7 = pd.read_csv(\"../scraping/scrape_mercadona/mercadona-1.2.csv\")"
   ]
  },
  {
   "cell_type": "code",
   "execution_count": 148,
   "id": "efbc8723",
   "metadata": {},
   "outputs": [],
   "source": [
    "df = pd.concat([df1, df2, df3, df4, df5, df6, df7])"
   ]
  },
  {
   "cell_type": "code",
   "execution_count": 149,
   "id": "c7c976ae",
   "metadata": {},
   "outputs": [
    {
     "data": {
      "text/html": [
       "<div>\n",
       "<style scoped>\n",
       "    .dataframe tbody tr th:only-of-type {\n",
       "        vertical-align: middle;\n",
       "    }\n",
       "\n",
       "    .dataframe tbody tr th {\n",
       "        vertical-align: top;\n",
       "    }\n",
       "\n",
       "    .dataframe thead th {\n",
       "        text-align: right;\n",
       "    }\n",
       "</style>\n",
       "<table border=\"1\" class=\"dataframe\">\n",
       "  <thead>\n",
       "    <tr style=\"text-align: right;\">\n",
       "      <th></th>\n",
       "      <th>categoria</th>\n",
       "      <th>subcategoria</th>\n",
       "      <th>descripcion</th>\n",
       "      <th>unidades</th>\n",
       "      <th>precio</th>\n",
       "      <th>code</th>\n",
       "      <th>compare</th>\n",
       "    </tr>\n",
       "  </thead>\n",
       "  <tbody>\n",
       "    <tr>\n",
       "      <th>1144</th>\n",
       "      <td>Congelados</td>\n",
       "      <td>Rebozados</td>\n",
       "      <td>Merluza empanada pan fino Hacendado ultraconge...</td>\n",
       "      <td>Paquete 510 g</td>\n",
       "      <td>4,20 €3,95 € /ud.</td>\n",
       "      <td>63140.0</td>\n",
       "      <td>7,746 €/kg</td>\n",
       "    </tr>\n",
       "  </tbody>\n",
       "</table>\n",
       "</div>"
      ],
      "text/plain": [
       "       categoria subcategoria  \\\n",
       "1144  Congelados    Rebozados   \n",
       "\n",
       "                                            descripcion       unidades  \\\n",
       "1144  Merluza empanada pan fino Hacendado ultraconge...  Paquete 510 g   \n",
       "\n",
       "                 precio     code      compare  \n",
       "1144  4,20 €3,95 € /ud.  63140.0   7,746 €/kg  "
      ]
     },
     "execution_count": 149,
     "metadata": {},
     "output_type": "execute_result"
    }
   ],
   "source": [
    "df.sample()"
   ]
  },
  {
   "cell_type": "code",
   "execution_count": 150,
   "id": "ab6441f8",
   "metadata": {},
   "outputs": [
    {
     "data": {
      "text/plain": [
       "(9282, 7)"
      ]
     },
     "execution_count": 150,
     "metadata": {},
     "output_type": "execute_result"
    }
   ],
   "source": [
    "df.shape"
   ]
  },
  {
   "cell_type": "markdown",
   "id": "85c731a0",
   "metadata": {},
   "source": [
    "## DUPLICADOS"
   ]
  },
  {
   "cell_type": "code",
   "execution_count": 151,
   "id": "ffb5b0dc",
   "metadata": {},
   "outputs": [
    {
     "name": "stdout",
     "output_type": "stream",
     "text": [
      "There is 4893 duplicate rows\n"
     ]
    }
   ],
   "source": [
    "def dupli_rows(df):\n",
    "    \"How many duplicate rows there is\"\n",
    "    duplicates = df.shape[0] - df.drop_duplicates().shape[0]\n",
    "    print(f'There is {duplicates} duplicate rows')\n",
    "    return \n",
    "\n",
    "dupli_rows(df)"
   ]
  },
  {
   "cell_type": "code",
   "execution_count": 152,
   "id": "b33b8e70",
   "metadata": {},
   "outputs": [],
   "source": [
    "df.drop_duplicates(inplace=True)"
   ]
  },
  {
   "cell_type": "code",
   "execution_count": 153,
   "id": "2753a88e",
   "metadata": {},
   "outputs": [
    {
     "data": {
      "text/plain": [
       "(4389, 7)"
      ]
     },
     "execution_count": 153,
     "metadata": {},
     "output_type": "execute_result"
    }
   ],
   "source": [
    "df.shape"
   ]
  },
  {
   "cell_type": "markdown",
   "id": "22379d0b",
   "metadata": {},
   "source": [
    "## PRECIO"
   ]
  },
  {
   "cell_type": "code",
   "execution_count": 154,
   "id": "731198df",
   "metadata": {},
   "outputs": [],
   "source": [
    "def format_price(x):\n",
    "    \n",
    "    \"\"\"\n",
    "    Decompose and fromate values for the colum price\n",
    "    \n",
    "    input: string \n",
    "    output: lsit, values of each key already casted:\n",
    "        info: pos[0]: str \n",
    "        valores: pos[1]: float\n",
    "        descuento: pos[2]: float/np.nan(float) (where there is a discount or not)\n",
    "    \n",
    "    \"\"\"\n",
    "    \n",
    "    # 1. Replace the € simbol and splits by the \"/\" ch -- generates a list of 2 elements (nums - text)\n",
    "    x = x.replace(\"€\", \"\").split(\"/\")\n",
    "    \n",
    "    # 2. Split by the \"/\" to extract the info, keep last part(always at the end)\n",
    "    info = x[-1].replace(\".\", \"\") #(str)\n",
    "    \n",
    "    # 3. Splits by the \"/\" to extract the num values:\n",
    "    num_values = x[0:-1][0].replace(\",\" , \".\").strip().split(\" \")\n",
    "    \n",
    "    # 4. Extracts and formats price value:\n",
    "    price = float(num_values[0])\n",
    "    \n",
    "    # 5. Extracts and formats discount_price if not dicount np.nan\n",
    "    discount = [np.nan if len(num_values) == 1 else float(num_values[1])][0]\n",
    "    \n",
    "    return [info, price, discount]"
   ]
  },
  {
   "cell_type": "code",
   "execution_count": 155,
   "id": "fb3892c1",
   "metadata": {},
   "outputs": [],
   "source": [
    "# Apply the function and get the element for each colum: \n",
    "\n",
    "\"He decidodo que esto no aporta nada\"\n",
    "#df[\"price_info\"] = df[\"precio\"].apply(format_price).apply(lambda x:x[0])\n",
    "df[\"price_eu\"] = df[\"precio\"].apply(format_price).apply(lambda x:x[1])\n",
    "df[\"price_disc_eu\"] = df[\"precio\"].apply(format_price).apply(lambda x:x[2])\n",
    "\n",
    "#Drop old column:\n",
    "df.drop(\"precio\", axis=1, inplace=True)"
   ]
  },
  {
   "cell_type": "code",
   "execution_count": 156,
   "id": "308d490d",
   "metadata": {},
   "outputs": [
    {
     "data": {
      "text/html": [
       "<div>\n",
       "<style scoped>\n",
       "    .dataframe tbody tr th:only-of-type {\n",
       "        vertical-align: middle;\n",
       "    }\n",
       "\n",
       "    .dataframe tbody tr th {\n",
       "        vertical-align: top;\n",
       "    }\n",
       "\n",
       "    .dataframe thead th {\n",
       "        text-align: right;\n",
       "    }\n",
       "</style>\n",
       "<table border=\"1\" class=\"dataframe\">\n",
       "  <thead>\n",
       "    <tr style=\"text-align: right;\">\n",
       "      <th></th>\n",
       "      <th>categoria</th>\n",
       "      <th>subcategoria</th>\n",
       "      <th>descripcion</th>\n",
       "      <th>unidades</th>\n",
       "      <th>code</th>\n",
       "      <th>compare</th>\n",
       "      <th>price_eu</th>\n",
       "      <th>price_disc_eu</th>\n",
       "    </tr>\n",
       "  </thead>\n",
       "  <tbody>\n",
       "    <tr>\n",
       "      <th>0</th>\n",
       "      <td>Aceite, especias y salsas</td>\n",
       "      <td>Aceite, vinagre y sal</td>\n",
       "      <td>Aceite de oliva 0,4º Hacendado</td>\n",
       "      <td>Botella 1 L</td>\n",
       "      <td>4240.0</td>\n",
       "      <td>9,25 €/L</td>\n",
       "      <td>9.25</td>\n",
       "      <td>NaN</td>\n",
       "    </tr>\n",
       "    <tr>\n",
       "      <th>1</th>\n",
       "      <td>Aceite, especias y salsas</td>\n",
       "      <td>Aceite, vinagre y sal</td>\n",
       "      <td>Aceite de oliva virgen extra Hacendado</td>\n",
       "      <td>Garrafa 3 L</td>\n",
       "      <td>4717.0</td>\n",
       "      <td>9,85 €/L</td>\n",
       "      <td>29.55</td>\n",
       "      <td>NaN</td>\n",
       "    </tr>\n",
       "    <tr>\n",
       "      <th>2</th>\n",
       "      <td>Aceite, especias y salsas</td>\n",
       "      <td>Aceite, vinagre y sal</td>\n",
       "      <td>Aceite de oliva virgen extra Hacendado</td>\n",
       "      <td>Botella 1 L</td>\n",
       "      <td>4740.0</td>\n",
       "      <td>9,90 €/L</td>\n",
       "      <td>9.90</td>\n",
       "      <td>NaN</td>\n",
       "    </tr>\n",
       "    <tr>\n",
       "      <th>3</th>\n",
       "      <td>Aceite, especias y salsas</td>\n",
       "      <td>Aceite, vinagre y sal</td>\n",
       "      <td>Aceite de oliva virgen extra Hacendado Gran Se...</td>\n",
       "      <td>Botella 750 ml</td>\n",
       "      <td>4706.0</td>\n",
       "      <td>10,80 €/L</td>\n",
       "      <td>8.10</td>\n",
       "      <td>NaN</td>\n",
       "    </tr>\n",
       "    <tr>\n",
       "      <th>4</th>\n",
       "      <td>Aceite, especias y salsas</td>\n",
       "      <td>Aceite, vinagre y sal</td>\n",
       "      <td>Aceite de oliva 1º Hacendado</td>\n",
       "      <td>Botella 1 L</td>\n",
       "      <td>4640.0</td>\n",
       "      <td>9,25 €/L</td>\n",
       "      <td>9.25</td>\n",
       "      <td>NaN</td>\n",
       "    </tr>\n",
       "    <tr>\n",
       "      <th>...</th>\n",
       "      <td>...</td>\n",
       "      <td>...</td>\n",
       "      <td>...</td>\n",
       "      <td>...</td>\n",
       "      <td>...</td>\n",
       "      <td>...</td>\n",
       "      <td>...</td>\n",
       "      <td>...</td>\n",
       "    </tr>\n",
       "    <tr>\n",
       "      <th>1847</th>\n",
       "      <td>Zumos</td>\n",
       "      <td>Tomate y otros sabores</td>\n",
       "      <td>Néctar de maracuyá Hacendado fruta de la pasió...</td>\n",
       "      <td>Brick 1 L</td>\n",
       "      <td>39643.0</td>\n",
       "      <td>0,81 €/L</td>\n",
       "      <td>0.81</td>\n",
       "      <td>NaN</td>\n",
       "    </tr>\n",
       "    <tr>\n",
       "      <th>1848</th>\n",
       "      <td>Zumos</td>\n",
       "      <td>Tomate y otros sabores</td>\n",
       "      <td>Bebida de mango Hacendado sin azúcares añadidos</td>\n",
       "      <td>Brick 1 L</td>\n",
       "      <td>39132.0</td>\n",
       "      <td>1,25 €/L</td>\n",
       "      <td>1.25</td>\n",
       "      <td>NaN</td>\n",
       "    </tr>\n",
       "    <tr>\n",
       "      <th>1849</th>\n",
       "      <td>Zumos</td>\n",
       "      <td>Tomate y otros sabores</td>\n",
       "      <td>Bebida de pomelo Hacendado sin azúcares añadidos</td>\n",
       "      <td>Brick 1 L</td>\n",
       "      <td>39604.0</td>\n",
       "      <td>1,25 €/L</td>\n",
       "      <td>1.25</td>\n",
       "      <td>NaN</td>\n",
       "    </tr>\n",
       "    <tr>\n",
       "      <th>1850</th>\n",
       "      <td>Zumos</td>\n",
       "      <td>Tomate y otros sabores</td>\n",
       "      <td>Zumo de manzana selección Hacendado</td>\n",
       "      <td>Brick 1 L</td>\n",
       "      <td>39922.0</td>\n",
       "      <td>1,50 €/L</td>\n",
       "      <td>1.50</td>\n",
       "      <td>NaN</td>\n",
       "    </tr>\n",
       "    <tr>\n",
       "      <th>1851</th>\n",
       "      <td>Zumos</td>\n",
       "      <td>Tomate y otros sabores</td>\n",
       "      <td>Néctar de guayaba Hacendado</td>\n",
       "      <td>Brick 1 L</td>\n",
       "      <td>39280.0</td>\n",
       "      <td>1,30 €/L</td>\n",
       "      <td>1.30</td>\n",
       "      <td>NaN</td>\n",
       "    </tr>\n",
       "  </tbody>\n",
       "</table>\n",
       "<p>4389 rows × 8 columns</p>\n",
       "</div>"
      ],
      "text/plain": [
       "                      categoria            subcategoria  \\\n",
       "0     Aceite, especias y salsas   Aceite, vinagre y sal   \n",
       "1     Aceite, especias y salsas   Aceite, vinagre y sal   \n",
       "2     Aceite, especias y salsas   Aceite, vinagre y sal   \n",
       "3     Aceite, especias y salsas   Aceite, vinagre y sal   \n",
       "4     Aceite, especias y salsas   Aceite, vinagre y sal   \n",
       "...                         ...                     ...   \n",
       "1847                      Zumos  Tomate y otros sabores   \n",
       "1848                      Zumos  Tomate y otros sabores   \n",
       "1849                      Zumos  Tomate y otros sabores   \n",
       "1850                      Zumos  Tomate y otros sabores   \n",
       "1851                      Zumos  Tomate y otros sabores   \n",
       "\n",
       "                                            descripcion        unidades  \\\n",
       "0                        Aceite de oliva 0,4º Hacendado     Botella 1 L   \n",
       "1                Aceite de oliva virgen extra Hacendado     Garrafa 3 L   \n",
       "2                Aceite de oliva virgen extra Hacendado     Botella 1 L   \n",
       "3     Aceite de oliva virgen extra Hacendado Gran Se...  Botella 750 ml   \n",
       "4                          Aceite de oliva 1º Hacendado     Botella 1 L   \n",
       "...                                                 ...             ...   \n",
       "1847  Néctar de maracuyá Hacendado fruta de la pasió...       Brick 1 L   \n",
       "1848    Bebida de mango Hacendado sin azúcares añadidos       Brick 1 L   \n",
       "1849   Bebida de pomelo Hacendado sin azúcares añadidos       Brick 1 L   \n",
       "1850                Zumo de manzana selección Hacendado       Brick 1 L   \n",
       "1851                        Néctar de guayaba Hacendado       Brick 1 L   \n",
       "\n",
       "         code     compare  price_eu  price_disc_eu  \n",
       "0      4240.0    9,25 €/L      9.25            NaN  \n",
       "1      4717.0    9,85 €/L     29.55            NaN  \n",
       "2      4740.0    9,90 €/L      9.90            NaN  \n",
       "3      4706.0   10,80 €/L      8.10            NaN  \n",
       "4      4640.0    9,25 €/L      9.25            NaN  \n",
       "...       ...         ...       ...            ...  \n",
       "1847  39643.0    0,81 €/L      0.81            NaN  \n",
       "1848  39132.0    1,25 €/L      1.25            NaN  \n",
       "1849  39604.0    1,25 €/L      1.25            NaN  \n",
       "1850  39922.0    1,50 €/L      1.50            NaN  \n",
       "1851  39280.0    1,30 €/L      1.30            NaN  \n",
       "\n",
       "[4389 rows x 8 columns]"
      ]
     },
     "execution_count": 156,
     "metadata": {},
     "output_type": "execute_result"
    }
   ],
   "source": [
    "df"
   ]
  },
  {
   "cell_type": "markdown",
   "id": "ae6af185",
   "metadata": {},
   "source": [
    "## - MARCA"
   ]
  },
  {
   "cell_type": "markdown",
   "id": "c63f8ab7",
   "metadata": {},
   "source": [
    "Hay tres marcas principales que se van a repetir en casi la mitad de articulos, que son los nombres\n",
    "de las marcas propias de mercadona: \n"
   ]
  },
  {
   "cell_type": "code",
   "execution_count": 157,
   "id": "7070110d",
   "metadata": {},
   "outputs": [],
   "source": [
    "\"\"\"Funcion que te devuelve la marca si el texto la contiene\"\"\"\n",
    "def marca(x):\n",
    "    #marcas = [\"Hacendado\", \"Deliplus\", \"Bosque Verde\", \"Coca-Cola\"]\n",
    "    \n",
    "    marcas = [\"Hacendado\", \"Deliplus\", \"Bosque Verde\", \"Coca-Cola\", \"Aquarius\", \"Compy\", \"L'Oréal\", \"Delikuit\", \n",
    "                \"Maybelline\", \"Gillette\", \"Nivea\", \"Puleva\", \"Incarlopsa\", \"Tampax\", \"Gallina Blanca\", \n",
    "                \"El Pozo\", \"Hero baby\", \"Finish\", \"Garnier\", \"Rimmel London\", \"Pantene\", \"Evax\", \n",
    "                \"Dolce Gusto\", \"Entrepinares\", \"Mahou\"]\n",
    "    \n",
    "    \n",
    "    return [i for i in marcas if i in x]"
   ]
  },
  {
   "cell_type": "code",
   "execution_count": 158,
   "id": "0fb7eaf0",
   "metadata": {},
   "outputs": [],
   "source": [
    "#Aplicamos la funcion, como realmente devuelve una lista, si esta vacia (no match) --> np.nan\n",
    "df[\"marca\"] = df[\"descripcion\"].apply(marca).apply(lambda x: x[0] if x != [] else np.nan)"
   ]
  },
  {
   "cell_type": "code",
   "execution_count": 159,
   "id": "30a7d07a",
   "metadata": {},
   "outputs": [
    {
     "data": {
      "text/plain": [
       "1520"
      ]
     },
     "execution_count": 159,
     "metadata": {},
     "output_type": "execute_result"
    }
   ],
   "source": [
    "#Quiero ver cuantas filas no hemos identificado la marca \n",
    "df['marca'].isna().sum()"
   ]
  },
  {
   "cell_type": "code",
   "execution_count": 160,
   "id": "ee6e7b6d",
   "metadata": {},
   "outputs": [
    {
     "data": {
      "text/html": [
       "<div>\n",
       "<style scoped>\n",
       "    .dataframe tbody tr th:only-of-type {\n",
       "        vertical-align: middle;\n",
       "    }\n",
       "\n",
       "    .dataframe tbody tr th {\n",
       "        vertical-align: top;\n",
       "    }\n",
       "\n",
       "    .dataframe thead th {\n",
       "        text-align: right;\n",
       "    }\n",
       "</style>\n",
       "<table border=\"1\" class=\"dataframe\">\n",
       "  <thead>\n",
       "    <tr style=\"text-align: right;\">\n",
       "      <th></th>\n",
       "      <th>categoria</th>\n",
       "      <th>subcategoria</th>\n",
       "      <th>descripcion</th>\n",
       "      <th>unidades</th>\n",
       "      <th>code</th>\n",
       "      <th>compare</th>\n",
       "      <th>price_eu</th>\n",
       "      <th>price_disc_eu</th>\n",
       "      <th>marca</th>\n",
       "    </tr>\n",
       "  </thead>\n",
       "  <tbody>\n",
       "    <tr>\n",
       "      <th>568</th>\n",
       "      <td>Cereales y galletas</td>\n",
       "      <td>Cereales</td>\n",
       "      <td>Avena molida Hacendado</td>\n",
       "      <td>Paquete 500 g</td>\n",
       "      <td>16807.0</td>\n",
       "      <td>2,22 €/kg</td>\n",
       "      <td>1.11</td>\n",
       "      <td>NaN</td>\n",
       "      <td>Hacendado</td>\n",
       "    </tr>\n",
       "  </tbody>\n",
       "</table>\n",
       "</div>"
      ],
      "text/plain": [
       "               categoria subcategoria             descripcion       unidades  \\\n",
       "568  Cereales y galletas     Cereales  Avena molida Hacendado  Paquete 500 g   \n",
       "\n",
       "        code     compare  price_eu  price_disc_eu      marca  \n",
       "568  16807.0   2,22 €/kg      1.11            NaN  Hacendado  "
      ]
     },
     "execution_count": 160,
     "metadata": {},
     "output_type": "execute_result"
    }
   ],
   "source": [
    "df.sample()"
   ]
  },
  {
   "cell_type": "markdown",
   "id": "444c933c",
   "metadata": {},
   "source": [
    "### UNIDADES:"
   ]
  },
  {
   "cell_type": "code",
   "execution_count": 161,
   "id": "22858fa8",
   "metadata": {},
   "outputs": [],
   "source": [
    "# Por el tema de acentos\n",
    "df[\"unidades\"] = df[\"unidades\"].apply(unidecode)\n",
    "\n",
    "#con esto eliminos los puntos de ud. y de aprox.\n",
    "df[\"unidades\"] = df[\"unidades\"].str.replace(\".\", \"\")\n",
    "\n",
    "# me quito todods los aprox\n",
    "df[\"unidades\"] = df[\"unidades\"].str.replace(\"aprox\", \"\")\n",
    "\n",
    "df[\"unidades\"] = df[\"unidades\"].str.replace(\"(\", \"\")\n",
    "\n",
    "df[\"unidades\"] = df[\"unidades\"].str.replace(\")\", \"\")"
   ]
  },
  {
   "cell_type": "code",
   "execution_count": 162,
   "id": "dc704a4d",
   "metadata": {},
   "outputs": [],
   "source": [
    "def format_units(i):\n",
    "    \n",
    "    # Format Ex:         (contains \"escurrido\")\n",
    "    pattern_1 = r'^(\\S+)\\s+(\\d+(?:,\\d+)?\\s*[kKgGmlML]+)\\s+(\\d+\\s*[kKgGmlML]+)\\s*escurrido$'\n",
    "\n",
    "    # Fromat Ex:\n",
    "    pattern_2 = r'^([A-Z][a-zA-Z]+)\\s((?:\\d+,)?\\d+\\s(?:[Kk]g|g|L|ml))'\n",
    "\n",
    "    #Formaat Ex: '8 latas x 330 ml\n",
    "    pattern_3 = r'(\\d+)\\s([a-zA-Z\\s]+)\\sx\\s((?:\\d+,)?\\d+\\s(?:kg|ml|g|L))'\n",
    "    \n",
    "    #Format Ex:\n",
    "    pattern_4 = r'(?:\\d+,)?\\d+\\s+(?:kg|g|ml|L)'\n",
    "    \n",
    "    \n",
    "    if re.match(pattern_1, i):\n",
    "\n",
    "        matches = re.findall(pattern_1, i)\n",
    "\n",
    "        formato = matches[0][0]  #.capitalize() ya veremos \n",
    "\n",
    "        cantidad = f'1 x {matches[0][2]}'\n",
    "\n",
    "        #Funciona bien -- para comprobar:\n",
    "        #print(f'{i} ---- {formato} / {cantidad}')\n",
    "\n",
    "        return [formato, cantidad]\n",
    "\n",
    "\n",
    "    # Formato 1: Paquete 500 g / Tarro 570 g (400 g escurrido)\n",
    "    if re.match(pattern_2, i):\n",
    "\n",
    "        matches = re.findall(pattern_2, i)\n",
    "\n",
    "        formato = matches[0][0]  #.capitalize() ya veremos \n",
    "\n",
    "        cantidad = f'1 x {matches[0][1]}'\n",
    "\n",
    "        #Funciona bien -- para comprobar:\n",
    "        #print(f'{i} ---- {formato} / {cantidad}')\n",
    "\n",
    "        return [formato, cantidad]\n",
    "\n",
    "\n",
    "    #Formato 2: '8 latas x 330 ml\n",
    "    if re.match(pattern_3, i):\n",
    "\n",
    "        matches = re.findall(pattern_3, i)\n",
    "\n",
    "        cantidad = f'{matches[0][0]} x {matches[0][2]}'\n",
    "        formato = matches[0][1]  #.capitalize() ya veremos \n",
    "\n",
    "        #Funciona bien -- para comprobar:\n",
    "        #print(f'{i} ---- {formato} / {cantidad}')\n",
    "\n",
    "        return [formato, cantidad]\n",
    "\n",
    "    if re.search(pattern_4, i):\n",
    "\n",
    "        matches = re.findall(pattern_4, i)\n",
    "\n",
    "        cantidad = f'1 x {matches[0]}'\n",
    "\n",
    "        formato = i.replace(matches[0], \"\")\n",
    "\n",
    "        #print(f'{i} ---- {formato} / {cantidad}')\n",
    "\n",
    "        return [formato, cantidad]\n",
    "\n",
    "    else:\n",
    "        formato = i\n",
    "        cantidad = np.nan\n",
    "        #print(f'{i} ---- {formato} / {cantidad}')\n",
    "\n",
    "        return [formato, cantidad]\n",
    "\n",
    "\n"
   ]
  },
  {
   "cell_type": "code",
   "execution_count": 163,
   "id": "f3bf5d3e",
   "metadata": {},
   "outputs": [],
   "source": [
    "df[\"format\"] = df[\"unidades\"].apply(format_units).apply(lambda x:x[0])\n",
    "df[\"quantity\"] = df[\"unidades\"].apply(format_units).apply(lambda x:x[1])"
   ]
  },
  {
   "cell_type": "code",
   "execution_count": 164,
   "id": "a60c18d9",
   "metadata": {},
   "outputs": [],
   "source": [
    "# POR AHORA LO VOY A DEJAR COMO ESTA -- LAS UNIDADES DIGO:\n",
    "\n",
    "#Drop old column:\n",
    "#df.drop(\"unidades\", axis=1, inplace=True)"
   ]
  },
  {
   "cell_type": "code",
   "execution_count": 165,
   "id": "41768d84",
   "metadata": {},
   "outputs": [],
   "source": [
    "df.rename(columns={\"categoria\":\"category\", \n",
    "                   \"subcategoria\":\"subcategory\", \n",
    "                   \"descripcion\":\"description\",\n",
    "                    \"unidades\":\"units\",\n",
    "                    \"code\": \"product_code\",\n",
    "                      \"marca\" : \"brand\"}, inplace = True)"
   ]
  },
  {
   "cell_type": "code",
   "execution_count": 166,
   "id": "70b6a9f8",
   "metadata": {},
   "outputs": [],
   "source": [
    "categories = df[[\"product_code\",\"description\", \"category\", \"subcategory\"]]"
   ]
  },
  {
   "cell_type": "code",
   "execution_count": 167,
   "id": "62306b40",
   "metadata": {},
   "outputs": [
    {
     "name": "stdout",
     "output_type": "stream",
     "text": [
      "DataFrame successfully exported to codes-categories.csv\n"
     ]
    }
   ],
   "source": [
    "export_to_csv(categories, \"codes-categories\")"
   ]
  },
  {
   "cell_type": "code",
   "execution_count": 168,
   "id": "5cc1f86f",
   "metadata": {},
   "outputs": [
    {
     "data": {
      "text/html": [
       "<div>\n",
       "<style scoped>\n",
       "    .dataframe tbody tr th:only-of-type {\n",
       "        vertical-align: middle;\n",
       "    }\n",
       "\n",
       "    .dataframe tbody tr th {\n",
       "        vertical-align: top;\n",
       "    }\n",
       "\n",
       "    .dataframe thead th {\n",
       "        text-align: right;\n",
       "    }\n",
       "</style>\n",
       "<table border=\"1\" class=\"dataframe\">\n",
       "  <thead>\n",
       "    <tr style=\"text-align: right;\">\n",
       "      <th></th>\n",
       "      <th>product_code</th>\n",
       "      <th>description</th>\n",
       "      <th>category</th>\n",
       "      <th>subcategory</th>\n",
       "    </tr>\n",
       "  </thead>\n",
       "  <tbody>\n",
       "    <tr>\n",
       "      <th>0</th>\n",
       "      <td>4240.0</td>\n",
       "      <td>Aceite de oliva 0,4º Hacendado</td>\n",
       "      <td>Aceite, especias y salsas</td>\n",
       "      <td>Aceite, vinagre y sal</td>\n",
       "    </tr>\n",
       "    <tr>\n",
       "      <th>1</th>\n",
       "      <td>4717.0</td>\n",
       "      <td>Aceite de oliva virgen extra Hacendado</td>\n",
       "      <td>Aceite, especias y salsas</td>\n",
       "      <td>Aceite, vinagre y sal</td>\n",
       "    </tr>\n",
       "    <tr>\n",
       "      <th>2</th>\n",
       "      <td>4740.0</td>\n",
       "      <td>Aceite de oliva virgen extra Hacendado</td>\n",
       "      <td>Aceite, especias y salsas</td>\n",
       "      <td>Aceite, vinagre y sal</td>\n",
       "    </tr>\n",
       "    <tr>\n",
       "      <th>3</th>\n",
       "      <td>4706.0</td>\n",
       "      <td>Aceite de oliva virgen extra Hacendado Gran Se...</td>\n",
       "      <td>Aceite, especias y salsas</td>\n",
       "      <td>Aceite, vinagre y sal</td>\n",
       "    </tr>\n",
       "    <tr>\n",
       "      <th>4</th>\n",
       "      <td>4640.0</td>\n",
       "      <td>Aceite de oliva 1º Hacendado</td>\n",
       "      <td>Aceite, especias y salsas</td>\n",
       "      <td>Aceite, vinagre y sal</td>\n",
       "    </tr>\n",
       "    <tr>\n",
       "      <th>...</th>\n",
       "      <td>...</td>\n",
       "      <td>...</td>\n",
       "      <td>...</td>\n",
       "      <td>...</td>\n",
       "    </tr>\n",
       "    <tr>\n",
       "      <th>1847</th>\n",
       "      <td>39643.0</td>\n",
       "      <td>Néctar de maracuyá Hacendado fruta de la pasió...</td>\n",
       "      <td>Zumos</td>\n",
       "      <td>Tomate y otros sabores</td>\n",
       "    </tr>\n",
       "    <tr>\n",
       "      <th>1848</th>\n",
       "      <td>39132.0</td>\n",
       "      <td>Bebida de mango Hacendado sin azúcares añadidos</td>\n",
       "      <td>Zumos</td>\n",
       "      <td>Tomate y otros sabores</td>\n",
       "    </tr>\n",
       "    <tr>\n",
       "      <th>1849</th>\n",
       "      <td>39604.0</td>\n",
       "      <td>Bebida de pomelo Hacendado sin azúcares añadidos</td>\n",
       "      <td>Zumos</td>\n",
       "      <td>Tomate y otros sabores</td>\n",
       "    </tr>\n",
       "    <tr>\n",
       "      <th>1850</th>\n",
       "      <td>39922.0</td>\n",
       "      <td>Zumo de manzana selección Hacendado</td>\n",
       "      <td>Zumos</td>\n",
       "      <td>Tomate y otros sabores</td>\n",
       "    </tr>\n",
       "    <tr>\n",
       "      <th>1851</th>\n",
       "      <td>39280.0</td>\n",
       "      <td>Néctar de guayaba Hacendado</td>\n",
       "      <td>Zumos</td>\n",
       "      <td>Tomate y otros sabores</td>\n",
       "    </tr>\n",
       "  </tbody>\n",
       "</table>\n",
       "<p>4389 rows × 4 columns</p>\n",
       "</div>"
      ],
      "text/plain": [
       "      product_code                                        description  \\\n",
       "0           4240.0                     Aceite de oliva 0,4º Hacendado   \n",
       "1           4717.0             Aceite de oliva virgen extra Hacendado   \n",
       "2           4740.0             Aceite de oliva virgen extra Hacendado   \n",
       "3           4706.0  Aceite de oliva virgen extra Hacendado Gran Se...   \n",
       "4           4640.0                       Aceite de oliva 1º Hacendado   \n",
       "...            ...                                                ...   \n",
       "1847       39643.0  Néctar de maracuyá Hacendado fruta de la pasió...   \n",
       "1848       39132.0    Bebida de mango Hacendado sin azúcares añadidos   \n",
       "1849       39604.0   Bebida de pomelo Hacendado sin azúcares añadidos   \n",
       "1850       39922.0                Zumo de manzana selección Hacendado   \n",
       "1851       39280.0                        Néctar de guayaba Hacendado   \n",
       "\n",
       "                       category             subcategory  \n",
       "0     Aceite, especias y salsas   Aceite, vinagre y sal  \n",
       "1     Aceite, especias y salsas   Aceite, vinagre y sal  \n",
       "2     Aceite, especias y salsas   Aceite, vinagre y sal  \n",
       "3     Aceite, especias y salsas   Aceite, vinagre y sal  \n",
       "4     Aceite, especias y salsas   Aceite, vinagre y sal  \n",
       "...                         ...                     ...  \n",
       "1847                      Zumos  Tomate y otros sabores  \n",
       "1848                      Zumos  Tomate y otros sabores  \n",
       "1849                      Zumos  Tomate y otros sabores  \n",
       "1850                      Zumos  Tomate y otros sabores  \n",
       "1851                      Zumos  Tomate y otros sabores  \n",
       "\n",
       "[4389 rows x 4 columns]"
      ]
     },
     "execution_count": 168,
     "metadata": {},
     "output_type": "execute_result"
    }
   ],
   "source": [
    "categories"
   ]
  },
  {
   "cell_type": "code",
   "execution_count": 169,
   "id": "31218bc5",
   "metadata": {},
   "outputs": [
    {
     "name": "stderr",
     "output_type": "stream",
     "text": [
      "/var/folders/k4/q8g97p495cx7f63kbs0wzyc00000gn/T/ipykernel_33447/2561182815.py:2: SettingWithCopyWarning: \n",
      "A value is trying to be set on a copy of a slice from a DataFrame.\n",
      "Try using .loc[row_indexer,col_indexer] = value instead\n",
      "\n",
      "See the caveats in the documentation: https://pandas.pydata.org/pandas-docs/stable/user_guide/indexing.html#returning-a-view-versus-a-copy\n",
      "  pirce_2024[\"collected_timestamp\"] = \"13-03-2024\"\n",
      "/var/folders/k4/q8g97p495cx7f63kbs0wzyc00000gn/T/ipykernel_33447/2561182815.py:3: UserWarning: Parsing dates in %d-%m-%Y format when dayfirst=False (the default) was specified. Pass `dayfirst=True` or specify a format to silence this warning.\n",
      "  pirce_2024['collected_timestamp'] = pd.to_datetime(pirce_2024['collected_timestamp'])\n",
      "/var/folders/k4/q8g97p495cx7f63kbs0wzyc00000gn/T/ipykernel_33447/2561182815.py:3: SettingWithCopyWarning: \n",
      "A value is trying to be set on a copy of a slice from a DataFrame.\n",
      "Try using .loc[row_indexer,col_indexer] = value instead\n",
      "\n",
      "See the caveats in the documentation: https://pandas.pydata.org/pandas-docs/stable/user_guide/indexing.html#returning-a-view-versus-a-copy\n",
      "  pirce_2024['collected_timestamp'] = pd.to_datetime(pirce_2024['collected_timestamp'])\n"
     ]
    }
   ],
   "source": [
    "pirce_2024 = df[[\"product_code\",\"price_eu\"]]\n",
    "pirce_2024[\"collected_timestamp\"] = \"13-03-2024\"\n",
    "pirce_2024['collected_timestamp'] = pd.to_datetime(pirce_2024['collected_timestamp'])"
   ]
  },
  {
   "cell_type": "code",
   "execution_count": 170,
   "id": "e650eef6",
   "metadata": {},
   "outputs": [
    {
     "data": {
      "text/html": [
       "<div>\n",
       "<style scoped>\n",
       "    .dataframe tbody tr th:only-of-type {\n",
       "        vertical-align: middle;\n",
       "    }\n",
       "\n",
       "    .dataframe tbody tr th {\n",
       "        vertical-align: top;\n",
       "    }\n",
       "\n",
       "    .dataframe thead th {\n",
       "        text-align: right;\n",
       "    }\n",
       "</style>\n",
       "<table border=\"1\" class=\"dataframe\">\n",
       "  <thead>\n",
       "    <tr style=\"text-align: right;\">\n",
       "      <th></th>\n",
       "      <th>product_code</th>\n",
       "      <th>price_eu</th>\n",
       "      <th>collected_timestamp</th>\n",
       "    </tr>\n",
       "  </thead>\n",
       "  <tbody>\n",
       "    <tr>\n",
       "      <th>0</th>\n",
       "      <td>4240.0</td>\n",
       "      <td>9.25</td>\n",
       "      <td>2024-03-13</td>\n",
       "    </tr>\n",
       "    <tr>\n",
       "      <th>1</th>\n",
       "      <td>4717.0</td>\n",
       "      <td>29.55</td>\n",
       "      <td>2024-03-13</td>\n",
       "    </tr>\n",
       "    <tr>\n",
       "      <th>2</th>\n",
       "      <td>4740.0</td>\n",
       "      <td>9.90</td>\n",
       "      <td>2024-03-13</td>\n",
       "    </tr>\n",
       "    <tr>\n",
       "      <th>3</th>\n",
       "      <td>4706.0</td>\n",
       "      <td>8.10</td>\n",
       "      <td>2024-03-13</td>\n",
       "    </tr>\n",
       "    <tr>\n",
       "      <th>4</th>\n",
       "      <td>4640.0</td>\n",
       "      <td>9.25</td>\n",
       "      <td>2024-03-13</td>\n",
       "    </tr>\n",
       "    <tr>\n",
       "      <th>...</th>\n",
       "      <td>...</td>\n",
       "      <td>...</td>\n",
       "      <td>...</td>\n",
       "    </tr>\n",
       "    <tr>\n",
       "      <th>1847</th>\n",
       "      <td>39643.0</td>\n",
       "      <td>0.81</td>\n",
       "      <td>2024-03-13</td>\n",
       "    </tr>\n",
       "    <tr>\n",
       "      <th>1848</th>\n",
       "      <td>39132.0</td>\n",
       "      <td>1.25</td>\n",
       "      <td>2024-03-13</td>\n",
       "    </tr>\n",
       "    <tr>\n",
       "      <th>1849</th>\n",
       "      <td>39604.0</td>\n",
       "      <td>1.25</td>\n",
       "      <td>2024-03-13</td>\n",
       "    </tr>\n",
       "    <tr>\n",
       "      <th>1850</th>\n",
       "      <td>39922.0</td>\n",
       "      <td>1.50</td>\n",
       "      <td>2024-03-13</td>\n",
       "    </tr>\n",
       "    <tr>\n",
       "      <th>1851</th>\n",
       "      <td>39280.0</td>\n",
       "      <td>1.30</td>\n",
       "      <td>2024-03-13</td>\n",
       "    </tr>\n",
       "  </tbody>\n",
       "</table>\n",
       "<p>4389 rows × 3 columns</p>\n",
       "</div>"
      ],
      "text/plain": [
       "      product_code  price_eu collected_timestamp\n",
       "0           4240.0      9.25          2024-03-13\n",
       "1           4717.0     29.55          2024-03-13\n",
       "2           4740.0      9.90          2024-03-13\n",
       "3           4706.0      8.10          2024-03-13\n",
       "4           4640.0      9.25          2024-03-13\n",
       "...            ...       ...                 ...\n",
       "1847       39643.0      0.81          2024-03-13\n",
       "1848       39132.0      1.25          2024-03-13\n",
       "1849       39604.0      1.25          2024-03-13\n",
       "1850       39922.0      1.50          2024-03-13\n",
       "1851       39280.0      1.30          2024-03-13\n",
       "\n",
       "[4389 rows x 3 columns]"
      ]
     },
     "execution_count": 170,
     "metadata": {},
     "output_type": "execute_result"
    }
   ],
   "source": [
    "pirce_2024"
   ]
  },
  {
   "cell_type": "code",
   "execution_count": 171,
   "id": "289cc366",
   "metadata": {},
   "outputs": [
    {
     "name": "stdout",
     "output_type": "stream",
     "text": [
      "DataFrame successfully exported to codigos-precios-2024.csv\n"
     ]
    }
   ],
   "source": [
    "export_to_csv(pirce_2024, \"codigos-precios-2024\")"
   ]
  },
  {
   "cell_type": "code",
   "execution_count": null,
   "id": "fbb0f891",
   "metadata": {},
   "outputs": [],
   "source": []
  },
  {
   "cell_type": "code",
   "execution_count": null,
   "id": "9c205a31",
   "metadata": {},
   "outputs": [],
   "source": []
  }
 ],
 "metadata": {
  "kernelspec": {
   "display_name": "ironhack",
   "language": "python",
   "name": "ironhack"
  },
  "language_info": {
   "codemirror_mode": {
    "name": "ipython",
    "version": 3
   },
   "file_extension": ".py",
   "mimetype": "text/x-python",
   "name": "python",
   "nbconvert_exporter": "python",
   "pygments_lexer": "ipython3",
   "version": "3.11.5"
  }
 },
 "nbformat": 4,
 "nbformat_minor": 5
}
