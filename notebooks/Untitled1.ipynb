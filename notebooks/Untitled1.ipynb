{
 "cells": [
  {
   "cell_type": "markdown",
   "id": "c0eb7eff",
   "metadata": {},
   "source": [
    "### Import libaries -- Investigar a fondo "
   ]
  },
  {
   "cell_type": "code",
   "execution_count": null,
   "id": "01aad3e7",
   "metadata": {},
   "outputs": [],
   "source": [
    "import os\n",
    "import time\n",
    "import pandas as pd\n",
    "\n",
    "# pip install selenium\n",
    "from selenium import webdriver\n",
    "from selenium.webdriver.common.keys import Keys\n",
    "from selenium.webdriver.common.by import By\n",
    "from selenium.webdriver.support.ui import WebDriverWait\n",
    "from selenium.webdriver.support import expected_conditions as EC\n",
    "from selenium import webdriver\n",
    "from selenium.webdriver.support.ui import Select\n",
    "from selenium import webdriver\n",
    "\n",
    "from bs4 import BeautifulSoup # pip install beautifulsoup4\n",
    "\n"
   ]
  },
  {
   "cell_type": "code",
   "execution_count": null,
   "id": "38b0362b",
   "metadata": {},
   "outputs": [],
   "source": []
  },
  {
   "cell_type": "markdown",
   "id": "1eda51ee",
   "metadata": {},
   "source": [
    "This section configures Selenium options, including whether to run the browser in headless mode. Headless mode means the browser runs without a graphical user interface, which can be useful for automated tasks."
   ]
  },
  {
   "cell_type": "code",
   "execution_count": null,
   "id": "f1b19f61",
   "metadata": {},
   "outputs": [],
   "source": [
    "# Set options for headless (invisible) browsing\n",
    "    options = Options()\n",
    "    if headless:\n",
    "        options.add_argument('--headless')"
   ]
  },
  {
   "cell_type": "markdown",
   "id": "8ba67315",
   "metadata": {},
   "source": [
    "Here are some reasons why headless mode might be preferred:\n",
    "\n",
    "- Automated Testing: Headless browsers allow developers to run automated tests without any user interface, making the testing process faster and more efficient. It enables running tests in a continuous integration/continuous deployment (CI/CD) pipeline without human intervention.\n",
    "\n",
    "- Web Scraping: For tasks such as web scraping, where you need to collect data from websites programmatically, running the browser in headless mode allows you to perform operations without the overhead of rendering a graphical interface, leading to faster scraping speeds and reduced resource consumption.\n",
    "\n",
    "- Server-Side Rendering: In some web development scenarios, you might need to render web pages on the server side. Headless browsers can be used to generate HTML snapshots of web pages without the need for a visible browser window.\n",
    "\n",
    "- Resource Efficiency: Running a browser in headless mode consumes fewer system resources compared to running a browser with a graphical interface. This can be beneficial in resource-constrained environments or when you need to scale up your automation tasks."
   ]
  },
  {
   "cell_type": "code",
   "execution_count": null,
   "id": "0bd0c82c",
   "metadata": {},
   "outputs": [],
   "source": []
  }
 ],
 "metadata": {
  "kernelspec": {
   "display_name": "ironhack",
   "language": "python",
   "name": "ironhack"
  },
  "language_info": {
   "codemirror_mode": {
    "name": "ipython",
    "version": 3
   },
   "file_extension": ".py",
   "mimetype": "text/x-python",
   "name": "python",
   "nbconvert_exporter": "python",
   "pygments_lexer": "ipython3",
   "version": "3.11.5"
  }
 },
 "nbformat": 4,
 "nbformat_minor": 5
}
