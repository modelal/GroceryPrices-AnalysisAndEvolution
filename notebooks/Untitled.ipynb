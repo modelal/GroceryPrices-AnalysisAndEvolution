{
 "cells": [
  {
   "cell_type": "markdown",
   "id": "f1044a94",
   "metadata": {},
   "source": [
    "Selenium have 4 tools, created by different peorple but i dont know yet what they do "
   ]
  },
  {
   "cell_type": "markdown",
   "id": "01fcfd3c",
   "metadata": {},
   "source": [
    "- Selenium is one of the most popular open-souce tools used for test automation\n",
    "- Can be used with many languajes\n",
    "- Only allows the testing of WEB applications\n",
    "- Is a suite of tools(4), each tool serves a different testing needs"
   ]
  },
  {
   "cell_type": "code",
   "execution_count": 4,
   "id": "49a02fff",
   "metadata": {},
   "outputs": [],
   "source": [
    "import os\n",
    "import time\n",
    "import pandas as pd\n",
    "\n",
    "# pip install selenium\n",
    "from selenium import webdriver\n",
    "from selenium.webdriver.common.keys import Keys\n",
    "from selenium.webdriver.common.by import By\n",
    "from selenium.webdriver.support.ui import WebDriverWait\n",
    "from selenium.webdriver.support import expected_conditions as EC\n",
    "from selenium import webdriver\n",
    "from selenium.webdriver.support.ui import Select\n",
    "from selenium import webdriver\n",
    "\n",
    "from bs4 import BeautifulSoup # pip install beautifulsoup4\n",
    "\n"
   ]
  },
  {
   "cell_type": "markdown",
   "id": "b5333991",
   "metadata": {},
   "source": [
    "Accedemos a la pagina web de Mercadona "
   ]
  },
  {
   "cell_type": "code",
   "execution_count": 33,
   "id": "fbde3ce5",
   "metadata": {},
   "outputs": [
    {
     "data": {
      "text/html": [
       "<div>\n",
       "<style scoped>\n",
       "    .dataframe tbody tr th:only-of-type {\n",
       "        vertical-align: middle;\n",
       "    }\n",
       "\n",
       "    .dataframe tbody tr th {\n",
       "        vertical-align: top;\n",
       "    }\n",
       "\n",
       "    .dataframe thead th {\n",
       "        text-align: right;\n",
       "    }\n",
       "</style>\n",
       "<table border=\"1\" class=\"dataframe\">\n",
       "  <thead>\n",
       "    <tr style=\"text-align: right;\">\n",
       "      <th></th>\n",
       "      <th>categoria</th>\n",
       "      <th>subcategoria</th>\n",
       "      <th>descripcion</th>\n",
       "      <th>unidades</th>\n",
       "      <th>precio</th>\n",
       "    </tr>\n",
       "  </thead>\n",
       "  <tbody>\n",
       "  </tbody>\n",
       "</table>\n",
       "</div>"
      ],
      "text/plain": [
       "Empty DataFrame\n",
       "Columns: [categoria, subcategoria, descripcion, unidades, precio]\n",
       "Index: []"
      ]
     },
     "execution_count": 33,
     "metadata": {},
     "output_type": "execute_result"
    }
   ],
   "source": [
    "df = pd.DataFrame(columns=['categoria', 'subcategoria', 'descripcion', \"unidades\", \"precio\"])\n",
    "df"
   ]
  },
  {
   "cell_type": "code",
   "execution_count": 86,
   "id": "62bd39f7",
   "metadata": {},
   "outputs": [
    {
     "ename": "AttributeError",
     "evalue": "'DataFrame' object has no attribute 'append'",
     "output_type": "error",
     "traceback": [
      "\u001b[0;31m---------------------------------------------------------------------------\u001b[0m",
      "\u001b[0;31mAttributeError\u001b[0m                            Traceback (most recent call last)",
      "\u001b[0;32m/var/folders/k4/q8g97p495cx7f63kbs0wzyc00000gn/T/ipykernel_48689/950419310.py\u001b[0m in \u001b[0;36m?\u001b[0;34m()\u001b[0m\n\u001b[1;32m      1\u001b[0m \u001b[0mnueva_fila\u001b[0m \u001b[0;34m=\u001b[0m \u001b[0;34m{\u001b[0m\u001b[0;34m'1'\u001b[0m\u001b[0;34m:\u001b[0m \u001b[0;36m10\u001b[0m\u001b[0;34m,\u001b[0m \u001b[0;34m'2'\u001b[0m\u001b[0;34m:\u001b[0m \u001b[0;36m20\u001b[0m\u001b[0;34m,\u001b[0m \u001b[0;34m'3'\u001b[0m\u001b[0;34m:\u001b[0m \u001b[0;36m30\u001b[0m\u001b[0;34m}\u001b[0m\u001b[0;34m\u001b[0m\u001b[0;34m\u001b[0m\u001b[0m\n\u001b[1;32m      2\u001b[0m \u001b[0;31m#o hacerlo con una lista si lo hacemos en orden\u001b[0m\u001b[0;34m\u001b[0m\u001b[0;34m\u001b[0m\u001b[0m\n\u001b[0;32m----> 3\u001b[0;31m \u001b[0mdf\u001b[0m \u001b[0;34m=\u001b[0m \u001b[0mdf\u001b[0m\u001b[0;34m.\u001b[0m\u001b[0mappend\u001b[0m\u001b[0;34m(\u001b[0m\u001b[0mnueva_fila\u001b[0m\u001b[0;34m)\u001b[0m\u001b[0;34m\u001b[0m\u001b[0;34m\u001b[0m\u001b[0m\n\u001b[0m",
      "\u001b[0;32m~/miniconda3/envs/ironhack/lib/python3.11/site-packages/pandas/core/generic.py\u001b[0m in \u001b[0;36m?\u001b[0;34m(self, name)\u001b[0m\n\u001b[1;32m   6200\u001b[0m             \u001b[0;32mand\u001b[0m \u001b[0mname\u001b[0m \u001b[0;32mnot\u001b[0m \u001b[0;32min\u001b[0m \u001b[0mself\u001b[0m\u001b[0;34m.\u001b[0m\u001b[0m_accessors\u001b[0m\u001b[0;34m\u001b[0m\u001b[0;34m\u001b[0m\u001b[0m\n\u001b[1;32m   6201\u001b[0m             \u001b[0;32mand\u001b[0m \u001b[0mself\u001b[0m\u001b[0;34m.\u001b[0m\u001b[0m_info_axis\u001b[0m\u001b[0;34m.\u001b[0m\u001b[0m_can_hold_identifiers_and_holds_name\u001b[0m\u001b[0;34m(\u001b[0m\u001b[0mname\u001b[0m\u001b[0;34m)\u001b[0m\u001b[0;34m\u001b[0m\u001b[0;34m\u001b[0m\u001b[0m\n\u001b[1;32m   6202\u001b[0m         ):\n\u001b[1;32m   6203\u001b[0m             \u001b[0;32mreturn\u001b[0m \u001b[0mself\u001b[0m\u001b[0;34m[\u001b[0m\u001b[0mname\u001b[0m\u001b[0;34m]\u001b[0m\u001b[0;34m\u001b[0m\u001b[0;34m\u001b[0m\u001b[0m\n\u001b[0;32m-> 6204\u001b[0;31m         \u001b[0;32mreturn\u001b[0m \u001b[0mobject\u001b[0m\u001b[0;34m.\u001b[0m\u001b[0m__getattribute__\u001b[0m\u001b[0;34m(\u001b[0m\u001b[0mself\u001b[0m\u001b[0;34m,\u001b[0m \u001b[0mname\u001b[0m\u001b[0;34m)\u001b[0m\u001b[0;34m\u001b[0m\u001b[0;34m\u001b[0m\u001b[0m\n\u001b[0m",
      "\u001b[0;31mAttributeError\u001b[0m: 'DataFrame' object has no attribute 'append'"
     ]
    }
   ],
   "source": [
    "nueva_fila = {'1': 10, '2': 20, '3': 30}\n",
    "#o hacerlo con una lista si lo hacemos en orden\n",
    "df = df.append(nueva_fila)"
   ]
  },
  {
   "cell_type": "code",
   "execution_count": null,
   "id": "0cec2b0e",
   "metadata": {},
   "outputs": [],
   "source": []
  },
  {
   "cell_type": "code",
   "execution_count": 10,
   "id": "c6e09342",
   "metadata": {},
   "outputs": [],
   "source": [
    "supermecados = [\"mercadona\", \"dia\", \"consum\"]\n",
    "\n",
    "#https://tienda.consum.es/es#!Home"
   ]
  },
  {
   "cell_type": "code",
   "execution_count": 20,
   "id": "d1694dda",
   "metadata": {},
   "outputs": [],
   "source": [
    "supermercado = supermecados[0]"
   ]
  },
  {
   "cell_type": "code",
   "execution_count": 57,
   "id": "437d6758",
   "metadata": {},
   "outputs": [],
   "source": [
    "#ENTRAR EN MERCADONA:\n",
    "\n",
    "# Start the driver with the options\n",
    "driver = webdriver.Chrome()\n",
    "\n",
    "# Navigate to the login page\n",
    "link = f'https://www.{supermercado}.es/'\n",
    "driver.get(link)\n",
    "\n",
    " # Enter the postal code and submit\n",
    "code=\"08015\"\n",
    "\n",
    "#Rechazar cookies:\n",
    "driver.find_element(By.XPATH, \"//button[contains(text(),'Rechazar')]\").click()\n",
    "\n",
    "#Find the box elemet for postal code and input the code:\n",
    "driver.find_element(By.CSS_SELECTOR, 'input[aria-label=\"Código postal\"]').send_keys(code)\n",
    "\n",
    "# click the botom code \n",
    "driver.find_element(By.CSS_SELECTOR, 'input.postal-code-form__button').click()\n",
    "\n",
    "#ESTAMOS DENTRO "
   ]
  },
  {
   "cell_type": "code",
   "execution_count": 31,
   "id": "6393e214",
   "metadata": {},
   "outputs": [],
   "source": [
    "#Busca el elemento que tiene el texto: Categorias: Esperando primero a que sera visible\n",
    "\n",
    "WebDriverWait(driver, 10).until(EC.visibility_of_element_located((By.LINK_TEXT, \"Categorías\"))).click()\n",
    "\n",
    "Yo aqui quiero crear una funcion que escrapee todo:\n",
    "    \n",
    "    - Sacar la categoria principal\n",
    "    - Sacar la categoria Secundaria\n",
    "    - Obtener texto\n",
    "    - Alojarlo en un data frame\n",
    "    - ir añadiendo fila  a fila?"
   ]
  },
  {
   "cell_type": "code",
   "execution_count": 38,
   "id": "37f70576",
   "metadata": {},
   "outputs": [],
   "source": [
    "\"\"\"Extrae todas las categorias principales\n",
    "#Esto no se muy bien como lo hace la verdad porque veo que es como el elemento, pero tambien \n",
    "puede coger el texto. Entiendo que es porque esto es interactivo, no \n",
    "es como cuando te descargas el html\"\"\"\n",
    "\n",
    "#Extrae toda las categorias:\n",
    "category_links = driver.find_elements(By.CSS_SELECTOR, \"span[class='category-menu__header']\")\n",
    "\n",
    "category = category_links[1].text"
   ]
  },
  {
   "cell_type": "code",
   "execution_count": 61,
   "id": "779307cf",
   "metadata": {},
   "outputs": [],
   "source": [
    "#Busca el elemento que tiene el texto: Categorias: Esperando primero a que sera visible\n",
    "\n",
    "WebDriverWait(driver, 10).until(EC.visibility_of_element_located((By.LINK_TEXT, \"Categorías\"))).click()\n",
    "\n",
    "#Extrae toda las categorias:\n",
    "category_links = driver.find_elements(By.CSS_SELECTOR, \"span[class='category-menu__header']\")\n"
   ]
  },
  {
   "cell_type": "code",
   "execution_count": 88,
   "id": "97185aca",
   "metadata": {},
   "outputs": [
    {
     "ename": "AttributeError",
     "evalue": "'DataFrame' object has no attribute 'append'",
     "output_type": "error",
     "traceback": [
      "\u001b[0;31m---------------------------------------------------------------------------\u001b[0m",
      "\u001b[0;31mAttributeError\u001b[0m                            Traceback (most recent call last)",
      "\u001b[0;32m/var/folders/k4/q8g97p495cx7f63kbs0wzyc00000gn/T/ipykernel_48689/123917844.py\u001b[0m in \u001b[0;36m?\u001b[0;34m()\u001b[0m\n\u001b[1;32m     44\u001b[0m \u001b[0;34m\u001b[0m\u001b[0m\n\u001b[1;32m     45\u001b[0m }\n\u001b[1;32m     46\u001b[0m \u001b[0;34m\u001b[0m\u001b[0m\n\u001b[1;32m     47\u001b[0m \u001b[0;31m#o hacerlo con una lista si lo hacemos en orden\u001b[0m\u001b[0;34m\u001b[0m\u001b[0;34m\u001b[0m\u001b[0m\n\u001b[0;32m---> 48\u001b[0;31m \u001b[0mdf\u001b[0m \u001b[0;34m=\u001b[0m \u001b[0mdf\u001b[0m\u001b[0;34m.\u001b[0m\u001b[0mappend\u001b[0m\u001b[0;34m(\u001b[0m\u001b[0mnueva_fila\u001b[0m\u001b[0;34m,\u001b[0m \u001b[0mignore_index\u001b[0m\u001b[0;34m=\u001b[0m\u001b[0;32mTrue\u001b[0m\u001b[0;34m)\u001b[0m\u001b[0;34m\u001b[0m\u001b[0;34m\u001b[0m\u001b[0m\n\u001b[0m\u001b[1;32m     49\u001b[0m \u001b[0;31m#<span class=\"footnote1-r\">Garrafa </span><span class=\"footnote1-r\">6 L</span></div>\u001b[0m\u001b[0;34m\u001b[0m\u001b[0;34m\u001b[0m\u001b[0m\n",
      "\u001b[0;32m~/miniconda3/envs/ironhack/lib/python3.11/site-packages/pandas/core/generic.py\u001b[0m in \u001b[0;36m?\u001b[0;34m(self, name)\u001b[0m\n\u001b[1;32m   6200\u001b[0m             \u001b[0;32mand\u001b[0m \u001b[0mname\u001b[0m \u001b[0;32mnot\u001b[0m \u001b[0;32min\u001b[0m \u001b[0mself\u001b[0m\u001b[0;34m.\u001b[0m\u001b[0m_accessors\u001b[0m\u001b[0;34m\u001b[0m\u001b[0;34m\u001b[0m\u001b[0m\n\u001b[1;32m   6201\u001b[0m             \u001b[0;32mand\u001b[0m \u001b[0mself\u001b[0m\u001b[0;34m.\u001b[0m\u001b[0m_info_axis\u001b[0m\u001b[0;34m.\u001b[0m\u001b[0m_can_hold_identifiers_and_holds_name\u001b[0m\u001b[0;34m(\u001b[0m\u001b[0mname\u001b[0m\u001b[0;34m)\u001b[0m\u001b[0;34m\u001b[0m\u001b[0;34m\u001b[0m\u001b[0m\n\u001b[1;32m   6202\u001b[0m         ):\n\u001b[1;32m   6203\u001b[0m             \u001b[0;32mreturn\u001b[0m \u001b[0mself\u001b[0m\u001b[0;34m[\u001b[0m\u001b[0mname\u001b[0m\u001b[0;34m]\u001b[0m\u001b[0;34m\u001b[0m\u001b[0;34m\u001b[0m\u001b[0m\n\u001b[0;32m-> 6204\u001b[0;31m         \u001b[0;32mreturn\u001b[0m \u001b[0mobject\u001b[0m\u001b[0;34m.\u001b[0m\u001b[0m__getattribute__\u001b[0m\u001b[0;34m(\u001b[0m\u001b[0mself\u001b[0m\u001b[0;34m,\u001b[0m \u001b[0mname\u001b[0m\u001b[0;34m)\u001b[0m\u001b[0;34m\u001b[0m\u001b[0;34m\u001b[0m\u001b[0m\n\u001b[0m",
      "\u001b[0;31mAttributeError\u001b[0m: 'DataFrame' object has no attribute 'append'"
     ]
    }
   ],
   "source": [
    "#Busca el elemento que tiene el texto: Categorias: Esperando primero a que sera visible\n",
    "\n",
    "WebDriverWait(driver, 10).until(EC.visibility_of_element_located((By.LINK_TEXT, \"Categorías\"))).click()\n",
    "\n",
    "#Extrae toda las categorias:\n",
    "category_links = driver.find_elements(By.CSS_SELECTOR, \"span[class='category-menu__header']\")\n",
    "\n",
    "category = category_links[1].text\n",
    "\n",
    "# Wait for the target category to be clickable and clicks it\n",
    "WebDriverWait(driver, 10).until(EC.element_to_be_clickable((By.XPATH, f\"//label[text()='{category}']\"))).click()\n",
    "\n",
    "# Wait for the subcategories to load and save them\n",
    "#Extrae todas las subcategorias de una categoria dada:\n",
    "subcategory_links = WebDriverWait(driver, 10).until(EC.presence_of_all_elements_located((By.CSS_SELECTOR, \".category-item__link\")))\n",
    "\n",
    "#Aqui meteremos un for, pero por ahora:\n",
    "subcategory = subcategory_links[1].text\n",
    "\n",
    "#vamos clicando en todas las subcategorias \n",
    "WebDriverWait(driver, 10).until(EC.element_to_be_clickable((By.XPATH, f\"//button[text()='{subcategory}']\"))).click()\n",
    "\n",
    "# Wait for the products to load and saves them\n",
    "WebDriverWait(driver, 10).until(EC.presence_of_all_elements_located((By.CSS_SELECTOR, \".product-cell\")))\n",
    "\n",
    "#Extrae todos los productos(cajita que vimos )\n",
    "product_cells = driver.find_elements(By.CSS_SELECTOR, \"div[data-test='product-cell']\")\n",
    "\n",
    "element = product_cells[1]\n",
    "\n",
    "#categoria = category\n",
    "#subcategoria = subcategory\n",
    "#descripcion = element.find_element(By.CSS_SELECTOR, \"h4[data-test='product-cell-name']\").text\n",
    "#unidades = element.find_element(By.CSS_SELECTOR, \"div[class='product-format product-format__size--cell']\").text\n",
    "#precio = element.find_element(By.CSS_SELECTOR, \"div[class='product-price']\").text\n",
    "\n",
    "\n",
    "nueva_fila = {\n",
    "    'categoria':category , \n",
    "    'subcategoria': subcategory, \n",
    "    'descripcion': element.find_element(By.CSS_SELECTOR, \"h4[data-test='product-cell-name']\").text, \n",
    "    \"unidades\": element.find_element(By.CSS_SELECTOR, \"div[class='product-format product-format__size--cell']\").text, \n",
    "    \"precio\": element.find_element(By.CSS_SELECTOR, \"div[class='product-price']\").text\n",
    "\n",
    "}\n",
    "\n",
    "#o hacerlo con una lista si lo hacemos en orden\n",
    "df = pd.concat([df, pd.DataFrame([new_row])], ignore_index=True)\n",
    "#<span class=\"footnote1-r\">Garrafa </span><span class=\"footnote1-r\">6 L</span></div>\n"
   ]
  },
  {
   "cell_type": "code",
   "execution_count": 84,
   "id": "b3ca5567",
   "metadata": {},
   "outputs": [
    {
     "name": "stdout",
     "output_type": "stream",
     "text": [
      "Agua y refrescos\n",
      "Isotónico y energético\n",
      "Bebida isotónica limón Aquarius\n",
      "8 latas x 330 ml\n",
      "6,80 €6,24 € /pack\n"
     ]
    }
   ],
   "source": [
    "print(categoria)\n",
    "print(subcategory)\n",
    "print(descripcion)\n",
    "print(unidades)\n",
    "print(precio)"
   ]
  },
  {
   "cell_type": "markdown",
   "id": "2cd7719a",
   "metadata": {},
   "source": [
    "<h4 class=\"subhead1-r product-cell__description-name\" data-test=\"product-cell-name\">Agua mineral grande Font Agudes</h4>\n",
    "\n",
    "\n",
    "<div class=\"product-format product-format__size--cell\" tabindex=\"0\"><span class=\"footnote1-r\">Garrafa </span><span class=\"footnote1-r\">6 L</span></div>\n",
    "\n",
    "<div class=\"product-price\"><p class=\"product-price__unit-price subhead1-b\" data-test=\"product-price\">0,78 €</p><p class=\"product-price__extra-price subhead1-r\"> /ud.</p></div>"
   ]
  },
  {
   "cell_type": "code",
   "execution_count": 56,
   "id": "6ac3dc53",
   "metadata": {},
   "outputs": [
    {
     "data": {
      "text/plain": [
       "<selenium.webdriver.remote.webelement.WebElement (session=\"59c6ae0c7a5c4cd24f3b3aa72ce9fcb1\", element=\"f.35936B9D595AF490B33ED8900907203A.d.FC0A980B9BE1316195025E69D997C544.e.4037\")>"
      ]
     },
     "execution_count": 56,
     "metadata": {},
     "output_type": "execute_result"
    }
   ],
   "source": [
    "<div class=\"product-price\"><p class=\"product-price__previous-unit-price footnote1-r\" \n",
    "data-test=\"product-price\">6,80 €</p>\n",
    "<p class=\"product-price__unit-price subhead1-b product-price__unit-price--discount\" \n",
    "data-test=\"product-price\">6,24 €</p>\n",
    "<p class=\"product-price__extra-price subhead1-r\"> /pack</p></div>\n"
   ]
  },
  {
   "cell_type": "code",
   "execution_count": null,
   "id": "3fe51f2e",
   "metadata": {},
   "outputs": [],
   "source": [
    "<a class=\"menu-item subhead1-sb\" href=\"/categories\">Categorías</a>"
   ]
  },
  {
   "cell_type": "code",
   "execution_count": null,
   "id": "da4d50c1",
   "metadata": {},
   "outputs": [],
   "source": [
    "# Wait until categories is clickable and click it, then wait for the product grid to be clickable\n",
    "\n",
    "WebDriverWait(driver, 10).until(EC.visibility_of_element_located((By.LINK_TEXT, \"Categorías\"))).click()\n",
    "\n",
    "WebDriverWait(driver, 10).until(EC.element_to_be_clickable((By.CSS_SELECTOR, \"div[data-test='product-cell']\")))"
   ]
  },
  {
   "cell_type": "markdown",
   "id": "eb9af2e7",
   "metadata": {},
   "source": [
    "#Este es el elemento de las cookies, pero ojo porque se llama igual que el que aceptar:\n",
    "\n",
    "<button type=\"button\" class=\"ui-button ui-button--small ui-button--tertiary ui-button--positive\">Rechazar</button>"
   ]
  },
  {
   "cell_type": "code",
   "execution_count": null,
   "id": "e5d75d5a",
   "metadata": {},
   "outputs": [],
   "source": []
  },
  {
   "cell_type": "markdown",
   "id": "bc9eb3af",
   "metadata": {},
   "source": [
    "```html\n",
    "\n",
    "<form class=\"postal-code-form\"><div class=\"input-text\"><label class=\"input-text__label\">Código postal</label><input type=\"text\" aria-label=\"Código postal\" maxlength=\"5\" autocomplete=\"on\" value=\"\"></div><input class=\"postal-code-form__button\" type=\"submit\" value=\"ENTRAR\"></form>\n",
    "\n",
    "```\n"
   ]
  },
  {
   "cell_type": "markdown",
   "id": "950daecd",
   "metadata": {},
   "source": [
    "Esta es la subcajita especifica donde tenemos que poner el codigo postal:\n",
    "\n",
    "```html\n",
    "\n",
    "<input type=\"text\" aria-label=\"Código postal\" maxlength=\"5\" autocomplete=\"on\" value=\"\">\n",
    "\n",
    "```\n",
    "\n",
    "Utilizamos el metodo find_element. Con el tipo de localizados By.CSS_SELECTOR:\n",
    "\n",
    "The line of code is locating an `<input>` element on the webpage that has an attribute aria-label with the value \"Código postal\". \n",
    "\n",
    "`driver.find_element(By.CSS_SELECTOR, 'input[aria-label=\"Código postal\"]')`\n",
    "\n",
    "\n",
    "To interact with the found input element we use send_keys to send the value of the zip variable to it.\n",
    "Luego mandamos la informacion que queremos escribir (entiendo)\n",
    "\n",
    "`element.send_keys(zip).send_keys(zip)`\n"
   ]
  },
  {
   "cell_type": "code",
   "execution_count": 6,
   "id": "9f4787b2",
   "metadata": {},
   "outputs": [],
   "source": []
  },
  {
   "cell_type": "markdown",
   "id": "829d2338",
   "metadata": {},
   "source": [
    "Boton de RECHAZAR COOKIES:\n",
    "    \n",
    "```html\n",
    "\n",
    "<button type=\"button\" class=\"ui-button ui-button--small ui-button--tertiary ui-button--positive\">Rechazar</button>\n",
    "\n",
    "```"
   ]
  },
  {
   "cell_type": "markdown",
   "id": "088c1622",
   "metadata": {},
   "source": [
    "Boton de ACEPTAR COOKIES:\n",
    "    \n",
    "```html\n",
    "\n",
    "<button type=\"button\" class=\"ui-button ui-button--small ui-button--tertiary ui-button--positive\">Aceptar</button>\n",
    "\n",
    "```\n"
   ]
  },
  {
   "cell_type": "code",
   "execution_count": null,
   "id": "e2b26be5",
   "metadata": {},
   "outputs": [],
   "source": [
    "Se llaman igual asi que no se como selecionar cual . "
   ]
  },
  {
   "cell_type": "code",
   "execution_count": null,
   "id": "605f6bff",
   "metadata": {},
   "outputs": [],
   "source": [
    "WebDriverWait(driver, 10).until(EC.element_to_be_clickable((By.CSS_SELECTOR, \"div[data-test='product-cell']\")))\n",
    "driver.find_element(By.XPATH, \"//button[contains(text(),'Rechazar')]\").click()"
   ]
  },
  {
   "cell_type": "code",
   "execution_count": 60,
   "id": "22822d15",
   "metadata": {},
   "outputs": [
    {
     "ename": "IndexError",
     "evalue": "list index out of range",
     "output_type": "error",
     "traceback": [
      "\u001b[0;31m---------------------------------------------------------------------------\u001b[0m",
      "\u001b[0;31mIndexError\u001b[0m                                Traceback (most recent call last)",
      "Cell \u001b[0;32mIn[60], line 10\u001b[0m\n\u001b[1;32m      7\u001b[0m category_links \u001b[38;5;241m=\u001b[39m driver\u001b[38;5;241m.\u001b[39mfind_elements(By\u001b[38;5;241m.\u001b[39mCSS_SELECTOR, \u001b[38;5;124m\"\u001b[39m\u001b[38;5;124mspan[class=\u001b[39m\u001b[38;5;124m'\u001b[39m\u001b[38;5;124mcategory-menu__header\u001b[39m\u001b[38;5;124m'\u001b[39m\u001b[38;5;124m]\u001b[39m\u001b[38;5;124m\"\u001b[39m)\n\u001b[1;32m      9\u001b[0m \u001b[38;5;66;03m#Aqui meteremos un for, pero para probar:\u001b[39;00m\n\u001b[0;32m---> 10\u001b[0m category \u001b[38;5;241m=\u001b[39m category_links[\u001b[38;5;241m1\u001b[39m]\u001b[38;5;241m.\u001b[39mtext\n\u001b[1;32m     12\u001b[0m \u001b[38;5;66;03m# Wait for the target category to be clickable and clicks it\u001b[39;00m\n\u001b[1;32m     13\u001b[0m WebDriverWait(driver, \u001b[38;5;241m10\u001b[39m)\u001b[38;5;241m.\u001b[39muntil(EC\u001b[38;5;241m.\u001b[39melement_to_be_clickable((By\u001b[38;5;241m.\u001b[39mXPATH, \u001b[38;5;124mf\u001b[39m\u001b[38;5;124m\"\u001b[39m\u001b[38;5;124m//label[text()=\u001b[39m\u001b[38;5;124m'\u001b[39m\u001b[38;5;132;01m{\u001b[39;00mcategory\u001b[38;5;132;01m}\u001b[39;00m\u001b[38;5;124m'\u001b[39m\u001b[38;5;124m]\u001b[39m\u001b[38;5;124m\"\u001b[39m)))\u001b[38;5;241m.\u001b[39mclick()\n",
      "\u001b[0;31mIndexError\u001b[0m: list index out of range"
     ]
    }
   ],
   "source": [
    "#Busca el elemento que tiene el texto: Categorias: Esperando primero a que sera visible\n",
    "\n",
    "WebDriverWait(driver, 10).until(EC.visibility_of_element_located((By.LINK_TEXT, \"Categorías\"))).click()\n",
    "\n",
    "#Extrae toda las categorias:\n",
    "category_links = driver.find_elements(By.CSS_SELECTOR, \"span[class='category-menu__header']\")\n",
    "\n",
    "#Aqui meteremos un for, pero para probar:\n",
    "category = category_links[1].text\n",
    "\n",
    "# Wait for the target category to be clickable and clicks it\n",
    "WebDriverWait(driver, 10).until(EC.element_to_be_clickable((By.XPATH, f\"//label[text()='{category}']\"))).click()\n",
    "\n",
    "# Wait for the subcategories to load and save them\n",
    "#Extrae todas las subcategorias de una categoria dada:\n",
    "subcategory_links = WebDriverWait(driver, 10).until(EC.presence_of_all_elements_located((By.CSS_SELECTOR, \".category-item__link\")))\n",
    "\n",
    "#Aqui meteremos un for, pero por ahora:\n",
    "subcategory = subcategory_links[1].text\n",
    "\n",
    "#vamos clicando en todas las subcategorias \n",
    "WebDriverWait(driver, 10).until(EC.element_to_be_clickable((By.XPATH, f\"//button[text()='{subcategory}']\"))).click()\n",
    "\n",
    "\n",
    "# Wait for the products to load and saves them\n",
    "WebDriverWait(driver, 10).until(EC.presence_of_all_elements_located((By.CSS_SELECTOR, \".product-cell\")))\n",
    "\n",
    "#Extrae todos los productos(cajita que vimos )\n",
    "product_cells = driver.find_elements(By.CSS_SELECTOR, \"div[data-test='product-cell']\")\n",
    "\n",
    "#Aqui metremos un for pero de mientras:\n",
    "\n",
    "producto = product_cells[1]\n",
    "\n",
    "product_name = element.find_element_by_css_selector('div[data-test=\"product-cell-name\"]').text\n",
    "\n",
    "<div class=\"product-format product-format__size--cell\"\n",
    "\n",
    "#categoria = category\n",
    "#subcategoria = subcategory\n",
    "#descripcion = \n",
    "#unidades\n",
    "#precio\n",
    "\n",
    "\n"
   ]
  }
 ],
 "metadata": {
  "kernelspec": {
   "display_name": "ironhack",
   "language": "python",
   "name": "ironhack"
  },
  "language_info": {
   "codemirror_mode": {
    "name": "ipython",
    "version": 3
   },
   "file_extension": ".py",
   "mimetype": "text/x-python",
   "name": "python",
   "nbconvert_exporter": "python",
   "pygments_lexer": "ipython3",
   "version": "3.11.5"
  }
 },
 "nbformat": 4,
 "nbformat_minor": 5
}
