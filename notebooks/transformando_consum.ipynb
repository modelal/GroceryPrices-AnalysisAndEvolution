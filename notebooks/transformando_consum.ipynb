{
 "cells": [
  {
   "cell_type": "code",
   "execution_count": 3,
   "id": "7d95e261",
   "metadata": {},
   "outputs": [],
   "source": [
    "import pandas as pd\n",
    "import numpy as np\n",
    "import csv\n",
    "import re\n",
    "\n",
    "#Deberia revisar lo de Counter que lo uso bastante y no conoxco muy bien la libreria\n",
    "from collections import Counter\n"
   ]
  },
  {
   "cell_type": "code",
   "execution_count": 21,
   "id": "8a8cfb51",
   "metadata": {},
   "outputs": [],
   "source": [
    "def format_price(x):\n",
    "    \n",
    "    \"\"\"\n",
    "    Decompose and fromate values for the colum price\n",
    "    \n",
    "    input: string \n",
    "    output: lsit, values of each key already casted:\n",
    "        price: pos[0]: float\n",
    "        descuento: pos[1]: float/np.nan(float) (where there is a discount or not)\n",
    "    \n",
    "    \"\"\"\n",
    "    \n",
    "    # 1. Replace the € simbol and splits by the \"/\" ch -- generates a list of 2 elements (nums - text)\n",
    "    x = x.replace(\"€\", \"\").replace(\",\", \".\").split(\"\\n\")\n",
    "    \n",
    "    # 4. Extracts and formats price value:\n",
    "    price = float(x[0])\n",
    "    \n",
    "    # 5. Extracts and formats discount_price if not dicount np.nan\n",
    "    discount = [np.nan if len(x) == 1 else float(x[1])][0]\n",
    "    \n",
    "    return [price, discount]"
   ]
  },
  {
   "cell_type": "code",
   "execution_count": 8,
   "id": "d319969b",
   "metadata": {},
   "outputs": [
    {
     "name": "stdout",
     "output_type": "stream",
     "text": [
      "column_unidades.csv             srape-mercadona_2024-03-08.csv\r\n",
      "scrape-consum_2024-03-10.csv\r\n"
     ]
    }
   ],
   "source": [
    "ls"
   ]
  },
  {
   "cell_type": "code",
   "execution_count": 9,
   "id": "e4d6ee1b",
   "metadata": {},
   "outputs": [],
   "source": [
    "cons = pd.read_csv(\"scrape-consum_2024-03-10.csv\")\n",
    "df = cons"
   ]
  },
  {
   "cell_type": "code",
   "execution_count": 10,
   "id": "07af0e19",
   "metadata": {},
   "outputs": [
    {
     "data": {
      "text/html": [
       "<div>\n",
       "<style scoped>\n",
       "    .dataframe tbody tr th:only-of-type {\n",
       "        vertical-align: middle;\n",
       "    }\n",
       "\n",
       "    .dataframe tbody tr th {\n",
       "        vertical-align: top;\n",
       "    }\n",
       "\n",
       "    .dataframe thead th {\n",
       "        text-align: right;\n",
       "    }\n",
       "</style>\n",
       "<table border=\"1\" class=\"dataframe\">\n",
       "  <thead>\n",
       "    <tr style=\"text-align: right;\">\n",
       "      <th></th>\n",
       "      <th>categoria</th>\n",
       "      <th>subcategoria</th>\n",
       "      <th>descripcion</th>\n",
       "      <th>unidades</th>\n",
       "      <th>precio</th>\n",
       "      <th>marca</th>\n",
       "    </tr>\n",
       "  </thead>\n",
       "  <tbody>\n",
       "    <tr>\n",
       "      <th>6409</th>\n",
       "      <td>Infantil</td>\n",
       "      <td>Puericultura</td>\n",
       "      <td>Discos Absorbentes Lactancia 60 U</td>\n",
       "      <td>0,10 € / 1 U</td>\n",
       "      <td>5,95 €</td>\n",
       "      <td>TIGEX</td>\n",
       "    </tr>\n",
       "  </tbody>\n",
       "</table>\n",
       "</div>"
      ],
      "text/plain": [
       "     categoria  subcategoria                        descripcion      unidades  \\\n",
       "6409  Infantil  Puericultura  Discos Absorbentes Lactancia 60 U  0,10 € / 1 U   \n",
       "\n",
       "      precio  marca  \n",
       "6409  5,95 €  TIGEX  "
      ]
     },
     "execution_count": 10,
     "metadata": {},
     "output_type": "execute_result"
    }
   ],
   "source": [
    "df.sample()\n",
    "\n",
    "#categoria, subcategoria y descripcion - las dejamos como están. "
   ]
  },
  {
   "cell_type": "code",
   "execution_count": 11,
   "id": "3a32ad88",
   "metadata": {},
   "outputs": [
    {
     "name": "stdout",
     "output_type": "stream",
     "text": [
      "<class 'pandas.core.frame.DataFrame'>\n",
      "RangeIndex: 9454 entries, 0 to 9453\n",
      "Data columns (total 6 columns):\n",
      " #   Column        Non-Null Count  Dtype \n",
      "---  ------        --------------  ----- \n",
      " 0   categoria     9454 non-null   object\n",
      " 1   subcategoria  9454 non-null   object\n",
      " 2   descripcion   9454 non-null   object\n",
      " 3   unidades      9454 non-null   object\n",
      " 4   precio        9454 non-null   object\n",
      " 5   marca         8952 non-null   object\n",
      "dtypes: object(6)\n",
      "memory usage: 443.3+ KB\n"
     ]
    }
   ],
   "source": [
    "# All collumns have values. \n",
    "df.info()"
   ]
  },
  {
   "cell_type": "code",
   "execution_count": 17,
   "id": "14dc7aac",
   "metadata": {},
   "outputs": [
    {
     "data": {
      "text/plain": [
       "0       [1.29 , 1.19 ]\n",
       "1       [1.29 , 1.19 ]\n",
       "2       [1.29 , 1.19 ]\n",
       "3       [1.29 , 1.19 ]\n",
       "4       [1.29 , 1.19 ]\n",
       "             ...      \n",
       "9449           [1.95 ]\n",
       "9450           [1.95 ]\n",
       "9451           [1.95 ]\n",
       "9452           [1.95 ]\n",
       "9453           [1.95 ]\n",
       "Name: precio, Length: 9454, dtype: object"
      ]
     },
     "execution_count": 17,
     "metadata": {},
     "output_type": "execute_result"
    }
   ],
   "source": [
    "df[\"precio\"].str.replace(\"€\", \"\").str.replace(\",\", \".\").str.split(\"\\n\")"
   ]
  },
  {
   "cell_type": "code",
   "execution_count": null,
   "id": "dc00b95d",
   "metadata": {},
   "outputs": [],
   "source": [
    "  \n",
    "    # 1. Replace the € simbol and splits by the \"/\" ch -- generates a list of 2 elements (nums - text)\n",
    "    x = x.replace(\"€\", \"\").split(\"\\n1\")"
   ]
  },
  {
   "cell_type": "markdown",
   "id": "5454a4f8",
   "metadata": {},
   "source": [
    "### Precio\n",
    "\n",
    "- No hay valores nulos\n",
    "\n",
    "- El precio puede contener o 2 informaciones o 3:\n",
    "    - El precio y a que hace referencia ese precio (pack)\n",
    "    - El precio, precio si esta descontado y a que hace referencia ese precio(pack)\n",
    "\n",
    "- Creamos una funcion que aplicamos a todos los elementos de la columna precio para formaterla. Aqui extraeremos los tres valores comentados antes. Cuando no haya descuento --> np.nan\n",
    "    - price_info --> string\n",
    "    - price_eu and price_disc_eu --> float\n",
    "    \n",
    "  **Note:** Interesante aqui el tema de apply(function) y luego el lambda. \n",
    "  \n",
    "- Eliminamos la columna original\n",
    "\n",
    "**NOTE:** En price_info, los valores son bastante consistentes siendo la mayoria de valoes (ud/pack). No obstante hay 14 valores que son de tipo ( xxx g) ej 500 g. Veremos a ver que hacemos. si los descartamos o como los tranformamos. No son una parte muy relevante del conjunto de datos ( 14 de 5035) pero tener en cuenta que hay que revisarlo: \n"
   ]
  },
  {
   "cell_type": "markdown",
   "id": "e2325cfe",
   "metadata": {},
   "source": [
    "**Tranform Price column**"
   ]
  },
  {
   "cell_type": "code",
   "execution_count": 22,
   "id": "663d5e65",
   "metadata": {},
   "outputs": [
    {
     "data": {
      "text/html": [
       "<div>\n",
       "<style scoped>\n",
       "    .dataframe tbody tr th:only-of-type {\n",
       "        vertical-align: middle;\n",
       "    }\n",
       "\n",
       "    .dataframe tbody tr th {\n",
       "        vertical-align: top;\n",
       "    }\n",
       "\n",
       "    .dataframe thead th {\n",
       "        text-align: right;\n",
       "    }\n",
       "</style>\n",
       "<table border=\"1\" class=\"dataframe\">\n",
       "  <thead>\n",
       "    <tr style=\"text-align: right;\">\n",
       "      <th></th>\n",
       "      <th>categoria</th>\n",
       "      <th>subcategoria</th>\n",
       "      <th>descripcion</th>\n",
       "      <th>unidades</th>\n",
       "      <th>marca</th>\n",
       "      <th>price_eu</th>\n",
       "      <th>price_disc_eu</th>\n",
       "    </tr>\n",
       "  </thead>\n",
       "  <tbody>\n",
       "    <tr>\n",
       "      <th>4905</th>\n",
       "      <td>Frescos</td>\n",
       "      <td>Pescadería</td>\n",
       "      <td>Perlas de Arenque MSC 50 Gr</td>\n",
       "      <td>69,80 € / 1 Kg</td>\n",
       "      <td>SPHERIKA</td>\n",
       "      <td>3.49</td>\n",
       "      <td>NaN</td>\n",
       "    </tr>\n",
       "  </tbody>\n",
       "</table>\n",
       "</div>"
      ],
      "text/plain": [
       "     categoria subcategoria                  descripcion        unidades  \\\n",
       "4905   Frescos   Pescadería  Perlas de Arenque MSC 50 Gr  69,80 € / 1 Kg   \n",
       "\n",
       "         marca  price_eu  price_disc_eu  \n",
       "4905  SPHERIKA      3.49            NaN  "
      ]
     },
     "execution_count": 22,
     "metadata": {},
     "output_type": "execute_result"
    }
   ],
   "source": [
    "# Apply the function and get the element for each colum: \n",
    "df[\"price_eu\"] = df[\"precio\"].apply(format_price).apply(lambda x:x[0])\n",
    "df[\"price_disc_eu\"] = df[\"precio\"].apply(format_price).apply(lambda x:x[1])\n",
    "\n",
    "#Drop old column:\n",
    "df.drop(\"precio\", axis=1, inplace=True)\n",
    "\n",
    "df.sample()"
   ]
  },
  {
   "cell_type": "markdown",
   "id": "f25756e8",
   "metadata": {},
   "source": [
    "### UNIDADES:"
   ]
  },
  {
   "cell_type": "code",
   "execution_count": 23,
   "id": "5198f700",
   "metadata": {},
   "outputs": [
    {
     "data": {
      "text/html": [
       "<div>\n",
       "<style scoped>\n",
       "    .dataframe tbody tr th:only-of-type {\n",
       "        vertical-align: middle;\n",
       "    }\n",
       "\n",
       "    .dataframe tbody tr th {\n",
       "        vertical-align: top;\n",
       "    }\n",
       "\n",
       "    .dataframe thead th {\n",
       "        text-align: right;\n",
       "    }\n",
       "</style>\n",
       "<table border=\"1\" class=\"dataframe\">\n",
       "  <thead>\n",
       "    <tr style=\"text-align: right;\">\n",
       "      <th></th>\n",
       "      <th>categoria</th>\n",
       "      <th>subcategoria</th>\n",
       "      <th>descripcion</th>\n",
       "      <th>unidades</th>\n",
       "      <th>marca</th>\n",
       "      <th>price_eu</th>\n",
       "      <th>price_disc_eu</th>\n",
       "    </tr>\n",
       "  </thead>\n",
       "  <tbody>\n",
       "    <tr>\n",
       "      <th>0</th>\n",
       "      <td>Despensa</td>\n",
       "      <td>Aperitivos y frutos secos</td>\n",
       "      <td>Aceitunas Negras sin Hueso Lata 150 Gr</td>\n",
       "      <td>7,93 € / 1 Kg</td>\n",
       "      <td>CONSUM</td>\n",
       "      <td>1.29</td>\n",
       "      <td>1.19</td>\n",
       "    </tr>\n",
       "    <tr>\n",
       "      <th>1</th>\n",
       "      <td>Despensa</td>\n",
       "      <td>Aperitivos y frutos secos</td>\n",
       "      <td>Aceitunas Negras sin Hueso Lata 150 Gr</td>\n",
       "      <td>7,93 € / 1 Kg</td>\n",
       "      <td>CONSUM</td>\n",
       "      <td>1.29</td>\n",
       "      <td>1.19</td>\n",
       "    </tr>\n",
       "    <tr>\n",
       "      <th>2</th>\n",
       "      <td>Despensa</td>\n",
       "      <td>Aperitivos y frutos secos</td>\n",
       "      <td>Aceitunas Negras sin Hueso Lata 150 Gr</td>\n",
       "      <td>7,93 € / 1 Kg</td>\n",
       "      <td>CONSUM</td>\n",
       "      <td>1.29</td>\n",
       "      <td>1.19</td>\n",
       "    </tr>\n",
       "    <tr>\n",
       "      <th>3</th>\n",
       "      <td>Despensa</td>\n",
       "      <td>Aperitivos y frutos secos</td>\n",
       "      <td>Aceitunas Negras sin Hueso Lata 150 Gr</td>\n",
       "      <td>7,93 € / 1 Kg</td>\n",
       "      <td>CONSUM</td>\n",
       "      <td>1.29</td>\n",
       "      <td>1.19</td>\n",
       "    </tr>\n",
       "    <tr>\n",
       "      <th>4</th>\n",
       "      <td>Despensa</td>\n",
       "      <td>Aperitivos y frutos secos</td>\n",
       "      <td>Aceitunas Negras sin Hueso Lata 150 Gr</td>\n",
       "      <td>7,93 € / 1 Kg</td>\n",
       "      <td>CONSUM</td>\n",
       "      <td>1.29</td>\n",
       "      <td>1.19</td>\n",
       "    </tr>\n",
       "    <tr>\n",
       "      <th>...</th>\n",
       "      <td>...</td>\n",
       "      <td>...</td>\n",
       "      <td>...</td>\n",
       "      <td>...</td>\n",
       "      <td>...</td>\n",
       "      <td>...</td>\n",
       "      <td>...</td>\n",
       "    </tr>\n",
       "    <tr>\n",
       "      <th>9449</th>\n",
       "      <td>Bazar</td>\n",
       "      <td>Velas</td>\n",
       "      <td>Vaso Satinado Perfumado Pink Flower 1 U</td>\n",
       "      <td>1,95 € / 1 U</td>\n",
       "      <td>ROURA</td>\n",
       "      <td>1.95</td>\n",
       "      <td>NaN</td>\n",
       "    </tr>\n",
       "    <tr>\n",
       "      <th>9450</th>\n",
       "      <td>Bazar</td>\n",
       "      <td>Velas</td>\n",
       "      <td>Vaso Satinado Perfumado Pink Flower 1 U</td>\n",
       "      <td>1,95 € / 1 U</td>\n",
       "      <td>ROURA</td>\n",
       "      <td>1.95</td>\n",
       "      <td>NaN</td>\n",
       "    </tr>\n",
       "    <tr>\n",
       "      <th>9451</th>\n",
       "      <td>Bazar</td>\n",
       "      <td>Velas</td>\n",
       "      <td>Vaso Satinado Perfumado Pink Flower 1 U</td>\n",
       "      <td>1,95 € / 1 U</td>\n",
       "      <td>ROURA</td>\n",
       "      <td>1.95</td>\n",
       "      <td>NaN</td>\n",
       "    </tr>\n",
       "    <tr>\n",
       "      <th>9452</th>\n",
       "      <td>Bazar</td>\n",
       "      <td>Velas</td>\n",
       "      <td>Vaso Satinado Perfumado Pink Flower 1 U</td>\n",
       "      <td>1,95 € / 1 U</td>\n",
       "      <td>ROURA</td>\n",
       "      <td>1.95</td>\n",
       "      <td>NaN</td>\n",
       "    </tr>\n",
       "    <tr>\n",
       "      <th>9453</th>\n",
       "      <td>Bazar</td>\n",
       "      <td>Velas</td>\n",
       "      <td>Vaso Satinado Perfumado Pink Flower 1 U</td>\n",
       "      <td>1,95 € / 1 U</td>\n",
       "      <td>ROURA</td>\n",
       "      <td>1.95</td>\n",
       "      <td>NaN</td>\n",
       "    </tr>\n",
       "  </tbody>\n",
       "</table>\n",
       "<p>9454 rows × 7 columns</p>\n",
       "</div>"
      ],
      "text/plain": [
       "     categoria               subcategoria  \\\n",
       "0     Despensa  Aperitivos y frutos secos   \n",
       "1     Despensa  Aperitivos y frutos secos   \n",
       "2     Despensa  Aperitivos y frutos secos   \n",
       "3     Despensa  Aperitivos y frutos secos   \n",
       "4     Despensa  Aperitivos y frutos secos   \n",
       "...        ...                        ...   \n",
       "9449     Bazar                      Velas   \n",
       "9450     Bazar                      Velas   \n",
       "9451     Bazar                      Velas   \n",
       "9452     Bazar                      Velas   \n",
       "9453     Bazar                      Velas   \n",
       "\n",
       "                                  descripcion       unidades   marca  \\\n",
       "0      Aceitunas Negras sin Hueso Lata 150 Gr  7,93 € / 1 Kg  CONSUM   \n",
       "1      Aceitunas Negras sin Hueso Lata 150 Gr  7,93 € / 1 Kg  CONSUM   \n",
       "2      Aceitunas Negras sin Hueso Lata 150 Gr  7,93 € / 1 Kg  CONSUM   \n",
       "3      Aceitunas Negras sin Hueso Lata 150 Gr  7,93 € / 1 Kg  CONSUM   \n",
       "4      Aceitunas Negras sin Hueso Lata 150 Gr  7,93 € / 1 Kg  CONSUM   \n",
       "...                                       ...            ...     ...   \n",
       "9449  Vaso Satinado Perfumado Pink Flower 1 U   1,95 € / 1 U   ROURA   \n",
       "9450  Vaso Satinado Perfumado Pink Flower 1 U   1,95 € / 1 U   ROURA   \n",
       "9451  Vaso Satinado Perfumado Pink Flower 1 U   1,95 € / 1 U   ROURA   \n",
       "9452  Vaso Satinado Perfumado Pink Flower 1 U   1,95 € / 1 U   ROURA   \n",
       "9453  Vaso Satinado Perfumado Pink Flower 1 U   1,95 € / 1 U   ROURA   \n",
       "\n",
       "      price_eu  price_disc_eu  \n",
       "0         1.29           1.19  \n",
       "1         1.29           1.19  \n",
       "2         1.29           1.19  \n",
       "3         1.29           1.19  \n",
       "4         1.29           1.19  \n",
       "...        ...            ...  \n",
       "9449      1.95            NaN  \n",
       "9450      1.95            NaN  \n",
       "9451      1.95            NaN  \n",
       "9452      1.95            NaN  \n",
       "9453      1.95            NaN  \n",
       "\n",
       "[9454 rows x 7 columns]"
      ]
     },
     "execution_count": 23,
     "metadata": {},
     "output_type": "execute_result"
    }
   ],
   "source": [
    "df"
   ]
  },
  {
   "cell_type": "code",
   "execution_count": 360,
   "id": "5d864c54",
   "metadata": {},
   "outputs": [],
   "source": [
    "df[\"unidades\"] = df[\"unidades\"].str.replace(\"aprox.\", \"\")"
   ]
  },
  {
   "cell_type": "code",
   "execution_count": 288,
   "id": "f043f0db",
   "metadata": {},
   "outputs": [
    {
     "data": {
      "text/plain": [
       "1396"
      ]
     },
     "execution_count": 288,
     "metadata": {},
     "output_type": "execute_result"
    }
   ],
   "source": [
    "lista = df[\"unidades\"].unique()\n",
    "len(lista)"
   ]
  },
  {
   "cell_type": "code",
   "execution_count": 339,
   "id": "ada6ab73",
   "metadata": {},
   "outputs": [],
   "source": [
    "lista\n",
    "re_words = [\"x\", \"aprox.\" \"(g\", \"g)\", \"g\", \"ud.\", \"ml\", \"kg\", \"ml\", \"L\", \"ml)\", \"(250\"]\n",
    "numb = 30\n",
    "words = []\n",
    "\n",
    "words_list = [ i.strip().split(\" \") for i in lista]\n",
    "\n",
    "for i in words_list:\n",
    "    for e in i:\n",
    "        if e.isdigit() == False and e not in re_words:\n",
    "            words.append(e)\n",
    "            \n",
    "word_counts = Counter(words)\n",
    "    \n",
    "most_common_words = word_counts.most_common(numb)\n",
    "\n",
    "palabras = [i[0] for i in most_common_words]"
   ]
  },
  {
   "cell_type": "code",
   "execution_count": 341,
   "id": "3d3fd73c",
   "metadata": {},
   "outputs": [
    {
     "name": "stdout",
     "output_type": "stream",
     "text": [
      "['Paquete', 'Caja', 'aprox.', 'Pieza', 'Bote', 'Bandeja', 'Tarro', 'escurrido)', 'paquetes', 'Botella', 'Tarrina', 'cápsulas', 'latas', 'escurrido', 'sobres', 'Lata', 'lavados', 'botellas', 'raciones', 'Spray', 'bolsitas', 'Tubo', 'Bol', 'rebanadas', '(240', 'mini', '(200', 'barritas', 'Sobre', '1,5']\n"
     ]
    }
   ],
   "source": [
    "print(palabras)"
   ]
  },
  {
   "cell_type": "code",
   "execution_count": 351,
   "id": "8b099daf",
   "metadata": {},
   "outputs": [],
   "source": [
    "f_df = df[df['unidades'].str.contains('Paquete')]"
   ]
  },
  {
   "cell_type": "code",
   "execution_count": 349,
   "id": "5cc7215f",
   "metadata": {},
   "outputs": [],
   "source": [
    "Paquete = i_df[\"unidades\"].tolist()"
   ]
  },
  {
   "cell_type": "code",
   "execution_count": 24,
   "id": "f66c21db",
   "metadata": {},
   "outputs": [],
   "source": [
    "def texto_csv(df, column):\n",
    "    \n",
    "    #name of the document: as column_name_column.csv\n",
    "    path = f'column_{column}.csv'\n",
    "    \n",
    "    \"\"\" Hay que quitar los vacios primero - lo he sacado de la funcion\n",
    "    por no tranformar la tabla aqui \"\"\"\n",
    "   \n",
    "    #2. We write every colum as a new line in the .csv\n",
    "    non_empty_values = [str(i) for i in df[column]]\n",
    "    \n",
    "    with open(path, mode='w', newline='') as file:\n",
    "        writer = csv.writer(file)\n",
    "        writer.writerows([[value] for value in non_empty_values]) \n",
    "        \n",
    "    print(f'Column successfully exported to {path}')"
   ]
  },
  {
   "cell_type": "code",
   "execution_count": 25,
   "id": "c37e0184",
   "metadata": {},
   "outputs": [
    {
     "name": "stdout",
     "output_type": "stream",
     "text": [
      "Column successfully exported to column_descripcion.csv\n"
     ]
    }
   ],
   "source": [
    "texto_csv(df, \"descripcion\")"
   ]
  },
  {
   "cell_type": "code",
   "execution_count": null,
   "id": "14ae2655",
   "metadata": {},
   "outputs": [],
   "source": []
  }
 ],
 "metadata": {
  "kernelspec": {
   "display_name": "ironhack",
   "language": "python",
   "name": "ironhack"
  },
  "language_info": {
   "codemirror_mode": {
    "name": "ipython",
    "version": 3
   },
   "file_extension": ".py",
   "mimetype": "text/x-python",
   "name": "python",
   "nbconvert_exporter": "python",
   "pygments_lexer": "ipython3",
   "version": "3.11.5"
  }
 },
 "nbformat": 4,
 "nbformat_minor": 5
}
